{
 "cells": [
  {
   "cell_type": "code",
   "execution_count": 1,
   "metadata": {},
   "outputs": [],
   "source": [
    "import pandas as pd, matplotlib.pyplot as plt, numpy as np\n",
    "pd.set_option('display.max_rows', 10)\n",
    "\n",
    "%load_ext autoreload\n",
    "%autoreload 2"
   ]
  },
  {
   "cell_type": "markdown",
   "metadata": {},
   "source": [
    "# Potential impact of post-exposure prophalaxis for COVID-19 with monoclonal antibodies\n",
    "\n",
    "Updated from March 2021 analysis to include more recent confirmed cases, and also vaccination coverage.\n",
    "\n",
    "Also updated to use completed, and now peer-reviewed, results from RCT\n",
    "\n",
    "And in this version, use the KFF survey results that 77% of unvaccinated adults say everyone in their household is unvaccinated. https://www.kff.org/coronavirus-covid-19/poll-finding/kff-covid-19-vaccine-monitor-june-2021/"
   ]
  },
  {
   "cell_type": "code",
   "execution_count": 2,
   "metadata": {},
   "outputs": [],
   "source": [
    "# range of values to consider in alternative scenarios\n",
    "coverage_levels = [0, 1/4, 1/2, 3/4, 1]\n",
    "age_lower_bounds = [0, 20, 40, 50, 60, 70, 80]"
   ]
  },
  {
   "cell_type": "code",
   "execution_count": 3,
   "metadata": {},
   "outputs": [],
   "source": [
    "n_draws = 100 # number of bootstrap resamples for quantifying uncertainty\n",
    "np.random.seed(12345)  # set random seed for reproducibility"
   ]
  },
  {
   "cell_type": "code",
   "execution_count": 4,
   "metadata": {},
   "outputs": [],
   "source": [
    "attack_rate_without_mAbs = np.random.binomial(752, 59/752, size=n_draws) / 752\n",
    "attack_rate_with_mAbs = np.random.binomial(753, 11/753, size=n_draws) / 753\n",
    "\n",
    "mAbs_unit_cost = np.random.normal(1_250, 125, size=n_draws)  # 1_250 is what it says online;\n",
    "COVID_hospitalization_unit_cost = np.random.normal(73_300, 7_330, size=n_draws)"
   ]
  },
  {
   "cell_type": "code",
   "execution_count": 5,
   "metadata": {},
   "outputs": [
    {
     "name": "stdout",
     "output_type": "stream",
     "text": [
      "CPU times: user 112 ms, sys: 80 ms, total: 192 ms\n",
      "Wall time: 9.69 s\n"
     ]
    }
   ],
   "source": [
    "%%time\n",
    "\n",
    "# Administrated data on how many vaccines have been given in the US\n",
    "url = \"https://data.cdc.gov/api/views/rh2h-3yt2/rows.csv?accessType=DOWNLOAD\"\n",
    "vax_dt = pd.read_csv(url)\n",
    "#vax_dt"
   ]
  },
  {
   "cell_type": "code",
   "execution_count": 82,
   "metadata": {},
   "outputs": [
    {
     "data": {
      "text/plain": [
       "(8373    168227462\n",
       " Name: Admin_Dose_1_Cumulative, dtype: int64,\n",
       " 332378911,\n",
       " 8373    0.506132\n",
       " Name: Admin_Dose_1_Cumulative, dtype: float64)"
      ]
     },
     "execution_count": 82,
     "metadata": {},
     "output_type": "execute_result"
    }
   ],
   "source": [
    "total_vax = vax_dt[(vax_dt[\"Date\"] == \"05/31/2021\") & (vax_dt[\"date_type\"] == \"Report\") & (vax_dt[\"Location\"] == \"US\")]\n",
    "us_pop = 332_378_911 #census population on 5/31/2021 (https://www.census.gov/popclock/)\n",
    "total_vax.Admin_Dose_1_Cumulative, us_pop, total_vax.Admin_Dose_1_Cumulative / us_pop"
   ]
  },
  {
   "cell_type": "code",
   "execution_count": 83,
   "metadata": {},
   "outputs": [
    {
     "data": {
      "text/plain": [
       "(array([0.50611796, 0.50615438, 0.50615595, 0.50611718, 0.50608861,\n",
       "        0.50613002, 0.50613043, 0.50612521, 0.50608932, 0.50608616,\n",
       "        0.50612273, 0.50609585, 0.50616302, 0.50612666, 0.50608392,\n",
       "        0.50616811, 0.5061028 , 0.50614952, 0.50616309, 0.50614193,\n",
       "        0.50611043, 0.50611978, 0.50612062, 0.50608479, 0.50615139,\n",
       "        0.50614443, 0.50613256, 0.5061528 , 0.5061249 , 0.50614571,\n",
       "        0.5061415 , 0.50606175, 0.50606139, 0.5061724 , 0.50616999,\n",
       "        0.50611828, 0.50616244, 0.50613945, 0.50618072, 0.50613085,\n",
       "        0.50618001, 0.50612874, 0.50612873, 0.50617495, 0.5061176 ,\n",
       "        0.5061938 , 0.50613015, 0.50612102, 0.50605971, 0.50610882,\n",
       "        0.50613068, 0.50615213, 0.50616372, 0.50614277, 0.5061081 ,\n",
       "        0.5061245 , 0.50613112, 0.50610372, 0.50614251, 0.50610694,\n",
       "        0.5061399 , 0.50616583, 0.50612794, 0.50612851, 0.50615872,\n",
       "        0.50612409, 0.5060731 , 0.5060842 , 0.50613851, 0.50611338,\n",
       "        0.50615739, 0.50613118, 0.50613227, 0.50610689, 0.50614006,\n",
       "        0.50615771, 0.50612293, 0.50610137, 0.50610658, 0.50609539,\n",
       "        0.50617362, 0.50615592, 0.5061503 , 0.506149  , 0.50609415,\n",
       "        0.50617331, 0.50610832, 0.50618328, 0.50613274, 0.5061382 ,\n",
       "        0.50615246, 0.50611408, 0.50613597, 0.50617506, 0.50613879,\n",
       "        0.50614736, 0.5061366 , 0.50609533, 0.50615482, 0.50613964]),\n",
       " array([0.49388204, 0.49384562, 0.49384405, 0.49388282, 0.49391139,\n",
       "        0.49386998, 0.49386957, 0.49387479, 0.49391068, 0.49391384,\n",
       "        0.49387727, 0.49390415, 0.49383698, 0.49387334, 0.49391608,\n",
       "        0.49383189, 0.4938972 , 0.49385048, 0.49383691, 0.49385807,\n",
       "        0.49388957, 0.49388022, 0.49387938, 0.49391521, 0.49384861,\n",
       "        0.49385557, 0.49386744, 0.4938472 , 0.4938751 , 0.49385429,\n",
       "        0.4938585 , 0.49393825, 0.49393861, 0.4938276 , 0.49383001,\n",
       "        0.49388172, 0.49383756, 0.49386055, 0.49381928, 0.49386915,\n",
       "        0.49381999, 0.49387126, 0.49387127, 0.49382505, 0.4938824 ,\n",
       "        0.4938062 , 0.49386985, 0.49387898, 0.49394029, 0.49389118,\n",
       "        0.49386932, 0.49384787, 0.49383628, 0.49385723, 0.4938919 ,\n",
       "        0.4938755 , 0.49386888, 0.49389628, 0.49385749, 0.49389306,\n",
       "        0.4938601 , 0.49383417, 0.49387206, 0.49387149, 0.49384128,\n",
       "        0.49387591, 0.4939269 , 0.4939158 , 0.49386149, 0.49388662,\n",
       "        0.49384261, 0.49386882, 0.49386773, 0.49389311, 0.49385994,\n",
       "        0.49384229, 0.49387707, 0.49389863, 0.49389342, 0.49390461,\n",
       "        0.49382638, 0.49384408, 0.4938497 , 0.493851  , 0.49390585,\n",
       "        0.49382669, 0.49389168, 0.49381672, 0.49386726, 0.4938618 ,\n",
       "        0.49384754, 0.49388592, 0.49386403, 0.49382494, 0.49386121,\n",
       "        0.49385264, 0.4938634 , 0.49390467, 0.49384518, 0.49386036]))"
      ]
     },
     "execution_count": 83,
     "metadata": {},
     "output_type": "execute_result"
    }
   ],
   "source": [
    "p_vax   = np.random.binomial(us_pop, total_vax.Admin_Dose_1_Cumulative/us_pop, size=n_draws) / us_pop\n",
    "p_unvax = 1-p_vax\n",
    "p_vax, p_unvax"
   ]
  },
  {
   "cell_type": "code",
   "execution_count": 79,
   "metadata": {},
   "outputs": [
    {
     "data": {
      "text/plain": [
       "0.977368620064201"
      ]
     },
     "execution_count": 79,
     "metadata": {},
     "output_type": "execute_result"
    }
   ],
   "source": [
    "# TODO: fill in the following with an appropriate RCT (or meta-analysis, or real-world effectiveness study...)\n",
    "# numbers from https://www.ncbi.nlm.nih.gov/pmc/articles/PMC8022879/pdf/mm7013e3.pdf\n",
    "n_treated = 2_928 #(excluded 33 cases in study because occured before 14 days period)\n",
    "cases_treated = 11\n",
    "\n",
    "n_control = 989\n",
    "cases_control = 161\n",
    "\n",
    "efficacy = 1 - (\n",
    "    (np.random.binomial(n_treated, cases_treated/n_treated, size=n_draws) / n_treated)\n",
    "    /\n",
    "    (np.random.binomial(n_control, cases_control/n_control, size=n_draws) / n_control))\n",
    "\n",
    "## equ1: p_cc = (p_cc_vax*p_vax) + (p_cc_unvax*p_unvax)\n",
    "## equ2: p_unvax_cc = (p_cc_unvax * p_unvax)/p_cc\n",
    "## equ3: p_cc_vax = efficacy * p_cc_unvax\n",
    "\n",
    "## substitute equ3 into equ1: p_cc = ((efficacy * p_cc_unvax) * p_vax) + (p_cc_unvax*p_unvax)\n",
    "## p_cc = p_cc_unvax((efficacy * p_vax) + p_unvax)\n",
    "\n",
    "## substitute equ1 into equ2: p_unvax_cc = (p_cc_unvax * p_unvax) / p_cc_unvax((efficacy * p_vax) + p_unvax)\n",
    "p_unvax_cc =  p_unvax / (((1-efficacy) * (p_vax)) + p_unvax)\n",
    "p_unvax_cc.mean()"
   ]
  },
  {
   "cell_type": "code",
   "execution_count": 8,
   "metadata": {},
   "outputs": [],
   "source": [
    "pr_unvaccinated_cond_on_test_positive = p_unvax_cc  # np.random.binomial(10_000, unvac_covPos, size=n_draws)/10_000 \n",
    "\n",
    "# https://files.kff.org/attachment/Topline-KFF-COVID-19-Vaccine-Monitor-June-2021.pdf\n",
    "# n = 458, p_all_hh_members unvaccinated = 0.69\n",
    "pr_case_in_unvaccinated_household = pr_unvaccinated_cond_on_test_positive * np.random.binomial(458, 0.69, size=n_draws) / 458"
   ]
  },
  {
   "cell_type": "code",
   "execution_count": 9,
   "metadata": {},
   "outputs": [
    {
     "name": "stdout",
     "output_type": "stream",
     "text": [
      "CPU times: user 1.42 s, sys: 56 ms, total: 1.48 s\n",
      "Wall time: 1.49 s\n"
     ]
    }
   ],
   "source": [
    "%%time\n",
    "\n",
    "df_cdc = pd.read_csv('data/cdc_covid_linelist_may_2021.csv.bz2', low_memory=False)"
   ]
  },
  {
   "cell_type": "markdown",
   "metadata": {},
   "source": [
    "# 1.\tEstimate the number of COVID-19 case count, n_1, and the age-/sex-/race-stratified case counts\n",
    "\n",
    "    n_1 (a,s,r)=# cases for strata (a,s,r).\n"
   ]
  },
  {
   "cell_type": "code",
   "execution_count": 10,
   "metadata": {},
   "outputs": [],
   "source": [
    "# first select all cases during time period of interest\n",
    "diagnosis_date = pd.to_datetime(df_cdc.pos_spec_dt)\n",
    "rows = (diagnosis_date >= '2021-05-01') & (diagnosis_date < '2021-06-01')\n",
    "t = df_cdc[rows].copy()  # NOTE: same dataframe, code just kept for convenience"
   ]
  },
  {
   "cell_type": "code",
   "execution_count": 11,
   "metadata": {},
   "outputs": [
    {
     "name": "stdout",
     "output_type": "stream",
     "text": [
      "Total cases: 154,136\n"
     ]
    }
   ],
   "source": [
    "n_1_total = len(t) #total cases\n",
    "print(f'Total cases: {n_1_total:,}')"
   ]
  },
  {
   "cell_type": "code",
   "execution_count": 12,
   "metadata": {},
   "outputs": [],
   "source": [
    "age_cutpoints = [0,10,20,30,40,50,60,70,80,125]\n",
    "cdc_age_map = {f'{a} - {a+9} Years':a for a in age_cutpoints}\n",
    "cdc_age_map['80+ Years'] = 80\n",
    "t['age'] = t.age_group.map(cdc_age_map)\n",
    "\n",
    "t['age_group'] = pd.cut(t.age, age_cutpoints, right=False)\n",
    "t['sex'] = t.sex.map({'Male': 'male', 'Female':'female'})\n",
    "t['race_eth'] = t.race_ethnicity_combined.map({\n",
    "    'White, Non-Hispanic':'White',\n",
    "    'Black, Non-Hispanic':'Black',\n",
    "    'Hispanic/Latino':'Hispanic', \n",
    "    'American Indian/Alaska Native, Non-Hispanic':'Other',\n",
    "    'Multiple/Other, Non-Hispanic':'Other',\n",
    "    'Asian, Non-Hispanic':'Other',\n",
    "    'Native Hawaiian/Other Pacific Islander, Non-Hispanic':'Other',\n",
    "})\n",
    "\n",
    "t['weight'] = 1.0\n",
    "#t"
   ]
  },
  {
   "cell_type": "code",
   "execution_count": 13,
   "metadata": {},
   "outputs": [
    {
     "data": {
      "text/plain": [
       "(154136, 16)"
      ]
     },
     "execution_count": 13,
     "metadata": {},
     "output_type": "execute_result"
    }
   ],
   "source": [
    "df_cdc_month = t\n",
    "df_cdc_month.shape"
   ]
  },
  {
   "cell_type": "code",
   "execution_count": 14,
   "metadata": {},
   "outputs": [],
   "source": [
    "# stratification factors\n",
    "age_groups = pd.cut(np.random.uniform(0, 125, 10_000), age_cutpoints, right=False).unique().sort_values()\n",
    "#age_groups = pd.cut(list(range(0, 125)), age_cutpoints, right=False).unique()\n",
    "sexes = ['male', 'female']\n",
    "race_eth = ['White', 'Black', 'Hispanic', 'Other']\n",
    "stratification_groups = pd.MultiIndex.from_product([age_groups, sexes, race_eth])"
   ]
  },
  {
   "cell_type": "code",
   "execution_count": 15,
   "metadata": {},
   "outputs": [
    {
     "name": "stdout",
     "output_type": "stream",
     "text": [
      "CPU times: user 7.51 s, sys: 48 ms, total: 7.56 s\n",
      "Wall time: 7.56 s\n"
     ]
    }
   ],
   "source": [
    "%%time\n",
    "#    n_1 (a,s,r) = number of cases for strata (a,s,r).\n",
    "\n",
    "n_1 = {}\n",
    "\n",
    "for k in range(n_draws):\n",
    "    # use bootstrap to resample confirmed cases, to quantify uncertainty\n",
    "    resampled_rows = np.random.choice(df_cdc_month.index, size=len(t), replace=True)\n",
    "    df_selected_cdc = df_cdc_month.loc[resampled_rows]\n",
    "    \n",
    "    n_1[k] = df_selected_cdc.groupby(['age_group', 'sex', 'race_eth']).weight.sum()\n",
    "    \n",
    "    # use parametric resampling from a possion distribution to also include uncertainty in total number of cases\n",
    "    n_1[k] = np.random.poisson(n_1_total) * n_1[k] / n_1[k].sum()"
   ]
  },
  {
   "cell_type": "code",
   "execution_count": 16,
   "metadata": {},
   "outputs": [],
   "source": [
    "# TODO: Table 1 showing the demographics of the confirmed case population,\n",
    "# highlighting amount of missingness and also including household size distribution"
   ]
  },
  {
   "cell_type": "code",
   "execution_count": 17,
   "metadata": {},
   "outputs": [
    {
     "data": {
      "text/html": [
       "<div>\n",
       "<style scoped>\n",
       "    .dataframe tbody tr th:only-of-type {\n",
       "        vertical-align: middle;\n",
       "    }\n",
       "\n",
       "    .dataframe tbody tr th {\n",
       "        vertical-align: top;\n",
       "    }\n",
       "\n",
       "    .dataframe thead tr th {\n",
       "        text-align: left;\n",
       "    }\n",
       "\n",
       "    .dataframe thead tr:last-of-type th {\n",
       "        text-align: right;\n",
       "    }\n",
       "</style>\n",
       "<table border=\"1\" class=\"dataframe\">\n",
       "  <thead>\n",
       "    <tr>\n",
       "      <th>race_eth</th>\n",
       "      <th colspan=\"2\" halign=\"left\">Black</th>\n",
       "      <th colspan=\"2\" halign=\"left\">Hispanic</th>\n",
       "      <th colspan=\"2\" halign=\"left\">Other</th>\n",
       "      <th colspan=\"2\" halign=\"left\">White</th>\n",
       "    </tr>\n",
       "    <tr>\n",
       "      <th>sex</th>\n",
       "      <th>female</th>\n",
       "      <th>male</th>\n",
       "      <th>female</th>\n",
       "      <th>male</th>\n",
       "      <th>female</th>\n",
       "      <th>male</th>\n",
       "      <th>female</th>\n",
       "      <th>male</th>\n",
       "    </tr>\n",
       "    <tr>\n",
       "      <th>age_group</th>\n",
       "      <th></th>\n",
       "      <th></th>\n",
       "      <th></th>\n",
       "      <th></th>\n",
       "      <th></th>\n",
       "      <th></th>\n",
       "      <th></th>\n",
       "      <th></th>\n",
       "    </tr>\n",
       "  </thead>\n",
       "  <tbody>\n",
       "    <tr>\n",
       "      <th>[0, 10)</th>\n",
       "      <td>1238.8</td>\n",
       "      <td>1331.3</td>\n",
       "      <td>1216.5</td>\n",
       "      <td>1329.6</td>\n",
       "      <td>762.6</td>\n",
       "      <td>859.5</td>\n",
       "      <td>2818.0</td>\n",
       "      <td>2917.7</td>\n",
       "    </tr>\n",
       "    <tr>\n",
       "      <th>[10, 20)</th>\n",
       "      <td>2195.6</td>\n",
       "      <td>2010.6</td>\n",
       "      <td>2373.1</td>\n",
       "      <td>2222.3</td>\n",
       "      <td>1258.0</td>\n",
       "      <td>1236.7</td>\n",
       "      <td>7295.2</td>\n",
       "      <td>6706.4</td>\n",
       "    </tr>\n",
       "    <tr>\n",
       "      <th>[20, 30)</th>\n",
       "      <td>3500.3</td>\n",
       "      <td>2316.8</td>\n",
       "      <td>2584.4</td>\n",
       "      <td>2397.1</td>\n",
       "      <td>1714.5</td>\n",
       "      <td>1335.1</td>\n",
       "      <td>8143.4</td>\n",
       "      <td>6826.2</td>\n",
       "    </tr>\n",
       "    <tr>\n",
       "      <th>[30, 40)</th>\n",
       "      <td>3357.0</td>\n",
       "      <td>2161.7</td>\n",
       "      <td>2447.7</td>\n",
       "      <td>2148.7</td>\n",
       "      <td>1424.4</td>\n",
       "      <td>1190.1</td>\n",
       "      <td>7727.9</td>\n",
       "      <td>5994.0</td>\n",
       "    </tr>\n",
       "    <tr>\n",
       "      <th>[40, 50)</th>\n",
       "      <td>2208.5</td>\n",
       "      <td>1564.8</td>\n",
       "      <td>1716.7</td>\n",
       "      <td>1588.4</td>\n",
       "      <td>984.1</td>\n",
       "      <td>809.1</td>\n",
       "      <td>6753.5</td>\n",
       "      <td>5859.6</td>\n",
       "    </tr>\n",
       "    <tr>\n",
       "      <th>[50, 60)</th>\n",
       "      <td>1746.3</td>\n",
       "      <td>1206.3</td>\n",
       "      <td>1160.5</td>\n",
       "      <td>951.5</td>\n",
       "      <td>678.4</td>\n",
       "      <td>663.2</td>\n",
       "      <td>6176.3</td>\n",
       "      <td>5944.0</td>\n",
       "    </tr>\n",
       "    <tr>\n",
       "      <th>[60, 70)</th>\n",
       "      <td>1029.3</td>\n",
       "      <td>697.1</td>\n",
       "      <td>637.9</td>\n",
       "      <td>469.4</td>\n",
       "      <td>437.7</td>\n",
       "      <td>432.9</td>\n",
       "      <td>4391.1</td>\n",
       "      <td>4034.1</td>\n",
       "    </tr>\n",
       "    <tr>\n",
       "      <th>[70, 80)</th>\n",
       "      <td>432.3</td>\n",
       "      <td>215.3</td>\n",
       "      <td>266.7</td>\n",
       "      <td>180.3</td>\n",
       "      <td>174.1</td>\n",
       "      <td>143.1</td>\n",
       "      <td>2323.8</td>\n",
       "      <td>2179.9</td>\n",
       "    </tr>\n",
       "    <tr>\n",
       "      <th>[80, 125)</th>\n",
       "      <td>249.7</td>\n",
       "      <td>98.7</td>\n",
       "      <td>144.1</td>\n",
       "      <td>64.1</td>\n",
       "      <td>109.7</td>\n",
       "      <td>85.5</td>\n",
       "      <td>1413.3</td>\n",
       "      <td>973.1</td>\n",
       "    </tr>\n",
       "  </tbody>\n",
       "</table>\n",
       "</div>"
      ],
      "text/plain": [
       "race_eth    Black         Hispanic           Other           White        \n",
       "sex        female    male   female    male  female    male  female    male\n",
       "age_group                                                                 \n",
       "[0, 10)    1238.8  1331.3   1216.5  1329.6   762.6   859.5  2818.0  2917.7\n",
       "[10, 20)   2195.6  2010.6   2373.1  2222.3  1258.0  1236.7  7295.2  6706.4\n",
       "[20, 30)   3500.3  2316.8   2584.4  2397.1  1714.5  1335.1  8143.4  6826.2\n",
       "[30, 40)   3357.0  2161.7   2447.7  2148.7  1424.4  1190.1  7727.9  5994.0\n",
       "[40, 50)   2208.5  1564.8   1716.7  1588.4   984.1   809.1  6753.5  5859.6\n",
       "[50, 60)   1746.3  1206.3   1160.5   951.5   678.4   663.2  6176.3  5944.0\n",
       "[60, 70)   1029.3   697.1    637.9   469.4   437.7   432.9  4391.1  4034.1\n",
       "[70, 80)    432.3   215.3    266.7   180.3   174.1   143.1  2323.8  2179.9\n",
       "[80, 125)   249.7    98.7    144.1    64.1   109.7    85.5  1413.3   973.1"
      ]
     },
     "execution_count": 17,
     "metadata": {},
     "output_type": "execute_result"
    }
   ],
   "source": [
    "n_1_mean = pd.DataFrame(n_1).T.mean()\n",
    "np.round(n_1_mean.unstack().unstack(),1)  # number of confirmed cases of COVID-19, stratified by age, sex, and race/ethnicity"
   ]
  },
  {
   "cell_type": "code",
   "execution_count": 18,
   "metadata": {},
   "outputs": [],
   "source": [
    "# assert np.allclose(n_1_mean.sum(), n_1_total)\n"
   ]
  },
  {
   "cell_type": "markdown",
   "metadata": {},
   "source": [
    "## 2. Estimate the stratified number of household contacts who might benefit from mAbs PEP \n",
    "\n",
    "Think of entry $(i,j)$ in this table as the number of people in group $j$ you would find who have been exposed to COVID, if you did a household visit for a COVID-19 case in group $i$.\n",
    "\n",
    "### TODO: Figure out how to quantify uncertainty for this in a reasonable amount of time."
   ]
  },
  {
   "cell_type": "code",
   "execution_count": 19,
   "metadata": {},
   "outputs": [],
   "source": [
    "acs = pd.read_csv('data/acs_2019_pums.csv.bz2')\n",
    "#acs.head()"
   ]
  },
  {
   "cell_type": "code",
   "execution_count": 20,
   "metadata": {},
   "outputs": [],
   "source": [
    "acs['age_group'] = pd.cut(acs.age, age_cutpoints, right=False)\n",
    "acs['sex'] = acs.sex.map({1:'male', 2:'female'})\n",
    "acs['race_eth'] = acs.race_eth.map({1:'White',\n",
    "                                    2:'Black',\n",
    "                                    3:'Hispanic', \n",
    "                                    4:'Other'})\n",
    "#acs.head()"
   ]
  },
  {
   "cell_type": "code",
   "execution_count": 21,
   "metadata": {},
   "outputs": [],
   "source": [
    "g_acs = acs[acs.household_id.str.contains('HU')].groupby(['age_group', 'sex', 'race_eth'])\n",
    "#g_acs.head()"
   ]
  },
  {
   "cell_type": "code",
   "execution_count": 22,
   "metadata": {},
   "outputs": [
    {
     "name": "stdout",
     "output_type": "stream",
     "text": [
      "\n",
      " 0\n",
      ". . . . . . . . . . . . . . . . . . . . . . . . . . . . . . . . . . . . . . . . . . . . . . . . . . . . . . . . . . . . . . . . . . . . . . . . \n",
      " 1\n",
      ". . . . . . . . . . . . . . . . . . . . . . . . . . . . . . . . . . . . . . . . . . . . . . . . . . . . . . . . . . . . . . . . . . . . . . . . \n",
      " 2\n",
      ". . . . . . . . . . . . . . . . . . . . . . . . . . . . . . . . . . . . . . . . . . . . . . . . . . . . . . . . . . . . . . . . . . . . . . . . \n",
      " 3\n",
      ". . . . . . . . . . . . . . . . . . . . . . . . . . . . . . . . . . . . . . . . . . . . . . . . . . . . . . . . . . . . . . . . . . . . . . . . \n",
      " 4\n",
      ". . . . . . . . . . . . . . . . . . . . . . . . . . . . . . . . . . . . . . . . . . . . . . . . . . . . . . . . . . . . . . . . . . . . . . . . \n",
      " 5\n",
      ". . . . . . . . . . . . . . . . . . . . . . . . . . . . . . . . . . . . . . . . . . . . . . . . . . . . . . . . . . . . . . . . . . . . . . . . \n",
      " 6\n",
      ". . . . . . . . . . . . . . . . . . . . . . . . . . . . . . . . . . . . . . . . . . . . . . . . . . . . . . . . . . . . . . . . . . . . . . . . \n",
      " 7\n",
      ". . . . . . . . . . . . . . . . . . . . . . . . . . . . . . . . . . . . . . . . . . . . . . . . . . . . . . . . . . . . . . . . . . . . . . . . \n",
      " 8\n",
      ". . . . . . . . . . . . . . . . . . . . . . . . . . . . . . . . . . . . . . . . . . . . . . . . . . . . . . . . . . . . . . . . . . . . . . . . \n",
      " 9\n",
      ". . . . . . . . . . . . . . . . . . . . . . . . . . . . . . . . . . . . . . . . . . . . . . . . . . . . . . . . . . . . . . . . . . . . . . . . \n",
      " 10\n",
      ". . . . . . . . . . . . . . . . . . . . . . . . . . . . . . . . . . . . . . . . . . . . . . . . . . . . . . . . . . . . . . . . . . . . . . . . \n",
      " 11\n",
      ". . . . . . . . . . . . . . . . . . . . . . . . . . . . . . . . . . . . . . . . . . . . . . . . . . . . . . . . . . . . . . . . . . . . . . . . \n",
      " 12\n",
      ". . . . . . . . . . . . . . . . . . . . . . . . . . . . . . . . . . . . . . . . . . . . . . . . . . . . . . . . . . . . . . . . . . . . . . . . \n",
      " 13\n",
      ". . . . . . . . . . . . . . . . . . . . . . . . . . . . . . . . . . . . . . . . . . . . . . . . . . . . . . . . . . . . . . . . . . . . . . . . \n",
      " 14\n",
      ". . . . . . . . . . . . . . . . . . . . . . . . . . . . . . . . . . . . . . . . . . . . . . . . . . . . . . . . . . . . . . . . . . . . . . . . \n",
      " 15\n",
      ". . . . . . . . . . . . . . . . . . . . . . . . . . . . . . . . . . . . . . . . . . . . . . . . . . . . . . . . . . . . . . . . . . . . . . . . \n",
      " 16\n",
      ". . . . . . . . . . . . . . . . . . . . . . . . . . . . . . . . . . . . . . . . . . . . . . . . . . . . . . . . . . . . . . . . . . . . . . . . \n",
      " 17\n",
      ". . . . . . . . . . . . . . . . . . . . . . . . . . . . . . . . . . . . . . . . . . . . . . . . . . . . . . . . . . . . . . . . . . . . . . . . \n",
      " 18\n",
      ". . . . . . . . . . . . . . . . . . . . . . . . . . . . . . . . . . . . . . . . . . . . . . . . . . . . . . . . . . . . . . . . . . . . . . . . \n",
      " 19\n",
      ". . . . . . . . . . . . . . . . . . . . . . . . . . . . . . . . . . . . . . . . . . . . . . . . . . . . . . . . . . . . . . . . . . . . . . . . \n",
      " 20\n",
      ". . . . . . . . . . . . . . . . . . . . . . . . . . . . . . . . . . . . . . . . . . . . . . . . . . . . . . . . . . . . . . . . . . . . . . . . \n",
      " 21\n",
      ". . . . . . . . . . . . . . . . . . . . . . . . . . . . . . . . . . . . . . . . . . . . . . . . . . . . . . . . . . . . . . . . . . . . . . . . \n",
      " 22\n",
      ". . . . . . . . . . . . . . . . . . . . . . . . . . . . . . . . . . . . . . . . . . . . . . . . . . . . . . . . . . . . . . . . . . . . . . . . \n",
      " 23\n",
      ". . . . . . . . . . . . . . . . . . . . . . . . . . . . . . . . . . . . . . . . . . . . . . . . . . . . . . . . . . . . . . . . . . . . . . . . \n",
      " 24\n",
      ". . . . . . . . . . . . . . . . . . . . . . . . . . . . . . . . . . . . . . . . . . . . . . . . . . . . . . . . . . . . . . . . . . . . . . . . \n",
      " 25\n",
      ". . . . . . . . . . . . . . . . . . . . . . . . . . . . . . . . . . . . . . . . . . . . . . . . . . . . . . . . . . . . . . . . . . . . . . . . \n",
      " 26\n",
      ". . . . . . . . . . . . . . . . . . . . . . . . . . . . . . . . . . . . . . . . . . . . . . . . . . . . . . . . . . . . . . . . . . . . . . . . \n",
      " 27\n",
      ". . . . . . . . . . . . . . . . . . . . . . . . . . . . . . . . . . . . . . . . . . . . . . . . . . . . . . . . . . . . . . . . . . . . . . . . \n",
      " 28\n",
      ". . . . . . . . . . . . . . . . . . . . . . . . . . . . . . . . . . . . . . . . . . . . . . . . . . . . . . . . . . . . . . . . . . . . . . . . \n",
      " 29\n",
      ". . . . . . . . . . . . . . . . . . . . . . . . . . . . . . . . . . . . . . . . . . . . . . . . . . . . . . . . . . . . . . . . . . . . . . . . \n",
      " 30\n",
      ". . . . . . . . . . . . . . . . . . . . . . . . . . . . . . . . . . . . . . . . . . . . . . . . . . . . . . . . . . . . . . . . . . . . . . . . \n",
      " 31\n",
      ". . . . . . . . . . . . . . . . . . . . . . . . . . . . . . . . . . . . . . . . . . . . . . . . . . . . . . . . . . . . . . . . . . . . . . . . \n",
      " 32\n",
      ". . . . . . . . . . . . . . . . . . . . . . . . . . . . . . . . . . . . . . . . . . . . . . . . . . . . . . . . . . . . . . . . . . . . . . . . \n",
      " 33\n",
      ". . . . . . . . . . . . . . . . . . . . . . . . . . . . . . . . . . . . . . . . . . . . . . . . . . . . . . . . . . . . . . . . . . . . . . . . \n",
      " 34\n",
      ". . . . . . . . . . . . . . . . . . . . . . . . . . . . . . . . . . . . . . . . . . . . . . . . . . . . . . . . . . . . . . . . . . . . . . . . \n",
      " 35\n",
      ". . . . . . . . . . . . . . . . . . . . . . . . . . . . . . . . . . . . . . . . . . . . . . . . . . . . . . . . . . . . . . . . . . . . . . . . \n",
      " 36\n",
      ". . . . . . . . . . . . . . . . . . . . . . . . . . . . . . . . . . . . . . . . . . . . . . . . . . . . . . . . . . . . . . . . . . . . . . . . \n",
      " 37\n",
      ". . . . . . . . . . . . . . . . . . . . . . . . . . . . . . . . . . . . . . . . . . . . . . . . . . . . . . . . . . . . . . . . . . . . . . . . \n",
      " 38\n",
      ". . . . . . . . . . . . . . . . . . . . . . . . . . . . . . . . . . . . . . . . . . . . . . . . . . . . . . . . . . . . . . . . . . . . . . . . \n",
      " 39\n",
      ". . . . . . . . . . . . . . . . . . . . . . . . . . . . . . . . . . . . . . . . . . . . . . . . . . . . . . . . . . . . . . . . . . . . . . . . \n",
      " 40\n",
      ". . . . . . . . . . . . . . . . . . . . . . . . . . . . . . . . . . . . . . . . . . . . . . . . . . . . . . . . . . . . . . . . . . . . . . . . \n",
      " 41\n",
      ". . . . . . . . . . . . . . . . . . . . . . . . . . . . . . . . . . . . . . . . . . . . . . . . . . . . . . . . . . . . . . . . . . . . . . . . \n",
      " 42\n",
      ". . . . . . . . . . . . . . . . . . . . . . . . . . . . . . . . . . . . . . . . . . . . . . . . . . . . . . . . . . . . . . . . . . . . . . . . \n",
      " 43\n",
      ". . . . . . . . . . . . . . . . . . . . . . . . . . . . . . . . . . . . . . . . . . . . . . . . . . . . . . . . . . . . . . . . . . . . . . . . \n",
      " 44\n",
      ". . . . . . . . . . . . . . . . . . . . . . . . . . . . . . . . . . . . . . . . . . . . . . . . . . . . . . . . . . . . . . . . . . . . . . . . \n",
      " 45\n",
      ". . . . . . . . . . . . . . . . . . . . . . . . . . . . . . . . . . . . . . . . . . . . . . . . . . . . . . . . . . . . . . . . . . . . . . . . \n",
      " 46\n",
      ". . . . . . . . . . . . . . . . . . . . . . . . . . . . . . . . . . . . . . . . . . . . . . . . . . . . . . . . . . . . . . . . . . . . . . . . \n",
      " 47\n",
      ". . . . . . . . . . . . . . . . . . . . . . . . . . . . . . . . . . . . . . . . . . . . . . . . . . . . . . . . . . . . . . . . . . . . . . . . \n",
      " 48\n",
      ". . . . . . . . . . . . . . . . . . . . . . . . . . . . . . . . . . . . . . . . . . . . . . . . . . . . . . . . . . . . . . . . . . . . . . . . \n",
      " 49\n",
      ". . . . . . . . . . . . . . . . . . . . . . . . . . . . . . . . . . . . . . . . . . . . . . . . . . . . . . . . . . . . . . . . . . . . . . . . \n",
      " 50\n",
      ". . . . . . . . . . . . . . . . . . . . . . . . . . . . . . . . . . . . . . . . . . . . . . . . . . . . . . . . . . . . . . . . . . . . . . . . \n",
      " 51\n",
      ". . . . . . . . . . . . . . . . . . . . . . . . . . . . . . . . . . . . . . . . . . . . . . . . . . . . . . . . . . . . . . . . . . . . . . . . \n",
      " 52\n",
      ". . . . . . . . . . . . . . . . . . . . . . . . . . . . . . . . . . . . . . . . . . . . . . . . . . . . . . . . . . . . . . . . . . . . . . . . \n",
      " 53\n",
      ". . . . . . . . . . . . . . . . . . . . . . . . . . . . . . . . . . . . . . . . . . . . . . . . . . . . . . . . . . . . . . . . . . . . . . . . \n",
      " 54\n",
      ". . . . . . . . . . . . . . . . . . . . . . . . . . . . . . . . . . . . . . . . . . . . . . . . . . . . . . . . . . . . . . . . . . . . . . . . \n",
      " 55\n",
      ". . . . . . . . . . . . . . . . . . . . . . . . . . . . . . . . . . . . . . . . . . . . . . . . . . . . . . . . . . . . . . . . . . . . . . . . \n",
      " 56\n",
      ". . . . . . . . . . . . . . . . . . . . . . . . . . . . . . . . . . . . . . . . . . . . . . . . . . . . . . . . . . . . . . . . . . . . . . . . \n",
      " 57\n",
      ". . . . . . . . . . . . . . . . . . . . . . . . . . . . . . . . . . . . . . . . . . . . . . . . . . . . . . . . . . . . . . . . . . . . . . . . \n",
      " 58\n",
      ". . . . . . . . . . . . . . . . . . . . . . . . . . . . . . . . . . . . . . . . . . . . . . . . . . . . . . . . . . . . . . . . . . . . . . . . \n",
      " 59\n",
      ". . . . . . . . . . . . . . . . . . . . . . . . . . . . . . . . . . . . . . . . . . . . . . . . . . . . . . . . . . . . . . . . . . . . . . . . \n",
      " 60\n",
      ". . . . . . . . . . . . . . . . . . . . . . . . . . . . . . . . . . . . . . . . . . . . . . . . . . . . . . . . . . . . . . . . . . . . . . . . \n",
      " 61\n",
      ". . . . . . . . . . . . . . . . . . . . . . . . . . . . . . . . . . . . . . . . . . . . . . . . . . . . . . . . . . . . . . . . . . . . . . . . \n",
      " 62\n",
      ". . . . . . . . . . . . . . . . . . . . . . . . . . . . . . . . . . . . . . . . . . . . . . . . . . . . . . . . . . . . . . . . . . . . . . . . \n",
      " 63\n",
      ". . . . . . . . . . . . . . . . . . . . . . . . . . . . . . . . . . . . . . . . . . . . . . . . . . . . . . . . . . . . . . . . . . . . . . . . \n",
      " 64\n",
      ". . . . . . . . . . . . . . . . . . . . . . . . . . . . . . . . . . . . . . . . . . . . . . . . . . . . . . . . . . . . . . . . . . . . . . . . \n",
      " 65\n",
      ". . . . . . . . . . . . . . . . . . . . . . . . . . . . . . . . . . . . . . . . . . . . . . . . . . . . . . . . . . . . . . . . . . \n",
      " 67\n",
      ". . . . . . . . . . . . . . . . . . . . . . . . . . . . . . . . . . . . . . . . . . . . . . . . . . . . . . . . . . . . . . . . . . . . . . . . \n",
      " 68\n",
      ". . . . . . . . . . . . . . . . . . . . . . . . . . . . . . . . . . . . . . . . . . . . . . . . . . . . . . . . . . . . . . . . . . . . . . . . \n",
      " 69\n",
      ". . . . . . . . . . . . . . . . . . . . . . . . . . . . . . . . . . . . . . . . . . . . . . . . . . . . . . . . . . . . . . . . . . . . . . . . \n",
      " 70\n",
      ". . . . . . . . . . . . . . . . . . . . . . . . . . . . . . . . . . . . . . . . . . . . . . . . . . . . . . . . . . . . . . . . . . . . . . . . \n",
      " 71\n",
      ". . . . . . . . . . . . . . . . . . . . . . . . . . . . . . . . . . . . . . . . . . . . . . . . . . . . . . . . . . . . . . . . . . . . . . . . \n",
      " 72\n",
      ". . . . . . . . . . . . . . . . . . . . . . . . . . . . . . . . . . . . . . . . . . . . . . . . . . . . . . . . . . . . . . . . . . . . . . . . \n",
      " 73\n",
      ". . . . . . . . . . . . . . . . . . . . . . . . . . . . . . . . . . . . . . . . . . . . . . . . . . . . . . . . . . . . . . . . . . . . . . . . \n",
      " 74\n",
      ". . . . . . . . . . . . . . . . . . . . . . . . . . . . . . . . . . . . . . . . . . . . . . . . . . . . . . . . . . . . . . . . . . . . . . . . \n",
      " 75\n",
      ". . . . . . . . . . . . . . . . . . . . . . . . . . . . . . . . . . . . . . . . . . . . . . . . . . . . . . . . . . . . . . . . . . . . . . . . \n",
      " 76\n",
      ". . . . . . . . . . . . . . . . . . . . . . . . . . . . . . . . . . . . . . . . . . . . . . . . . . . . . . . . . . . . . . . . . . . . . . . . \n",
      " 77\n",
      ". . . . . . . . . . . . . . . . . . . . . . . . . . . . . . . . . . . . . . . . . . . . . . . . . . . . . . . . . . . . . . . . . . . . . . . . \n",
      " 78\n",
      ". . . . . . . . . . . . . . . . . . . . . . . . . . . . . . . . . . . . . . . . . . . . . . . . . . . . . . . . . . . . . . . . . . . . . . . . \n",
      " 79\n",
      ". . . . . . . . . . . . . . . . . . . . . . . . . . . . . . . . . . . . . . . . . . . . . . . . . . . . . . . . . . . . . . . . . . . . . . . . \n",
      " 80\n",
      ". . . . . . . . . . . . . . . . . . . . . . . . . . . . . . . . . . . . . . . . . . . . . . . . . . . . . . . . . . . . . . . . . . . . . . . . \n",
      " 81\n",
      ". . . . . . . . . . . . . . . . . . . . . . . . . . . . . . . . . . . . . . . . . . . . . . . . . . . . . . . . . . . . . . . . . . . . . . . . \n",
      " 82\n",
      ". . . . . . . . . . . . . . . . . . . . . . . . . . . . . . . . . . . . . . . . . . . . . . . . . . . . . . . . . . . . . . . . . . . . . . . . \n",
      " 83\n",
      ". . . . . . . . . . . . . . . . . . . . . . . . . . . . . . . . . . . . . . . . . . . . . . . . . . . . . . . . . . . . . . . . . . . . . . . . \n",
      " 84\n",
      ". . . . . . . . . . . . . . . . . . . . . . . . . . . . . . . . . . . . . . . . . . . . . . . . . . . . . . . . . . . . . . . . . . . . . . . . \n",
      " 85\n",
      ". . . . . . . . . . . . . . . . . . . . . . . . . . . . . . . . . . . . . . . . . . . . . . . . . . . . . . . . . . . . . . . . . . . . . . . . \n",
      " 86\n",
      ". . . . . . . . . . . . . . . . . . . . . . . . . . . . . . . . . . . . . . . . . . . . . . . . . . . . . . . . . . . . . . . . . . . . . . . . \n",
      " 87\n",
      ". . . . . . . . . . . . . . . . . . . . . . . . . . . . . . . . . . . . . . . . . . . . . . . . . . . . . . . . . . . . . . . . . . . . . . . . \n",
      " 88\n",
      ". . . . . . . . . . . . . . . . . . . . . . . . . . . . . . . . . . . . . . . . . . . . . . . . . . . . . . . . . . . . . . . . . . . . . . . . \n",
      " 89\n",
      ". . . . . . . . . . . . . . . . . . . . . . . . . . . . . . . . . . . . . . . . . . . . . . . . . . . . . . . . . . . . . . . . . . . . . . . . \n",
      " 90\n",
      ". . . . . . . . . . . . . . . . . . . . . . . . . . . . . . . . . . . . . . . . . . . . . . . . . . . . . . . . . . . . . . . . . . . . . . . . \n",
      " 91\n",
      ". . . . . . . . . . . . . . . . . . . . . . . . . . . . . . . . . . . . . . . . . . . . . . . . . . . . . . . . . . . . . . . . . . . . . . . . \n",
      " 92\n",
      ". . . . . . . . . . . . . . . . . . . . . . . . . . . . . . . . . . . . . . . . . . . . . . . . . . . . . . . . . . . . . . . . . . . . . . . . \n",
      " 93\n",
      ". . . . . . . . . . . . . . . . . . . . . . . . . . . . . . . . . . . . . . . . . . . . . . . . . . . . . . . . . . . . . . . . . . . . . . . . \n",
      " 94\n",
      ". . . . . . . . . . . . . . . . . . . . . . . . . . . . . . . . . . . . . . . . . . . . . . . . . . . . . . . . . . . . . . . . . . . . . . . . \n",
      " 95\n",
      ". . . . . . . . . . . . . . . . . . . . . . . . . . . . . . . . . . . . . . . . . . . . . . . . . . . . . . . . . . . . . . . . . . . . . . . . \n",
      " 96\n",
      ". . . . . . . . . . . . . . . . . . . . . . . . . . . . . . . . . . . . . . . . . . . . . . . . . . . . . . . . . . . . . . . . . . . . . . . . \n",
      " 97\n",
      ". . . . . . . . . . . . . . . . . . . . . . . . . . . . . . . . . . . . . . . . . . . . . . . . . . . . . . . . . . . . . . . . . . . . . . . . \n",
      " 98\n",
      ". . . . . . . . . . . . . . . . . . . . . . . . . . . . . . . . . . . . . . . . . . . . . . . . . . . . . . . . . . . . . . . . . . . . . . . . \n",
      " 99\n",
      ". . . . . . . . . . . . . . . . . . . . . . . . . . . . . . . . . . . . . . . . . . . . . . . . . . . . . . . . . . . . . . . . . . . . . . . . CPU times: user 3h 24min 16s, sys: 8.19 s, total: 3h 24min 24s\n",
      "Wall time: 3h 24min 14s\n"
     ]
    }
   ],
   "source": [
    "%%time\n",
    "n_hh = {}\n",
    "\n",
    "for k in range(n_draws):\n",
    "    print('\\n',k)\n",
    "    n_hh[k] = pd.DataFrame(0, index=stratification_groups, columns=stratification_groups)\n",
    "    n_hh[k] = n_hh[k].sort_index()  # make a pesky warning go away, and possibly make things faster --- see https://stackoverflow.com/questions/54307300/what-causes-indexing-past-lexsort-depth-warning-in-pandas\n",
    "    \n",
    "    for i in stratification_groups:\n",
    "        print('.', flush=True, end=' ')\n",
    "        hh_ids = g_acs.get_group(i).household_id  # ids for households containing a person from stratification group i\n",
    "        hh_ids_k = np.random.choice(hh_ids, size=100, replace=True)  # randomly resampled hhs with person from group i\n",
    "\n",
    "        for j in stratification_groups:\n",
    "            t = g_acs.get_group(j) # all people in stratification from j\n",
    "\n",
    "            df_ij = t[t.household_id.isin(hh_ids_k)]  # people in stratification group j who live in household with person from stratification group i\n",
    "\n",
    "            hh_ij = pd.Series(0, index=hh_ids_k).add(\n",
    "                        df_ij.household_id.value_counts() * pd.Series(hh_ids_k).value_counts(),  # resampling with replacement means some hhs will appear more than once\n",
    "                        fill_value=0\n",
    "                    )\n",
    "\n",
    "            n_hh[k].loc[i,j] = hh_ij.mean()\n",
    "            if i == j:\n",
    "                n_hh[k].loc[i,j] -= 1 # don't include the person with a confirmed case when tallying household exposure count"
   ]
  },
  {
   "cell_type": "code",
   "execution_count": 23,
   "metadata": {},
   "outputs": [
    {
     "name": "stdout",
     "output_type": "stream",
     "text": [
      "CPU times: user 33min, sys: 52.8 s, total: 33min 53s\n",
      "Wall time: 32min 44s\n"
     ]
    },
    {
     "data": {
      "text/html": [
       "<div>\n",
       "<style scoped>\n",
       "    .dataframe tbody tr th:only-of-type {\n",
       "        vertical-align: middle;\n",
       "    }\n",
       "\n",
       "    .dataframe tbody tr th {\n",
       "        vertical-align: top;\n",
       "    }\n",
       "\n",
       "    .dataframe thead tr th {\n",
       "        text-align: left;\n",
       "    }\n",
       "</style>\n",
       "<table border=\"1\" class=\"dataframe\">\n",
       "  <thead>\n",
       "    <tr>\n",
       "      <th></th>\n",
       "      <th colspan=\"2\" halign=\"left\">Black</th>\n",
       "      <th colspan=\"2\" halign=\"left\">Hispanic</th>\n",
       "      <th colspan=\"2\" halign=\"left\">Other</th>\n",
       "      <th colspan=\"2\" halign=\"left\">White</th>\n",
       "    </tr>\n",
       "    <tr>\n",
       "      <th></th>\n",
       "      <th>female</th>\n",
       "      <th>male</th>\n",
       "      <th>female</th>\n",
       "      <th>male</th>\n",
       "      <th>female</th>\n",
       "      <th>male</th>\n",
       "      <th>female</th>\n",
       "      <th>male</th>\n",
       "    </tr>\n",
       "  </thead>\n",
       "  <tbody>\n",
       "    <tr>\n",
       "      <th>[0, 10)</th>\n",
       "      <td>6336.1</td>\n",
       "      <td>6573.5</td>\n",
       "      <td>7611.0</td>\n",
       "      <td>7845.6</td>\n",
       "      <td>4205.0</td>\n",
       "      <td>4298.2</td>\n",
       "      <td>16782.6</td>\n",
       "      <td>17976.9</td>\n",
       "    </tr>\n",
       "    <tr>\n",
       "      <th>[10, 20)</th>\n",
       "      <td>6501.8</td>\n",
       "      <td>6880.6</td>\n",
       "      <td>8111.7</td>\n",
       "      <td>8382.3</td>\n",
       "      <td>3785.2</td>\n",
       "      <td>3945.7</td>\n",
       "      <td>18316.8</td>\n",
       "      <td>19498.3</td>\n",
       "    </tr>\n",
       "    <tr>\n",
       "      <th>[20, 30)</th>\n",
       "      <td>4233.2</td>\n",
       "      <td>3817.4</td>\n",
       "      <td>5398.8</td>\n",
       "      <td>5541.8</td>\n",
       "      <td>2624.2</td>\n",
       "      <td>2662.2</td>\n",
       "      <td>11161.7</td>\n",
       "      <td>11782.1</td>\n",
       "    </tr>\n",
       "    <tr>\n",
       "      <th>[30, 40)</th>\n",
       "      <td>4499.3</td>\n",
       "      <td>3362.2</td>\n",
       "      <td>5301.3</td>\n",
       "      <td>4898.8</td>\n",
       "      <td>2883.8</td>\n",
       "      <td>2414.4</td>\n",
       "      <td>13942.5</td>\n",
       "      <td>13211.2</td>\n",
       "    </tr>\n",
       "    <tr>\n",
       "      <th>[40, 50)</th>\n",
       "      <td>4249.8</td>\n",
       "      <td>3338.4</td>\n",
       "      <td>5042.4</td>\n",
       "      <td>4599.6</td>\n",
       "      <td>2934.1</td>\n",
       "      <td>2436.2</td>\n",
       "      <td>15201.5</td>\n",
       "      <td>14896.3</td>\n",
       "    </tr>\n",
       "    <tr>\n",
       "      <th>[50, 60)</th>\n",
       "      <td>3804.5</td>\n",
       "      <td>3042.7</td>\n",
       "      <td>3339.5</td>\n",
       "      <td>3353.5</td>\n",
       "      <td>2110.3</td>\n",
       "      <td>1965.4</td>\n",
       "      <td>11897.3</td>\n",
       "      <td>12597.8</td>\n",
       "    </tr>\n",
       "    <tr>\n",
       "      <th>[60, 70)</th>\n",
       "      <td>2634.7</td>\n",
       "      <td>1993.5</td>\n",
       "      <td>1791.8</td>\n",
       "      <td>1645.2</td>\n",
       "      <td>1372.9</td>\n",
       "      <td>1237.3</td>\n",
       "      <td>7147.4</td>\n",
       "      <td>7578.4</td>\n",
       "    </tr>\n",
       "    <tr>\n",
       "      <th>[70, 80)</th>\n",
       "      <td>1214.4</td>\n",
       "      <td>841.6</td>\n",
       "      <td>790.1</td>\n",
       "      <td>671.9</td>\n",
       "      <td>639.8</td>\n",
       "      <td>530.5</td>\n",
       "      <td>3510.8</td>\n",
       "      <td>3503.2</td>\n",
       "    </tr>\n",
       "    <tr>\n",
       "      <th>[80, 125)</th>\n",
       "      <td>563.3</td>\n",
       "      <td>277.5</td>\n",
       "      <td>396.4</td>\n",
       "      <td>249.4</td>\n",
       "      <td>305.6</td>\n",
       "      <td>215.4</td>\n",
       "      <td>1551.8</td>\n",
       "      <td>1240.0</td>\n",
       "    </tr>\n",
       "  </tbody>\n",
       "</table>\n",
       "</div>"
      ],
      "text/plain": [
       "            Black         Hispanic           Other            White         \n",
       "           female    male   female    male  female    male   female     male\n",
       "[0, 10)    6336.1  6573.5   7611.0  7845.6  4205.0  4298.2  16782.6  17976.9\n",
       "[10, 20)   6501.8  6880.6   8111.7  8382.3  3785.2  3945.7  18316.8  19498.3\n",
       "[20, 30)   4233.2  3817.4   5398.8  5541.8  2624.2  2662.2  11161.7  11782.1\n",
       "[30, 40)   4499.3  3362.2   5301.3  4898.8  2883.8  2414.4  13942.5  13211.2\n",
       "[40, 50)   4249.8  3338.4   5042.4  4599.6  2934.1  2436.2  15201.5  14896.3\n",
       "[50, 60)   3804.5  3042.7   3339.5  3353.5  2110.3  1965.4  11897.3  12597.8\n",
       "[60, 70)   2634.7  1993.5   1791.8  1645.2  1372.9  1237.3   7147.4   7578.4\n",
       "[70, 80)   1214.4   841.6    790.1   671.9   639.8   530.5   3510.8   3503.2\n",
       "[80, 125)   563.3   277.5    396.4   249.4   305.6   215.4   1551.8   1240.0"
      ]
     },
     "execution_count": 23,
     "metadata": {},
     "output_type": "execute_result"
    }
   ],
   "source": [
    "%%time\n",
    "\n",
    "n_2_unvax = {}\n",
    "n_2_unvax_total = {}\n",
    "\n",
    "n_2_all = {}\n",
    "n_2_all_total = {}\n",
    "\n",
    "for k in range(n_draws):\n",
    "    n_2_unvax[k] = pd.Series(0.0, index=stratification_groups)\n",
    "    n_2_all[k] = pd.Series(0.0, index=stratification_groups)\n",
    "    for j in stratification_groups:\n",
    "        a0,a1 = j[0].left, j[0].right\n",
    "        s,r=j[1],j[2]\n",
    "        j_cov = (f'[{a0}, {a1})', s, r)\n",
    "        for i in stratification_groups:\n",
    "            n_2_unvax[k][j] += n_1[k][i] * pr_case_in_unvaccinated_household[k] * n_hh[k].loc[i,j] # count only the unvaccinated who's household is all unvaccinated, which is a lower-bound on total\n",
    "            n_2_all[k][j] += n_1[k][i] * n_hh[k].loc[i,j]\n",
    "    n_2_unvax_total[k] = n_2_unvax[k].sum()\n",
    "    n_2_all_total[k] = n_2_all[k].sum()\n",
    "n_2_unvax_mean = sum(n_2_unvax.values()) / n_draws\n",
    "n_2_all_mean = sum(n_2_all.values()) / n_draws\n",
    "np.round(n_2_all_mean.unstack().unstack(), 1)"
   ]
  },
  {
   "cell_type": "code",
   "execution_count": 24,
   "metadata": {},
   "outputs": [
    {
     "data": {
      "text/html": [
       "<div>\n",
       "<style scoped>\n",
       "    .dataframe tbody tr th:only-of-type {\n",
       "        vertical-align: middle;\n",
       "    }\n",
       "\n",
       "    .dataframe tbody tr th {\n",
       "        vertical-align: top;\n",
       "    }\n",
       "\n",
       "    .dataframe thead tr th {\n",
       "        text-align: left;\n",
       "    }\n",
       "</style>\n",
       "<table border=\"1\" class=\"dataframe\">\n",
       "  <thead>\n",
       "    <tr>\n",
       "      <th></th>\n",
       "      <th colspan=\"2\" halign=\"left\">Black</th>\n",
       "      <th colspan=\"2\" halign=\"left\">Hispanic</th>\n",
       "      <th colspan=\"2\" halign=\"left\">Other</th>\n",
       "      <th colspan=\"2\" halign=\"left\">White</th>\n",
       "    </tr>\n",
       "    <tr>\n",
       "      <th></th>\n",
       "      <th>female</th>\n",
       "      <th>male</th>\n",
       "      <th>female</th>\n",
       "      <th>male</th>\n",
       "      <th>female</th>\n",
       "      <th>male</th>\n",
       "      <th>female</th>\n",
       "      <th>male</th>\n",
       "    </tr>\n",
       "  </thead>\n",
       "  <tbody>\n",
       "    <tr>\n",
       "      <th>[0, 10)</th>\n",
       "      <td>4250.1</td>\n",
       "      <td>4410.0</td>\n",
       "      <td>5104.7</td>\n",
       "      <td>5264.7</td>\n",
       "      <td>2820.8</td>\n",
       "      <td>2884.5</td>\n",
       "      <td>11261.2</td>\n",
       "      <td>12059.9</td>\n",
       "    </tr>\n",
       "    <tr>\n",
       "      <th>[10, 20)</th>\n",
       "      <td>4362.8</td>\n",
       "      <td>4617.3</td>\n",
       "      <td>5441.7</td>\n",
       "      <td>5623.7</td>\n",
       "      <td>2540.5</td>\n",
       "      <td>2646.6</td>\n",
       "      <td>12289.3</td>\n",
       "      <td>13083.3</td>\n",
       "    </tr>\n",
       "    <tr>\n",
       "      <th>[20, 30)</th>\n",
       "      <td>2840.8</td>\n",
       "      <td>2561.6</td>\n",
       "      <td>3621.4</td>\n",
       "      <td>3718.2</td>\n",
       "      <td>1759.6</td>\n",
       "      <td>1785.6</td>\n",
       "      <td>7490.8</td>\n",
       "      <td>7902.7</td>\n",
       "    </tr>\n",
       "    <tr>\n",
       "      <th>[30, 40)</th>\n",
       "      <td>3018.5</td>\n",
       "      <td>2255.9</td>\n",
       "      <td>3555.5</td>\n",
       "      <td>3287.3</td>\n",
       "      <td>1934.2</td>\n",
       "      <td>1619.5</td>\n",
       "      <td>9353.2</td>\n",
       "      <td>8862.9</td>\n",
       "    </tr>\n",
       "    <tr>\n",
       "      <th>[40, 50)</th>\n",
       "      <td>2852.5</td>\n",
       "      <td>2239.4</td>\n",
       "      <td>3383.1</td>\n",
       "      <td>3086.0</td>\n",
       "      <td>1968.9</td>\n",
       "      <td>1634.6</td>\n",
       "      <td>10199.0</td>\n",
       "      <td>9993.1</td>\n",
       "    </tr>\n",
       "    <tr>\n",
       "      <th>[50, 60)</th>\n",
       "      <td>2551.6</td>\n",
       "      <td>2042.3</td>\n",
       "      <td>2240.7</td>\n",
       "      <td>2249.6</td>\n",
       "      <td>1415.9</td>\n",
       "      <td>1318.8</td>\n",
       "      <td>7986.7</td>\n",
       "      <td>8453.7</td>\n",
       "    </tr>\n",
       "    <tr>\n",
       "      <th>[60, 70)</th>\n",
       "      <td>1767.8</td>\n",
       "      <td>1336.8</td>\n",
       "      <td>1202.3</td>\n",
       "      <td>1103.8</td>\n",
       "      <td>920.9</td>\n",
       "      <td>829.7</td>\n",
       "      <td>4793.6</td>\n",
       "      <td>5085.8</td>\n",
       "    </tr>\n",
       "    <tr>\n",
       "      <th>[70, 80)</th>\n",
       "      <td>815.0</td>\n",
       "      <td>564.8</td>\n",
       "      <td>530.5</td>\n",
       "      <td>450.6</td>\n",
       "      <td>429.0</td>\n",
       "      <td>355.6</td>\n",
       "      <td>2356.6</td>\n",
       "      <td>2350.4</td>\n",
       "    </tr>\n",
       "    <tr>\n",
       "      <th>[80, 125)</th>\n",
       "      <td>378.3</td>\n",
       "      <td>186.1</td>\n",
       "      <td>266.0</td>\n",
       "      <td>167.1</td>\n",
       "      <td>205.2</td>\n",
       "      <td>144.5</td>\n",
       "      <td>1041.4</td>\n",
       "      <td>832.5</td>\n",
       "    </tr>\n",
       "  </tbody>\n",
       "</table>\n",
       "</div>"
      ],
      "text/plain": [
       "            Black         Hispanic           Other            White         \n",
       "           female    male   female    male  female    male   female     male\n",
       "[0, 10)    4250.1  4410.0   5104.7  5264.7  2820.8  2884.5  11261.2  12059.9\n",
       "[10, 20)   4362.8  4617.3   5441.7  5623.7  2540.5  2646.6  12289.3  13083.3\n",
       "[20, 30)   2840.8  2561.6   3621.4  3718.2  1759.6  1785.6   7490.8   7902.7\n",
       "[30, 40)   3018.5  2255.9   3555.5  3287.3  1934.2  1619.5   9353.2   8862.9\n",
       "[40, 50)   2852.5  2239.4   3383.1  3086.0  1968.9  1634.6  10199.0   9993.1\n",
       "[50, 60)   2551.6  2042.3   2240.7  2249.6  1415.9  1318.8   7986.7   8453.7\n",
       "[60, 70)   1767.8  1336.8   1202.3  1103.8   920.9   829.7   4793.6   5085.8\n",
       "[70, 80)    815.0   564.8    530.5   450.6   429.0   355.6   2356.6   2350.4\n",
       "[80, 125)   378.3   186.1    266.0   167.1   205.2   144.5   1041.4    832.5"
      ]
     },
     "execution_count": 24,
     "metadata": {},
     "output_type": "execute_result"
    }
   ],
   "source": [
    "np.round(n_2_unvax_mean.unstack().unstack(), 1)"
   ]
  },
  {
   "cell_type": "code",
   "execution_count": 25,
   "metadata": {},
   "outputs": [],
   "source": [
    "n_2_all_total_mean = sum(n_2_all_total.values()) / n_draws\n",
    "n_2_all_total_lb = np.percentile(list(n_2_all_total.values()), 2.5)\n",
    "n_2_all_total_ub = np.percentile(list(n_2_all_total.values()), 97.5)"
   ]
  },
  {
   "cell_type": "code",
   "execution_count": 26,
   "metadata": {},
   "outputs": [
    {
     "name": "stdout",
     "output_type": "stream",
     "text": [
      "total number of (vaccinated & unvaccinated) household contacts: 381,498.5 (95% UI 373,749.0-389,767.9)\n"
     ]
    }
   ],
   "source": [
    "print(f'total number of (vaccinated & unvaccinated) household contacts: {n_2_all_total_mean:,.1f} (95% UI {n_2_all_total_lb:,.1f}-{n_2_all_total_ub:,.1f})')"
   ]
  },
  {
   "cell_type": "code",
   "execution_count": 27,
   "metadata": {},
   "outputs": [],
   "source": [
    "n_2_total_mean = sum(n_2_unvax_total.values()) / n_draws\n",
    "n_2_total_lb = np.percentile(list(n_2_unvax_total.values()), 2.5)\n",
    "n_2_total_ub = np.percentile(list(n_2_unvax_total.values()), 97.5)"
   ]
  },
  {
   "cell_type": "code",
   "execution_count": 28,
   "metadata": {},
   "outputs": [
    {
     "name": "stdout",
     "output_type": "stream",
     "text": [
      "total number of unvaccinated household contacts: 255,959.2 (95% UI 240,449.7-271,481.9)\n"
     ]
    }
   ],
   "source": [
    "print(f'total number of unvaccinated household contacts: {n_2_total_mean:,.1f} (95% UI {n_2_total_lb:,.1f}-{n_2_total_ub:,.1f})')"
   ]
  },
  {
   "cell_type": "code",
   "execution_count": 29,
   "metadata": {},
   "outputs": [
    {
     "data": {
      "text/plain": [
       "Black       110.7\n",
       "Hispanic     84.7\n",
       "Other        91.9\n",
       "White        70.4\n",
       "dtype: float64"
      ]
     },
     "execution_count": 29,
     "metadata": {},
     "output_type": "execute_result"
    }
   ],
   "source": [
    "# household exposure rate (exposures per 100,000 person-months) by race\n",
    "n_2_race = {}\n",
    "for k in range(n_draws):\n",
    "    n_2_race[k] = 100_000 * (n_2_unvax[k].unstack().sum() / g_acs.weight.sum().unstack().sum())\n",
    "\n",
    "np.round(sum(n_2_race.values())/n_draws, 1)"
   ]
  },
  {
   "cell_type": "markdown",
   "metadata": {},
   "source": [
    "## 3. Estimate the number of people who receive PEP in scenarios with a range of coverage levels c and minimum age a_0 for receiving PEP"
   ]
  },
  {
   "cell_type": "code",
   "execution_count": 30,
   "metadata": {},
   "outputs": [],
   "source": [
    "n_PEP = {}\n",
    "for c in coverage_levels:\n",
    "    for a0 in age_lower_bounds:\n",
    "        n_PEP[c,a0] = {}\n",
    "        for k in range(n_draws):\n",
    "            age_mask = pd.Series([a.left >= a0 for a,s,r in stratification_groups],\n",
    "                         index=stratification_groups)\n",
    "            n_PEP[c,a0][k] = c*n_2_unvax[k]*age_mask\n"
   ]
  },
  {
   "cell_type": "code",
   "execution_count": 31,
   "metadata": {},
   "outputs": [
    {
     "data": {
      "text/plain": [
       "Black       12.4\n",
       "Hispanic     6.9\n",
       "Other        9.5\n",
       "White        8.6\n",
       "dtype: float64"
      ]
     },
     "execution_count": 31,
     "metadata": {},
     "output_type": "execute_result"
    }
   ],
   "source": [
    "# treatment rate (tx per 100,000 person-months) by race\n",
    "c,a = .50,50\n",
    "n_PEP_mean = sum(n_PEP[c, a].values())/n_draws\n",
    "np.round(100_000 * (n_PEP_mean.unstack().sum() / g_acs.weight.sum().unstack().sum()), 1) "
   ]
  },
  {
   "cell_type": "markdown",
   "metadata": {},
   "source": [
    "## 4.\tEstimate the number of people who develop a symptomatic COVID-19 infection in each scenario"
   ]
  },
  {
   "cell_type": "code",
   "execution_count": 32,
   "metadata": {},
   "outputs": [],
   "source": [
    "n_COVID = {}\n",
    "for c in coverage_levels:\n",
    "    for a0 in age_lower_bounds:\n",
    "        n_COVID[c,a0] = {}\n",
    "        for k in range(n_draws):\n",
    "            n_COVID[c,a0][k] = attack_rate_without_mAbs[k] * (n_2_unvax[k] - n_PEP[c,a0][k]) \\\n",
    "                        + attack_rate_with_mAbs[k] * n_PEP[c,a0][k]"
   ]
  },
  {
   "cell_type": "code",
   "execution_count": 33,
   "metadata": {},
   "outputs": [
    {
     "data": {
      "text/html": [
       "<div>\n",
       "<style scoped>\n",
       "    .dataframe tbody tr th:only-of-type {\n",
       "        vertical-align: middle;\n",
       "    }\n",
       "\n",
       "    .dataframe tbody tr th {\n",
       "        vertical-align: top;\n",
       "    }\n",
       "\n",
       "    .dataframe thead tr th {\n",
       "        text-align: left;\n",
       "    }\n",
       "</style>\n",
       "<table border=\"1\" class=\"dataframe\">\n",
       "  <thead>\n",
       "    <tr>\n",
       "      <th></th>\n",
       "      <th colspan=\"2\" halign=\"left\">Black</th>\n",
       "      <th colspan=\"2\" halign=\"left\">Hispanic</th>\n",
       "      <th colspan=\"2\" halign=\"left\">Other</th>\n",
       "      <th colspan=\"2\" halign=\"left\">White</th>\n",
       "    </tr>\n",
       "    <tr>\n",
       "      <th></th>\n",
       "      <th>female</th>\n",
       "      <th>male</th>\n",
       "      <th>female</th>\n",
       "      <th>male</th>\n",
       "      <th>female</th>\n",
       "      <th>male</th>\n",
       "      <th>female</th>\n",
       "      <th>male</th>\n",
       "    </tr>\n",
       "  </thead>\n",
       "  <tbody>\n",
       "    <tr>\n",
       "      <th>[0, 10)</th>\n",
       "      <td>332.8</td>\n",
       "      <td>346.1</td>\n",
       "      <td>400.2</td>\n",
       "      <td>413.2</td>\n",
       "      <td>221.0</td>\n",
       "      <td>226.2</td>\n",
       "      <td>883.3</td>\n",
       "      <td>946.0</td>\n",
       "    </tr>\n",
       "    <tr>\n",
       "      <th>[10, 20)</th>\n",
       "      <td>342.3</td>\n",
       "      <td>362.4</td>\n",
       "      <td>426.5</td>\n",
       "      <td>441.0</td>\n",
       "      <td>199.3</td>\n",
       "      <td>207.6</td>\n",
       "      <td>964.7</td>\n",
       "      <td>1026.1</td>\n",
       "    </tr>\n",
       "    <tr>\n",
       "      <th>[20, 30)</th>\n",
       "      <td>222.6</td>\n",
       "      <td>201.1</td>\n",
       "      <td>284.3</td>\n",
       "      <td>291.6</td>\n",
       "      <td>138.0</td>\n",
       "      <td>139.9</td>\n",
       "      <td>587.3</td>\n",
       "      <td>619.4</td>\n",
       "    </tr>\n",
       "    <tr>\n",
       "      <th>[30, 40)</th>\n",
       "      <td>237.1</td>\n",
       "      <td>176.8</td>\n",
       "      <td>278.7</td>\n",
       "      <td>257.8</td>\n",
       "      <td>151.8</td>\n",
       "      <td>126.8</td>\n",
       "      <td>733.0</td>\n",
       "      <td>695.3</td>\n",
       "    </tr>\n",
       "    <tr>\n",
       "      <th>[40, 50)</th>\n",
       "      <td>223.5</td>\n",
       "      <td>175.6</td>\n",
       "      <td>265.6</td>\n",
       "      <td>242.0</td>\n",
       "      <td>154.4</td>\n",
       "      <td>128.1</td>\n",
       "      <td>800.0</td>\n",
       "      <td>783.4</td>\n",
       "    </tr>\n",
       "    <tr>\n",
       "      <th>[50, 60)</th>\n",
       "      <td>200.0</td>\n",
       "      <td>160.3</td>\n",
       "      <td>175.7</td>\n",
       "      <td>176.3</td>\n",
       "      <td>111.1</td>\n",
       "      <td>103.6</td>\n",
       "      <td>627.3</td>\n",
       "      <td>664.4</td>\n",
       "    </tr>\n",
       "    <tr>\n",
       "      <th>[60, 70)</th>\n",
       "      <td>138.7</td>\n",
       "      <td>104.8</td>\n",
       "      <td>94.3</td>\n",
       "      <td>86.5</td>\n",
       "      <td>72.1</td>\n",
       "      <td>65.0</td>\n",
       "      <td>375.8</td>\n",
       "      <td>398.9</td>\n",
       "    </tr>\n",
       "    <tr>\n",
       "      <th>[70, 80)</th>\n",
       "      <td>63.7</td>\n",
       "      <td>44.2</td>\n",
       "      <td>41.6</td>\n",
       "      <td>35.3</td>\n",
       "      <td>33.6</td>\n",
       "      <td>27.8</td>\n",
       "      <td>184.7</td>\n",
       "      <td>184.4</td>\n",
       "    </tr>\n",
       "    <tr>\n",
       "      <th>[80, 125)</th>\n",
       "      <td>29.7</td>\n",
       "      <td>14.6</td>\n",
       "      <td>20.9</td>\n",
       "      <td>13.1</td>\n",
       "      <td>16.1</td>\n",
       "      <td>11.3</td>\n",
       "      <td>81.5</td>\n",
       "      <td>65.2</td>\n",
       "    </tr>\n",
       "  </tbody>\n",
       "</table>\n",
       "</div>"
      ],
      "text/plain": [
       "           Black        Hispanic         Other         White        \n",
       "          female   male   female   male female   male female    male\n",
       "[0, 10)    332.8  346.1    400.2  413.2  221.0  226.2  883.3   946.0\n",
       "[10, 20)   342.3  362.4    426.5  441.0  199.3  207.6  964.7  1026.1\n",
       "[20, 30)   222.6  201.1    284.3  291.6  138.0  139.9  587.3   619.4\n",
       "[30, 40)   237.1  176.8    278.7  257.8  151.8  126.8  733.0   695.3\n",
       "[40, 50)   223.5  175.6    265.6  242.0  154.4  128.1  800.0   783.4\n",
       "[50, 60)   200.0  160.3    175.7  176.3  111.1  103.6  627.3   664.4\n",
       "[60, 70)   138.7  104.8     94.3   86.5   72.1   65.0  375.8   398.9\n",
       "[70, 80)    63.7   44.2     41.6   35.3   33.6   27.8  184.7   184.4\n",
       "[80, 125)   29.7   14.6     20.9   13.1   16.1   11.3   81.5    65.2"
      ]
     },
     "execution_count": 33,
     "metadata": {},
     "output_type": "execute_result"
    }
   ],
   "source": [
    "n_COVID_mean = sum(n_COVID[0,70].values())/n_draws\n",
    "\n",
    "np.round(n_COVID_mean.unstack().unstack(),1)"
   ]
  },
  {
   "cell_type": "code",
   "execution_count": 34,
   "metadata": {},
   "outputs": [
    {
     "data": {
      "text/html": [
       "<div>\n",
       "<style scoped>\n",
       "    .dataframe tbody tr th:only-of-type {\n",
       "        vertical-align: middle;\n",
       "    }\n",
       "\n",
       "    .dataframe tbody tr th {\n",
       "        vertical-align: top;\n",
       "    }\n",
       "\n",
       "    .dataframe thead tr th {\n",
       "        text-align: left;\n",
       "    }\n",
       "</style>\n",
       "<table border=\"1\" class=\"dataframe\">\n",
       "  <thead>\n",
       "    <tr>\n",
       "      <th></th>\n",
       "      <th colspan=\"2\" halign=\"left\">Black</th>\n",
       "      <th colspan=\"2\" halign=\"left\">Hispanic</th>\n",
       "      <th colspan=\"2\" halign=\"left\">Other</th>\n",
       "      <th colspan=\"2\" halign=\"left\">White</th>\n",
       "    </tr>\n",
       "    <tr>\n",
       "      <th></th>\n",
       "      <th>female</th>\n",
       "      <th>male</th>\n",
       "      <th>female</th>\n",
       "      <th>male</th>\n",
       "      <th>female</th>\n",
       "      <th>male</th>\n",
       "      <th>female</th>\n",
       "      <th>male</th>\n",
       "    </tr>\n",
       "  </thead>\n",
       "  <tbody>\n",
       "    <tr>\n",
       "      <th>[0, 10)</th>\n",
       "      <td>332.8</td>\n",
       "      <td>346.1</td>\n",
       "      <td>400.2</td>\n",
       "      <td>413.2</td>\n",
       "      <td>221.0</td>\n",
       "      <td>226.2</td>\n",
       "      <td>883.3</td>\n",
       "      <td>946.0</td>\n",
       "    </tr>\n",
       "    <tr>\n",
       "      <th>[10, 20)</th>\n",
       "      <td>342.3</td>\n",
       "      <td>362.4</td>\n",
       "      <td>426.5</td>\n",
       "      <td>441.0</td>\n",
       "      <td>199.3</td>\n",
       "      <td>207.6</td>\n",
       "      <td>964.7</td>\n",
       "      <td>1026.1</td>\n",
       "    </tr>\n",
       "    <tr>\n",
       "      <th>[20, 30)</th>\n",
       "      <td>222.6</td>\n",
       "      <td>201.1</td>\n",
       "      <td>284.3</td>\n",
       "      <td>291.6</td>\n",
       "      <td>138.0</td>\n",
       "      <td>139.9</td>\n",
       "      <td>587.3</td>\n",
       "      <td>619.4</td>\n",
       "    </tr>\n",
       "    <tr>\n",
       "      <th>[30, 40)</th>\n",
       "      <td>237.1</td>\n",
       "      <td>176.8</td>\n",
       "      <td>278.7</td>\n",
       "      <td>257.8</td>\n",
       "      <td>151.8</td>\n",
       "      <td>126.8</td>\n",
       "      <td>733.0</td>\n",
       "      <td>695.3</td>\n",
       "    </tr>\n",
       "    <tr>\n",
       "      <th>[40, 50)</th>\n",
       "      <td>223.5</td>\n",
       "      <td>175.6</td>\n",
       "      <td>265.6</td>\n",
       "      <td>242.0</td>\n",
       "      <td>154.4</td>\n",
       "      <td>128.1</td>\n",
       "      <td>800.0</td>\n",
       "      <td>783.4</td>\n",
       "    </tr>\n",
       "    <tr>\n",
       "      <th>[50, 60)</th>\n",
       "      <td>200.0</td>\n",
       "      <td>160.3</td>\n",
       "      <td>175.7</td>\n",
       "      <td>176.3</td>\n",
       "      <td>111.1</td>\n",
       "      <td>103.6</td>\n",
       "      <td>627.3</td>\n",
       "      <td>664.4</td>\n",
       "    </tr>\n",
       "    <tr>\n",
       "      <th>[60, 70)</th>\n",
       "      <td>138.7</td>\n",
       "      <td>104.8</td>\n",
       "      <td>94.3</td>\n",
       "      <td>86.5</td>\n",
       "      <td>72.1</td>\n",
       "      <td>65.0</td>\n",
       "      <td>375.8</td>\n",
       "      <td>398.9</td>\n",
       "    </tr>\n",
       "    <tr>\n",
       "      <th>[70, 80)</th>\n",
       "      <td>37.7</td>\n",
       "      <td>26.1</td>\n",
       "      <td>24.6</td>\n",
       "      <td>20.8</td>\n",
       "      <td>19.8</td>\n",
       "      <td>16.4</td>\n",
       "      <td>109.0</td>\n",
       "      <td>108.8</td>\n",
       "    </tr>\n",
       "    <tr>\n",
       "      <th>[80, 125)</th>\n",
       "      <td>17.5</td>\n",
       "      <td>8.6</td>\n",
       "      <td>12.3</td>\n",
       "      <td>7.7</td>\n",
       "      <td>9.5</td>\n",
       "      <td>6.7</td>\n",
       "      <td>48.1</td>\n",
       "      <td>38.5</td>\n",
       "    </tr>\n",
       "  </tbody>\n",
       "</table>\n",
       "</div>"
      ],
      "text/plain": [
       "           Black        Hispanic         Other         White        \n",
       "          female   male   female   male female   male female    male\n",
       "[0, 10)    332.8  346.1    400.2  413.2  221.0  226.2  883.3   946.0\n",
       "[10, 20)   342.3  362.4    426.5  441.0  199.3  207.6  964.7  1026.1\n",
       "[20, 30)   222.6  201.1    284.3  291.6  138.0  139.9  587.3   619.4\n",
       "[30, 40)   237.1  176.8    278.7  257.8  151.8  126.8  733.0   695.3\n",
       "[40, 50)   223.5  175.6    265.6  242.0  154.4  128.1  800.0   783.4\n",
       "[50, 60)   200.0  160.3    175.7  176.3  111.1  103.6  627.3   664.4\n",
       "[60, 70)   138.7  104.8     94.3   86.5   72.1   65.0  375.8   398.9\n",
       "[70, 80)    37.7   26.1     24.6   20.8   19.8   16.4  109.0   108.8\n",
       "[80, 125)   17.5    8.6     12.3    7.7    9.5    6.7   48.1    38.5"
      ]
     },
     "execution_count": 34,
     "metadata": {},
     "output_type": "execute_result"
    }
   ],
   "source": [
    "n_COVID_mean = sum(n_COVID[.5,70].values())/n_draws\n",
    "\n",
    "np.round(n_COVID_mean.unstack().unstack(),1)"
   ]
  },
  {
   "cell_type": "code",
   "execution_count": 35,
   "metadata": {},
   "outputs": [
    {
     "name": "stdout",
     "output_type": "stream",
     "text": [
      "confirmed cases: 154,136\n",
      "predicted hh infections: 20,075\n"
     ]
    }
   ],
   "source": [
    "print(f'confirmed cases: {n_1_total:,.0f}\\npredicted hh infections: {sum(n_COVID[0,0].values()).sum()/n_draws:,.0f}')"
   ]
  },
  {
   "cell_type": "code",
   "execution_count": 36,
   "metadata": {},
   "outputs": [
    {
     "data": {
      "text/plain": [
       "Black       7.9\n",
       "Hispanic    6.2\n",
       "Other       6.6\n",
       "White       5.0\n",
       "dtype: float64"
      ]
     },
     "execution_count": 36,
     "metadata": {},
     "output_type": "execute_result"
    }
   ],
   "source": [
    "# secondary infection rate (symptomatic infections per 100,000 person-months) by race\n",
    "c,a = .50,50\n",
    "n_COVID_mean = sum(n_COVID[c,a].values())/n_draws\n",
    "\n",
    "np.round(100_000 * (n_COVID_mean.unstack().sum() / g_acs.weight.sum().unstack().sum()), 1)"
   ]
  },
  {
   "cell_type": "code",
   "execution_count": 37,
   "metadata": {},
   "outputs": [
    {
     "data": {
      "text/plain": [
       "Black       0.8\n",
       "Hispanic    0.4\n",
       "Other       0.6\n",
       "White       0.6\n",
       "dtype: float64"
      ]
     },
     "execution_count": 37,
     "metadata": {},
     "output_type": "execute_result"
    }
   ],
   "source": [
    "# averted secondary infection rate (symptomatic infections per 100,000 person-months) by race\n",
    "c,a = .50,50\n",
    "n_COVID_averted_mean = sum([n_COVID[0, 0][k] - n_COVID[c, a][k] for k in range(n_draws)]) / n_draws\n",
    "np.round(100_000 * (n_COVID_averted_mean).unstack().sum() / g_acs.weight.sum().unstack().sum(), 1) "
   ]
  },
  {
   "cell_type": "code",
   "execution_count": 38,
   "metadata": {},
   "outputs": [],
   "source": [
    "def print_mean_and_ui(z):\n",
    "    print(f'{np.mean(z):,.0f} ({np.percentile(z, 2.5):,.0f} - {np.percentile(z, 97.5):,.0f})')          "
   ]
  },
  {
   "cell_type": "code",
   "execution_count": 39,
   "metadata": {},
   "outputs": [
    {
     "name": "stdout",
     "output_type": "stream",
     "text": [
      "averted secondary infections\n",
      "1,813 (1,171 - 2,456)\n"
     ]
    }
   ],
   "source": [
    "c,a = .50,50\n",
    "\n",
    "print('averted secondary infections')\n",
    "print_mean_and_ui(\n",
    "    [(n_COVID[0, 0][k] - n_COVID[c, a][k]).sum() for k in range(n_draws)]\n",
    ")"
   ]
  },
  {
   "cell_type": "code",
   "execution_count": 96,
   "metadata": {},
   "outputs": [
    {
     "data": {
      "text/plain": [
       "'1,813 (1,171 - 2,456)'"
      ]
     },
     "execution_count": 96,
     "metadata": {},
     "output_type": "execute_result"
    }
   ],
   "source": [
    "def cases_averted_w_ui(c, a):\n",
    "#     print('averted secondary infections')\n",
    "    z = [(n_COVID[0, 0][k] - n_COVID[c, a][k]).sum() for k in range(n_draws)]\n",
    "    return f'{np.mean(z):,.0f} ({np.percentile(z, 2.5):,.0f} - {np.percentile(z, 97.5):,.0f})'\n",
    "    \n",
    "cases_averted_w_ui(.50, 50)"
   ]
  },
  {
   "cell_type": "code",
   "execution_count": 97,
   "metadata": {},
   "outputs": [],
   "source": [
    "pretty_table = {}\n",
    "\n",
    "for c in coverage_levels:\n",
    "    for a0 in age_lower_bounds:\n",
    "        pretty_table[c,a0] = cases_averted_w_ui(c, a0)"
   ]
  },
  {
   "cell_type": "code",
   "execution_count": 101,
   "metadata": {},
   "outputs": [
    {
     "data": {
      "text/html": [
       "<div>\n",
       "<style scoped>\n",
       "    .dataframe tbody tr th:only-of-type {\n",
       "        vertical-align: middle;\n",
       "    }\n",
       "\n",
       "    .dataframe tbody tr th {\n",
       "        vertical-align: top;\n",
       "    }\n",
       "\n",
       "    .dataframe thead th {\n",
       "        text-align: right;\n",
       "    }\n",
       "</style>\n",
       "<table border=\"1\" class=\"dataframe\">\n",
       "  <thead>\n",
       "    <tr style=\"text-align: right;\">\n",
       "      <th></th>\n",
       "      <th>0</th>\n",
       "      <th>20</th>\n",
       "      <th>40</th>\n",
       "      <th>50</th>\n",
       "      <th>60</th>\n",
       "      <th>70</th>\n",
       "      <th>80</th>\n",
       "    </tr>\n",
       "  </thead>\n",
       "  <tbody>\n",
       "    <tr>\n",
       "      <th>0.00</th>\n",
       "      <td>0 (0 - 0)</td>\n",
       "      <td>0 (0 - 0)</td>\n",
       "      <td>0 (0 - 0)</td>\n",
       "      <td>0 (0 - 0)</td>\n",
       "      <td>0 (0 - 0)</td>\n",
       "      <td>0 (0 - 0)</td>\n",
       "      <td>0 (0 - 0)</td>\n",
       "    </tr>\n",
       "    <tr>\n",
       "      <th>0.25</th>\n",
       "      <td>4,114 (2,669 - 5,684)</td>\n",
       "      <td>2,528 (1,638 - 3,495)</td>\n",
       "      <td>1,475 (956 - 2,024)</td>\n",
       "      <td>906 (586 - 1,228)</td>\n",
       "      <td>452 (297 - 601)</td>\n",
       "      <td>178 (118 - 236)</td>\n",
       "      <td>52 (33 - 75)</td>\n",
       "    </tr>\n",
       "    <tr>\n",
       "      <th>0.50</th>\n",
       "      <td>8,227 (5,338 - 11,369)</td>\n",
       "      <td>5,056 (3,277 - 6,990)</td>\n",
       "      <td>2,949 (1,911 - 4,047)</td>\n",
       "      <td>1,813 (1,171 - 2,456)</td>\n",
       "      <td>903 (593 - 1,202)</td>\n",
       "      <td>356 (235 - 473)</td>\n",
       "      <td>104 (67 - 151)</td>\n",
       "    </tr>\n",
       "    <tr>\n",
       "      <th>0.75</th>\n",
       "      <td>12,341 (8,007 - 17,053)</td>\n",
       "      <td>7,584 (4,915 - 10,485)</td>\n",
       "      <td>4,424 (2,867 - 6,071)</td>\n",
       "      <td>2,719 (1,757 - 3,684)</td>\n",
       "      <td>1,355 (890 - 1,803)</td>\n",
       "      <td>534 (353 - 709)</td>\n",
       "      <td>155 (100 - 226)</td>\n",
       "    </tr>\n",
       "    <tr>\n",
       "      <th>1.00</th>\n",
       "      <td>16,455 (10,676 - 22,737)</td>\n",
       "      <td>10,112 (6,554 - 13,980)</td>\n",
       "      <td>5,898 (3,822 - 8,094)</td>\n",
       "      <td>3,626 (2,342 - 4,912)</td>\n",
       "      <td>1,807 (1,186 - 2,404)</td>\n",
       "      <td>711 (470 - 946)</td>\n",
       "      <td>207 (133 - 301)</td>\n",
       "    </tr>\n",
       "  </tbody>\n",
       "</table>\n",
       "</div>"
      ],
      "text/plain": [
       "                            0                        20  \\\n",
       "0.00                 0 (0 - 0)                0 (0 - 0)   \n",
       "0.25     4,114 (2,669 - 5,684)    2,528 (1,638 - 3,495)   \n",
       "0.50    8,227 (5,338 - 11,369)    5,056 (3,277 - 6,990)   \n",
       "0.75   12,341 (8,007 - 17,053)   7,584 (4,915 - 10,485)   \n",
       "1.00  16,455 (10,676 - 22,737)  10,112 (6,554 - 13,980)   \n",
       "\n",
       "                         40                     50                     60  \\\n",
       "0.00              0 (0 - 0)              0 (0 - 0)              0 (0 - 0)   \n",
       "0.25    1,475 (956 - 2,024)      906 (586 - 1,228)        452 (297 - 601)   \n",
       "0.50  2,949 (1,911 - 4,047)  1,813 (1,171 - 2,456)      903 (593 - 1,202)   \n",
       "0.75  4,424 (2,867 - 6,071)  2,719 (1,757 - 3,684)    1,355 (890 - 1,803)   \n",
       "1.00  5,898 (3,822 - 8,094)  3,626 (2,342 - 4,912)  1,807 (1,186 - 2,404)   \n",
       "\n",
       "                   70               80  \n",
       "0.00        0 (0 - 0)        0 (0 - 0)  \n",
       "0.25  178 (118 - 236)     52 (33 - 75)  \n",
       "0.50  356 (235 - 473)   104 (67 - 151)  \n",
       "0.75  534 (353 - 709)  155 (100 - 226)  \n",
       "1.00  711 (470 - 946)  207 (133 - 301)  "
      ]
     },
     "execution_count": 101,
     "metadata": {},
     "output_type": "execute_result"
    }
   ],
   "source": [
    "pd.Series(pretty_table).unstack()"
   ]
  },
  {
   "cell_type": "code",
   "execution_count": 102,
   "metadata": {},
   "outputs": [
    {
     "data": {
      "text/plain": [
       "dict_keys([(0, 0), (0, 20), (0, 40), (0, 50), (0, 60), (0, 70), (0, 80), (0.25, 0), (0.25, 20), (0.25, 40), (0.25, 50), (0.25, 60), (0.25, 70), (0.25, 80), (0.5, 0), (0.5, 20), (0.5, 40), (0.5, 50), (0.5, 60), (0.5, 70), (0.5, 80), (0.75, 0), (0.75, 20), (0.75, 40), (0.75, 50), (0.75, 60), (0.75, 70), (0.75, 80), (1, 0), (1, 20), (1, 40), (1, 50), (1, 60), (1, 70), (1, 80)])"
      ]
     },
     "execution_count": 102,
     "metadata": {},
     "output_type": "execute_result"
    }
   ],
   "source": [
    "# remember that dicts of dicts of pd.Series\n",
    "# have first dict indexed by (coverage, age_threhold),\n",
    "# second dict indexed by \"draw\" (from posterior distribution)\n",
    "# and Series indexed by age_group, sex, race/ethnicity\n",
    "\n",
    "n_COVID.keys() # keys of first dict"
   ]
  },
  {
   "cell_type": "code",
   "execution_count": 103,
   "metadata": {},
   "outputs": [
    {
     "data": {
      "text/plain": [
       "dict_keys([0, 1, 2, 3, 4, 5, 6, 7, 8, 9, 10, 11, 12, 13, 14, 15, 16, 17, 18, 19, 20, 21, 22, 23, 24, 25, 26, 27, 28, 29, 30, 31, 32, 33, 34, 35, 36, 37, 38, 39, 40, 41, 42, 43, 44, 45, 46, 47, 48, 49, 50, 51, 52, 53, 54, 55, 56, 57, 58, 59, 60, 61, 62, 63, 64, 65, 66, 67, 68, 69, 70, 71, 72, 73, 74, 75, 76, 77, 78, 79, 80, 81, 82, 83, 84, 85, 86, 87, 88, 89, 90, 91, 92, 93, 94, 95, 96, 97, 98, 99])"
      ]
     },
     "execution_count": 103,
     "metadata": {},
     "output_type": "execute_result"
    }
   ],
   "source": [
    "n_COVID[0,20].keys() # keys of second dict"
   ]
  },
  {
   "cell_type": "code",
   "execution_count": null,
   "metadata": {},
   "outputs": [],
   "source": [
    "n_COVID[0,20][17] # pd.Series of results for this draw, for this scenario"
   ]
  },
  {
   "cell_type": "markdown",
   "metadata": {},
   "source": [
    "# 5.\tEstimate the number of hospitalizations in each scenario\n",
    "\n",
    "[Rate Ratios for Hospitalization by Age](https://www.cdc.gov/coronavirus/2019-ncov/covid-data/investigations-discovery/hospitalization-death-by-age.html)\n",
    "\n",
    "But better to calculate it myself"
   ]
  },
  {
   "cell_type": "code",
   "execution_count": 40,
   "metadata": {},
   "outputs": [],
   "source": [
    "rows = df_cdc_month.hosp_yn.isin(['No', 'Yes'])\n",
    "df_cdc_month_complete_cases = df_cdc_month[rows].copy()\n",
    "\n",
    "df_cdc_month_complete_cases['hosp'] = (df_cdc_month_complete_cases.hosp_yn == 'Yes').astype(float)\n",
    "# np.round(100 * df_cases.groupby('age_group').hosp.mean(), 1)"
   ]
  },
  {
   "cell_type": "code",
   "execution_count": 41,
   "metadata": {},
   "outputs": [
    {
     "data": {
      "text/html": [
       "<div>\n",
       "<style scoped>\n",
       "    .dataframe tbody tr th:only-of-type {\n",
       "        vertical-align: middle;\n",
       "    }\n",
       "\n",
       "    .dataframe tbody tr th {\n",
       "        vertical-align: top;\n",
       "    }\n",
       "\n",
       "    .dataframe thead tr th {\n",
       "        text-align: left;\n",
       "    }\n",
       "</style>\n",
       "<table border=\"1\" class=\"dataframe\">\n",
       "  <thead>\n",
       "    <tr>\n",
       "      <th></th>\n",
       "      <th colspan=\"2\" halign=\"left\">Black</th>\n",
       "      <th colspan=\"2\" halign=\"left\">Hispanic</th>\n",
       "      <th colspan=\"2\" halign=\"left\">Other</th>\n",
       "      <th colspan=\"2\" halign=\"left\">White</th>\n",
       "    </tr>\n",
       "    <tr>\n",
       "      <th></th>\n",
       "      <th>female</th>\n",
       "      <th>male</th>\n",
       "      <th>female</th>\n",
       "      <th>male</th>\n",
       "      <th>female</th>\n",
       "      <th>male</th>\n",
       "      <th>female</th>\n",
       "      <th>male</th>\n",
       "    </tr>\n",
       "  </thead>\n",
       "  <tbody>\n",
       "    <tr>\n",
       "      <th>[0, 10)</th>\n",
       "      <td>2.3</td>\n",
       "      <td>3.9</td>\n",
       "      <td>2.4</td>\n",
       "      <td>3.1</td>\n",
       "      <td>5.8</td>\n",
       "      <td>2.5</td>\n",
       "      <td>2.3</td>\n",
       "      <td>1.7</td>\n",
       "    </tr>\n",
       "    <tr>\n",
       "      <th>[10, 20)</th>\n",
       "      <td>2.5</td>\n",
       "      <td>2.7</td>\n",
       "      <td>1.7</td>\n",
       "      <td>1.6</td>\n",
       "      <td>2.7</td>\n",
       "      <td>2.1</td>\n",
       "      <td>1.2</td>\n",
       "      <td>1.1</td>\n",
       "    </tr>\n",
       "    <tr>\n",
       "      <th>[20, 30)</th>\n",
       "      <td>8.1</td>\n",
       "      <td>5.9</td>\n",
       "      <td>6.0</td>\n",
       "      <td>4.7</td>\n",
       "      <td>6.3</td>\n",
       "      <td>2.8</td>\n",
       "      <td>3.5</td>\n",
       "      <td>2.5</td>\n",
       "    </tr>\n",
       "    <tr>\n",
       "      <th>[30, 40)</th>\n",
       "      <td>9.0</td>\n",
       "      <td>8.6</td>\n",
       "      <td>8.7</td>\n",
       "      <td>8.4</td>\n",
       "      <td>9.7</td>\n",
       "      <td>9.5</td>\n",
       "      <td>5.5</td>\n",
       "      <td>4.8</td>\n",
       "    </tr>\n",
       "    <tr>\n",
       "      <th>[40, 50)</th>\n",
       "      <td>15.2</td>\n",
       "      <td>15.1</td>\n",
       "      <td>11.1</td>\n",
       "      <td>13.6</td>\n",
       "      <td>13.9</td>\n",
       "      <td>13.6</td>\n",
       "      <td>7.5</td>\n",
       "      <td>9.9</td>\n",
       "    </tr>\n",
       "    <tr>\n",
       "      <th>[50, 60)</th>\n",
       "      <td>27.7</td>\n",
       "      <td>25.2</td>\n",
       "      <td>22.0</td>\n",
       "      <td>24.9</td>\n",
       "      <td>21.0</td>\n",
       "      <td>27.5</td>\n",
       "      <td>11.9</td>\n",
       "      <td>15.7</td>\n",
       "    </tr>\n",
       "    <tr>\n",
       "      <th>[60, 70)</th>\n",
       "      <td>45.4</td>\n",
       "      <td>49.1</td>\n",
       "      <td>31.6</td>\n",
       "      <td>33.7</td>\n",
       "      <td>32.8</td>\n",
       "      <td>42.2</td>\n",
       "      <td>24.1</td>\n",
       "      <td>27.3</td>\n",
       "    </tr>\n",
       "    <tr>\n",
       "      <th>[70, 80)</th>\n",
       "      <td>55.5</td>\n",
       "      <td>60.4</td>\n",
       "      <td>56.2</td>\n",
       "      <td>63.5</td>\n",
       "      <td>56.2</td>\n",
       "      <td>40.6</td>\n",
       "      <td>36.4</td>\n",
       "      <td>43.8</td>\n",
       "    </tr>\n",
       "    <tr>\n",
       "      <th>[80, 125)</th>\n",
       "      <td>73.8</td>\n",
       "      <td>70.6</td>\n",
       "      <td>77.2</td>\n",
       "      <td>79.8</td>\n",
       "      <td>71.6</td>\n",
       "      <td>80.9</td>\n",
       "      <td>53.8</td>\n",
       "      <td>63.2</td>\n",
       "    </tr>\n",
       "  </tbody>\n",
       "</table>\n",
       "</div>"
      ],
      "text/plain": [
       "           Black       Hispanic        Other        White      \n",
       "          female  male   female  male female  male female  male\n",
       "[0, 10)      2.3   3.9      2.4   3.1    5.8   2.5    2.3   1.7\n",
       "[10, 20)     2.5   2.7      1.7   1.6    2.7   2.1    1.2   1.1\n",
       "[20, 30)     8.1   5.9      6.0   4.7    6.3   2.8    3.5   2.5\n",
       "[30, 40)     9.0   8.6      8.7   8.4    9.7   9.5    5.5   4.8\n",
       "[40, 50)    15.2  15.1     11.1  13.6   13.9  13.6    7.5   9.9\n",
       "[50, 60)    27.7  25.2     22.0  24.9   21.0  27.5   11.9  15.7\n",
       "[60, 70)    45.4  49.1     31.6  33.7   32.8  42.2   24.1  27.3\n",
       "[70, 80)    55.5  60.4     56.2  63.5   56.2  40.6   36.4  43.8\n",
       "[80, 125)   73.8  70.6     77.2  79.8   71.6  80.9   53.8  63.2"
      ]
     },
     "execution_count": 41,
     "metadata": {},
     "output_type": "execute_result"
    }
   ],
   "source": [
    "hospitalization_rate = {}\n",
    "\n",
    "for k in range(n_draws):\n",
    "    resampled_rows = np.random.choice(df_cdc_month_complete_cases.index, size=len(df_cdc_month_complete_cases))\n",
    "    t = df_cdc_month_complete_cases.loc[resampled_rows]\n",
    "    hospitalization_rate[k] = pd.Series(t.groupby(['age_group', 'sex', 'race_eth']).hosp.mean(), index=stratification_groups)\n",
    "\n",
    "hospitalization_rate_mean = sum(hospitalization_rate.values()) / n_draws\n",
    "np.round(hospitalization_rate_mean.unstack().unstack()*100,1)"
   ]
  },
  {
   "cell_type": "code",
   "execution_count": 42,
   "metadata": {},
   "outputs": [],
   "source": [
    "# this is hospitalization rate among *confirmed cases*\n",
    "# is the attack rate from Ruanne's study for \"symptomatic cases\"? And how many of these are confirmed\n",
    "for k in range(n_draws):\n",
    "    hospitalization_rate[k] *= 1 "
   ]
  },
  {
   "cell_type": "code",
   "execution_count": 43,
   "metadata": {},
   "outputs": [
    {
     "name": "stdout",
     "output_type": "stream",
     "text": [
      "CPU times: user 1.08 s, sys: 4 ms, total: 1.08 s\n",
      "Wall time: 1.08 s\n"
     ]
    }
   ],
   "source": [
    "%%time\n",
    "\n",
    "n_hosp = {}\n",
    "for c in coverage_levels:\n",
    "    for a0 in age_lower_bounds:\n",
    "        n_hosp[c,a0] = {}\n",
    "        for k in range(n_draws):\n",
    "            n_hosp[c,a0][k] = hospitalization_rate[k] * n_COVID[c,a0][k]"
   ]
  },
  {
   "cell_type": "code",
   "execution_count": 44,
   "metadata": {},
   "outputs": [
    {
     "data": {
      "text/html": [
       "<div>\n",
       "<style scoped>\n",
       "    .dataframe tbody tr th:only-of-type {\n",
       "        vertical-align: middle;\n",
       "    }\n",
       "\n",
       "    .dataframe tbody tr th {\n",
       "        vertical-align: top;\n",
       "    }\n",
       "\n",
       "    .dataframe thead tr th {\n",
       "        text-align: left;\n",
       "    }\n",
       "</style>\n",
       "<table border=\"1\" class=\"dataframe\">\n",
       "  <thead>\n",
       "    <tr>\n",
       "      <th></th>\n",
       "      <th colspan=\"2\" halign=\"left\">Black</th>\n",
       "      <th colspan=\"2\" halign=\"left\">Hispanic</th>\n",
       "      <th colspan=\"2\" halign=\"left\">Other</th>\n",
       "      <th colspan=\"2\" halign=\"left\">White</th>\n",
       "    </tr>\n",
       "    <tr>\n",
       "      <th></th>\n",
       "      <th>female</th>\n",
       "      <th>male</th>\n",
       "      <th>female</th>\n",
       "      <th>male</th>\n",
       "      <th>female</th>\n",
       "      <th>male</th>\n",
       "      <th>female</th>\n",
       "      <th>male</th>\n",
       "    </tr>\n",
       "  </thead>\n",
       "  <tbody>\n",
       "    <tr>\n",
       "      <th>[0, 10)</th>\n",
       "      <td>0.000000</td>\n",
       "      <td>0.000000</td>\n",
       "      <td>0.000000</td>\n",
       "      <td>0.000000</td>\n",
       "      <td>0.000000</td>\n",
       "      <td>0.000000</td>\n",
       "      <td>0.000000</td>\n",
       "      <td>0.000000</td>\n",
       "    </tr>\n",
       "    <tr>\n",
       "      <th>[10, 20)</th>\n",
       "      <td>0.000000</td>\n",
       "      <td>0.000000</td>\n",
       "      <td>0.000000</td>\n",
       "      <td>0.000000</td>\n",
       "      <td>0.000000</td>\n",
       "      <td>0.000000</td>\n",
       "      <td>0.000000</td>\n",
       "      <td>0.000000</td>\n",
       "    </tr>\n",
       "    <tr>\n",
       "      <th>[20, 30)</th>\n",
       "      <td>0.000000</td>\n",
       "      <td>0.000000</td>\n",
       "      <td>0.000000</td>\n",
       "      <td>0.000000</td>\n",
       "      <td>0.000000</td>\n",
       "      <td>0.000000</td>\n",
       "      <td>0.000000</td>\n",
       "      <td>0.000000</td>\n",
       "    </tr>\n",
       "    <tr>\n",
       "      <th>[30, 40)</th>\n",
       "      <td>0.000000</td>\n",
       "      <td>0.000000</td>\n",
       "      <td>0.000000</td>\n",
       "      <td>0.000000</td>\n",
       "      <td>0.000000</td>\n",
       "      <td>0.000000</td>\n",
       "      <td>0.000000</td>\n",
       "      <td>0.000000</td>\n",
       "    </tr>\n",
       "    <tr>\n",
       "      <th>[40, 50)</th>\n",
       "      <td>0.000000</td>\n",
       "      <td>0.000000</td>\n",
       "      <td>0.000000</td>\n",
       "      <td>0.000000</td>\n",
       "      <td>0.000000</td>\n",
       "      <td>0.000000</td>\n",
       "      <td>0.000000</td>\n",
       "      <td>0.000000</td>\n",
       "    </tr>\n",
       "    <tr>\n",
       "      <th>[50, 60)</th>\n",
       "      <td>31.901436</td>\n",
       "      <td>23.005286</td>\n",
       "      <td>24.365067</td>\n",
       "      <td>27.858173</td>\n",
       "      <td>12.489134</td>\n",
       "      <td>18.156542</td>\n",
       "      <td>38.886015</td>\n",
       "      <td>61.977107</td>\n",
       "    </tr>\n",
       "    <tr>\n",
       "      <th>[60, 70)</th>\n",
       "      <td>33.901047</td>\n",
       "      <td>25.049923</td>\n",
       "      <td>19.397681</td>\n",
       "      <td>14.822000</td>\n",
       "      <td>17.778356</td>\n",
       "      <td>21.386754</td>\n",
       "      <td>48.291653</td>\n",
       "      <td>52.261719</td>\n",
       "    </tr>\n",
       "    <tr>\n",
       "      <th>[70, 80)</th>\n",
       "      <td>20.202436</td>\n",
       "      <td>14.269614</td>\n",
       "      <td>10.616753</td>\n",
       "      <td>10.432343</td>\n",
       "      <td>10.314473</td>\n",
       "      <td>6.318842</td>\n",
       "      <td>29.547264</td>\n",
       "      <td>43.174807</td>\n",
       "    </tr>\n",
       "    <tr>\n",
       "      <th>[80, 125)</th>\n",
       "      <td>12.006867</td>\n",
       "      <td>3.093864</td>\n",
       "      <td>9.667092</td>\n",
       "      <td>4.928723</td>\n",
       "      <td>7.706263</td>\n",
       "      <td>3.620263</td>\n",
       "      <td>18.713429</td>\n",
       "      <td>17.512049</td>\n",
       "    </tr>\n",
       "  </tbody>\n",
       "</table>\n",
       "</div>"
      ],
      "text/plain": [
       "               Black              Hispanic                 Other             \\\n",
       "              female       male     female       male     female       male   \n",
       "[0, 10)     0.000000   0.000000   0.000000   0.000000   0.000000   0.000000   \n",
       "[10, 20)    0.000000   0.000000   0.000000   0.000000   0.000000   0.000000   \n",
       "[20, 30)    0.000000   0.000000   0.000000   0.000000   0.000000   0.000000   \n",
       "[30, 40)    0.000000   0.000000   0.000000   0.000000   0.000000   0.000000   \n",
       "[40, 50)    0.000000   0.000000   0.000000   0.000000   0.000000   0.000000   \n",
       "[50, 60)   31.901436  23.005286  24.365067  27.858173  12.489134  18.156542   \n",
       "[60, 70)   33.901047  25.049923  19.397681  14.822000  17.778356  21.386754   \n",
       "[70, 80)   20.202436  14.269614  10.616753  10.432343  10.314473   6.318842   \n",
       "[80, 125)  12.006867   3.093864   9.667092   4.928723   7.706263   3.620263   \n",
       "\n",
       "               White             \n",
       "              female       male  \n",
       "[0, 10)     0.000000   0.000000  \n",
       "[10, 20)    0.000000   0.000000  \n",
       "[20, 30)    0.000000   0.000000  \n",
       "[30, 40)    0.000000   0.000000  \n",
       "[40, 50)    0.000000   0.000000  \n",
       "[50, 60)   38.886015  61.977107  \n",
       "[60, 70)   48.291653  52.261719  \n",
       "[70, 80)   29.547264  43.174807  \n",
       "[80, 125)  18.713429  17.512049  "
      ]
     },
     "execution_count": 44,
     "metadata": {},
     "output_type": "execute_result"
    }
   ],
   "source": [
    "(n_hosp[0, 0][0] - n_hosp[.5, 50][0]).unstack().unstack()"
   ]
  },
  {
   "cell_type": "code",
   "execution_count": 45,
   "metadata": {},
   "outputs": [
    {
     "data": {
      "text/plain": [
       "Black       0.9\n",
       "Hispanic    0.5\n",
       "Other       0.7\n",
       "White       0.3\n",
       "dtype: float64"
      ]
     },
     "execution_count": 45,
     "metadata": {},
     "output_type": "execute_result"
    }
   ],
   "source": [
    "# hospitalization rate (tx per 100,000 person-months) by race\n",
    "c,a = .50,50\n",
    "n_hosp_mean = sum(n_hosp[c, a].values()) / n_draws\n",
    "np.round(100_000 * (n_hosp_mean.unstack().sum() / g_acs.weight.sum().unstack().sum()), 1) "
   ]
  },
  {
   "cell_type": "code",
   "execution_count": 46,
   "metadata": {},
   "outputs": [
    {
     "data": {
      "text/plain": [
       "Black       0.32\n",
       "Hispanic    0.15\n",
       "Other       0.21\n",
       "White       0.13\n",
       "dtype: float64"
      ]
     },
     "execution_count": 46,
     "metadata": {},
     "output_type": "execute_result"
    }
   ],
   "source": [
    "# averted hospitalization rate (hospitalizations per 100,000 person-months) by race\n",
    "n_hosp_averted_mean = sum([n_hosp[0, 0][k] - n_hosp[c, a][k] for k in range(n_draws)]) / n_draws\n",
    "np.round(100_000 * (n_hosp_averted_mean.unstack().sum() / g_acs.weight.sum().unstack().sum()), 2) "
   ]
  },
  {
   "cell_type": "code",
   "execution_count": 47,
   "metadata": {},
   "outputs": [
    {
     "name": "stdout",
     "output_type": "stream",
     "text": [
      "averted hospitalizations\n",
      "526 (343 - 716)\n"
     ]
    }
   ],
   "source": [
    "c,a = .50,50\n",
    "\n",
    "print('averted hospitalizations')\n",
    "print_mean_and_ui(\n",
    "    [(n_hosp[0, 0][k] - n_hosp[c, a][k]).sum() for k in range(n_draws)]\n",
    ")"
   ]
  },
  {
   "cell_type": "markdown",
   "metadata": {},
   "source": [
    "# 6. Find number of deaths"
   ]
  },
  {
   "cell_type": "code",
   "execution_count": 48,
   "metadata": {},
   "outputs": [
    {
     "data": {
      "text/plain": [
       "No         44476\n",
       "Missing    25656\n",
       "Unknown     7323\n",
       "Yes          725\n",
       "Name: death_yn, dtype: int64"
      ]
     },
     "execution_count": 48,
     "metadata": {},
     "output_type": "execute_result"
    }
   ],
   "source": [
    "df_cdc_month_complete_cases.death_yn.value_counts()"
   ]
  },
  {
   "cell_type": "code",
   "execution_count": 49,
   "metadata": {},
   "outputs": [
    {
     "data": {
      "text/html": [
       "<div>\n",
       "<style scoped>\n",
       "    .dataframe tbody tr th:only-of-type {\n",
       "        vertical-align: middle;\n",
       "    }\n",
       "\n",
       "    .dataframe tbody tr th {\n",
       "        vertical-align: top;\n",
       "    }\n",
       "\n",
       "    .dataframe thead tr th {\n",
       "        text-align: left;\n",
       "    }\n",
       "</style>\n",
       "<table border=\"1\" class=\"dataframe\">\n",
       "  <thead>\n",
       "    <tr>\n",
       "      <th></th>\n",
       "      <th colspan=\"2\" halign=\"left\">Black</th>\n",
       "      <th colspan=\"2\" halign=\"left\">Hispanic</th>\n",
       "      <th colspan=\"2\" halign=\"left\">Other</th>\n",
       "      <th colspan=\"2\" halign=\"left\">White</th>\n",
       "    </tr>\n",
       "    <tr>\n",
       "      <th></th>\n",
       "      <th>female</th>\n",
       "      <th>male</th>\n",
       "      <th>female</th>\n",
       "      <th>male</th>\n",
       "      <th>female</th>\n",
       "      <th>male</th>\n",
       "      <th>female</th>\n",
       "      <th>male</th>\n",
       "    </tr>\n",
       "  </thead>\n",
       "  <tbody>\n",
       "    <tr>\n",
       "      <th>[0, 10)</th>\n",
       "      <td>0.0</td>\n",
       "      <td>NaN</td>\n",
       "      <td>NaN</td>\n",
       "      <td>0.0</td>\n",
       "      <td>0.0</td>\n",
       "      <td>NaN</td>\n",
       "      <td>0.0</td>\n",
       "      <td>0.0</td>\n",
       "    </tr>\n",
       "    <tr>\n",
       "      <th>[10, 20)</th>\n",
       "      <td>0.0</td>\n",
       "      <td>0.0</td>\n",
       "      <td>0.0</td>\n",
       "      <td>0.0</td>\n",
       "      <td>0.0</td>\n",
       "      <td>0.0</td>\n",
       "      <td>0.0</td>\n",
       "      <td>0.0</td>\n",
       "    </tr>\n",
       "    <tr>\n",
       "      <th>[20, 30)</th>\n",
       "      <td>1.5</td>\n",
       "      <td>0.0</td>\n",
       "      <td>4.9</td>\n",
       "      <td>11.0</td>\n",
       "      <td>0.0</td>\n",
       "      <td>0.0</td>\n",
       "      <td>0.0</td>\n",
       "      <td>4.4</td>\n",
       "    </tr>\n",
       "    <tr>\n",
       "      <th>[30, 40)</th>\n",
       "      <td>0.0</td>\n",
       "      <td>7.7</td>\n",
       "      <td>3.6</td>\n",
       "      <td>0.0</td>\n",
       "      <td>0.0</td>\n",
       "      <td>0.0</td>\n",
       "      <td>0.8</td>\n",
       "      <td>5.9</td>\n",
       "    </tr>\n",
       "    <tr>\n",
       "      <th>[40, 50)</th>\n",
       "      <td>7.0</td>\n",
       "      <td>8.4</td>\n",
       "      <td>0.0</td>\n",
       "      <td>11.8</td>\n",
       "      <td>0.0</td>\n",
       "      <td>12.8</td>\n",
       "      <td>2.8</td>\n",
       "      <td>3.5</td>\n",
       "    </tr>\n",
       "    <tr>\n",
       "      <th>[50, 60)</th>\n",
       "      <td>7.4</td>\n",
       "      <td>7.9</td>\n",
       "      <td>2.9</td>\n",
       "      <td>16.1</td>\n",
       "      <td>7.7</td>\n",
       "      <td>14.3</td>\n",
       "      <td>4.1</td>\n",
       "      <td>7.8</td>\n",
       "    </tr>\n",
       "    <tr>\n",
       "      <th>[60, 70)</th>\n",
       "      <td>12.6</td>\n",
       "      <td>12.8</td>\n",
       "      <td>19.1</td>\n",
       "      <td>16.4</td>\n",
       "      <td>8.2</td>\n",
       "      <td>29.3</td>\n",
       "      <td>10.9</td>\n",
       "      <td>11.1</td>\n",
       "    </tr>\n",
       "    <tr>\n",
       "      <th>[70, 80)</th>\n",
       "      <td>18.0</td>\n",
       "      <td>24.7</td>\n",
       "      <td>32.4</td>\n",
       "      <td>26.4</td>\n",
       "      <td>22.1</td>\n",
       "      <td>31.7</td>\n",
       "      <td>14.6</td>\n",
       "      <td>15.7</td>\n",
       "    </tr>\n",
       "    <tr>\n",
       "      <th>[80, 125)</th>\n",
       "      <td>27.7</td>\n",
       "      <td>63.6</td>\n",
       "      <td>59.2</td>\n",
       "      <td>23.9</td>\n",
       "      <td>48.6</td>\n",
       "      <td>63.0</td>\n",
       "      <td>22.5</td>\n",
       "      <td>28.5</td>\n",
       "    </tr>\n",
       "  </tbody>\n",
       "</table>\n",
       "</div>"
      ],
      "text/plain": [
       "           Black       Hispanic        Other        White      \n",
       "          female  male   female  male female  male female  male\n",
       "[0, 10)      0.0   NaN      NaN   0.0    0.0   NaN    0.0   0.0\n",
       "[10, 20)     0.0   0.0      0.0   0.0    0.0   0.0    0.0   0.0\n",
       "[20, 30)     1.5   0.0      4.9  11.0    0.0   0.0    0.0   4.4\n",
       "[30, 40)     0.0   7.7      3.6   0.0    0.0   0.0    0.8   5.9\n",
       "[40, 50)     7.0   8.4      0.0  11.8    0.0  12.8    2.8   3.5\n",
       "[50, 60)     7.4   7.9      2.9  16.1    7.7  14.3    4.1   7.8\n",
       "[60, 70)    12.6  12.8     19.1  16.4    8.2  29.3   10.9  11.1\n",
       "[70, 80)    18.0  24.7     32.4  26.4   22.1  31.7   14.6  15.7\n",
       "[80, 125)   27.7  63.6     59.2  23.9   48.6  63.0   22.5  28.5"
      ]
     },
     "execution_count": 49,
     "metadata": {},
     "output_type": "execute_result"
    }
   ],
   "source": [
    "df_cdc_month_complete_cases['death'] = df_cdc_month_complete_cases.death_yn.map({'Yes':1, 'No':0})\n",
    "hosp_rows = df_cdc_month_complete_cases[df_cdc_month_complete_cases.hosp == 1].index\n",
    "\n",
    "hospitalization_fatility_ratio = {}\n",
    "for k in range(n_draws):\n",
    "    resampled_rows = np.random.choice(hosp_rows, size=len(hosp_rows), replace=True)\n",
    "    t = df_cdc_month_complete_cases.loc[resampled_rows]\n",
    "    hospitalization_fatility_ratio[k] = t.groupby(['age_group', 'sex', 'race_eth']).death.mean()\n",
    "    hospitalization_fatility_ratio[k] = pd.Series(hospitalization_fatility_ratio[k], index=stratification_groups)\n",
    "np.round((sum(hospitalization_fatility_ratio.values()) / n_draws).unstack().unstack()*100, 1)"
   ]
  },
  {
   "cell_type": "code",
   "execution_count": 50,
   "metadata": {},
   "outputs": [],
   "source": [
    "n_deaths = {}\n",
    "for c in coverage_levels:\n",
    "    for a0 in age_lower_bounds:\n",
    "        n_deaths[c,a0] = {}\n",
    "        for k in range(n_draws):\n",
    "            n_deaths[c,a0][k] = hospitalization_fatility_ratio[k] * n_hosp[c,a0][k]"
   ]
  },
  {
   "cell_type": "code",
   "execution_count": 51,
   "metadata": {},
   "outputs": [
    {
     "data": {
      "text/html": [
       "<div>\n",
       "<style scoped>\n",
       "    .dataframe tbody tr th:only-of-type {\n",
       "        vertical-align: middle;\n",
       "    }\n",
       "\n",
       "    .dataframe tbody tr th {\n",
       "        vertical-align: top;\n",
       "    }\n",
       "\n",
       "    .dataframe thead tr th {\n",
       "        text-align: left;\n",
       "    }\n",
       "</style>\n",
       "<table border=\"1\" class=\"dataframe\">\n",
       "  <thead>\n",
       "    <tr>\n",
       "      <th></th>\n",
       "      <th colspan=\"2\" halign=\"left\">Black</th>\n",
       "      <th colspan=\"2\" halign=\"left\">Hispanic</th>\n",
       "      <th colspan=\"2\" halign=\"left\">Other</th>\n",
       "      <th colspan=\"2\" halign=\"left\">White</th>\n",
       "    </tr>\n",
       "    <tr>\n",
       "      <th></th>\n",
       "      <th>female</th>\n",
       "      <th>male</th>\n",
       "      <th>female</th>\n",
       "      <th>male</th>\n",
       "      <th>female</th>\n",
       "      <th>male</th>\n",
       "      <th>female</th>\n",
       "      <th>male</th>\n",
       "    </tr>\n",
       "  </thead>\n",
       "  <tbody>\n",
       "    <tr>\n",
       "      <th>[0, 10)</th>\n",
       "      <td>0.0</td>\n",
       "      <td>NaN</td>\n",
       "      <td>NaN</td>\n",
       "      <td>0.0</td>\n",
       "      <td>0.0</td>\n",
       "      <td>NaN</td>\n",
       "      <td>0.0</td>\n",
       "      <td>0.0</td>\n",
       "    </tr>\n",
       "    <tr>\n",
       "      <th>[10, 20)</th>\n",
       "      <td>0.0</td>\n",
       "      <td>0.0</td>\n",
       "      <td>0.0</td>\n",
       "      <td>0.0</td>\n",
       "      <td>0.0</td>\n",
       "      <td>0.0</td>\n",
       "      <td>0.0</td>\n",
       "      <td>0.0</td>\n",
       "    </tr>\n",
       "    <tr>\n",
       "      <th>[20, 30)</th>\n",
       "      <td>0.0</td>\n",
       "      <td>0.0</td>\n",
       "      <td>0.0</td>\n",
       "      <td>0.0</td>\n",
       "      <td>0.0</td>\n",
       "      <td>0.0</td>\n",
       "      <td>0.0</td>\n",
       "      <td>0.0</td>\n",
       "    </tr>\n",
       "    <tr>\n",
       "      <th>[30, 40)</th>\n",
       "      <td>0.0</td>\n",
       "      <td>0.0</td>\n",
       "      <td>0.0</td>\n",
       "      <td>0.0</td>\n",
       "      <td>0.0</td>\n",
       "      <td>0.0</td>\n",
       "      <td>0.0</td>\n",
       "      <td>0.0</td>\n",
       "    </tr>\n",
       "    <tr>\n",
       "      <th>[40, 50)</th>\n",
       "      <td>0.0</td>\n",
       "      <td>0.0</td>\n",
       "      <td>0.0</td>\n",
       "      <td>0.0</td>\n",
       "      <td>0.0</td>\n",
       "      <td>0.0</td>\n",
       "      <td>0.0</td>\n",
       "      <td>0.0</td>\n",
       "    </tr>\n",
       "    <tr>\n",
       "      <th>[50, 60)</th>\n",
       "      <td>1.7</td>\n",
       "      <td>1.3</td>\n",
       "      <td>0.5</td>\n",
       "      <td>2.9</td>\n",
       "      <td>0.7</td>\n",
       "      <td>1.6</td>\n",
       "      <td>1.3</td>\n",
       "      <td>3.3</td>\n",
       "    </tr>\n",
       "    <tr>\n",
       "      <th>[60, 70)</th>\n",
       "      <td>3.2</td>\n",
       "      <td>2.7</td>\n",
       "      <td>2.3</td>\n",
       "      <td>1.9</td>\n",
       "      <td>0.8</td>\n",
       "      <td>3.3</td>\n",
       "      <td>4.0</td>\n",
       "      <td>5.0</td>\n",
       "    </tr>\n",
       "    <tr>\n",
       "      <th>[70, 80)</th>\n",
       "      <td>2.6</td>\n",
       "      <td>2.7</td>\n",
       "      <td>3.1</td>\n",
       "      <td>2.4</td>\n",
       "      <td>1.7</td>\n",
       "      <td>1.5</td>\n",
       "      <td>4.0</td>\n",
       "      <td>5.2</td>\n",
       "    </tr>\n",
       "    <tr>\n",
       "      <th>[80, 125)</th>\n",
       "      <td>2.5</td>\n",
       "      <td>2.7</td>\n",
       "      <td>3.9</td>\n",
       "      <td>1.0</td>\n",
       "      <td>2.3</td>\n",
       "      <td>2.3</td>\n",
       "      <td>4.0</td>\n",
       "      <td>4.8</td>\n",
       "    </tr>\n",
       "  </tbody>\n",
       "</table>\n",
       "</div>"
      ],
      "text/plain": [
       "           Black      Hispanic       Other       White     \n",
       "          female male   female male female male female male\n",
       "[0, 10)      0.0  NaN      NaN  0.0    0.0  NaN    0.0  0.0\n",
       "[10, 20)     0.0  0.0      0.0  0.0    0.0  0.0    0.0  0.0\n",
       "[20, 30)     0.0  0.0      0.0  0.0    0.0  0.0    0.0  0.0\n",
       "[30, 40)     0.0  0.0      0.0  0.0    0.0  0.0    0.0  0.0\n",
       "[40, 50)     0.0  0.0      0.0  0.0    0.0  0.0    0.0  0.0\n",
       "[50, 60)     1.7  1.3      0.5  2.9    0.7  1.6    1.3  3.3\n",
       "[60, 70)     3.2  2.7      2.3  1.9    0.8  3.3    4.0  5.0\n",
       "[70, 80)     2.6  2.7      3.1  2.4    1.7  1.5    4.0  5.2\n",
       "[80, 125)    2.5  2.7      3.9  1.0    2.3  2.3    4.0  4.8"
      ]
     },
     "execution_count": 51,
     "metadata": {},
     "output_type": "execute_result"
    }
   ],
   "source": [
    "c,a = .50,50\n",
    "\n",
    "# averted hospitalization rate (hospitalizations per 100,000 person-months) by race\n",
    "n_death_averted_mean = sum([n_deaths[0, 0][k] - n_deaths[c, a][k] for k in range(n_draws)]) / n_draws\n",
    "np.round((n_death_averted_mean).unstack().unstack(),1)"
   ]
  },
  {
   "cell_type": "code",
   "execution_count": 52,
   "metadata": {},
   "outputs": [
    {
     "data": {
      "text/plain": [
       "Black       0.087\n",
       "Hispanic    0.056\n",
       "Other       0.077\n",
       "White       0.028\n",
       "dtype: float64"
      ]
     },
     "execution_count": 52,
     "metadata": {},
     "output_type": "execute_result"
    }
   ],
   "source": [
    "# averted hospitalization rate (hospitalizations per 100,000 person-months) by race\n",
    "n_death_mean = sum([n_deaths[c, a][k] for k in range(n_draws)]) / n_draws\n",
    "np.round(100_000 * (n_death_mean.unstack().sum() / g_acs.weight.sum().unstack().sum()), 3) "
   ]
  },
  {
   "cell_type": "code",
   "execution_count": 53,
   "metadata": {},
   "outputs": [
    {
     "data": {
      "text/plain": [
       "Black       0.050\n",
       "Hispanic    0.031\n",
       "Other       0.048\n",
       "White       0.016\n",
       "dtype: float64"
      ]
     },
     "execution_count": 53,
     "metadata": {},
     "output_type": "execute_result"
    }
   ],
   "source": [
    "# averted death rate (deaths averted per 100,000 person-months) by race\n",
    "np.round(100_000 * ((n_death_averted_mean).unstack().sum() / g_acs.weight.sum().unstack().sum()), 3) "
   ]
  },
  {
   "cell_type": "code",
   "execution_count": 54,
   "metadata": {},
   "outputs": [
    {
     "name": "stdout",
     "output_type": "stream",
     "text": [
      "averted deaths\n",
      "83 (56 - 116)\n"
     ]
    }
   ],
   "source": [
    "c,a = .50,50\n",
    "\n",
    "print('averted deaths')\n",
    "print_mean_and_ui(\n",
    "    [(n_deaths[0, 0][k] - n_deaths[c, a][k]).sum() for k in range(n_draws)]\n",
    ")"
   ]
  },
  {
   "cell_type": "markdown",
   "metadata": {},
   "source": [
    "## 7.\tEstimate the cost of administering mAbs and the cost of COVID-19 hospitalizations \n",
    "\n",
    "Tough [to get cost of mAbs](https://www.npr.org/sections/health-shots/2020/10/28/928841997/government-signs-deal-for-covid-19-treatments-from-eli-lilly)\n",
    "\n",
    "Lots of hits from a search of [cost of hospitalization](https://www.fairhealth.org/article/costs-for-a-hospital-stay-for-covid-19)."
   ]
  },
  {
   "cell_type": "code",
   "execution_count": 55,
   "metadata": {},
   "outputs": [
    {
     "data": {
      "text/plain": [
       "2077.5996814074297"
      ]
     },
     "execution_count": 55,
     "metadata": {},
     "output_type": "execute_result"
    }
   ],
   "source": [
    "n_hosp[c,a0][k].sum()"
   ]
  },
  {
   "cell_type": "code",
   "execution_count": 56,
   "metadata": {},
   "outputs": [],
   "source": [
    "doses = {}\n",
    "mAbs_cost = {}\n",
    "hosp_cost = {}\n",
    "for c in coverage_levels:\n",
    "    for a0 in age_lower_bounds:\n",
    "        doses[c,a0] = {}\n",
    "        mAbs_cost[c,a0] = {}\n",
    "        hosp_cost[c,a0] = {}\n",
    "        for k in range(n_draws):\n",
    "            doses[c,a0][k] = n_PEP[c,a0][k].sum()\n",
    "            mAbs_cost[c,a0][k] = n_PEP[c,a0][k].sum() * mAbs_unit_cost[k]\n",
    "            hosp_cost[c,a0][k] = n_hosp[c,a0][k].sum() * COVID_hospitalization_unit_cost[k]"
   ]
  },
  {
   "cell_type": "code",
   "execution_count": 57,
   "metadata": {},
   "outputs": [
    {
     "data": {
      "text/plain": [
       "0.0  0     0.000000e+00\n",
       "     20    0.000000e+00\n",
       "     40    0.000000e+00\n",
       "     50    0.000000e+00\n",
       "     60    0.000000e+00\n",
       "               ...     \n",
       "1.0  40    1.159665e+08\n",
       "     50    7.128410e+07\n",
       "     60    3.554036e+07\n",
       "     70    1.399649e+07\n",
       "     80    4.067432e+06\n",
       "Length: 35, dtype: float64"
      ]
     },
     "execution_count": 57,
     "metadata": {},
     "output_type": "execute_result"
    }
   ],
   "source": [
    "pd.DataFrame(mAbs_cost).mean()"
   ]
  },
  {
   "cell_type": "code",
   "execution_count": 58,
   "metadata": {},
   "outputs": [
    {
     "name": "stdout",
     "output_type": "stream",
     "text": [
      "averted cost\n",
      "3,055,202 (-14,034,632 - 18,787,692)\n"
     ]
    }
   ],
   "source": [
    "c,a = .50,50\n",
    "\n",
    "print('averted cost')\n",
    "print_mean_and_ui(\n",
    "    [((mAbs_cost[0, 0][k]+hosp_cost[0, 0][k]) - (mAbs_cost[c, a][k]+hosp_cost[c, a][k])).sum() for k in range(n_draws)]\n",
    ")"
   ]
  },
  {
   "cell_type": "code",
   "execution_count": 59,
   "metadata": {},
   "outputs": [
    {
     "data": {
      "image/png": "[encoded data removed]",
      "text/plain": [
       "<Figure size 432x288 with 1 Axes>"
      ]
     },
     "metadata": {
      "needs_background": "light"
     },
     "output_type": "display_data"
    }
   ],
   "source": [
    "cost = pd.DataFrame(mAbs_cost).mean() + pd.DataFrame(hosp_cost).mean()\n",
    "(cost.unstack() / 1_000_000).plot(marker='o')\n",
    "plt.ylabel('Cost (Million USD)')\n",
    "plt.grid();"
   ]
  },
  {
   "cell_type": "code",
   "execution_count": 60,
   "metadata": {},
   "outputs": [
    {
     "data": {
      "image/png": "[encoded data removed]",
      "text/plain": [
       "<Figure size 432x288 with 1 Axes>"
      ]
     },
     "metadata": {
      "needs_background": "light"
     },
     "output_type": "display_data"
    }
   ],
   "source": [
    "pd.DataFrame(doses).mean().unstack().plot(marker='o')\n",
    "# plt.semilogy()\n",
    "plt.ylabel('mAbs doses');"
   ]
  },
  {
   "cell_type": "markdown",
   "metadata": {},
   "source": [
    "# Burden Averted"
   ]
  },
  {
   "cell_type": "code",
   "execution_count": 84,
   "metadata": {},
   "outputs": [],
   "source": [
    "def averted(x):\n",
    "    df = pd.Series({i: pd.DataFrame(x[i]).mean().sum() for i in x}).unstack()\n",
    "    df_averted = df.loc[0, 0] - df\n",
    "    return df_averted"
   ]
  },
  {
   "cell_type": "code",
   "execution_count": 85,
   "metadata": {},
   "outputs": [
    {
     "data": {
      "text/plain": [
       "2517.839162810582"
      ]
     },
     "execution_count": 85,
     "metadata": {},
     "output_type": "execute_result"
    }
   ],
   "source": [
    "c,a = .5, 50\n",
    "sub = pd.DataFrame(n_COVID[0, 0]).mean().sum() - pd.DataFrame(n_COVID[c, a]).mean().sum()\n",
    "sub\n",
    "2517.839162810582\n"
   ]
  },
  {
   "cell_type": "code",
   "execution_count": 88,
   "metadata": {},
   "outputs": [
    {
     "data": {
      "text/html": [
       "<div>\n",
       "<style scoped>\n",
       "    .dataframe tbody tr th:only-of-type {\n",
       "        vertical-align: middle;\n",
       "    }\n",
       "\n",
       "    .dataframe tbody tr th {\n",
       "        vertical-align: top;\n",
       "    }\n",
       "\n",
       "    .dataframe thead th {\n",
       "        text-align: right;\n",
       "    }\n",
       "</style>\n",
       "<table border=\"1\" class=\"dataframe\">\n",
       "  <thead>\n",
       "    <tr style=\"text-align: right;\">\n",
       "      <th></th>\n",
       "      <th></th>\n",
       "      <th></th>\n",
       "      <th>0</th>\n",
       "      <th>1</th>\n",
       "      <th>2</th>\n",
       "      <th>3</th>\n",
       "      <th>4</th>\n",
       "      <th>5</th>\n",
       "      <th>6</th>\n",
       "      <th>7</th>\n",
       "      <th>8</th>\n",
       "      <th>9</th>\n",
       "      <th>...</th>\n",
       "      <th>90</th>\n",
       "      <th>91</th>\n",
       "      <th>92</th>\n",
       "      <th>93</th>\n",
       "      <th>94</th>\n",
       "      <th>95</th>\n",
       "      <th>96</th>\n",
       "      <th>97</th>\n",
       "      <th>98</th>\n",
       "      <th>99</th>\n",
       "    </tr>\n",
       "  </thead>\n",
       "  <tbody>\n",
       "    <tr>\n",
       "      <th rowspan=\"5\" valign=\"top\">[0, 10)</th>\n",
       "      <th rowspan=\"4\" valign=\"top\">male</th>\n",
       "      <th>White</th>\n",
       "      <td>0.000000</td>\n",
       "      <td>0.000000</td>\n",
       "      <td>0.000000</td>\n",
       "      <td>0.000000</td>\n",
       "      <td>0.000000</td>\n",
       "      <td>0.000000</td>\n",
       "      <td>0.000000</td>\n",
       "      <td>0.000000</td>\n",
       "      <td>0.000000</td>\n",
       "      <td>0.000000</td>\n",
       "      <td>...</td>\n",
       "      <td>0.000000</td>\n",
       "      <td>0.000000</td>\n",
       "      <td>0.000000</td>\n",
       "      <td>0.000000</td>\n",
       "      <td>0.000000</td>\n",
       "      <td>0.000000</td>\n",
       "      <td>0.000000</td>\n",
       "      <td>0.000000</td>\n",
       "      <td>0.000000</td>\n",
       "      <td>0.000000</td>\n",
       "    </tr>\n",
       "    <tr>\n",
       "      <th>Black</th>\n",
       "      <td>0.000000</td>\n",
       "      <td>0.000000</td>\n",
       "      <td>0.000000</td>\n",
       "      <td>0.000000</td>\n",
       "      <td>0.000000</td>\n",
       "      <td>0.000000</td>\n",
       "      <td>0.000000</td>\n",
       "      <td>0.000000</td>\n",
       "      <td>0.000000</td>\n",
       "      <td>0.000000</td>\n",
       "      <td>...</td>\n",
       "      <td>0.000000</td>\n",
       "      <td>0.000000</td>\n",
       "      <td>0.000000</td>\n",
       "      <td>0.000000</td>\n",
       "      <td>0.000000</td>\n",
       "      <td>0.000000</td>\n",
       "      <td>0.000000</td>\n",
       "      <td>0.000000</td>\n",
       "      <td>0.000000</td>\n",
       "      <td>0.000000</td>\n",
       "    </tr>\n",
       "    <tr>\n",
       "      <th>Hispanic</th>\n",
       "      <td>0.000000</td>\n",
       "      <td>0.000000</td>\n",
       "      <td>0.000000</td>\n",
       "      <td>0.000000</td>\n",
       "      <td>0.000000</td>\n",
       "      <td>0.000000</td>\n",
       "      <td>0.000000</td>\n",
       "      <td>0.000000</td>\n",
       "      <td>0.000000</td>\n",
       "      <td>0.000000</td>\n",
       "      <td>...</td>\n",
       "      <td>0.000000</td>\n",
       "      <td>0.000000</td>\n",
       "      <td>0.000000</td>\n",
       "      <td>0.000000</td>\n",
       "      <td>0.000000</td>\n",
       "      <td>0.000000</td>\n",
       "      <td>0.000000</td>\n",
       "      <td>0.000000</td>\n",
       "      <td>0.000000</td>\n",
       "      <td>0.000000</td>\n",
       "    </tr>\n",
       "    <tr>\n",
       "      <th>Other</th>\n",
       "      <td>0.000000</td>\n",
       "      <td>0.000000</td>\n",
       "      <td>0.000000</td>\n",
       "      <td>0.000000</td>\n",
       "      <td>0.000000</td>\n",
       "      <td>0.000000</td>\n",
       "      <td>0.000000</td>\n",
       "      <td>0.000000</td>\n",
       "      <td>0.000000</td>\n",
       "      <td>0.000000</td>\n",
       "      <td>...</td>\n",
       "      <td>0.000000</td>\n",
       "      <td>0.000000</td>\n",
       "      <td>0.000000</td>\n",
       "      <td>0.000000</td>\n",
       "      <td>0.000000</td>\n",
       "      <td>0.000000</td>\n",
       "      <td>0.000000</td>\n",
       "      <td>0.000000</td>\n",
       "      <td>0.000000</td>\n",
       "      <td>0.000000</td>\n",
       "    </tr>\n",
       "    <tr>\n",
       "      <th>female</th>\n",
       "      <th>White</th>\n",
       "      <td>0.000000</td>\n",
       "      <td>0.000000</td>\n",
       "      <td>0.000000</td>\n",
       "      <td>0.000000</td>\n",
       "      <td>0.000000</td>\n",
       "      <td>0.000000</td>\n",
       "      <td>0.000000</td>\n",
       "      <td>0.000000</td>\n",
       "      <td>0.000000</td>\n",
       "      <td>0.000000</td>\n",
       "      <td>...</td>\n",
       "      <td>0.000000</td>\n",
       "      <td>0.000000</td>\n",
       "      <td>0.000000</td>\n",
       "      <td>0.000000</td>\n",
       "      <td>0.000000</td>\n",
       "      <td>0.000000</td>\n",
       "      <td>0.000000</td>\n",
       "      <td>0.000000</td>\n",
       "      <td>0.000000</td>\n",
       "      <td>0.000000</td>\n",
       "    </tr>\n",
       "    <tr>\n",
       "      <th>...</th>\n",
       "      <th>...</th>\n",
       "      <th>...</th>\n",
       "      <td>...</td>\n",
       "      <td>...</td>\n",
       "      <td>...</td>\n",
       "      <td>...</td>\n",
       "      <td>...</td>\n",
       "      <td>...</td>\n",
       "      <td>...</td>\n",
       "      <td>...</td>\n",
       "      <td>...</td>\n",
       "      <td>...</td>\n",
       "      <td>...</td>\n",
       "      <td>...</td>\n",
       "      <td>...</td>\n",
       "      <td>...</td>\n",
       "      <td>...</td>\n",
       "      <td>...</td>\n",
       "      <td>...</td>\n",
       "      <td>...</td>\n",
       "      <td>...</td>\n",
       "      <td>...</td>\n",
       "      <td>...</td>\n",
       "    </tr>\n",
       "    <tr>\n",
       "      <th rowspan=\"5\" valign=\"top\">[80, 125)</th>\n",
       "      <th>male</th>\n",
       "      <th>Other</th>\n",
       "      <td>4.525329</td>\n",
       "      <td>5.439024</td>\n",
       "      <td>3.762009</td>\n",
       "      <td>5.253956</td>\n",
       "      <td>4.654485</td>\n",
       "      <td>4.315285</td>\n",
       "      <td>7.430319</td>\n",
       "      <td>4.698073</td>\n",
       "      <td>5.926250</td>\n",
       "      <td>4.903050</td>\n",
       "      <td>...</td>\n",
       "      <td>2.853159</td>\n",
       "      <td>4.131047</td>\n",
       "      <td>3.362769</td>\n",
       "      <td>8.332697</td>\n",
       "      <td>4.847564</td>\n",
       "      <td>2.985456</td>\n",
       "      <td>5.623463</td>\n",
       "      <td>5.097968</td>\n",
       "      <td>2.927971</td>\n",
       "      <td>3.668164</td>\n",
       "    </tr>\n",
       "    <tr>\n",
       "      <th rowspan=\"4\" valign=\"top\">female</th>\n",
       "      <th>White</th>\n",
       "      <td>36.103078</td>\n",
       "      <td>35.188339</td>\n",
       "      <td>25.268585</td>\n",
       "      <td>50.951817</td>\n",
       "      <td>33.008829</td>\n",
       "      <td>26.775795</td>\n",
       "      <td>43.799557</td>\n",
       "      <td>20.530856</td>\n",
       "      <td>47.351556</td>\n",
       "      <td>45.107860</td>\n",
       "      <td>...</td>\n",
       "      <td>25.452144</td>\n",
       "      <td>38.621479</td>\n",
       "      <td>33.082261</td>\n",
       "      <td>39.969309</td>\n",
       "      <td>41.669761</td>\n",
       "      <td>29.675512</td>\n",
       "      <td>33.290841</td>\n",
       "      <td>42.091925</td>\n",
       "      <td>39.344702</td>\n",
       "      <td>42.533306</td>\n",
       "    </tr>\n",
       "    <tr>\n",
       "      <th>Black</th>\n",
       "      <td>15.608927</td>\n",
       "      <td>10.908135</td>\n",
       "      <td>8.003600</td>\n",
       "      <td>12.925965</td>\n",
       "      <td>14.705639</td>\n",
       "      <td>13.312600</td>\n",
       "      <td>15.588855</td>\n",
       "      <td>8.062738</td>\n",
       "      <td>14.097336</td>\n",
       "      <td>11.351251</td>\n",
       "      <td>...</td>\n",
       "      <td>9.245900</td>\n",
       "      <td>15.749405</td>\n",
       "      <td>10.400021</td>\n",
       "      <td>19.282865</td>\n",
       "      <td>18.164156</td>\n",
       "      <td>10.141524</td>\n",
       "      <td>11.162206</td>\n",
       "      <td>13.285191</td>\n",
       "      <td>11.352909</td>\n",
       "      <td>13.357276</td>\n",
       "    </tr>\n",
       "    <tr>\n",
       "      <th>Hispanic</th>\n",
       "      <td>12.974255</td>\n",
       "      <td>10.006487</td>\n",
       "      <td>7.845322</td>\n",
       "      <td>7.824936</td>\n",
       "      <td>11.226249</td>\n",
       "      <td>8.406379</td>\n",
       "      <td>10.173196</td>\n",
       "      <td>4.771306</td>\n",
       "      <td>5.620841</td>\n",
       "      <td>9.169314</td>\n",
       "      <td>...</td>\n",
       "      <td>5.983813</td>\n",
       "      <td>9.382983</td>\n",
       "      <td>9.010213</td>\n",
       "      <td>11.718117</td>\n",
       "      <td>9.775058</td>\n",
       "      <td>4.114438</td>\n",
       "      <td>10.078307</td>\n",
       "      <td>9.116863</td>\n",
       "      <td>12.710679</td>\n",
       "      <td>10.298869</td>\n",
       "    </tr>\n",
       "    <tr>\n",
       "      <th>Other</th>\n",
       "      <td>10.895061</td>\n",
       "      <td>6.848344</td>\n",
       "      <td>4.715371</td>\n",
       "      <td>9.296188</td>\n",
       "      <td>8.382526</td>\n",
       "      <td>5.234003</td>\n",
       "      <td>9.191888</td>\n",
       "      <td>3.096938</td>\n",
       "      <td>7.539138</td>\n",
       "      <td>6.582331</td>\n",
       "      <td>...</td>\n",
       "      <td>5.411163</td>\n",
       "      <td>7.647391</td>\n",
       "      <td>6.722134</td>\n",
       "      <td>8.810047</td>\n",
       "      <td>9.400702</td>\n",
       "      <td>3.480232</td>\n",
       "      <td>7.020963</td>\n",
       "      <td>6.923838</td>\n",
       "      <td>6.568492</td>\n",
       "      <td>6.395142</td>\n",
       "    </tr>\n",
       "  </tbody>\n",
       "</table>\n",
       "<p>72 rows × 100 columns</p>\n",
       "</div>"
      ],
      "text/plain": [
       "                                  0          1          2          3   \\\n",
       "[0, 10)   male   White      0.000000   0.000000   0.000000   0.000000   \n",
       "                 Black      0.000000   0.000000   0.000000   0.000000   \n",
       "                 Hispanic   0.000000   0.000000   0.000000   0.000000   \n",
       "                 Other      0.000000   0.000000   0.000000   0.000000   \n",
       "          female White      0.000000   0.000000   0.000000   0.000000   \n",
       "...                              ...        ...        ...        ...   \n",
       "[80, 125) male   Other      4.525329   5.439024   3.762009   5.253956   \n",
       "          female White     36.103078  35.188339  25.268585  50.951817   \n",
       "                 Black     15.608927  10.908135   8.003600  12.925965   \n",
       "                 Hispanic  12.974255  10.006487   7.845322   7.824936   \n",
       "                 Other     10.895061   6.848344   4.715371   9.296188   \n",
       "\n",
       "                                  4          5          6          7   \\\n",
       "[0, 10)   male   White      0.000000   0.000000   0.000000   0.000000   \n",
       "                 Black      0.000000   0.000000   0.000000   0.000000   \n",
       "                 Hispanic   0.000000   0.000000   0.000000   0.000000   \n",
       "                 Other      0.000000   0.000000   0.000000   0.000000   \n",
       "          female White      0.000000   0.000000   0.000000   0.000000   \n",
       "...                              ...        ...        ...        ...   \n",
       "[80, 125) male   Other      4.654485   4.315285   7.430319   4.698073   \n",
       "          female White     33.008829  26.775795  43.799557  20.530856   \n",
       "                 Black     14.705639  13.312600  15.588855   8.062738   \n",
       "                 Hispanic  11.226249   8.406379  10.173196   4.771306   \n",
       "                 Other      8.382526   5.234003   9.191888   3.096938   \n",
       "\n",
       "                                  8          9   ...         90         91  \\\n",
       "[0, 10)   male   White      0.000000   0.000000  ...   0.000000   0.000000   \n",
       "                 Black      0.000000   0.000000  ...   0.000000   0.000000   \n",
       "                 Hispanic   0.000000   0.000000  ...   0.000000   0.000000   \n",
       "                 Other      0.000000   0.000000  ...   0.000000   0.000000   \n",
       "          female White      0.000000   0.000000  ...   0.000000   0.000000   \n",
       "...                              ...        ...  ...        ...        ...   \n",
       "[80, 125) male   Other      5.926250   4.903050  ...   2.853159   4.131047   \n",
       "          female White     47.351556  45.107860  ...  25.452144  38.621479   \n",
       "                 Black     14.097336  11.351251  ...   9.245900  15.749405   \n",
       "                 Hispanic   5.620841   9.169314  ...   5.983813   9.382983   \n",
       "                 Other      7.539138   6.582331  ...   5.411163   7.647391   \n",
       "\n",
       "                                  92         93         94         95  \\\n",
       "[0, 10)   male   White      0.000000   0.000000   0.000000   0.000000   \n",
       "                 Black      0.000000   0.000000   0.000000   0.000000   \n",
       "                 Hispanic   0.000000   0.000000   0.000000   0.000000   \n",
       "                 Other      0.000000   0.000000   0.000000   0.000000   \n",
       "          female White      0.000000   0.000000   0.000000   0.000000   \n",
       "...                              ...        ...        ...        ...   \n",
       "[80, 125) male   Other      3.362769   8.332697   4.847564   2.985456   \n",
       "          female White     33.082261  39.969309  41.669761  29.675512   \n",
       "                 Black     10.400021  19.282865  18.164156  10.141524   \n",
       "                 Hispanic   9.010213  11.718117   9.775058   4.114438   \n",
       "                 Other      6.722134   8.810047   9.400702   3.480232   \n",
       "\n",
       "                                  96         97         98         99  \n",
       "[0, 10)   male   White      0.000000   0.000000   0.000000   0.000000  \n",
       "                 Black      0.000000   0.000000   0.000000   0.000000  \n",
       "                 Hispanic   0.000000   0.000000   0.000000   0.000000  \n",
       "                 Other      0.000000   0.000000   0.000000   0.000000  \n",
       "          female White      0.000000   0.000000   0.000000   0.000000  \n",
       "...                              ...        ...        ...        ...  \n",
       "[80, 125) male   Other      5.623463   5.097968   2.927971   3.668164  \n",
       "          female White     33.290841  42.091925  39.344702  42.533306  \n",
       "                 Black     11.162206  13.285191  11.352909  13.357276  \n",
       "                 Hispanic  10.078307   9.116863  12.710679  10.298869  \n",
       "                 Other      7.020963   6.923838   6.568492   6.395142  \n",
       "\n",
       "[72 rows x 100 columns]"
      ]
     },
     "execution_count": 88,
     "metadata": {},
     "output_type": "execute_result"
    }
   ],
   "source": [
    "(pd.DataFrame(n_COVID[0, 0]) - pd.DataFrame(n_COVID[c, a]))"
   ]
  },
  {
   "cell_type": "code",
   "execution_count": 89,
   "metadata": {},
   "outputs": [
    {
     "data": {
      "text/plain": [
       "0     2432.032456\n",
       "1     1887.101942\n",
       "2     1443.282878\n",
       "3     2477.514133\n",
       "4     1873.614618\n",
       "         ...     \n",
       "95    1436.904072\n",
       "96    2017.363257\n",
       "97    2063.704544\n",
       "98    2054.249006\n",
       "99    2062.671847\n",
       "Length: 100, dtype: float64"
      ]
     },
     "execution_count": 89,
     "metadata": {},
     "output_type": "execute_result"
    }
   ],
   "source": [
    "(pd.DataFrame(n_COVID[0, 0]) - pd.DataFrame(n_COVID[c, a])).sum()"
   ]
  },
  {
   "cell_type": "code",
   "execution_count": 90,
   "metadata": {},
   "outputs": [
    {
     "data": {
      "text/plain": [
       "1812.8441972236196"
      ]
     },
     "execution_count": 90,
     "metadata": {},
     "output_type": "execute_result"
    }
   ],
   "source": [
    "(pd.DataFrame(n_COVID[0, 0]) - pd.DataFrame(n_COVID[c, a])).sum().mean()"
   ]
  },
  {
   "cell_type": "code",
   "execution_count": 91,
   "metadata": {},
   "outputs": [
    {
     "data": {
      "text/plain": [
       "(0.5, 50)"
      ]
     },
     "execution_count": 91,
     "metadata": {},
     "output_type": "execute_result"
    }
   ],
   "source": [
    "c,a"
   ]
  },
  {
   "cell_type": "code",
   "execution_count": 86,
   "metadata": {},
   "outputs": [
    {
     "data": {
      "text/plain": [
       "2517.8391628105833"
      ]
     },
     "execution_count": 86,
     "metadata": {},
     "output_type": "execute_result"
    }
   ],
   "source": [
    "c,a = .5, 50\n",
    "sub = (pd.DataFrame(n_COVID[0, 0]) - pd.DataFrame(n_COVID[c, a])).mean().sum()\n",
    "sub"
   ]
  },
  {
   "cell_type": "code",
   "execution_count": 87,
   "metadata": {},
   "outputs": [
    {
     "data": {
      "text/html": [
       "<div>\n",
       "<style scoped>\n",
       "    .dataframe tbody tr th:only-of-type {\n",
       "        vertical-align: middle;\n",
       "    }\n",
       "\n",
       "    .dataframe tbody tr th {\n",
       "        vertical-align: top;\n",
       "    }\n",
       "\n",
       "    .dataframe thead th {\n",
       "        text-align: right;\n",
       "    }\n",
       "</style>\n",
       "<table border=\"1\" class=\"dataframe\">\n",
       "  <thead>\n",
       "    <tr style=\"text-align: right;\">\n",
       "      <th></th>\n",
       "      <th>0</th>\n",
       "      <th>20</th>\n",
       "      <th>40</th>\n",
       "      <th>50</th>\n",
       "      <th>60</th>\n",
       "      <th>70</th>\n",
       "      <th>80</th>\n",
       "    </tr>\n",
       "  </thead>\n",
       "  <tbody>\n",
       "    <tr>\n",
       "      <th>0.00</th>\n",
       "      <td>0.0</td>\n",
       "      <td>0.0</td>\n",
       "      <td>0.0</td>\n",
       "      <td>0.0</td>\n",
       "      <td>0.0</td>\n",
       "      <td>0.0</td>\n",
       "      <td>0.0</td>\n",
       "    </tr>\n",
       "    <tr>\n",
       "      <th>0.25</th>\n",
       "      <td>5713.5</td>\n",
       "      <td>3511.1</td>\n",
       "      <td>2048.0</td>\n",
       "      <td>1258.9</td>\n",
       "      <td>627.3</td>\n",
       "      <td>247.0</td>\n",
       "      <td>71.9</td>\n",
       "    </tr>\n",
       "    <tr>\n",
       "      <th>0.50</th>\n",
       "      <td>11427.1</td>\n",
       "      <td>7022.3</td>\n",
       "      <td>4096.0</td>\n",
       "      <td>2517.8</td>\n",
       "      <td>1254.5</td>\n",
       "      <td>494.0</td>\n",
       "      <td>143.8</td>\n",
       "    </tr>\n",
       "    <tr>\n",
       "      <th>0.75</th>\n",
       "      <td>17140.6</td>\n",
       "      <td>10533.4</td>\n",
       "      <td>6144.0</td>\n",
       "      <td>3776.8</td>\n",
       "      <td>1881.8</td>\n",
       "      <td>741.0</td>\n",
       "      <td>215.7</td>\n",
       "    </tr>\n",
       "    <tr>\n",
       "      <th>1.00</th>\n",
       "      <td>22854.2</td>\n",
       "      <td>14044.5</td>\n",
       "      <td>8192.0</td>\n",
       "      <td>5035.7</td>\n",
       "      <td>2509.1</td>\n",
       "      <td>988.0</td>\n",
       "      <td>287.6</td>\n",
       "    </tr>\n",
       "  </tbody>\n",
       "</table>\n",
       "</div>"
      ],
      "text/plain": [
       "           0        20      40      50      60     70     80\n",
       "0.00      0.0      0.0     0.0     0.0     0.0    0.0    0.0\n",
       "0.25   5713.5   3511.1  2048.0  1258.9   627.3  247.0   71.9\n",
       "0.50  11427.1   7022.3  4096.0  2517.8  1254.5  494.0  143.8\n",
       "0.75  17140.6  10533.4  6144.0  3776.8  1881.8  741.0  215.7\n",
       "1.00  22854.2  14044.5  8192.0  5035.7  2509.1  988.0  287.6"
      ]
     },
     "execution_count": 87,
     "metadata": {},
     "output_type": "execute_result"
    }
   ],
   "source": [
    "symptomatic_infections_averted = averted(n_COVID)\n",
    "np.round(symptomatic_infections_averted, 1)"
   ]
  },
  {
   "cell_type": "code",
   "execution_count": 65,
   "metadata": {},
   "outputs": [
    {
     "data": {
      "text/plain": [
       "[0, 10)    male    White        0.000000\n",
       "                   Black        0.000000\n",
       "                   Hispanic     0.000000\n",
       "                   Other        0.000000\n",
       "           female  White        0.000000\n",
       "                                 ...    \n",
       "[80, 125)  male    Other        4.525329\n",
       "           female  White       36.103078\n",
       "                   Black       15.608927\n",
       "                   Hispanic    12.974255\n",
       "                   Other       10.895061\n",
       "Length: 72, dtype: float64"
      ]
     },
     "execution_count": 65,
     "metadata": {},
     "output_type": "execute_result"
    }
   ],
   "source": [
    "c,a = 0.5, 50\n",
    "(n_COVID[0,0][0] - n_COVID[c,a][0]).sum()"
   ]
  },
  {
   "cell_type": "code",
   "execution_count": 70,
   "metadata": {},
   "outputs": [
    {
     "data": {
      "text/plain": [
       "count     100.000000\n",
       "mean     1812.844197\n",
       "std       341.661741\n",
       "min      1108.139522\n",
       "25%      1557.878922\n",
       "50%      1858.098723\n",
       "75%      2042.908742\n",
       "max      2711.526206\n",
       "dtype: float64"
      ]
     },
     "execution_count": 70,
     "metadata": {},
     "output_type": "execute_result"
    }
   ],
   "source": [
    "(pd.DataFrame(n_COVID[0, 0]) - pd.DataFrame(n_COVID[c, a])).sum().describe()"
   ]
  },
  {
   "cell_type": "code",
   "execution_count": 69,
   "metadata": {},
   "outputs": [
    {
     "data": {
      "text/plain": [
       "array([1171.10377654, 2455.91033654])"
      ]
     },
     "execution_count": 69,
     "metadata": {},
     "output_type": "execute_result"
    }
   ],
   "source": [
    "c,a = 0.5, 50\n",
    "sub = pd.DataFrame(n_COVID[0, 0]) - pd.DataFrame(n_COVID[c, a])\n",
    "np.percentile(sub.sum(), [2.5, 97.5])"
   ]
  },
  {
   "cell_type": "code",
   "execution_count": 71,
   "metadata": {},
   "outputs": [
    {
     "data": {
      "text/plain": [
       "1812.8441972236196"
      ]
     },
     "execution_count": 71,
     "metadata": {},
     "output_type": "execute_result"
    }
   ],
   "source": [
    "np.mean(sub.sum())"
   ]
  },
  {
   "cell_type": "code",
   "execution_count": null,
   "metadata": {},
   "outputs": [],
   "source": [
    "hospitalizations_averted = averted(n_hosp)\n",
    "np.round(hospitalizations_averted, 1)"
   ]
  },
  {
   "cell_type": "code",
   "execution_count": null,
   "metadata": {},
   "outputs": [],
   "source": [
    "deaths_averted = averted(n_deaths)\n",
    "np.round(deaths_averted, 1)"
   ]
  },
  {
   "cell_type": "code",
   "execution_count": null,
   "metadata": {},
   "outputs": [],
   "source": [
    "np.round(pd.DataFrame({'symptomatic_infections_averted':symptomatic_infections_averted.stack(),\n",
    "              'hospitalizations_averted':hospitalizations_averted.stack(),\n",
    "              'deaths_averted':deaths_averted.stack(),\n",
    "#               'mAbs_cost':pd.Series(mAbs_cost)/1e6,\n",
    "#               'hosp_cost':pd.Series(hosp_cost)/1e6,\n",
    "#               'total_cost':cost/1e6,\n",
    "              'thousand_doses':pd.DataFrame(doses).mean()/1e3,\n",
    "              'incremental_cost':(cost-cost.loc[0,0])/1e6\n",
    "             }).unstack(level=0), 1)\n"
   ]
  },
  {
   "cell_type": "code",
   "execution_count": null,
   "metadata": {},
   "outputs": [],
   "source": [
    "ICER = (cost-cost.loc[0,0]) / (deaths_averted).stack()\n",
    "np.round((ICER / 1_000).unstack(), 1)"
   ]
  },
  {
   "cell_type": "code",
   "execution_count": null,
   "metadata": {},
   "outputs": [],
   "source": [
    "(ICER / 1_000).unstack().T.iloc[:,-1].plot(marker='o')\n",
    "plt.ylabel('ICER (Thousand USD per death averted)')\n",
    "plt.xlabel('Minimum age for PEP (years)')\n",
    "# plt.semilogy();"
   ]
  },
  {
   "cell_type": "markdown",
   "metadata": {},
   "source": [
    "# PEP with mAbs is a benefit for patients and for hospitals"
   ]
  },
  {
   "cell_type": "code",
   "execution_count": null,
   "metadata": {},
   "outputs": [],
   "source": [
    "def summary_results(coverage_level, age_lower_bound):\n",
    "    n_symp_averted = symptomatic_infections_averted.loc[coverage_level, age_lower_bound]\n",
    "    n_hosp_averted = hospitalizations_averted.loc[coverage_level, age_lower_bound]\n",
    "    n_deaths_averted = deaths_averted.loc[coverage_level, age_lower_bound]\n",
    "    unit_cost = mAbs_unit_cost\n",
    "    incremental_cost = (cost.loc[coverage_level, age_lower_bound]-cost.loc[0,0])/1e6\n",
    "\n",
    "    \n",
    "    result_str = f\"\"\"Results: In a month of similar intensity to May, 2021,\n",
    "    in USA, a program reaching {coverage_level*100:.0f}% of exposed household members\n",
    "    aged {age_lower_bound}+, would avert {n_symp_averted:,.0f} symptomatic infections,\n",
    "    {n_hosp_averted:,.0f} hospitalizations, and {n_deaths_averted:,.0f} deaths.  If the\n",
    "    unit cost of administering the intervention was {pd.Series(unit_cost).mean():,.0f} dollars,\n",
    "    this program would save the health system {-incremental_cost*1_000:,.0f} thousand dollars.\"\"\"\n",
    "    \n",
    "    print(result_str)\n",
    "summary_results(1/2, 50)"
   ]
  },
  {
   "cell_type": "code",
   "execution_count": null,
   "metadata": {},
   "outputs": [],
   "source": [
    "# summary_results(1/3, 50)"
   ]
  },
  {
   "cell_type": "code",
   "execution_count": null,
   "metadata": {},
   "outputs": [],
   "source": [
    "# summary_results(1/2, 50)"
   ]
  },
  {
   "cell_type": "markdown",
   "metadata": {},
   "source": [
    "# Number-plugging values"
   ]
  },
  {
   "cell_type": "code",
   "execution_count": null,
   "metadata": {},
   "outputs": [],
   "source": [
    "print(f\"\"\"[[summary of data: RCT included X subjects (Y in treatment group and Z in control),\n",
    "which we combined with confirmed cases data on {len(df_cdc_month):,.0f} individuals and\n",
    "household structure data derived from {len(acs):,.0f} individuals in {acs.household_id.nunique():,.0f} households.]]\n",
    "\"\"\")"
   ]
  },
  {
   "cell_type": "code",
   "execution_count": null,
   "metadata": {},
   "outputs": [],
   "source": [
    "n_2 = pd.DataFrame(n_2_unvax)\n",
    "n_2"
   ]
  },
  {
   "cell_type": "code",
   "execution_count": null,
   "metadata": {},
   "outputs": [],
   "source": [
    "print(f\"\"\"[[Confirmed case and household structure results,\n",
    "summarizing something about the racial segregation of household structure,\n",
    "the age-assortativity. In [[May]], there were [[{len(df_cdc_month):,.0f}]]\n",
    "confirmed cases of COVID-19, which we estimate resulted\n",
    "in {n_2.sum().mean():,.0f} (95% UI {np.percentile(n_2.sum(), 2.5):,.0f}-{np.percentile(n_2.sum(), 97.5):,.0f}) individuals with household exposure to COVID-19. ]] [[stratify counts or rates by race??]]\"\"\")"
   ]
  },
  {
   "cell_type": "code",
   "execution_count": null,
   "metadata": {},
   "outputs": [],
   "source": [
    "n_2.unstack().sum().unstack().mean()"
   ]
  },
  {
   "cell_type": "code",
   "execution_count": null,
   "metadata": {},
   "outputs": [],
   "source": [
    "print(f\"\"\"[[Number who receive PEP in alternative scenarios, and for alternative age cutoffs. Perhaps in a table?  Population-level rates of treatment stratified by race?]]\"\"\")"
   ]
  },
  {
   "cell_type": "code",
   "execution_count": null,
   "metadata": {},
   "outputs": [],
   "source": [
    "def my_summary(x):\n",
    "    mean = np.mean(x)\n",
    "    lb = np.percentile(x, 2.5)\n",
    "    ub = np.percentile(x, 97.5)\n",
    "    results = locals()\n",
    "    results.pop('x')\n",
    "    for k in results:\n",
    "        results[k] = '{:,.0f}'.format(results[k])\n",
    "    results['ui'] = results['lb']+'-'+results['ub']\n",
    "    results['mean_and_ui'] = f\"\"\"{results['mean']} (95% UI {results['ui']})\"\"\"\n",
    "    return results\n",
    "\n",
    "total_PEP = {}\n",
    "for c,a in n_PEP.keys():\n",
    "    total_PEP[c,a] = my_summary(pd.DataFrame(n_PEP[c,a]).sum())"
   ]
  },
  {
   "cell_type": "code",
   "execution_count": null,
   "metadata": {},
   "outputs": [],
   "source": [
    "print(f\"\"\"In a hypothetical scenario where 50% of those exposed and of age 50 or older receive PEP,\n",
    "we estimate {total_PEP[.5,50]['mean_and_ui']} individuals would be treated.\"\"\")"
   ]
  },
  {
   "cell_type": "code",
   "execution_count": null,
   "metadata": {},
   "outputs": [],
   "source": [
    "print(f\"\"\"While in a hypothetical scenario where 50% of those exposed and of age 80 or older receive PEP,\n",
    "we estimate {total_PEP[.5,80]['mean']} (95% UI {total_PEP[.5,80]['ui']}) individuals would be treated,\"\"\")"
   ]
  },
  {
   "cell_type": "code",
   "execution_count": null,
   "metadata": {},
   "outputs": [],
   "source": [
    "print(f\"\"\"and in a hypothetical scenario where 50% of those exposed and of age 20 or older receive PEP,\n",
    "we estimate {total_PEP[.5,20]['mean']} (95% UI {total_PEP[.5,20]['ui']}) individuals would be treated.\"\"\")"
   ]
  },
  {
   "cell_type": "code",
   "execution_count": null,
   "metadata": {},
   "outputs": [],
   "source": [
    "total_COVID = {}\n",
    "for c,a in n_COVID.keys():\n",
    "    total_COVID[c,a] = my_summary(pd.DataFrame(n_COVID[c,a]).sum())"
   ]
  },
  {
   "cell_type": "code",
   "execution_count": null,
   "metadata": {},
   "outputs": [],
   "source": [
    "print(f\"\"\"[[Number who develop symptomatic COVID-19 in baseline and alternative scenarios, and for alternative age cutoffs. Including stratification by race and ethnicity.]]\"\"\")\n",
    "\n",
    "print(f\"\"\"We estimate that without PEP, {total_COVID[0,0]['mean_and_ui']} individuals developed a symptomatic COVID-19 infection from a household exposure,\n",
    "      while in a hypothetical scenario where 50% of those exposed and of age 50 or older receive PEP,\n",
    "{total_COVID[.5,50]['mean_and_ui']} individuals developed a symptomatic infection.\"\"\")"
   ]
  },
  {
   "cell_type": "code",
   "execution_count": null,
   "metadata": {},
   "outputs": [],
   "source": [
    "print(f\"\"\"In a hypothetical scenario where 50% of those exposed and of age 80 or older receive PEP,\n",
    "we estimate {total_COVID[.5,80]['mean_and_ui']} individuals developed symptomatic infection,\n",
    "and in a hypothetical scenario where 50% of those exposed and of age 20 or older receive PEP,\n",
    "we estimate {total_COVID[.5,20]['mean_and_ui']} individuals developed symptomatic infection.\"\"\")"
   ]
  },
  {
   "cell_type": "code",
   "execution_count": null,
   "metadata": {},
   "outputs": [],
   "source": [
    "total_hosp = {}\n",
    "for c,a in n_hosp.keys():\n",
    "    total_hosp[c,a] = my_summary(pd.DataFrame(n_hosp[c,a]).sum())\n",
    "total_deaths = {}\n",
    "for c,a in n_deaths.keys():\n",
    "    total_deaths[c,a] = my_summary(pd.DataFrame(n_deaths[c,a]).sum())"
   ]
  },
  {
   "cell_type": "code",
   "execution_count": null,
   "metadata": {},
   "outputs": [],
   "source": [
    "print(f\"\"\"We estimate that without PEP, {total_hosp[0,0]['mean_and_ui']} individuals would be hospitalized\n",
    "because of a COVID-19 infection from a household exposure,\n",
    "while in a hypothetical scenario where 50% of those exposed and of age 50 or older receive PEP,\n",
    "{total_hosp[.5,50]['mean_and_ui']} individuals would be hospitalized;\n",
    "in a scenario where 50% of those exposed and of age 80 or older receive PEP,\n",
    "we estimate {total_hosp[.5,80]['mean_and_ui']} individuals would be hospitalized,\n",
    "and in a scenario where 50% of those exposed and of age 20 or older receive PEP,\n",
    "{total_hosp[.5,20]['mean_and_ui']} individuals would be hospitalized.\n",
    "\"\"\")"
   ]
  },
  {
   "cell_type": "code",
   "execution_count": null,
   "metadata": {},
   "outputs": [],
   "source": [
    "print(f\"\"\"We estimate that without PEP, {total_deaths[0,0]['mean_and_ui']} individuals would die\n",
    "because of a COVID-19 infection from a household exposure,\n",
    "while in a hypothetical scenario where 50% of those exposed and of age 50 or older receive PEP,\n",
    "{total_deaths[.5,50]['mean_and_ui']} individuals would die;\n",
    "in a scenario where 50% of those exposed and of age 80 or older receive PEP,\n",
    "{total_deaths[.5,80]['mean_and_ui']} individuals would die,\n",
    "and in a scenario where 50% of those exposed and of age 20 or older receive PEP,\n",
    "{total_deaths[.5,20]['mean_and_ui']} individuals would die.\n",
    "\"\"\")"
   ]
  },
  {
   "cell_type": "code",
   "execution_count": null,
   "metadata": {},
   "outputs": [],
   "source": [
    "total_cost = {}\n",
    "hosp_cost_str = {}\n",
    "PEP_cost = {}\n",
    "savings = {}\n",
    "incremental_cost = {}\n",
    "\n",
    "total_cost_0 = (pd.Series(mAbs_cost[0,0]) + pd.Series(hosp_cost[0,0])) / 1_000_000\n",
    "\n",
    "for c,a in n_hosp.keys():\n",
    "    total_cost_ca = (pd.Series(mAbs_cost[c,a]) + pd.Series(hosp_cost[c,a])) / 1_000_000\n",
    "    total_cost[c,a] = my_summary(total_cost_ca)\n",
    "    savings[c,a] = my_summary(total_cost_0 - total_cost_ca)\n",
    "    incremental_cost[c,a] = my_summary(total_cost_ca - total_cost_0)\n",
    "    hosp_cost_str[c,a] = my_summary(pd.Series(hosp_cost[c,a])/1_000_000)\n",
    "    PEP_cost[c,a] = my_summary(pd.Series(mAbs_cost[c,a])/1_000_000)\n",
    "    "
   ]
  },
  {
   "cell_type": "code",
   "execution_count": null,
   "metadata": {},
   "outputs": [],
   "source": [
    "print(f\"\"\"We estimate that without PEP, the cost of hospitalizations due to COVID-19 infections from\n",
    "household exposure would be {hosp_cost_str[0,0]['mean_and_ui']} million dollars,\n",
    "while in a hypothetical scenario where 50% of those exposed and of age 50 or older receive PEP,\n",
    "the cost of hospitalizations would be {hosp_cost_str[.5,50]['mean_and_ui']} million dollars and\n",
    "the cost of PEP would be {PEP_cost[.5,50]['mean_and_ui']} million dollars,\n",
    "for a total of {total_cost[.5,50]['mean_and_ui']} million dollars,\n",
    "which is a savings of {savings[.5,50]['mean_and_ui']} million dollars compared to the without-PEP scenario.\n",
    "In a hypothetical scenario where 50% of those exposed and of age 80 or older receive PEP,\n",
    "the cost of hospitalizations would be {hosp_cost_str[.5,80]['mean_and_ui']} million dollars and\n",
    "the cost of PEP would be {PEP_cost[.5,80]['mean_and_ui']} million dollars,\n",
    "for a total of {total_cost[.5,80]['mean_and_ui']} million dollars,\n",
    "which is a savings of {savings[.5,80]['mean_and_ui']} million dollars compared to the without-PEP scenario;\n",
    "and in a hypothetical scenario where 50% of those exposed and of age 20 or older receive PEP,\n",
    "the cost of hospitalizations would be {hosp_cost_str[.5,20]['mean_and_ui']} million dollars and\n",
    "the cost of PEP would be {PEP_cost[.5,20]['mean_and_ui']} million dollars,\n",
    "for a total of {total_cost[.5,20]['mean_and_ui']} million dollars,\n",
    "which is a total of {incremental_cost[.5,20]['mean_and_ui']} million dollars more than in the without-PEP scenario.\n",
    "\"\"\")"
   ]
  },
  {
   "cell_type": "code",
   "execution_count": null,
   "metadata": {},
   "outputs": [],
   "source": [
    "total_cost[c,a]"
   ]
  },
  {
   "cell_type": "code",
   "execution_count": null,
   "metadata": {},
   "outputs": [],
   "source": [
    "import seaborn as sns"
   ]
  },
  {
   "cell_type": "code",
   "execution_count": null,
   "metadata": {},
   "outputs": [],
   "source": [
    "plt.figure(figsize=(6.5,3), dpi=120)\n",
    "for c in [0.25, .5, .75]:\n",
    "    for i, a in enumerate(age_lower_bounds[::-1]):\n",
    "        s_cost = (pd.Series(mAbs_cost[c,a]) + pd.Series(hosp_cost[c,a])) / 1e6\n",
    "        s_cost -= (pd.Series(mAbs_cost[0,0]) + pd.Series(hosp_cost[0,0])) / 1e6\n",
    "        \n",
    "        s_deaths = pd.DataFrame(n_deaths[c,a]).sum(axis=0)\n",
    "        s_deaths -= pd.DataFrame(n_deaths[0,0]).sum(axis=0)\n",
    "        s_deaths *= -1\n",
    "        \n",
    "        if c == 0.5:\n",
    "            plt.plot(s_deaths, s_cost, 'o', label=f'{a}+', alpha=.95, color='none', mec=f'C{i}', mew=1)\n",
    "#         else:\n",
    "#             plt.plot(s_deaths, s_cost, 'o', color='grey')\n",
    "plt.legend(loc=(1.02, .02), title='50% coverage, with\\nPEP for exposed of age:')\n",
    "plt.xlabel('COVID-19 deaths averted (people)')\n",
    "plt.ylabel('Incremental cost (millions of dollars)')\n",
    "plt.grid()\n",
    "plt.subplots_adjust(right=.7);"
   ]
  },
  {
   "cell_type": "code",
   "execution_count": null,
   "metadata": {},
   "outputs": [],
   "source": [
    "attack_rate_without_mAbs.shape"
   ]
  },
  {
   "cell_type": "code",
   "execution_count": null,
   "metadata": {},
   "outputs": [],
   "source": []
  }
 ],
 "metadata": {
  "kernelspec": {
   "display_name": "Python 3",
   "language": "python",
   "name": "python3"
  },
  "language_info": {
   "codemirror_mode": {
    "name": "ipython",
    "version": 3
   },
   "file_extension": ".py",
   "mimetype": "text/x-python",
   "name": "python",
   "nbconvert_exporter": "python",
   "pygments_lexer": "ipython3",
   "version": "3.7.10"
  }
 },
 "nbformat": 4,
 "nbformat_minor": 5
}
