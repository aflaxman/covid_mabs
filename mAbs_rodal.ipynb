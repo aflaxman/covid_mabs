{
 "cells": [
  {
   "cell_type": "code",
   "execution_count": null,
   "id": "ab63e9db-b5d5-43a0-90f1-6a3e931d2c0b",
   "metadata": {},
   "outputs": [],
   "source": [
    "import pandas as pd, matplotlib.pyplot as plt, numpy as np\n",
    "pd.set_option('display.max_rows', 10)\n",
    "\n",
    "%load_ext autoreload\n",
    "%autoreload 2"
   ]
  },
  {
   "cell_type": "markdown",
   "id": "fcc73f07-f1fe-4dde-8e93-b529e374105a",
   "metadata": {},
   "source": [
    "# Potential impact of post-exposure prophalaxis for COVID-19 with monoclonal antibodies\n",
    "\n",
    "Updated from March 2021 analysis to include more recent confirmed cases, and also vaccination coverage.\n",
    "\n",
    "Also updated to use completed, and now peer-reviewed, results from RCT\n",
    "\n",
    "And in this version, use the KFF survey results that 77% of unvaccinated adults say everyone in their household is unvaccinated. https://www.kff.org/coronavirus-covid-19/poll-finding/kff-covid-19-vaccine-monitor-june-2021/"
   ]
  },
  {
   "cell_type": "code",
   "execution_count": null,
   "id": "d554aa67-99c8-4c59-9fc4-a5817b5ca686",
   "metadata": {},
   "outputs": [],
   "source": [
    "# range of values to consider in alternative scenarios\n",
    "coverage_levels = [0, 1/4, 1/2, 3/4, 1]\n",
    "age_lower_bounds = [0, 20, 40, 50, 60, 70, 80]"
   ]
  },
  {
   "cell_type": "code",
   "execution_count": null,
   "id": "1f7155d9-dcfc-4ecc-acd2-d62cab398ac2",
   "metadata": {},
   "outputs": [],
   "source": [
    "n_draws = 100 # number of bootstrap resamples for quantifying uncertainty\n",
    "np.random.seed(12345)  # set random seed for reproducibility"
   ]
  },
  {
   "cell_type": "code",
   "execution_count": null,
   "id": "d3a2b2d8-8ce2-4346-8542-5075b7544d2f",
   "metadata": {},
   "outputs": [],
   "source": [
    "attack_rate_without_mAbs = np.random.binomial(752, 59/752, size=n_draws) / 752\n",
    "attack_rate_with_mAbs = np.random.binomial(753, 11/753, size=n_draws) / 753\n",
    "\n",
    "mAbs_unit_cost = np.random.normal(1_250, 125, size=n_draws)  # 1_250 is what it says online;\n",
    "COVID_hospitalization_unit_cost = np.random.normal(73_300, 7_330, size=n_draws)"
   ]
  },
  {
   "cell_type": "code",
   "execution_count": null,
   "id": "3e828d01-c589-47c8-8e71-1ca37ba1a3d4",
   "metadata": {},
   "outputs": [],
   "source": [
    "# Administrated data on how many vaccines have been given in the US\n",
    "url = \"https://data.cdc.gov/api/views/rh2h-3yt2/rows.csv?accessType=DOWNLOAD\"\n",
    "vax_dt = pd.read_csv(url)\n",
    "vax_dt"
   ]
  },
  {
   "cell_type": "code",
   "execution_count": null,
   "id": "b28131b8-b21a-4881-9e35-c2f40c756117",
   "metadata": {},
   "outputs": [],
   "source": [
    "total_vax = vax_dt[(vax_dt[\"Date\"] == \"05/31/2021\") & (vax_dt[\"date_type\"] == \"Report\") & (vax_dt[\"Location\"] == \"US\")]\n",
    "us_pop = 332_378_911 #census population on 5/31/2021 (https://www.census.gov/popclock/)\n",
    "\n",
    "p_vax   = (total_vax.Admin_Dose_1_Cumulative/us_pop).round(2)\n",
    "p_unvax = 1-p_vax\n",
    "p_vax, p_unvax"
   ]
  },
  {
   "cell_type": "code",
   "execution_count": null,
   "id": "ed0c301f-6879-4c9c-ae25-4241c252abaa",
   "metadata": {},
   "outputs": [],
   "source": [
    "efficacy = 0.95\n",
    "\n",
    "## equ1: p_cc = (p_cc_vax*p_vax) + (p_cc_unvax*p_unvax)\n",
    "## equ2: p_unvax_cc = (p_cc_unvax * p_unvax)/p_cc\n",
    "## equ3: p_cc_vax = efficacy * p_cc_unvax\n",
    "\n",
    "## substitute equ3 into equ1: p_cc = ((efficacy * p_cc_unvax) * p_vax) + (p_cc_unvax*p_unvax)\n",
    "## p_cc = p_cc_unvax((efficacy * p_vax) + p_unvax)\n",
    "\n",
    "## substitute equ1 into equ2: p_unvax_cc = (p_cc_unvax * p_unvax) / p_cc_unvax((efficacy * p_vax) + p_unvax)\n",
    "p_unvax_cc =  p_unvax / ((efficacy * (p_vax)) + p_unvax)\n",
    "p_unvax_cc"
   ]
  },
  {
   "cell_type": "code",
   "execution_count": null,
   "id": "5b07f916-eb72-40f8-b270-154db48094d3",
   "metadata": {},
   "outputs": [],
   "source": [
    "pr_unvaccinated_cond_on_test_positive = np.random.binomial(10_000, unvac_covPos, size=n_draws)/10_000 \n",
    "\n",
    "# https://files.kff.org/attachment/Topline-KFF-COVID-19-Vaccine-Monitor-June-2021.pdf\n",
    "# n = 458, p_all_hh_members unvaccinated = 0.69\n",
    "pr_case_in_unvaccinated_household = pr_unvaccinated_cond_on_test_positive * np.random.binomial(458, 0.69, size=n_draws) / 458"
   ]
  },
  {
   "cell_type": "code",
   "execution_count": null,
   "id": "e834ed36-b1b8-4111-be22-fb64e5959cc2",
   "metadata": {},
   "outputs": [],
   "source": [
    "%%time\n",
    "\n",
    "df_cdc = pd.read_csv('data/cdc_covid_linelist_may_2021.csv.bz2', low_memory=False)"
   ]
  },
  {
   "cell_type": "markdown",
   "id": "26d0be75-bf90-4e75-b63a-c2847f80c0b3",
   "metadata": {},
   "source": [
    "# 1.\tEstimate the number of COVID-19 case count, n_1, and the age-/sex-/race-stratified case counts\n",
    "\n",
    "    n_1 (a,s,r)=# cases for strata (a,s,r).\n"
   ]
  },
  {
   "cell_type": "code",
   "execution_count": null,
   "id": "962a59f0-68d8-446f-9172-9c7d30481bfb",
   "metadata": {},
   "outputs": [],
   "source": [
    "# first select all cases during time period of interest\n",
    "diagnosis_date = pd.to_datetime(df_cdc.pos_spec_dt)\n",
    "rows = (diagnosis_date >= '2021-05-01') & (diagnosis_date < '2021-06-01')\n",
    "t = df_cdc[rows].copy()  # NOTE: same dataframe, code just kept for convenience"
   ]
  },
  {
   "cell_type": "code",
   "execution_count": null,
   "id": "a2e2b33d-2a07-42d0-9b7a-111e16806f3a",
   "metadata": {},
   "outputs": [],
   "source": [
    "n_1_total = len(t) #total cases\n",
    "print(f'Total cases: {n_1_total:,}')"
   ]
  },
  {
   "cell_type": "code",
   "execution_count": null,
   "id": "6eaf4bdf-b51f-43ec-a927-046715436341",
   "metadata": {},
   "outputs": [],
   "source": [
    "age_cutpoints = [0,10,20,30,40,50,60,70,80,125]\n",
    "cdc_age_map = {f'{a} - {a+9} Years':a for a in age_cutpoints}\n",
    "cdc_age_map['80+ Years'] = 80\n",
    "t['age'] = t.age_group.map(cdc_age_map)\n",
    "\n",
    "t['age_group'] = pd.cut(t.age, age_cutpoints, right=False)\n",
    "t['sex'] = t.sex.map({'Male': 'male', 'Female':'female'})\n",
    "t['race_eth'] = t.race_ethnicity_combined.map({\n",
    "    'White, Non-Hispanic':'White',\n",
    "    'Black, Non-Hispanic':'Black',\n",
    "    'Hispanic/Latino':'Hispanic', \n",
    "    'American Indian/Alaska Native, Non-Hispanic':'Other',\n",
    "    'Multiple/Other, Non-Hispanic':'Other',\n",
    "    'Asian, Non-Hispanic':'Other',\n",
    "    'Native Hawaiian/Other Pacific Islander, Non-Hispanic':'Other',\n",
    "})\n",
    "\n",
    "t['weight'] = 1.0\n",
    "#t"
   ]
  },
  {
   "cell_type": "code",
   "execution_count": null,
   "id": "7aaaa319-f81d-48d9-ad2e-06239f3f2b9d",
   "metadata": {},
   "outputs": [],
   "source": [
    "df_cdc_month = t\n",
    "df_cdc_month.shape"
   ]
  },
  {
   "cell_type": "code",
   "execution_count": null,
   "id": "af9a62e8-6b54-4b5f-bd60-f6cf0b962de8",
   "metadata": {},
   "outputs": [],
   "source": [
    "# stratification factors\n",
    "age_groups = pd.cut(np.random.uniform(0, 125, 10_000), age_cutpoints, right=False).unique().sort_values()\n",
    "#age_groups = pd.cut(list(range(0, 125)), age_cutpoints, right=False).unique()\n",
    "sexes = ['male', 'female']\n",
    "race_eth = ['White', 'Black', 'Hispanic', 'Other']\n",
    "stratification_groups = pd.MultiIndex.from_product([age_groups, sexes, race_eth])"
   ]
  },
  {
   "cell_type": "code",
   "execution_count": null,
   "id": "ad597fd3-0f5d-4987-916c-7926d19eb814",
   "metadata": {},
   "outputs": [],
   "source": [
    "%%time\n",
    "#    n_1 (a,s,r) = number of cases for strata (a,s,r).\n",
    "\n",
    "n_1 = {}\n",
    "\n",
    "for k in range(n_draws):\n",
    "    # use bootstrap to resample confirmed cases, to quantify uncertainty\n",
    "    resampled_rows = np.random.choice(df_cdc_month.index, size=len(t), replace=True)\n",
    "    df_selected_cdc = df_cdc_month.loc[resampled_rows]\n",
    "    \n",
    "    n_1[k] = df_selected_cdc.groupby(['age_group', 'sex', 'race_eth']).weight.sum()\n",
    "    \n",
    "    # use parametric resampling from a possion distribution to also include uncertainty in total number of cases\n",
    "    n_1[k] = np.random.poisson(n_1_total) * n_1[k] / n_1[k].sum()"
   ]
  },
  {
   "cell_type": "code",
   "execution_count": null,
   "id": "46c53306-f52b-48f9-b264-f819edc2b16d",
   "metadata": {},
   "outputs": [],
   "source": [
    "# TODO: Table 1 showing the demographics of the confirmed case population,\n",
    "# highlighting amount of missingness and also including household size distribution"
   ]
  },
  {
   "cell_type": "code",
   "execution_count": null,
   "id": "8c27a522-94cb-48c3-b371-f3fdfcf2032f",
   "metadata": {},
   "outputs": [],
   "source": [
    "n_1_mean = pd.DataFrame(n_1).T.mean()\n",
    "np.round(n_1_mean.unstack().unstack(),1)  # number of confirmed cases of COVID-19, stratified by age, sex, and race/ethnicity"
   ]
  },
  {
   "cell_type": "code",
   "execution_count": null,
   "id": "3eba78f0-addb-4f42-bc7f-961f31df278c",
   "metadata": {},
   "outputs": [],
   "source": [
    "# assert np.allclose(n_1_mean.sum(), n_1_total)\n"
   ]
  },
  {
   "cell_type": "markdown",
   "id": "3303feed-e41c-47a3-9fe0-c6effb17872e",
   "metadata": {},
   "source": [
    "## 2. Estimate the stratified number of household contacts who might benefit from mAbs PEP \n",
    "\n",
    "Think of entry $(i,j)$ in this table as the number of people in group $j$ you would find who have been exposed to COVID, if you did a household visit for a COVID-19 case in group $i$.\n",
    "\n",
    "### TODO: Figure out how to quantify uncertainty for this in a reasonable amount of time."
   ]
  },
  {
   "cell_type": "code",
   "execution_count": null,
   "id": "73f99a27-85a2-4809-8787-8ebb61cf6c95",
   "metadata": {},
   "outputs": [],
   "source": [
    "acs = pd.read_csv('data/acs_2019_pums.csv.bz2')\n",
    "acs.head()"
   ]
  },
  {
   "cell_type": "code",
   "execution_count": null,
   "id": "8164f591-76da-424b-b29f-25f2db5464a8",
   "metadata": {},
   "outputs": [],
   "source": [
    "acs['age_group'] = pd.cut(acs.age, age_cutpoints, right=False)\n",
    "acs['sex'] = acs.sex.map({1:'male', 2:'female'})\n",
    "acs['race_eth'] = acs.race_eth.map({1:'White',\n",
    "                                    2:'Black',\n",
    "                                    3:'Hispanic', \n",
    "                                    4:'Other'})\n",
    "acs.head()"
   ]
  },
  {
   "cell_type": "code",
   "execution_count": null,
   "id": "3b13d4ea-5b3a-4e45-838f-c3bf1954f9c2",
   "metadata": {},
   "outputs": [],
   "source": [
    "g_acs = acs[acs.household_id.str.contains('HU')].groupby(['age_group', 'sex', 'race_eth'])\n",
    "g_acs.head()"
   ]
  },
  {
   "cell_type": "code",
   "execution_count": null,
   "id": "1a8ced5b-3a86-4de2-91fd-434996977f71",
   "metadata": {},
   "outputs": [],
   "source": [
    "%%time\n",
    "n_hh = {}\n",
    "\n",
    "for k in range(n_draws):\n",
    "    print('\\n',k)\n",
    "    n_hh[k] = pd.DataFrame(0, index=stratification_groups, columns=stratification_groups)\n",
    "    n_hh[k] = n_hh[k].sort_index()  # make a pesky warning go away, and possibly make things faster --- see https://stackoverflow.com/questions/54307300/what-causes-indexing-past-lexsort-depth-warning-in-pandas\n",
    "    \n",
    "    for i in stratification_groups:\n",
    "        print('.', flush=True, end=' ')\n",
    "        hh_ids = g_acs.get_group(i).household_id  # ids for households containing a person from stratification group i\n",
    "        hh_ids_k = np.random.choice(hh_ids, size=100, replace=True)  # randomly resampled hhs with person from group i\n",
    "\n",
    "        for j in stratification_groups:\n",
    "            t = g_acs.get_group(j) # all people in stratification from j\n",
    "\n",
    "            df_ij = t[t.household_id.isin(hh_ids_k)]  # people in stratification group j who live in household with person from stratification group i\n",
    "\n",
    "            hh_ij = pd.Series(0, index=hh_ids_k).add(\n",
    "                        df_ij.household_id.value_counts() * pd.Series(hh_ids_k).value_counts(),  # resampling with replacement means some hhs will appear more than once\n",
    "                        fill_value=0\n",
    "                    )\n",
    "\n",
    "            n_hh[k].loc[i,j] = hh_ij.mean()\n",
    "            if i == j:\n",
    "                n_hh[k].loc[i,j] -= 1 # don't include the person with a confirmed case when tallying household exposure count"
   ]
  },
  {
   "cell_type": "code",
   "execution_count": null,
   "id": "2b188f7b-65b1-44e7-b60c-64107101677e",
   "metadata": {},
   "outputs": [],
   "source": [
    "%%time\n",
    "\n",
    "n_2_unvax = {}\n",
    "n_2_unvax_total = {}\n",
    "\n",
    "n_2_all = {}\n",
    "n_2_all_total = {}\n",
    "\n",
    "for k in range(n_draws):\n",
    "    n_2_unvax[k] = pd.Series(0.0, index=stratification_groups)\n",
    "    n_2_all[k] = pd.Series(0.0, index=stratification_groups)\n",
    "    for j in stratification_groups:\n",
    "        a0,a1 = j[0].left, j[0].right\n",
    "        s,r=j[1],j[2]\n",
    "        j_cov = (f'[{a0}, {a1})', s, r)\n",
    "        for i in stratification_groups:\n",
    "            n_2_unvax[k][j] += n_1[k][i] * pr_case_in_unvaccinated_household[k] * n_hh[k].loc[i,j] # count only the unvaccinated who's household is all unvaccinated, which is a lower-bound on total\n",
    "            n_2_all[k][j] += n_1[k][i] * n_hh[k].loc[i,j]\n",
    "    n_2_unvax_total[k] = n_2_unvax[k].sum()\n",
    "    n_2_all_total[k] = n_2_all[k].sum()\n",
    "n_2_unvax_mean = sum(n_2_unvax.values()) / n_draws\n",
    "n_2_all_mean = sum(n_2_all.values()) / n_draws\n",
    "np.round(n_2_all_mean.unstack().unstack(), 1)"
   ]
  },
  {
   "cell_type": "code",
   "execution_count": null,
   "id": "f6c09d31-2401-4e00-a1ec-7b680aef40c7",
   "metadata": {},
   "outputs": [],
   "source": [
    "np.round(n_2_unvax_mean.unstack().unstack(), 1)"
   ]
  },
  {
   "cell_type": "code",
   "execution_count": null,
   "id": "81492099-4ef0-46cd-9438-5272d710ff0f",
   "metadata": {},
   "outputs": [],
   "source": [
    "n_2_all_total_mean = sum(n_2_all_total.values()) / n_draws\n",
    "n_2_all_total_unstack np.percentile(list(n_2_all_total.values()), 2.5)\n",
    "n_2_all_total_ub = np.percentile(list(n_2_all_total.values()), 97.5)"
   ]
  },
  {
   "cell_type": "code",
   "execution_count": null,
   "id": "4d8f0968-b5bd-4aa8-a68f-1d5028b5a451",
   "metadata": {},
   "outputs": [],
   "source": [
    "print(f'total number of (vaccinated & unvaccinated) household contacts: {n_2_all_total_mean:,.1f} (95% UI {n_2_all_total_lb:,.1f}-{n_2_all_total_ub:,.1f})')"
   ]
  },
  {
   "cell_type": "code",
   "execution_count": null,
   "id": "0800a1b9-4233-4913-8cd7-e64db49119a1",
   "metadata": {},
   "outputs": [],
   "source": [
    "n_2_total_mean = sum(n_2_unvax_total.values()) / n_draws\n",
    "n_2_total_lb = np.percentile(list(n_2_unvax_total.values()), 2.5)\n",
    "n_2_total_ub = np.percentile(list(n_2_unvax_total.values()), 97.5)"
   ]
  },
  {
   "cell_type": "code",
   "execution_count": null,
   "id": "b4836f45-4754-456e-a136-e8de650e3588",
   "metadata": {},
   "outputs": [],
   "source": [
    "print(f'total number of unvaccinated household contacts: {n_2_total_mean:,.1f} (95% UI {n_2_total_lb:,.1f}-{n_2_total_ub:,.1f})')"
   ]
  },
  {
   "cell_type": "code",
   "execution_count": null,
   "id": "63181538-d996-4cae-952f-a6a0b19ac36b",
   "metadata": {},
   "outputs": [],
   "source": [
    "# household exposure rate (exposures per 100,000 person-months) by race\n",
    "n_2_race = {}\n",
    "for k in range(n_draws):\n",
    "    n_2_race[k] = 100_000 * (n_2_unvax[k].unstack().sum() / g_acs.weight.sum().unstack().sum())\n",
    "\n",
    "np.round(sum(n_2_race.values())/n_draws, 1)"
   ]
  },
  {
   "cell_type": "markdown",
   "id": "e0e48f27-f8b1-4aec-aebc-25e1799e6a5b",
   "metadata": {},
   "source": [
    "## 3. Estimate the number of people who receive PEP in scenarios with a range of coverage levels c and minimum age a_0 for receiving PEP"
   ]
  },
  {
   "cell_type": "code",
   "execution_count": null,
   "id": "059fc503-6640-4c61-a441-231d00b4d99f",
   "metadata": {},
   "outputs": [],
   "source": [
    "n_PEP = {}\n",
    "for c in coverage_levels:\n",
    "    for a0 in age_lower_bounds:\n",
    "        n_PEP[c,a0] = {}\n",
    "        for k in range(n_draws):\n",
    "            age_mask = pd.Series([a.left >= a0 for a,s,r in stratification_groups],\n",
    "                         index=stratification_groups)\n",
    "            n_PEP[c,a0][k] = c*n_2_unvax[k]*age_mask\n"
   ]
  },
  {
   "cell_type": "code",
   "execution_count": null,
   "id": "51712cc2-7158-4639-a451-00c4e536efb0",
   "metadata": {},
   "outputs": [],
   "source": [
    "# treatment rate (tx per 100,000 person-months) by race\n",
    "c,a = .50,50\n",
    "n_PEP_mean = sum(n_PEP[c, a].values())/n_draws\n",
    "np.round(100_000 * (n_PEP_mean.unstack().sum() / g_acs.weight.sum().unstack().sum()), 1)"
   ]
  },
  {
   "cell_type": "markdown",
   "id": "3cb91aa7-d4f0-4b82-b87a-31fd96adb9a4",
   "metadata": {},
   "source": [
    "## 4.\tEstimate the number of people who develop a symptomatic COVID-19 infection in each scenario"
   ]
  },
  {
   "cell_type": "code",
   "execution_count": null,
   "id": "fa47e526-0d75-4890-829d-ef8c114c422d",
   "metadata": {},
   "outputs": [],
   "source": [
    "n_COVID = {}\n",
    "for c in coverage_levels:\n",
    "    for a0 in age_lower_bounds:\n",
    "        n_COVID[c,a0] = {}\n",
    "        for k in range(n_draws):\n",
    "            n_COVID[c,a0][k] = attack_rate_without_mAbs[k] * (n_2_unvax[k] - n_PEP[c,a0][k]) \\\n",
    "                        + attack_rate_with_mAbs[k] * n_PEP[c,a0][k]"
   ]
  },
  {
   "cell_type": "code",
   "execution_count": null,
   "id": "2cc6c6f4-8be7-4dca-8255-1c3711516c6d",
   "metadata": {},
   "outputs": [],
   "source": [
    "n_COVID_mean = sum(n_COVID[0,70].values())/n_draws\n",
    "\n",
    "np.round(n_COVID_mean.unstack().unstack(),1)"
   ]
  },
  {
   "cell_type": "code",
   "execution_count": null,
   "id": "61bee795-1a08-4eac-88f8-44de97f16d0b",
   "metadata": {},
   "outputs": [],
   "source": [
    "n_COVID_mean = sum(n_COVID[.5,70].values())/n_draws\n",
    "\n",
    "np.round(n_COVID_mean.unstack().unstack(),1)"
   ]
  },
  {
   "cell_type": "code",
   "execution_count": null,
   "id": "ef526038-db9e-4a53-92b1-9bca239f514f",
   "metadata": {},
   "outputs": [],
   "source": [
    "print(f'confirmed cases: {n_1_total:,.0f}\\npredicted hh infections: {sum(n_COVID[0,0].values()).sum()/n_draws:,.0f}')"
   ]
  },
  {
   "cell_type": "code",
   "execution_count": null,
   "id": "8073d3bd-2cd6-4f51-8179-563fa4752145",
   "metadata": {},
   "outputs": [],
   "source": [
    "# secondary infection rate (symptomatic infections per 100,000 person-months) by race\n",
    "c,a = .50,50\n",
    "n_COVID_mean = sum(n_COVID[c,a].values())/n_draws\n",
    "\n",
    "np.round(100_000 * (n_COVID_mean.unstack().sum() / g_acs.weight.sum().unstack().sum()), 1)"
   ]
  },
  {
   "cell_type": "code",
   "execution_count": null,
   "id": "b532b5ad-f51d-4d58-a765-ed636c4da4f4",
   "metadata": {},
   "outputs": [],
   "source": [
    "# averted secondary infection rate (symptomatic infections per 100,000 person-months) by race\n",
    "c,a = .50,50\n",
    "n_COVID_averted_mean = sum([n_COVID[0, 0][k] - n_COVID[c, a][k] for k in range(n_draws)]) / n_draws\n",
    "np.round(100_000 * (n_COVID_averted_mean).unstack().sum() / g_acs.weight.sum().unstack().sum(), 1)"
   ]
  },
  {
   "cell_type": "code",
   "execution_count": null,
   "id": "e428f914-da22-4d14-9b90-a47de007c8cb",
   "metadata": {},
   "outputs": [],
   "source": [
    "def print_mean_and_ui(z):\n",
    "    print(f'{np.mean(z):,.0f} ({np.percentile(z, 2.5):,.0f} - {np.percentile(z, 97.5):,.0f})')          "
   ]
  },
  {
   "cell_type": "code",
   "execution_count": null,
   "id": "ef5375b6-6b3b-4236-8ec1-6745e2fd9ce2",
   "metadata": {},
   "outputs": [],
   "source": [
    "c,a = .50,50\n",
    "\n",
    "print('averted secondary infections')\n",
    "print_mean_and_ui(\n",
    "    [(n_COVID[0, 0][k] - n_COVID[c, a][k]).sum() for k in range(n_draws)]\n",
    ")"
   ]
  },
  {
   "cell_type": "markdown",
   "id": "357d44fa-13aa-4a16-95a8-fb7a255363b6",
   "metadata": {},
   "source": [
    "# 5.\tEstimate the number of hospitalizations in each scenario\n",
    "\n",
    "[Rate Ratios for Hospitalization by Age](https://www.cdc.gov/coronavirus/2019-ncov/covid-data/investigations-discovery/hospitalization-death-by-age.html)\n",
    "\n",
    "But better to calculate it myself"
   ]
  },
  {
   "cell_type": "code",
   "execution_count": null,
   "id": "64b0eac7-99a6-4207-ab2f-1642cfdbb010",
   "metadata": {},
   "outputs": [],
   "source": [
    "rows = df_cdc_month.hosp_yn.isin(['No', 'Yes'])\n",
    "df_cdc_month_complete_cases = df_cdc_month[rows].copy()\n",
    "\n",
    "df_cdc_month_complete_cases['hosp'] = (df_cdc_month_complete_cases.hosp_yn == 'Yes').astype(float)\n",
    "# np.round(100 * df_cases.groupby('age_group').hosp.mean(), 1)"
   ]
  },
  {
   "cell_type": "code",
   "execution_count": null,
   "id": "8e334acd-c598-4103-9fd2-91b0cec88752",
   "metadata": {},
   "outputs": [],
   "source": [
    "hospitalization_rate = {}\n",
    "\n",
    "for k in range(n_draws):\n",
    "    resampled_rows = np.random.choice(df_cdc_month_complete_cases.index, size=len(df_cdc_month_complete_cases))\n",
    "    t = df_cdc_month_complete_cases.loc[resampled_rows]\n",
    "    hospitalization_rate[k] = pd.Series(t.groupby(['age_group', 'sex', 'race_eth']).hosp.mean(), index=stratification_groups)\n",
    "\n",
    "hospitalization_rate_mean = sum(hospitalization_rate.values()) / n_draws\n",
    "np.round(hospitalization_rate_mean.unstack().unstack()*100,1)"
   ]
  },
  {
   "cell_type": "code",
   "execution_count": null,
   "id": "d2c1a692-e07e-4dc0-86f7-b8433d31ba2e",
   "metadata": {},
   "outputs": [],
   "source": [
    "# this is hospitalization rate among *confirmed cases*\n",
    "# is the attack rate from Ruanne's study for \"symptomatic cases\"? And how many of these are confirmed\n",
    "for k in range(n_draws):\n",
    "    hospitalization_rate[k] *= 1 # TODO: find case-detection rate to use here, perhaps from study"
   ]
  },
  {
   "cell_type": "code",
   "execution_count": null,
   "id": "718440be-27b0-4638-b850-853db8a16a44",
   "metadata": {},
   "outputs": [],
   "source": [
    "%%time\n",
    "\n",
    "n_hosp = {}\n",
    "for c in coverage_levels:\n",
    "    for a0 in age_lower_bounds:\n",
    "        n_hosp[c,a0] = {}\n",
    "        for k in range(n_draws):\n",
    "            n_hosp[c,a0][k] = hospitalization_rate[k] * n_COVID[c,a0][k]"
   ]
  },
  {
   "cell_type": "code",
   "execution_count": null,
   "id": "d71a8d06-b6f7-42d1-b011-dc9b7991c085",
   "metadata": {},
   "outputs": [],
   "source": [
    "(n_hosp[0, 0][0] - n_hosp[.5, 50][0]).unstack().unstack()"
   ]
  },
  {
   "cell_type": "code",
   "execution_count": null,
   "id": "2ae04e6a-9ccd-4870-a123-5c799a2557d4",
   "metadata": {},
   "outputs": [],
   "source": [
    "# hospitalization rate (tx per 100,000 person-months) by race\n",
    "c,a = .50,50\n",
    "n_hosp_mean = sum(n_hosp[c, a].values()) / n_draws\n",
    "np.round(100_000 * (n_hosp_mean.unstack().sum() / g_acs.weight.sum().unstack().sum()), 1)"
   ]
  },
  {
   "cell_type": "code",
   "execution_count": null,
   "id": "144da48e-ac68-4916-b3b7-bf2ad7b75c7b",
   "metadata": {},
   "outputs": [],
   "source": [
    "# averted hospitalization rate (hospitalizations per 100,000 person-months) by race\n",
    "n_hosp_averted_mean = sum([n_hosp[0, 0][k] - n_hosp[c, a][k] for k in range(n_draws)]) / n_draws\n",
    "np.round(100_000 * (n_hosp_averted_mean.unstack().sum() / g_acs.weight.sum().unstack().sum()), 2)"
   ]
  },
  {
   "cell_type": "code",
   "execution_count": null,
   "id": "a22ef85b-a783-45a2-8712-e384c35d406d",
   "metadata": {},
   "outputs": [],
   "source": [
    "c,a = .50,50\n",
    "\n",
    "print('averted hospitalizations')\n",
    "print_mean_and_ui(\n",
    "    [(n_hosp[0, 0][k] - n_hosp[c, a][k]).sum() for k in range(n_draws)]\n",
    ")"
   ]
  },
  {
   "cell_type": "markdown",
   "id": "0f60f531-00c9-4df3-8f81-b190ad3e6cd0",
   "metadata": {},
   "source": [
    "# 6. Find number of deaths"
   ]
  },
  {
   "cell_type": "code",
   "execution_count": null,
   "id": "4c88d68e-39f8-4d89-978a-49e129539f72",
   "metadata": {},
   "outputs": [],
   "source": [
    "df_cdc_month_complete_cases.death_yn.value_counts()"
   ]
  },
  {
   "cell_type": "code",
   "execution_count": null,
   "id": "b4c0386c-5428-417f-aed3-26bf1fbb7840",
   "metadata": {},
   "outputs": [],
   "source": [
    "df_cdc_month_complete_cases['death'] = df_cdc_month_complete_cases.death_yn.map({'Yes':1, 'No':0})\n",
    "hosp_rows = df_cdc_month_complete_cases[df_cdc_month_complete_cases.hosp == 1].index\n",
    "\n",
    "hospitalization_fatility_ratio = {}\n",
    "for k in range(n_draws):\n",
    "    resampled_rows = np.random.choice(hosp_rows, size=len(hosp_rows), replace=True)\n",
    "    t = df_cdc_month_complete_cases.loc[resampled_rows]\n",
    "    hospitalization_fatility_ratio[k] = t.groupby(['age_group', 'sex', 'race_eth']).death.mean()\n",
    "    hospitalization_fatility_ratio[k] = pd.Series(hospitalization_fatility_ratio[k], index=stratification_groups)\n",
    "np.round((sum(hospitalization_fatility_ratio.values()) / n_draws).unstack().unstack()*100, 1)"
   ]
  },
  {
   "cell_type": "code",
   "execution_count": null,
   "id": "9f70e16f-8a9e-4c51-bbe2-b3ce26d5b6b4",
   "metadata": {},
   "outputs": [],
   "source": [
    "n_deaths = {}\n",
    "for c in coverage_levels:\n",
    "    for a0 in age_lower_bounds:\n",
    "        n_deaths[c,a0] = {}\n",
    "        for k in range(n_draws):\n",
    "            n_deaths[c,a0][k] = hospitalization_fatility_ratio[k] * n_hosp[c,a0][k]"
   ]
  },
  {
   "cell_type": "code",
   "execution_count": null,
   "id": "21cc8196-4247-48cf-8a88-848aa3bb0d2a",
   "metadata": {},
   "outputs": [],
   "source": [
    "c,a = .50,50\n",
    "\n",
    "# averted hospitalization rate (hospitalizations per 100,000 person-months) by race\n",
    "n_death_averted_mean = sum([n_deaths[0, 0][k] - n_deaths[c, a][k] for k in range(n_draws)]) / n_draws\n",
    "np.round((n_death_averted_mean).unstack().unstack(),1)"
   ]
  },
  {
   "cell_type": "code",
   "execution_count": null,
   "id": "2cb272d0-e372-474b-b512-aea48d53e4a6",
   "metadata": {},
   "outputs": [],
   "source": [
    "# averted hospitalization rate (hospitalizations per 100,000 person-months) by race\n",
    "n_death_mean = sum([n_deaths[c, a][k] for k in range(n_draws)]) / n_draws\n",
    "np.round(100_000 * (n_death_mean.unstack().sum() / g_acs.weight.sum().unstack().sum()), 3)"
   ]
  },
  {
   "cell_type": "code",
   "execution_count": null,
   "id": "af8a3b1f-7b3d-4afa-aec2-3a28e7433126",
   "metadata": {},
   "outputs": [],
   "source": [
    "# averted death rate (deaths averted per 100,000 person-months) by race\n",
    "np.round(100_000 * ((n_death_averted_mean).unstack().sum() / g_acs.weight.sum().unstack().sum()), 3)"
   ]
  },
  {
   "cell_type": "code",
   "execution_count": null,
   "id": "3694f169-ad16-4577-a2fa-10bd0e9e022b",
   "metadata": {},
   "outputs": [],
   "source": [
    "c,a = .50,50\n",
    "\n",
    "print('averted deaths')\n",
    "print_mean_and_ui(\n",
    "    [(n_deaths[0, 0][k] - n_deaths[c, a][k]).sum() for k in range(n_draws)]\n",
    ")"
   ]
  },
  {
   "cell_type": "markdown",
   "id": "b8f2725f-80a7-46b7-90c4-cc8f3a1dbc64",
   "metadata": {},
   "source": [
    "## 7.\tEstimate the cost of administering mAbs and the cost of COVID-19 hospitalizations \n",
    "\n",
    "Tough [to get cost of mAbs](https://www.npr.org/sections/health-shots/2020/10/28/928841997/government-signs-deal-for-covid-19-treatments-from-eli-lilly)\n",
    "\n",
    "Lots of hits from a search of [cost of hospitalization](https://www.fairhealth.org/article/costs-for-a-hospital-stay-for-covid-19)."
   ]
  },
  {
   "cell_type": "code",
   "execution_count": null,
   "id": "993d16f8-0d48-4849-9561-8893c0922fde",
   "metadata": {},
   "outputs": [],
   "source": [
    "n_hosp[c,a0][k].sum()"
   ]
  },
  {
   "cell_type": "code",
   "execution_count": null,
   "id": "fcaa858d-42fe-4c59-a060-03408671c3ee",
   "metadata": {},
   "outputs": [],
   "source": [
    "doses = {}\n",
    "mAbs_cost = {}\n",
    "hosp_cost = {}\n",
    "for c in coverage_levels:\n",
    "    for a0 in age_lower_bounds:\n",
    "        doses[c,a0] = {}\n",
    "        mAbs_cost[c,a0] = {}\n",
    "        hosp_cost[c,a0] = {}\n",
    "        for k in range(n_draws):\n",
    "            doses[c,a0][k] = n_PEP[c,a0][k].sum()\n",
    "            mAbs_cost[c,a0][k] = n_PEP[c,a0][k].sum() * mAbs_unit_cost[k]\n",
    "            hosp_cost[c,a0][k] = n_hosp[c,a0][k].sum() * COVID_hospitalization_unit_cost[k]"
   ]
  },
  {
   "cell_type": "code",
   "execution_count": null,
   "id": "4c91835e-4721-45ce-99cf-0b1fc29c83a0",
   "metadata": {},
   "outputs": [],
   "source": [
    "pd.DataFrame(mAbs_cost).mean()"
   ]
  },
  {
   "cell_type": "code",
   "execution_count": null,
   "id": "dd2cde4c-4b3b-4415-b918-e320980942ce",
   "metadata": {},
   "outputs": [],
   "source": [
    "c,a = .50,50\n",
    "\n",
    "print('averted cost')\n",
    "print_mean_and_ui(\n",
    "    [((mAbs_cost[0, 0][k]+hosp_cost[0, 0][k]) - (mAbs_cost[c, a][k]+hosp_cost[c, a][k])).sum() for k in range(n_draws)]\n",
    ")"
   ]
  },
  {
   "cell_type": "code",
   "execution_count": null,
   "id": "f3e87a45-b779-481a-815f-bf1f2b72d22a",
   "metadata": {},
   "outputs": [],
   "source": [
    "cost = pd.DataFrame(mAbs_cost).mean() + pd.DataFrame(hosp_cost).mean()\n",
    "(cost.unstack() / 1_000_000).plot(marker='o')\n",
    "plt.ylabel('Cost (Million USD)')\n",
    "plt.grid();"
   ]
  },
  {
   "cell_type": "code",
   "execution_count": null,
   "id": "e3d34f91-e8de-47e0-9160-532adbd25d05",
   "metadata": {},
   "outputs": [],
   "source": [
    "pd.DataFrame(doses).mean().unstack().plot(marker='o')\n",
    "# plt.semilogy()\n",
    "plt.ylabel('mAbs doses');"
   ]
  },
  {
   "cell_type": "markdown",
   "id": "9ad598fb-b2e9-4ee5-ba69-fda97be68d89",
   "metadata": {},
   "source": [
    "# Burden Averted"
   ]
  },
  {
   "cell_type": "code",
   "execution_count": null,
   "id": "94b3fe17-c604-4608-8cad-ce171739bd25",
   "metadata": {},
   "outputs": [],
   "source": [
    "np.round(pd.Series({i: pd.DataFrame(n_COVID[i]).mean().sum() for i in n_COVID}).unstack(), 1)"
   ]
  },
  {
   "cell_type": "code",
   "execution_count": null,
   "id": "ee42a889-d132-4921-b5c8-674063fd318a",
   "metadata": {},
   "outputs": [],
   "source": [
    "symptomatic_infections_averted = (pd.DataFrame(n_COVID[0,0]).mean().sum()\n",
    "                                  - pd.Series({i: pd.DataFrame(n_COVID[i]).mean().sum() for i in n_COVID})).unstack()\n",
    "np.round(symptomatic_infections_averted,1)"
   ]
  },
  {
   "cell_type": "code",
   "execution_count": null,
   "id": "bca64385-7b62-491a-b8f9-9f11c0614a62",
   "metadata": {},
   "outputs": [],
   "source": [
    "symptomatic_infections_averted.round(1)"
   ]
  },
  {
   "cell_type": "code",
   "execution_count": null,
   "id": "c3ccc8ce-d4f0-4515-9b4d-ced4758db619",
   "metadata": {},
   "outputs": [],
   "source": [
    "hospitalizations_averted = (pd.DataFrame(n_hosp[0,0]).mean().sum()\n",
    "                            - pd.Series({i: pd.DataFrame(n_hosp[i]).mean().sum() for i in n_hosp})).unstack()\n",
    "np.round(hospitalizations_averted,1)"
   ]
  },
  {
   "cell_type": "code",
   "execution_count": null,
   "id": "17a45679-16af-4841-bb78-ed656767c005",
   "metadata": {},
   "outputs": [],
   "source": [
    "deaths_averted = (pd.DataFrame(n_deaths[0,0]).mean().sum()\n",
    "                  - pd.Series({i: pd.DataFrame(n_deaths[i]).mean().sum() for i in n_hosp})).unstack()\n",
    "np.round(deaths_averted,1)"
   ]
  },
  {
   "cell_type": "code",
   "execution_count": null,
   "id": "822f5395-3735-4673-8891-ae3bc3b99634",
   "metadata": {},
   "outputs": [],
   "source": [
    "np.round(pd.DataFrame({'symptomatic_infections_averted':symptomatic_infections_averted.stack(),\n",
    "              'hospitalizations_averted':hospitalizations_averted.stack(),\n",
    "              'deaths_averted':deaths_averted.stack(),\n",
    "#               'mAbs_cost':pd.Series(mAbs_cost)/1e6,\n",
    "#               'hosp_cost':pd.Series(hosp_cost)/1e6,\n",
    "#               'total_cost':cost/1e6,\n",
    "              'thousand_doses':pd.DataFrame(doses).mean()/1e3,\n",
    "              'incremental_cost':(cost-cost.loc[0,0])/1e6\n",
    "             }).unstack(level=0), 1)"
   ]
  },
  {
   "cell_type": "code",
   "execution_count": null,
   "id": "fb0d07de-8cbc-4eea-bd5e-67c815b7e190",
   "metadata": {},
   "outputs": [],
   "source": [
    "ICER = (cost-cost.loc[0,0]) / (deaths_averted).stack()\n",
    "np.round((ICER / 1_000).unstack(), 1)"
   ]
  },
  {
   "cell_type": "code",
   "execution_count": null,
   "id": "56eda844-26fd-4d22-b755-d1ce3c397546",
   "metadata": {},
   "outputs": [],
   "source": [
    "(ICER / 1_000).unstack().T.iloc[:,-1].plot(marker='o')\n",
    "plt.ylabel('ICER (Thousand USD per death averted)')\n",
    "plt.xlabel('Minimum age for PEP (years)')\n",
    "# plt.semilogy();"
   ]
  },
  {
   "cell_type": "markdown",
   "id": "bd3005b3-19b3-48e6-ab21-0c1862ca6be6",
   "metadata": {},
   "source": [
    "# PEP with mAbs is a benefit for patients and for hospitals"
   ]
  },
  {
   "cell_type": "code",
   "execution_count": null,
   "id": "c097610b-953d-4eb4-a18f-b3e90f7565a5",
   "metadata": {},
   "outputs": [],
   "source": [
    "def summary_results(coverage_level, age_lower_bound):\n",
    "    n_symp_averted = symptomatic_infections_averted.loc[coverage_level, age_lower_bound]\n",
    "    n_hosp_averted = hospitalizations_averted.loc[coverage_level, age_lower_bound]\n",
    "    n_deaths_averted = deaths_averted.loc[coverage_level, age_lower_bound]\n",
    "    unit_cost = mAbs_unit_cost\n",
    "    incremental_cost = (cost.loc[coverage_level, age_lower_bound]-cost.loc[0,0])/1e6\n",
    "\n",
    "    \n",
    "    result_str = f\"\"\"Results: In a month of similar intensity to May, 2021,\n",
    "    in USA, a program reaching {coverage_level*100:.0f}% of exposed household members\n",
    "    aged {age_lower_bound}+, would avert {n_symp_averted:,.0f} symptomatic infections,\n",
    "    {n_hosp_averted:,.0f} hospitalizations, and {n_deaths_averted:,.0f} deaths.  If the\n",
    "    unit cost of administering the intervention was {pd.Series(unit_cost).mean():,.0f} dollars,\n",
    "    this program would save the health system {-incremental_cost*1_000:,.0f} thousand dollars.\"\"\"\n",
    "    \n",
    "    print(result_str)\n",
    "summary_results(1/2, 50)"
   ]
  },
  {
   "cell_type": "code",
   "execution_count": null,
   "id": "0b0c238d-64b3-4843-8aff-9fc9fb9585fe",
   "metadata": {},
   "outputs": [],
   "source": [
    "# summary_results(1/3, 50)"
   ]
  },
  {
   "cell_type": "code",
   "execution_count": null,
   "id": "5362ea6c-21cd-4b3b-af38-d02cc6048453",
   "metadata": {},
   "outputs": [],
   "source": [
    "# summary_results(1/2, 50)"
   ]
  },
  {
   "cell_type": "markdown",
   "id": "6d568163-89ef-4d41-9248-d543df5fc86b",
   "metadata": {},
   "source": [
    "# Number-plugging values"
   ]
  },
  {
   "cell_type": "code",
   "execution_count": null,
   "id": "0f341da3-2d53-413d-bb97-664cd9252a11",
   "metadata": {},
   "outputs": [],
   "source": [
    "print(f\"\"\"[[summary of data: RCT included X subjects (Y in treatment group and Z in control),\n",
    "which we combined with confirmed cases data on {len(df_cdc_month):,.0f} individuals and\n",
    "household structure data derived from {len(acs):,.0f} individuals in {acs.household_id.nunique():,.0f} households.]]\n",
    "\"\"\")"
   ]
  },
  {
   "cell_type": "code",
   "execution_count": null,
   "id": "8660667e-e613-442f-87a1-5379485a7af7",
   "metadata": {},
   "outputs": [],
   "source": [
    "n_2 = pd.DataFrame(n_2_unvax)\n",
    "n_2"
   ]
  },
  {
   "cell_type": "code",
   "execution_count": null,
   "id": "5b980af7-aa9b-4e4a-8e0d-7a717e305756",
   "metadata": {},
   "outputs": [],
   "source": [
    "print(f\"\"\"[[Confirmed case and household structure results,\n",
    "summarizing something about the racial segregation of household structure,\n",
    "the age-assortativity. In [[May]], there were [[{len(df_cdc_month):,.0f}]]\n",
    "confirmed cases of COVID-19, which we estimate resulted\n",
    "in {n_2.sum().mean():,.0f} (95% UI {np.percentile(n_2.sum(), 2.5):,.0f}-{np.percentile(n_2.sum(), 97.5):,.0f}) individuals with household exposure to COVID-19. ]] [[stratify counts or rates by race??]]\"\"\")"
   ]
  },
  {
   "cell_type": "code",
   "execution_count": null,
   "id": "02bbcc31-e6d2-4ebf-bb28-8b3dd88af7a4",
   "metadata": {},
   "outputs": [],
   "source": [
    "n_2.unstack().sum().unstack().mean()"
   ]
  },
  {
   "cell_type": "code",
   "execution_count": null,
   "id": "faa01e8a-cf80-474f-8dfc-896c95f0593c",
   "metadata": {},
   "outputs": [],
   "source": [
    "print(f\"\"\"[[Number who receive PEP in alternative scenarios, and for alternative age cutoffs. Perhaps in a table?  Population-level rates of treatment stratified by race?]]\"\"\")"
   ]
  },
  {
   "cell_type": "code",
   "execution_count": null,
   "id": "3db8b89d-ad11-4701-9bdc-7d070c0bd1bd",
   "metadata": {},
   "outputs": [],
   "source": [
    "def my_summary(x):\n",
    "    mean = np.mean(x)\n",
    "    lb = np.percentile(x, 2.5)\n",
    "    ub = np.percentile(x, 97.5)\n",
    "    results = locals()\n",
    "    results.pop('x')\n",
    "    for k in results:\n",
    "        results[k] = '{:,.0f}'.format(results[k])\n",
    "    results['ui'] = results['lb']+'-'+results['ub']\n",
    "    results['mean_and_ui'] = f\"\"\"{results['mean']} (95% UI {results['ui']})\"\"\"\n",
    "    return results\n",
    "\n",
    "total_PEP = {}\n",
    "for c,a in n_PEP.keys():\n",
    "    total_PEP[c,a] = my_summary(pd.DataFrame(n_PEP[c,a]).sum())"
   ]
  },
  {
   "cell_type": "code",
   "execution_count": null,
   "id": "ce4b25f0-2cb0-47b9-98bf-d772a5185f2b",
   "metadata": {},
   "outputs": [],
   "source": [
    "print(f\"\"\"In a hypothetical scenario where 50% of those exposed and of age 50 or older receive PEP,\n",
    "we estimate {total_PEP[.5,50]['mean_and_ui']} individuals would be treated.\"\"\")"
   ]
  },
  {
   "cell_type": "code",
   "execution_count": null,
   "id": "501d479a-6de8-45f4-b014-b315a012e6e6",
   "metadata": {},
   "outputs": [],
   "source": [
    "print(f\"\"\"While in a hypothetical scenario where 50% of those exposed and of age 80 or older receive PEP,\n",
    "we estimate {total_PEP[.5,80]['mean']} (95% UI {total_PEP[.5,80]['ui']}) individuals would be treated,\"\"\")"
   ]
  },
  {
   "cell_type": "code",
   "execution_count": null,
   "id": "03221eff-ac0b-44f4-a396-c96c630df29f",
   "metadata": {},
   "outputs": [],
   "source": [
    "print(f\"\"\"and in a hypothetical scenario where 50% of those exposed and of age 20 or older receive PEP,\n",
    "we estimate {total_PEP[.5,20]['mean']} (95% UI {total_PEP[.5,20]['ui']}) individuals would be treated.\"\"\")"
   ]
  },
  {
   "cell_type": "code",
   "execution_count": null,
   "id": "5c0f49cc-81f6-4de7-98b6-56547fefd12e",
   "metadata": {},
   "outputs": [],
   "source": [
    "total_COVID = {}\n",
    "for c,a in n_COVID.keys():\n",
    "    total_COVID[c,a] = my_summary(pd.DataFrame(n_COVID[c,a]).sum())"
   ]
  },
  {
   "cell_type": "code",
   "execution_count": null,
   "id": "f084725b-c8ec-4c9c-859e-3c0551ba6c6c",
   "metadata": {},
   "outputs": [],
   "source": [
    "print(f\"\"\"[[Number who develop symptomatic COVID-19 in baseline and alternative scenarios, and for alternative age cutoffs. Including stratification by race and ethnicity.]]\"\"\")\n",
    "\n",
    "print(f\"\"\"We estimate that without PEP, {total_COVID[0,0]['mean_and_ui']} individuals developed a symptomatic COVID-19 infection from a household exposure,\n",
    "      while in a hypothetical scenario where 50% of those exposed and of age 50 or older receive PEP,\n",
    "{total_COVID[.5,50]['mean_and_ui']} individuals developed a symptomatic infection.\"\"\")"
   ]
  },
  {
   "cell_type": "code",
   "execution_count": null,
   "id": "3dcd0d20-7754-47f8-b724-e34d4f720ff5",
   "metadata": {},
   "outputs": [],
   "source": [
    "print(f\"\"\"In a hypothetical scenario where 50% of those exposed and of age 80 or older receive PEP,\n",
    "we estimate {total_COVID[.5,80]['mean_and_ui']} individuals developed symptomatic infection,\n",
    "and in a hypothetical scenario where 50% of those exposed and of age 20 or older receive PEP,\n",
    "we estimate {total_COVID[.5,20]['mean_and_ui']} individuals developed symptomatic infection.\"\"\")"
   ]
  },
  {
   "cell_type": "code",
   "execution_count": null,
   "id": "5da45fa5-1da9-4402-86a0-168d44ab86a0",
   "metadata": {},
   "outputs": [],
   "source": [
    "total_hosp = {}\n",
    "for c,a in n_hosp.keys():\n",
    "    total_hosp[c,a] = my_summary(pd.DataFrame(n_hosp[c,a]).sum())\n",
    "total_deaths = {}\n",
    "for c,a in n_deaths.keys():\n",
    "    total_deaths[c,a] = my_summary(pd.DataFrame(n_deaths[c,a]).sum())"
   ]
  },
  {
   "cell_type": "code",
   "execution_count": null,
   "id": "b50b6e22-7dd2-4cb4-a75d-87f81c6f1e75",
   "metadata": {},
   "outputs": [],
   "source": [
    "print(f\"\"\"We estimate that without PEP, {total_hosp[0,0]['mean_and_ui']} individuals would be hospitalized\n",
    "because of a COVID-19 infection from a household exposure,\n",
    "while in a hypothetical scenario where 50% of those exposed and of age 50 or older receive PEP,\n",
    "{total_hosp[.5,50]['mean_and_ui']} individuals would be hospitalized;\n",
    "in a scenario where 50% of those exposed and of age 80 or older receive PEP,\n",
    "we estimate {total_hosp[.5,80]['mean_and_ui']} individuals would be hospitalized,\n",
    "and in a scenario where 50% of those exposed and of age 20 or older receive PEP,\n",
    "{total_hosp[.5,20]['mean_and_ui']} individuals would be hospitalized.\n",
    "\"\"\")"
   ]
  },
  {
   "cell_type": "code",
   "execution_count": null,
   "id": "682a84ed-3a45-4e0c-8704-05b36f30cc37",
   "metadata": {},
   "outputs": [],
   "source": [
    "print(f\"\"\"We estimate that without PEP, {total_deaths[0,0]['mean_and_ui']} individuals would die\n",
    "because of a COVID-19 infection from a household exposure,\n",
    "while in a hypothetical scenario where 50% of those exposed and of age 50 or older receive PEP,\n",
    "{total_deaths[.5,50]['mean_and_ui']} individuals would die;\n",
    "in a scenario where 50% of those exposed and of age 80 or older receive PEP,\n",
    "{total_deaths[.5,80]['mean_and_ui']} individuals would die,\n",
    "and in a scenario where 50% of those exposed and of age 20 or older receive PEP,\n",
    "{total_deaths[.5,20]['mean_and_ui']} individuals would die.\n",
    "\"\"\")"
   ]
  },
  {
   "cell_type": "code",
   "execution_count": null,
   "id": "cbee6f9e-e139-4f27-b8f9-94b3c0eacaba",
   "metadata": {},
   "outputs": [],
   "source": [
    "total_cost = {}\n",
    "hosp_cost_str = {}\n",
    "PEP_cost = {}\n",
    "savings = {}\n",
    "incremental_cost = {}\n",
    "\n",
    "total_cost_0 = (pd.Series(mAbs_cost[0,0]) + pd.Series(hosp_cost[0,0])) / 1_000_000\n",
    "\n",
    "for c,a in n_hosp.keys():\n",
    "    total_cost_ca = (pd.Series(mAbs_cost[c,a]) + pd.Series(hosp_cost[c,a])) / 1_000_000\n",
    "    total_cost[c,a] = my_summary(total_cost_ca)\n",
    "    savings[c,a] = my_summary(total_cost_0 - total_cost_ca)\n",
    "    incremental_cost[c,a] = my_summary(total_cost_ca - total_cost_0)\n",
    "    hosp_cost_str[c,a] = my_summary(pd.Series(hosp_cost[c,a])/1_000_000)\n",
    "    PEP_cost[c,a] = my_summary(pd.Series(mAbs_cost[c,a])/1_000_000)\n",
    "    "
   ]
  },
  {
   "cell_type": "code",
   "execution_count": null,
   "id": "33709001-c70c-47a2-a753-e2076389ef57",
   "metadata": {},
   "outputs": [],
   "source": [
    "print(f\"\"\"We estimate that without PEP, the cost of hospitalizations due to COVID-19 infections from\n",
    "household exposure would be {hosp_cost_str[0,0]['mean_and_ui']} million dollars,\n",
    "while in a hypothetical scenario where 50% of those exposed and of age 50 or older receive PEP,\n",
    "the cost of hospitalizations would be {hosp_cost_str[.5,50]['mean_and_ui']} million dollars and\n",
    "the cost of PEP would be {PEP_cost[.5,50]['mean_and_ui']} million dollars,\n",
    "for a total of {total_cost[.5,50]['mean_and_ui']} million dollars,\n",
    "which is a savings of {savings[.5,50]['mean_and_ui']} million dollars compared to the without-PEP scenario.\n",
    "In a hypothetical scenario where 50% of those exposed and of age 80 or older receive PEP,\n",
    "the cost of hospitalizations would be {hosp_cost_str[.5,80]['mean_and_ui']} million dollars and\n",
    "the cost of PEP would be {PEP_cost[.5,80]['mean_and_ui']} million dollars,\n",
    "for a total of {total_cost[.5,80]['mean_and_ui']} million dollars,\n",
    "which is a savings of {savings[.5,80]['mean_and_ui']} million dollars compared to the without-PEP scenario;\n",
    "and in a hypothetical scenario where 50% of those exposed and of age 20 or older receive PEP,\n",
    "the cost of hospitalizations would be {hosp_cost_str[.5,20]['mean_and_ui']} million dollars and\n",
    "the cost of PEP would be {PEP_cost[.5,20]['mean_and_ui']} million dollars,\n",
    "for a total of {total_cost[.5,20]['mean_and_ui']} million dollars,\n",
    "which is a total of {incremental_cost[.5,20]['mean_and_ui']} million dollars more than in the without-PEP scenario.\n",
    "\"\"\")"
   ]
  },
  {
   "cell_type": "code",
   "execution_count": null,
   "id": "732627c5-cd12-4059-9372-c04ca7caa6ad",
   "metadata": {},
   "outputs": [],
   "source": [
    "total_cost[c,a]"
   ]
  },
  {
   "cell_type": "code",
   "execution_count": null,
   "id": "79422029-5d01-46c3-9327-06aa883dd436",
   "metadata": {},
   "outputs": [],
   "source": [
    "import seaborn as sns"
   ]
  },
  {
   "cell_type": "code",
   "execution_count": null,
   "id": "bdd5e6a1-ce81-41d5-bd18-affb0ff3a097",
   "metadata": {},
   "outputs": [],
   "source": [
    "plt.figure(figsize=(6.5,3), dpi=120)\n",
    "for c in [0.25, .5, .75]:\n",
    "    for i, a in enumerate(age_lower_bounds[::-1]):\n",
    "        s_cost = (pd.Series(mAbs_cost[c,a]) + pd.Series(hosp_cost[c,a])) / 1e6\n",
    "        s_cost -= (pd.Series(mAbs_cost[0,0]) + pd.Series(hosp_cost[0,0])) / 1e6\n",
    "        \n",
    "        s_deaths = pd.DataFrame(n_deaths[c,a]).sum(axis=0)\n",
    "        s_deaths -= pd.DataFrame(n_deaths[0,0]).sum(axis=0)\n",
    "        s_deaths *= -1\n",
    "        \n",
    "        if c == 0.5:\n",
    "            plt.plot(s_deaths, s_cost, 'o', label=f'{a}+', alpha=.95, color='none', mec=f'C{i}', mew=1)\n",
    "#         else:\n",
    "#             plt.plot(s_deaths, s_cost, 'o', color='grey')\n",
    "plt.legend(loc=(1.02, .02), title='50% coverage, with\\nPEP for exposed of age:')\n",
    "plt.xlabel('COVID-19 deaths averted (people)')\n",
    "plt.ylabel('Incremental cost (millions of dollars)')\n",
    "plt.grid()\n",
    "plt.subplots_adjust(right=.7);"
   ]
  },
  {
   "cell_type": "code",
   "execution_count": null,
   "id": "763c9c3c-2e3d-4a29-9213-44970caee8d6",
   "metadata": {},
   "outputs": [],
   "source": [
    "attack_rate_without_mAbs.shape"
   ]
  },
  {
   "cell_type": "code",
   "execution_count": null,
   "id": "66cacf06-cf9e-43a2-a335-15c44c0a8ed1",
   "metadata": {},
   "outputs": [],
   "source": []
  }
 ],
 "metadata": {
  "kernelspec": {
   "display_name": "Python 3",
   "language": "python",
   "name": "python3"
  },
  "language_info": {
   "codemirror_mode": {
    "name": "ipython",
    "version": 3
   },
   "file_extension": ".py",
   "mimetype": "text/x-python",
   "name": "python",
   "nbconvert_exporter": "python",
   "pygments_lexer": "ipython3",
   "version": "3.8.8"
  }
 },
 "nbformat": 4,
 "nbformat_minor": 5
}
