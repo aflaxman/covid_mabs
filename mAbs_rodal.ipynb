{
 "cells": [
  {
   "cell_type": "code",
   "execution_count": null,
   "id": "a260904b",
   "metadata": {},
   "outputs": [],
   "source": [
    "import pandas as pd, matplotlib.pyplot as plt, numpy as np\n",
    "pd.set_option('display.max_rows', 10)\n",
    "\n",
    "%load_ext autoreload\n",
    "%autoreload 2"
   ]
  },
  {
   "cell_type": "markdown",
   "id": "2ad6ce65",
   "metadata": {},
   "source": [
    "# Potential impact of post-exposure prophalaxis for COVID-19 with monoclonal antibodies\n",
    "\n",
    "Updated from March 2021 analysis to include more recent confirmed cases, and also vaccination coverage.\n",
    "\n",
    "Also updated to use completed, and now peer-reviewed, results from RCT\n",
    "\n",
    "And in this version, use the KFF survey results that 77% of unvaccinated adults say everyone in their household is unvaccinated. https://www.kff.org/coronavirus-covid-19/poll-finding/kff-covid-19-vaccine-monitor-june-2021/"
   ]
  },
  {
   "cell_type": "code",
   "execution_count": null,
   "id": "ab607cce",
   "metadata": {},
   "outputs": [],
   "source": [
    "# range of values to consider in alternative scenarios\n",
    "coverage_levels = [0, 1/4, 1/2, 3/4, 1]\n",
    "age_lower_bounds = [0, 20, 40, 50, 60, 70, 80]"
   ]
  },
  {
   "cell_type": "code",
   "execution_count": null,
   "id": "5a6ad19c",
   "metadata": {},
   "outputs": [],
   "source": [
    "n_draws = 100 # number of bootstrap resamples for quantifying uncertainty\n",
    "np.random.seed(12345)  # set random seed for reproducibility"
   ]
  },
  {
   "cell_type": "code",
   "execution_count": null,
   "id": "eff1bf64",
   "metadata": {},
   "outputs": [],
   "source": [
    "attack_rate_without_mAbs = np.random.binomial(752, 59/752, size=n_draws) / 752\n",
    "attack_rate_with_mAbs = np.random.binomial(753, 11/753, size=n_draws) / 753\n",
    "\n",
    "mAbs_unit_cost = np.random.normal(1_250, 125, size=n_draws)  # 1_250 is what it says online;\n",
    "COVID_hospitalization_unit_cost = np.random.normal(73_300, 7_330, size=n_draws)"
   ]
  },
  {
   "cell_type": "code",
   "execution_count": null,
   "id": "d7ffda17",
   "metadata": {},
   "outputs": [],
   "source": [
    "%%time\n",
    "\n",
    "# Administrated data on how many vaccines have been given in the US\n",
    "url = \"https://data.cdc.gov/api/views/rh2h-3yt2/rows.csv?accessType=DOWNLOAD\"\n",
    "vax_dt = pd.read_csv(url)\n",
    "#vax_dt"
   ]
  },
  {
   "cell_type": "code",
   "execution_count": null,
   "id": "b602c657",
   "metadata": {},
   "outputs": [],
   "source": [
    "total_vax = vax_dt[(vax_dt[\"Date\"] == \"05/31/2021\") & (vax_dt[\"date_type\"] == \"Report\") & (vax_dt[\"Location\"] == \"US\")]\n",
    "us_pop = 332_378_911 #census population on 5/31/2021 (https://www.census.gov/popclock/)\n",
    "\n",
    "p_vax   = np.random.binomial(us_pop, total_vax.Admin_Dose_1_Cumulative/us_pop, size=n_draws) / us_pop\n",
    "p_unvax = 1-p_vax\n",
    "#p_vax, p_unvax"
   ]
  },
  {
   "cell_type": "code",
   "execution_count": null,
   "id": "793a5788",
   "metadata": {},
   "outputs": [],
   "source": [
    "# TODO: fill in the following with an appropriate RCT (or meta-analysis, or real-world effectiveness study...)\n",
    "# numbers from https://www.ncbi.nlm.nih.gov/pmc/articles/PMC8022879/pdf/mm7013e3.pdf\n",
    "n_treated = 2_928 #(excluded 33 cases in study because occured before 14 days period)\n",
    "cases_treated = 11\n",
    "\n",
    "n_control = 989\n",
    "cases_control = 161\n",
    "\n",
    "efficacy = 1 - (\n",
    "    (np.random.binomial(n_treated, cases_treated/n_treated, size=n_draws) / n_treated)\n",
    "    /\n",
    "    (np.random.binomial(n_control, cases_control/n_control, size=n_draws) / n_control))\n",
    "\n",
    "## equ1: p_cc = (p_cc_vax*p_vax) + (p_cc_unvax*p_unvax)\n",
    "## equ2: p_unvax_cc = (p_cc_unvax * p_unvax)/p_cc\n",
    "## equ3: p_cc_vax = efficacy * p_cc_unvax\n",
    "\n",
    "## substitute equ3 into equ1: p_cc = ((efficacy * p_cc_unvax) * p_vax) + (p_cc_unvax*p_unvax)\n",
    "## p_cc = p_cc_unvax((efficacy * p_vax) + p_unvax)\n",
    "\n",
    "## substitute equ1 into equ2: p_unvax_cc = (p_cc_unvax * p_unvax) / p_cc_unvax((efficacy * p_vax) + p_unvax)\n",
    "p_unvax_cc =  p_unvax / (((1-efficacy) * (p_vax)) + p_unvax)\n",
    "#p_unvax_cc"
   ]
  },
  {
   "cell_type": "code",
   "execution_count": null,
   "id": "45c3e882",
   "metadata": {},
   "outputs": [],
   "source": [
    "pr_unvaccinated_cond_on_test_positive = p_unvax_cc  # np.random.binomial(10_000, unvac_covPos, size=n_draws)/10_000 \n",
    "\n",
    "# https://files.kff.org/attachment/Topline-KFF-COVID-19-Vaccine-Monitor-June-2021.pdf\n",
    "# n = 458, p_all_hh_members unvaccinated = 0.69\n",
    "pr_case_in_unvaccinated_household = pr_unvaccinated_cond_on_test_positive * np.random.binomial(458, 0.69, size=n_draws) / 458"
   ]
  },
  {
   "cell_type": "code",
   "execution_count": null,
   "id": "dfb1a13c",
   "metadata": {},
   "outputs": [],
   "source": [
    "%%time\n",
    "\n",
    "df_cdc = pd.read_csv('data/cdc_covid_linelist_may_2021.csv.bz2', low_memory=False)"
   ]
  },
  {
   "cell_type": "markdown",
   "id": "407032ba",
   "metadata": {},
   "source": [
    "# 1.\tEstimate the number of COVID-19 case count, n_1, and the age-/sex-/race-stratified case counts\n",
    "\n",
    "    n_1 (a,s,r)=# cases for strata (a,s,r).\n"
   ]
  },
  {
   "cell_type": "code",
   "execution_count": null,
   "id": "4991011b",
   "metadata": {},
   "outputs": [],
   "source": [
    "# first select all cases during time period of interest\n",
    "diagnosis_date = pd.to_datetime(df_cdc.pos_spec_dt)\n",
    "rows = (diagnosis_date >= '2021-05-01') & (diagnosis_date < '2021-06-01')\n",
    "t = df_cdc[rows].copy()  # NOTE: same dataframe, code just kept for convenience"
   ]
  },
  {
   "cell_type": "code",
   "execution_count": null,
   "id": "3b63ccf8",
   "metadata": {},
   "outputs": [],
   "source": [
    "n_1_total = len(t) #total cases\n",
    "print(f'Total cases: {n_1_total:,}')"
   ]
  },
  {
   "cell_type": "code",
   "execution_count": null,
   "id": "c236517a",
   "metadata": {},
   "outputs": [],
   "source": [
    "age_cutpoints = [0,10,20,30,40,50,60,70,80,125]\n",
    "cdc_age_map = {f'{a} - {a+9} Years':a for a in age_cutpoints}\n",
    "cdc_age_map['80+ Years'] = 80\n",
    "t['age'] = t.age_group.map(cdc_age_map)\n",
    "\n",
    "t['age_group'] = pd.cut(t.age, age_cutpoints, right=False)\n",
    "t['sex'] = t.sex.map({'Male': 'male', 'Female':'female'})\n",
    "t['race_eth'] = t.race_ethnicity_combined.map({\n",
    "    'White, Non-Hispanic':'White',\n",
    "    'Black, Non-Hispanic':'Black',\n",
    "    'Hispanic/Latino':'Hispanic', \n",
    "    'American Indian/Alaska Native, Non-Hispanic':'Other',\n",
    "    'Multiple/Other, Non-Hispanic':'Other',\n",
    "    'Asian, Non-Hispanic':'Other',\n",
    "    'Native Hawaiian/Other Pacific Islander, Non-Hispanic':'Other',\n",
    "})\n",
    "\n",
    "t['weight'] = 1.0\n",
    "#t"
   ]
  },
  {
   "cell_type": "code",
   "execution_count": null,
   "id": "4583f0d9",
   "metadata": {},
   "outputs": [],
   "source": [
    "df_cdc_month = t\n",
    "#df_cdc_month.shape"
   ]
  },
  {
   "cell_type": "code",
   "execution_count": null,
   "id": "6f0ebd89",
   "metadata": {},
   "outputs": [],
   "source": [
    "# stratification factors\n",
    "age_groups = pd.cut(np.random.uniform(0, 125, 10_000), age_cutpoints, right=False).unique().sort_values()\n",
    "#age_groups = pd.cut(list(range(0, 125)), age_cutpoints, right=False).unique()\n",
    "sexes = ['male', 'female']\n",
    "race_eth = ['White', 'Black', 'Hispanic', 'Other']\n",
    "stratification_groups = pd.MultiIndex.from_product([age_groups, sexes, race_eth])"
   ]
  },
  {
   "cell_type": "code",
   "execution_count": null,
   "id": "bbed27a1",
   "metadata": {},
   "outputs": [],
   "source": [
    "%%time\n",
    "#    n_1 (a,s,r) = number of cases for strata (a,s,r).\n",
    "\n",
    "n_1 = {}\n",
    "\n",
    "for k in range(n_draws):\n",
    "    # use bootstrap to resample confirmed cases, to quantify uncertainty\n",
    "    resampled_rows = np.random.choice(df_cdc_month.index, size=len(t), replace=True)\n",
    "    df_selected_cdc = df_cdc_month.loc[resampled_rows]\n",
    "    \n",
    "    n_1[k] = df_selected_cdc.groupby(['age_group', 'sex', 'race_eth']).weight.sum()\n",
    "    \n",
    "    # use parametric resampling from a possion distribution to also include uncertainty in total number of cases\n",
    "    n_1[k] = np.random.poisson(n_1_total) * n_1[k] / n_1[k].sum()"
   ]
  },
  {
   "cell_type": "code",
   "execution_count": null,
   "id": "c9353377",
   "metadata": {},
   "outputs": [],
   "source": [
    "# TODO: Table 1 showing the demographics of the confirmed case population,\n",
    "# highlighting amount of missingness and also including household size distribution"
   ]
  },
  {
   "cell_type": "code",
   "execution_count": null,
   "id": "acf192ae",
   "metadata": {},
   "outputs": [],
   "source": [
    "n_1_mean = pd.DataFrame(n_1).T.mean()\n",
    "np.round(n_1_mean.unstack().unstack(),1)  # number of confirmed cases of COVID-19, stratified by age, sex, and race/ethnicity"
   ]
  },
  {
   "cell_type": "code",
   "execution_count": null,
   "id": "381050f2",
   "metadata": {},
   "outputs": [],
   "source": [
    "# assert np.allclose(n_1_mean.sum(), n_1_total)\n"
   ]
  },
  {
   "cell_type": "markdown",
   "id": "b270458c",
   "metadata": {},
   "source": [
    "## 2. Estimate the stratified number of household contacts who might benefit from mAbs PEP \n",
    "\n",
    "Think of entry $(i,j)$ in this table as the number of people in group $j$ you would find who have been exposed to COVID, if you did a household visit for a COVID-19 case in group $i$.\n",
    "\n",
    "### TODO: Figure out how to quantify uncertainty for this in a reasonable amount of time."
   ]
  },
  {
   "cell_type": "code",
   "execution_count": null,
   "id": "33d90932",
   "metadata": {},
   "outputs": [],
   "source": [
    "acs = pd.read_csv('data/acs_2019_pums.csv.bz2')\n",
    "#acs.head()"
   ]
  },
  {
   "cell_type": "code",
   "execution_count": null,
   "id": "f8b1b4f6",
   "metadata": {},
   "outputs": [],
   "source": [
    "acs['age_group'] = pd.cut(acs.age, age_cutpoints, right=False)\n",
    "acs['sex'] = acs.sex.map({1:'male', 2:'female'})\n",
    "acs['race_eth'] = acs.race_eth.map({1:'White',\n",
    "                                    2:'Black',\n",
    "                                    3:'Hispanic', \n",
    "                                    4:'Other'})\n",
    "#acs.head()"
   ]
  },
  {
   "cell_type": "code",
   "execution_count": null,
   "id": "e0ff4a9a",
   "metadata": {},
   "outputs": [],
   "source": [
    "g_acs = acs[acs.household_id.str.contains('HU')].groupby(['age_group', 'sex', 'race_eth'])\n",
    "#g_acs.head()"
   ]
  },
  {
   "cell_type": "code",
   "execution_count": null,
   "id": "4c8841e8",
   "metadata": {},
   "outputs": [],
   "source": [
    "%%time\n",
    "n_hh = {}\n",
    "\n",
    "for k in range(n_draws):\n",
    "    print('\\n',k)\n",
    "    n_hh[k] = pd.DataFrame(0, index=stratification_groups, columns=stratification_groups)\n",
    "    n_hh[k] = n_hh[k].sort_index()  # make a pesky warning go away, and possibly make things faster --- see https://stackoverflow.com/questions/54307300/what-causes-indexing-past-lexsort-depth-warning-in-pandas\n",
    "    \n",
    "    for i in stratification_groups:\n",
    "        print('.', flush=True, end=' ')\n",
    "        hh_ids = g_acs.get_group(i).household_id  # ids for households containing a person from stratification group i\n",
    "        hh_ids_k = np.random.choice(hh_ids, size=100, replace=True)  # randomly resampled hhs with person from group i\n",
    "\n",
    "        for j in stratification_groups:\n",
    "            t = g_acs.get_group(j) # all people in stratification from j\n",
    "\n",
    "            df_ij = t[t.household_id.isin(hh_ids_k)]  # people in stratification group j who live in household with person from stratification group i\n",
    "\n",
    "            hh_ij = pd.Series(0, index=hh_ids_k).add(\n",
    "                        df_ij.household_id.value_counts() * pd.Series(hh_ids_k).value_counts(),  # resampling with replacement means some hhs will appear more than once\n",
    "                        fill_value=0\n",
    "                    )\n",
    "\n",
    "            n_hh[k].loc[i,j] = hh_ij.mean()\n",
    "            if i == j:\n",
    "                n_hh[k].loc[i,j] -= 1 # don't include the person with a confirmed case when tallying household exposure count"
   ]
  },
  {
   "cell_type": "code",
   "execution_count": null,
   "id": "1029c102",
   "metadata": {},
   "outputs": [],
   "source": [
    "%%time\n",
    "\n",
    "n_2_unvax = {}\n",
    "n_2_unvax_total = {}\n",
    "\n",
    "n_2_all = {}\n",
    "n_2_all_total = {}\n",
    "\n",
    "for k in range(n_draws):\n",
    "    n_2_unvax[k] = pd.Series(0.0, index=stratification_groups)\n",
    "    n_2_all[k] = pd.Series(0.0, index=stratification_groups)\n",
    "    for j in stratification_groups:\n",
    "        a0,a1 = j[0].left, j[0].right\n",
    "        s,r=j[1],j[2]\n",
    "        j_cov = (f'[{a0}, {a1})', s, r)\n",
    "        for i in stratification_groups:\n",
    "            n_2_unvax[k][j] += n_1[k][i] * pr_case_in_unvaccinated_household[k] * n_hh[k].loc[i,j] # count only the unvaccinated who's household is all unvaccinated, which is a lower-bound on total\n",
    "            n_2_all[k][j] += n_1[k][i] * n_hh[k].loc[i,j]\n",
    "    n_2_unvax_total[k] = n_2_unvax[k].sum()\n",
    "    n_2_all_total[k] = n_2_all[k].sum()\n",
    "n_2_unvax_mean = sum(n_2_unvax.values()) / n_draws\n",
    "n_2_all_mean = sum(n_2_all.values()) / n_draws\n",
    "np.round(n_2_all_mean.unstack().unstack(), 1)"
   ]
  },
  {
   "cell_type": "code",
   "execution_count": null,
   "id": "583dbd10",
   "metadata": {},
   "outputs": [],
   "source": [
    "np.round(n_2_unvax_mean.unstack().unstack(), 1)"
   ]
  },
  {
   "cell_type": "code",
   "execution_count": null,
   "id": "8a483cf4",
   "metadata": {},
   "outputs": [],
   "source": [
    "n_2_all_total_mean = sum(n_2_all_total.values()) / n_draws\n",
    "n_2_all_total_lb = np.percentile(list(n_2_all_total.values()), 2.5)\n",
    "n_2_all_total_ub = np.percentile(list(n_2_all_total.values()), 97.5)"
   ]
  },
  {
   "cell_type": "code",
   "execution_count": null,
   "id": "121d78a1",
   "metadata": {},
   "outputs": [],
   "source": [
    "print(f'total number of (vaccinated & unvaccinated) household contacts: {n_2_all_total_mean:,.1f} (95% UI {n_2_all_total_lb:,.1f}-{n_2_all_total_ub:,.1f})')"
   ]
  },
  {
   "cell_type": "code",
   "execution_count": null,
   "id": "7de9d7a6",
   "metadata": {},
   "outputs": [],
   "source": [
    "n_2_total_mean = sum(n_2_unvax_total.values()) / n_draws\n",
    "n_2_total_lb = np.percentile(list(n_2_unvax_total.values()), 2.5)\n",
    "n_2_total_ub = np.percentile(list(n_2_unvax_total.values()), 97.5)"
   ]
  },
  {
   "cell_type": "code",
   "execution_count": null,
   "id": "02846561",
   "metadata": {},
   "outputs": [],
   "source": [
    "print(f'total number of unvaccinated household contacts: {n_2_total_mean:,.1f} (95% UI {n_2_total_lb:,.1f}-{n_2_total_ub:,.1f})')"
   ]
  },
  {
   "cell_type": "code",
   "execution_count": null,
   "id": "95d1bf17",
   "metadata": {},
   "outputs": [],
   "source": [
    "# household exposure rate (exposures per 100,000 person-months) by race\n",
    "n_2_race = {}\n",
    "for k in range(n_draws):\n",
    "    n_2_race[k] = 100_000 * (n_2_unvax[k].unstack().sum() / g_acs.weight.sum().unstack().sum())\n",
    "\n",
    "np.round(sum(n_2_race.values())/n_draws, 1)"
   ]
  },
  {
   "cell_type": "markdown",
   "id": "57ec8600",
   "metadata": {},
   "source": [
    "## 3. Estimate the number of people who receive PEP in scenarios with a range of coverage levels c and minimum age a_0 for receiving PEP"
   ]
  },
  {
   "cell_type": "code",
   "execution_count": null,
   "id": "b60a73fb",
   "metadata": {},
   "outputs": [],
   "source": [
    "n_PEP = {}\n",
    "for c in coverage_levels:\n",
    "    for a0 in age_lower_bounds:\n",
    "        n_PEP[c,a0] = {}\n",
    "        for k in range(n_draws):\n",
    "            age_mask = pd.Series([a.left >= a0 for a,s,r in stratification_groups],\n",
    "                         index=stratification_groups)\n",
    "            n_PEP[c,a0][k] = c*n_2_unvax[k]*age_mask\n"
   ]
  },
  {
   "cell_type": "code",
   "execution_count": null,
   "id": "559bbcbb",
   "metadata": {},
   "outputs": [],
   "source": [
    "# treatment rate (tx per 100,000 person-months) by race\n",
    "c,a = .50,50\n",
    "n_PEP_mean = sum(n_PEP[c, a].values())/n_draws\n",
    "np.round(100_000 * (n_PEP_mean.unstack().sum() / g_acs.weight.sum().unstack().sum()), 1) "
   ]
  },
  {
   "cell_type": "markdown",
   "id": "272e6f95",
   "metadata": {},
   "source": [
    "## 4.\tEstimate the number of people who develop a symptomatic COVID-19 infection in each scenario"
   ]
  },
  {
   "cell_type": "code",
   "execution_count": null,
   "id": "814e9b0d",
   "metadata": {},
   "outputs": [],
   "source": [
    "n_COVID = {}\n",
    "for c in coverage_levels:\n",
    "    for a0 in age_lower_bounds:\n",
    "        n_COVID[c,a0] = {}\n",
    "        for k in range(n_draws):\n",
    "            n_COVID[c,a0][k] = attack_rate_without_mAbs[k] * (n_2_unvax[k] - n_PEP[c,a0][k]) \\\n",
    "                        + attack_rate_with_mAbs[k] * n_PEP[c,a0][k]"
   ]
  },
  {
   "cell_type": "code",
   "execution_count": null,
   "id": "02cf0f2e",
   "metadata": {},
   "outputs": [],
   "source": [
    "n_COVID_mean = sum(n_COVID[0,70].values())/n_draws\n",
    "\n",
    "np.round(n_COVID_mean.unstack().unstack(),1)"
   ]
  },
  {
   "cell_type": "code",
   "execution_count": null,
   "id": "62c0d499",
   "metadata": {},
   "outputs": [],
   "source": [
    "n_COVID_mean = sum(n_COVID[.5,70].values())/n_draws\n",
    "\n",
    "np.round(n_COVID_mean.unstack().unstack(),1)"
   ]
  },
  {
   "cell_type": "code",
   "execution_count": null,
   "id": "7f9dc392",
   "metadata": {},
   "outputs": [],
   "source": [
    "print(f'confirmed cases: {n_1_total:,.0f}\\npredicted hh infections: {sum(n_COVID[0,0].values()).sum()/n_draws:,.0f}')"
   ]
  },
  {
   "cell_type": "code",
   "execution_count": null,
   "id": "18147b54",
   "metadata": {},
   "outputs": [],
   "source": [
    "# secondary infection rate (symptomatic infections per 100,000 person-months) by race\n",
    "c,a = .50,50\n",
    "n_COVID_mean = sum(n_COVID[c,a].values())/n_draws\n",
    "\n",
    "np.round(100_000 * (n_COVID_mean.unstack().sum() / g_acs.weight.sum().unstack().sum()), 1)"
   ]
  },
  {
   "cell_type": "code",
   "execution_count": null,
   "id": "b2ccd836",
   "metadata": {},
   "outputs": [],
   "source": [
    "# averted secondary infection rate (symptomatic infections per 100,000 person-months) by race\n",
    "c,a = .50,50\n",
    "n_COVID_averted_mean = sum([n_COVID[0, 0][k] - n_COVID[c, a][k] for k in range(n_draws)]) / n_draws\n",
    "averted_symptomatic_race = np.round(10_000_000 * (n_COVID_averted_mean).unstack().sum() / g_acs.weight.sum().unstack().sum(), 0).apply(int)"
   ]
  },
  {
   "cell_type": "markdown",
   "id": "007a07cf",
   "metadata": {},
   "source": [
    "# 5.\tEstimate the number of hospitalizations in each scenario\n",
    "\n",
    "[Rate Ratios for Hospitalization by Age](https://www.cdc.gov/coronavirus/2019-ncov/covid-data/investigations-discovery/hospitalization-death-by-age.html)\n",
    "\n",
    "But better to calculate it myself"
   ]
  },
  {
   "cell_type": "code",
   "execution_count": null,
   "id": "8ee01009",
   "metadata": {},
   "outputs": [],
   "source": [
    "rows = df_cdc_month.hosp_yn.isin(['No', 'Yes'])\n",
    "df_cdc_month_complete_cases = df_cdc_month[rows].copy()\n",
    "\n",
    "df_cdc_month_complete_cases['hosp'] = (df_cdc_month_complete_cases.hosp_yn == 'Yes').astype(float)\n",
    "# np.round(100 * df_cases.groupby('age_group').hosp.mean(), 1)"
   ]
  },
  {
   "cell_type": "code",
   "execution_count": null,
   "id": "8947127d",
   "metadata": {},
   "outputs": [],
   "source": [
    "hospitalization_rate = {}\n",
    "\n",
    "for k in range(n_draws):\n",
    "    resampled_rows = np.random.choice(df_cdc_month_complete_cases.index, size=len(df_cdc_month_complete_cases))\n",
    "    t = df_cdc_month_complete_cases.loc[resampled_rows]\n",
    "    hospitalization_rate[k] = pd.Series(t.groupby(['age_group', 'sex', 'race_eth']).hosp.mean(), index=stratification_groups)\n",
    "\n",
    "hospitalization_rate_mean = sum(hospitalization_rate.values()) / n_draws\n",
    "np.round(hospitalization_rate_mean.unstack().unstack()*100,1)"
   ]
  },
  {
   "cell_type": "code",
   "execution_count": null,
   "id": "81f57078",
   "metadata": {},
   "outputs": [],
   "source": [
    "# this is hospitalization rate among *confirmed cases*\n",
    "# is the attack rate from Ruanne's study for \"symptomatic cases\"? And how many of these are confirmed\n",
    "for k in range(n_draws):\n",
    "    hospitalization_rate[k] *= 1 "
   ]
  },
  {
   "cell_type": "code",
   "execution_count": null,
   "id": "4397962f",
   "metadata": {},
   "outputs": [],
   "source": [
    "%%time\n",
    "\n",
    "n_hosp = {}\n",
    "for c in coverage_levels:\n",
    "    for a0 in age_lower_bounds:\n",
    "        n_hosp[c,a0] = {}\n",
    "        for k in range(n_draws):\n",
    "            n_hosp[c,a0][k] = hospitalization_rate[k] * n_COVID[c,a0][k]"
   ]
  },
  {
   "cell_type": "code",
   "execution_count": null,
   "id": "93a1cecb",
   "metadata": {},
   "outputs": [],
   "source": [
    "(n_hosp[0, 0][0] - n_hosp[.5, 50][0]).unstack().unstack()"
   ]
  },
  {
   "cell_type": "code",
   "execution_count": null,
   "id": "bc4a969c",
   "metadata": {},
   "outputs": [],
   "source": [
    "# hospitalization rate (tx per 100,000 person-months) by race\n",
    "c,a = .50,50\n",
    "n_hosp_mean = sum(n_hosp[c, a].values()) / n_draws\n",
    "np.round(100_000 * (n_hosp_mean.unstack().sum() / g_acs.weight.sum().unstack().sum()), 1) "
   ]
  },
  {
   "cell_type": "code",
   "execution_count": null,
   "id": "8614ed01",
   "metadata": {},
   "outputs": [],
   "source": [
    "# averted hospitalization rate (hospitalizations per 10,000,000 person-months) by race\n",
    "n_hosp_averted_mean = sum([n_hosp[0, 0][k] - n_hosp[c, a][k] for k in range(n_draws)]) / n_draws\n",
    "averted_hosp_race = np.round(10_000_000 * (n_hosp_averted_mean.unstack().sum() / g_acs.weight.sum().unstack().sum()), 0).apply(int) \n",
    "averted_hosp_race"
   ]
  },
  {
   "cell_type": "markdown",
   "id": "65bf36f9",
   "metadata": {},
   "source": [
    "# 6. Find number of deaths"
   ]
  },
  {
   "cell_type": "code",
   "execution_count": null,
   "id": "6c8cbf74",
   "metadata": {},
   "outputs": [],
   "source": [
    "df_cdc_month_complete_cases.death_yn.value_counts()"
   ]
  },
  {
   "cell_type": "code",
   "execution_count": null,
   "id": "f1106125",
   "metadata": {},
   "outputs": [],
   "source": [
    "df_cdc_month_complete_cases['death'] = df_cdc_month_complete_cases.death_yn.map({'Yes':1, 'No':0})\n",
    "hosp_rows = df_cdc_month_complete_cases[df_cdc_month_complete_cases.hosp == 1].index\n",
    "\n",
    "hospitalization_fatility_ratio = {}\n",
    "for k in range(n_draws):\n",
    "    resampled_rows = np.random.choice(hosp_rows, size=len(hosp_rows), replace=True)\n",
    "    t = df_cdc_month_complete_cases.loc[resampled_rows]\n",
    "    hospitalization_fatility_ratio[k] = t.groupby(['age_group', 'sex', 'race_eth']).death.mean()\n",
    "    hospitalization_fatility_ratio[k] = pd.Series(hospitalization_fatility_ratio[k], index=stratification_groups)\n",
    "np.round((sum(hospitalization_fatility_ratio.values()) / n_draws).unstack().unstack()*100, 1)"
   ]
  },
  {
   "cell_type": "code",
   "execution_count": null,
   "id": "c433c0c6",
   "metadata": {},
   "outputs": [],
   "source": [
    "n_deaths = {}\n",
    "for c in coverage_levels:\n",
    "    for a0 in age_lower_bounds:\n",
    "        n_deaths[c,a0] = {}\n",
    "        for k in range(n_draws):\n",
    "            n_deaths[c,a0][k] = hospitalization_fatility_ratio[k] * n_hosp[c,a0][k]"
   ]
  },
  {
   "cell_type": "code",
   "execution_count": null,
   "id": "1d9a4c0a",
   "metadata": {},
   "outputs": [],
   "source": [
    "c,a = .50,50\n",
    "\n",
    "# averted death rate (hospitalizations per 100,000 person-months) by race\n",
    "n_death_averted_mean = sum([n_deaths[0, 0][k] - n_deaths[c, a][k] for k in range(n_draws)]) / n_draws\n",
    "np.round((n_death_averted_mean).unstack().unstack(),1)"
   ]
  },
  {
   "cell_type": "code",
   "execution_count": null,
   "id": "21591b38",
   "metadata": {},
   "outputs": [],
   "source": [
    "# averted death rate (deaths per 100,000 person-months) by race\n",
    "n_death_mean = sum([n_deaths[c, a][k] for k in range(n_draws)]) / n_draws\n",
    "np.round(100_000 * (n_death_mean.unstack().sum() / g_acs.weight.sum().unstack().sum()), 3) "
   ]
  },
  {
   "cell_type": "code",
   "execution_count": null,
   "id": "fbb63ec3",
   "metadata": {},
   "outputs": [],
   "source": [
    "# averted death rate (deaths averted per 10,000,000 person-months) by race\n",
    "averted_death_race = np.round(100_000_000 * ((n_death_averted_mean).unstack().sum() / g_acs.weight.sum().unstack().sum()), 0).apply(int)\n",
    "averted_death_race"
   ]
  },
  {
   "cell_type": "markdown",
   "id": "5f8d2ca1",
   "metadata": {},
   "source": [
    "## 7.\tEstimate the cost of administering mAbs and the cost of COVID-19 hospitalizations \n",
    "\n",
    "Tough [to get cost of mAbs](https://www.npr.org/sections/health-shots/2020/10/28/928841997/government-signs-deal-for-covid-19-treatments-from-eli-lilly)\n",
    "\n",
    "Lots of hits from a search of [cost of hospitalization](https://www.fairhealth.org/article/costs-for-a-hospital-stay-for-covid-19)."
   ]
  },
  {
   "cell_type": "code",
   "execution_count": null,
   "id": "e26d0840",
   "metadata": {},
   "outputs": [],
   "source": [
    "n_hosp[c,a0][k].sum()"
   ]
  },
  {
   "cell_type": "code",
   "execution_count": null,
   "id": "a74f379e",
   "metadata": {},
   "outputs": [],
   "source": [
    "doses = {}\n",
    "mAbs_cost = {}\n",
    "hosp_cost = {}\n",
    "for c in coverage_levels:\n",
    "    for a0 in age_lower_bounds:\n",
    "        doses[c,a0] = {}\n",
    "        mAbs_cost[c,a0] = {}\n",
    "        hosp_cost[c,a0] = {}\n",
    "        for k in range(n_draws):\n",
    "            doses[c,a0][k] = n_PEP[c,a0][k].sum()\n",
    "            mAbs_cost[c,a0][k] = n_PEP[c,a0][k].sum() * mAbs_unit_cost[k]\n",
    "            hosp_cost[c,a0][k] = n_hosp[c,a0][k].sum() * COVID_hospitalization_unit_cost[k]"
   ]
  },
  {
   "cell_type": "code",
   "execution_count": null,
   "id": "b236c161",
   "metadata": {},
   "outputs": [],
   "source": [
    "pd.DataFrame(mAbs_cost).mean()"
   ]
  },
  {
   "cell_type": "code",
   "execution_count": null,
   "id": "677a6d00",
   "metadata": {},
   "outputs": [],
   "source": [
    "def print_mean_and_ui(z):\n",
    "    print(f'{np.mean(z):,.0f} ({np.percentile(z, 2.5):,.0f} - {np.percentile(z, 97.5):,.0f})')          \n",
    "    \n",
    "c,a = .50,50\n",
    "\n",
    "print('averted cost')\n",
    "print_mean_and_ui(\n",
    "    [((mAbs_cost[0, 0][k]+hosp_cost[0, 0][k]) - (mAbs_cost[c, a][k]+hosp_cost[c, a][k])).sum() for k in range(n_draws)]\n",
    ")"
   ]
  },
  {
   "cell_type": "code",
   "execution_count": null,
   "id": "8db7fb31",
   "metadata": {},
   "outputs": [],
   "source": [
    "cost = pd.DataFrame(mAbs_cost).mean() + pd.DataFrame(hosp_cost).mean()\n",
    "(cost.unstack() / 1_000_000).plot(marker='o')\n",
    "plt.ylabel('Cost (Million USD)')\n",
    "plt.grid();"
   ]
  },
  {
   "cell_type": "code",
   "execution_count": null,
   "id": "ddcb7f8d",
   "metadata": {},
   "outputs": [],
   "source": [
    "pd.DataFrame(doses).mean().unstack().plot(marker='o')\n",
    "# plt.semilogy()\n",
    "plt.ylabel('mAbs doses');"
   ]
  },
  {
   "cell_type": "markdown",
   "id": "d3cbf5be",
   "metadata": {},
   "source": [
    "# Burden Averted"
   ]
  },
  {
   "cell_type": "code",
   "execution_count": null,
   "id": "9612f0ff-7a60-472a-b0be-e426de524207",
   "metadata": {},
   "outputs": [],
   "source": [
    "#(pd.DataFrame(n_COVID[0,0]).mean().sum() - pd.Series({i: pd.DataFrame(n_COVID[i]).mean().sum() for i in n_COVID}))"
   ]
  },
  {
   "cell_type": "code",
   "execution_count": null,
   "id": "8d46d9b4-25e9-451c-a0a6-f2722e822e3f",
   "metadata": {},
   "outputs": [],
   "source": [
    "#print('averted secondary infections')\n",
    "def mean_ui(df, c, a, div = 1):\n",
    "    # shows cases averted with UIs\n",
    "    z = [(df[0, 0][k] - df[c, a][k]).sum() for k in range(n_draws)]\n",
    "    return f'{np.mean(z)/div:,.0f} ({np.percentile(z, 2.5)/div:,.0f} - {np.percentile(z, 97.5)/div:,.0f})'\n",
    "    \n",
    "mean_ui(n_COVID, .50, 50)"
   ]
  },
  {
   "cell_type": "code",
   "execution_count": null,
   "id": "027de9be-422e-473d-943f-34475a1e3dd3",
   "metadata": {},
   "outputs": [],
   "source": [
    "def averted(df, div = 1):\n",
    "    pretty_table_ui = {}\n",
    "    pretty_table    = {}\n",
    "    \n",
    "    for c in coverage_levels:\n",
    "        for a in age_lower_bounds:\n",
    "            pretty_table_ui[c, a] = mean_ui(df, c, a, div)\n",
    "            pretty_table[c, a] = np.mean([(df[0, 0][k] - df[c, a][k]).sum() for k in range(n_draws)])\n",
    "    \n",
    "    return pd.Series(pretty_table), pd.Series(pretty_table_ui)\n",
    "#averted(n_COVID)"
   ]
  },
  {
   "cell_type": "code",
   "execution_count": null,
   "id": "a4f70264-d164-44c5-bbc7-0ae8b2601a78",
   "metadata": {},
   "outputs": [],
   "source": [
    "symptomatic_infections_averted = averted(n_COVID)[1]\n",
    "hospitalizations_averted = averted(n_hosp)[1]\n",
    "deaths_averted = averted(n_deaths)[1]\n",
    "doses_averted = averted(doses)[1]"
   ]
  },
  {
   "cell_type": "code",
   "execution_count": null,
   "id": "bbed129a-2b9d-4117-b694-d511a8755540",
   "metadata": {},
   "outputs": [],
   "source": [
    "pd.set_option('display.max_rows', 35)\n",
    "\n",
    "pd.DataFrame({\n",
    "    'Symptomatic Infections Averted': symptomatic_infections_averted,\n",
    "    'Hospitalizations Averted': hospitalizations_averted,\n",
    "    'Deaths Averted': deaths_averted,\n",
    "    'Doses': doses_averted, #pd.DataFrame(doses).mean()/1e3\n",
    "    'Incremental Cost':((cost-cost.loc[0,0])/1e6).round(1)\n",
    "}).unstack().unstack().unstack().loc[:, [0.25, 0.50, 0.75, 1]]"
   ]
  },
  {
   "cell_type": "code",
   "execution_count": null,
   "id": "8c9a1740",
   "metadata": {},
   "outputs": [],
   "source": [
    "ICER = (cost-cost.loc[0,0]) / (averted(n_deaths)[0])\n",
    "np.round((ICER / 1_000).unstack(), 1)"
   ]
  },
  {
   "cell_type": "code",
   "execution_count": null,
   "id": "d4149eff",
   "metadata": {},
   "outputs": [],
   "source": [
    "(ICER / 1_000).unstack().T.iloc[:,-1].plot(marker='o')\n",
    "plt.ylabel('ICER (Thousand USD per death averted)')\n",
    "plt.xlabel('Minimum age for PEP (years)')\n",
    "# plt.semilogy();"
   ]
  },
  {
   "cell_type": "markdown",
   "id": "81e1dbd8",
   "metadata": {},
   "source": [
    "# PEP with mAbs is a benefit for patients and for hospitals"
   ]
  },
  {
   "cell_type": "code",
   "execution_count": null,
   "id": "cf98e94c",
   "metadata": {},
   "outputs": [],
   "source": [
    "def summary_results(coverage_level, age_lower_bound):\n",
    "    n_symp_averted = symptomatic_infections_averted.loc[coverage_level, age_lower_bound]\n",
    "    n_hosp_averted = hospitalizations_averted.loc[coverage_level, age_lower_bound]\n",
    "    n_deaths_averted = deaths_averted.loc[coverage_level, age_lower_bound]\n",
    "    unit_cost = mAbs_unit_cost\n",
    "    incremental_cost = (cost.loc[coverage_level, age_lower_bound]-cost.loc[0,0])\n",
    "\n",
    "    result_str = f\"\"\"Results: In a month of similar intensity to May, 2021, in USA, a program reaching {coverage_level*100:.0f}% \n",
    "    of exposed household members aged {age_lower_bound}+, would avert {n_symp_averted} symptomatic infections,\n",
    "    {n_hosp_averted} hospitalizations, and {n_deaths_averted} deaths.  If the unit cost of administering the intervention \n",
    "    was {pd.Series(unit_cost).mean():,.0f} dollars, this program would save the health system {-incremental_cost:,.0f} dollars.\"\"\"\n",
    "    \n",
    "    print(result_str)\n",
    "summary_results(1/2, 50)"
   ]
  },
  {
   "cell_type": "code",
   "execution_count": null,
   "id": "a986f252",
   "metadata": {},
   "outputs": [],
   "source": [
    "summary_results(1/2, 20)"
   ]
  },
  {
   "cell_type": "code",
   "execution_count": null,
   "id": "33ee3a2e",
   "metadata": {},
   "outputs": [],
   "source": [
    "summary_results(1/2, 80)"
   ]
  },
  {
   "cell_type": "markdown",
   "id": "1bfa9522",
   "metadata": {},
   "source": [
    "# Number-plugging values"
   ]
  },
  {
   "cell_type": "code",
   "execution_count": null,
   "id": "f170ef51",
   "metadata": {},
   "outputs": [],
   "source": [
    "print(f\"\"\"[[summary of data: RCT included X subjects (Y in treatment group and Z in control),\n",
    "which we combined with confirmed cases data on {len(df_cdc_month):,.0f} individuals and\n",
    "household structure data derived from {len(acs):,.0f} individuals in {acs.household_id.nunique():,.0f} households.]]\n",
    "\"\"\")"
   ]
  },
  {
   "cell_type": "code",
   "execution_count": null,
   "id": "8c5ccf26",
   "metadata": {},
   "outputs": [],
   "source": [
    "n_2 = pd.DataFrame(n_2_unvax)\n",
    "#n_2"
   ]
  },
  {
   "cell_type": "code",
   "execution_count": null,
   "id": "c2377804",
   "metadata": {},
   "outputs": [],
   "source": [
    "print(f\"\"\"[[Confirmed case and household structure results,\n",
    "summarizing something about the racial segregation of household structure,\n",
    "the age-assortativity. In [[May]], there were [[{len(df_cdc_month):,.0f}]]\n",
    "confirmed cases of COVID-19, which we estimate resulted\n",
    "in {n_2.sum().mean():,.0f} (95% UI {np.percentile(n_2.sum(), 2.5):,.0f}-{np.percentile(n_2.sum(), 97.5):,.0f}) individuals with household exposure to COVID-19. ]] [[stratify counts or rates by race??]]\"\"\")"
   ]
  },
  {
   "cell_type": "code",
   "execution_count": null,
   "id": "20ae1a84",
   "metadata": {},
   "outputs": [],
   "source": [
    "unvax_race = n_2.unstack().sum().unstack().mean()\n",
    "unvax_race"
   ]
  },
  {
   "cell_type": "code",
   "execution_count": null,
   "id": "5b8b12cb-8a7d-4162-99b0-8be3e485c223",
   "metadata": {},
   "outputs": [],
   "source": [
    "unvax_race_per = unvax_race/sum(unvax_race) *100\n",
    "unvax_race_per"
   ]
  },
  {
   "cell_type": "code",
   "execution_count": null,
   "id": "304920a2-2257-4c67-8ea3-c20724766f26",
   "metadata": {},
   "outputs": [],
   "source": [
    "#Resut paragraph 1\n",
    "print(f\"\"\"In May, there were {len(df_cdc_month):,.0f} confirmed cases of COVID-19 in the US, which we estimate resulted in at least {n_2_total_mean:,.0f} (95% UI {n_2_total_lb:,.0f}-{n_2_total_ub:,.0f}) unvaccinated individuals with household exposure to COVID-19. Using the racial and ethnic composition of households, COVID-19 cases, and vaccine coverage estimates described above, we estimated unvaccinated household contacts to include {unvax_race['Black']:,.0f} ({unvax_race_per['Black']:,.1f}%) non-Hispanic Black individuals, {unvax_race['Hispanic']:,.0f} ({unvax_race_per['Hispanic']:,.1f}%) Hispanic individuals, {unvax_race['White']:,.0f} ({unvax_race_per['White']:,.1f}%) non-Hispanic white individuals, and {unvax_race['Other']:,.0f} ({unvax_race_per['Other']:,.1f}%) members of other non-Hispanic racial and ethnic groups.\"\"\")\n"
   ]
  },
  {
   "cell_type": "code",
   "execution_count": null,
   "id": "b9077e45-593a-4c9e-a6fc-da95c8c020b7",
   "metadata": {},
   "outputs": [],
   "source": [
    "print(f\"\"\"[[Number who receive PEP in alternative scenarios, and for alternative age cutoffs. Perhaps in a table?  Population-level rates of treatment stratified by race?]]\"\"\")"
   ]
  },
  {
   "cell_type": "code",
   "execution_count": null,
   "id": "6e542cd8",
   "metadata": {},
   "outputs": [],
   "source": [
    "def my_summary(x):\n",
    "    mean = np.mean(x)\n",
    "    lb = np.percentile(x, 2.5)\n",
    "    ub = np.percentile(x, 97.5)\n",
    "    results = locals()\n",
    "    results.pop('x')\n",
    "    for k in results:\n",
    "        results[k] = '{:,.0f}'.format(results[k])\n",
    "    results['ui'] = results['lb']+'-'+results['ub']\n",
    "    results['mean_and_ui'] = f\"\"\"{results['mean']} (95% UI {results['ui']})\"\"\"\n",
    "    return results\n",
    "\n",
    "total_PEP = {}\n",
    "for c,a in n_PEP.keys():\n",
    "    total_PEP[c,a] = my_summary(pd.DataFrame(n_PEP[c,a]).sum())"
   ]
  },
  {
   "cell_type": "code",
   "execution_count": null,
   "id": "11092de7",
   "metadata": {},
   "outputs": [],
   "source": [
    "print(f\"\"\"In a hypothetical scenario where 50% of those exposed and of age 50 or older receive PEP,\n",
    "we estimate {total_PEP[.5,50]['mean_and_ui']} individuals would be treated.\"\"\")"
   ]
  },
  {
   "cell_type": "code",
   "execution_count": null,
   "id": "4a90ebe7-0565-4815-b699-cae5f2000f29",
   "metadata": {},
   "outputs": [],
   "source": [
    "#results paragraph 2\n",
    "print(f\"\"\"A scenario providing PEP to 50% of unvaccinated household contacts age 50+ resulted in treatment of {total_PEP[.5,50]['mean_and_ui']} individuals, with fewer individuals treated at higher age thresholds (Table 1). PEP coverage of 50% of unvaccinated contacts age 50+ averted {symptomatic_infections_averted.loc[0.5, 50]} symptomatic COVID-19 cases, {hospitalizations_averted.loc[0.5, 50]} hospitalizations, and prevented {deaths_averted.loc[0.5, 50]} deaths. Expanding the age threshold to 20+ years increased the averted burden to {symptomatic_infections_averted.loc[0.5, 20]} symptomatic COVID-19 cases, {hospitalizations_averted.loc[0.5, 20]} hospitalizations, and {deaths_averted.loc[0.5, 20]} deaths, while shrinking the age threshold to age 80+ years reduced the burden averted to {symptomatic_infections_averted.loc[0.5, 80]} symptomatic COVID-19 cases, {hospitalizations_averted.loc[0.5, 80]} hospitalizations, and {deaths_averted.loc[0.5, 80]} deaths for the same assumption of 50% coverage of unvaccinated contacts in each target age group. Expanding PEP coverage by half from 50% to 75% resulted in corresponding 50% reductions in symptomatic COVID-19 cases, hospitalizations, and deaths.\"\"\")"
   ]
  },
  {
   "cell_type": "code",
   "execution_count": null,
   "id": "f76d07a3-438e-4faf-af5f-5a80178e31b2",
   "metadata": {},
   "outputs": [],
   "source": [
    "#result paragraph 3\n",
    "print(f\"\"\"The rates of averted COVID-19 cases, hospitalization, and death differed by race and ethnicity. Assuming 50% mAbs PEP coverage of unvaccinated individuals age 50+, the estimated rate of averted secondary infections was {averted_symptomatic_race[0]}, {averted_symptomatic_race[1]}, {averted_symptomatic_race[3]}, and {averted_symptomatic_race[2]} symptomatic infections per 10,000,000 person-months among non-Hispanic Black, Hispanic, non-Hispanic white, and non-Hispanic members of other racial and ethnic groups, respectively.  The averted hospitalization rate per 10,000,000 person-months were {averted_hosp_race[0]}, {averted_hosp_race[1]}, {averted_hosp_race[3]}, and {averted_hosp_race[2]} while the averted death rates per 10,000,000 person-months were {averted_death_race[0]}, {averted_death_race[1]}, {averted_death_race[3]}, and {averted_death_race[2]} for the same races, respectively.\"\"\") "
   ]
  },
  {
   "cell_type": "code",
   "execution_count": null,
   "id": "62924219",
   "metadata": {},
   "outputs": [],
   "source": [
    "print(f\"\"\"While in a hypothetical scenario where 50% of those exposed and of age 80 or older receive PEP,\n",
    "we estimate {total_PEP[.5,80]['mean']} (95% UI {total_PEP[.5,80]['ui']}) individuals would be treated,\"\"\")"
   ]
  },
  {
   "cell_type": "code",
   "execution_count": null,
   "id": "3c002aa1",
   "metadata": {},
   "outputs": [],
   "source": [
    "print(f\"\"\"and in a hypothetical scenario where 50% of those exposed and of age 20 or older receive PEP,\n",
    "we estimate {total_PEP[.5,20]['mean']} (95% UI {total_PEP[.5,20]['ui']}) individuals would be treated.\"\"\")"
   ]
  },
  {
   "cell_type": "code",
   "execution_count": null,
   "id": "44506805",
   "metadata": {},
   "outputs": [],
   "source": [
    "total_COVID = {}\n",
    "for c,a in n_COVID.keys():\n",
    "    total_COVID[c,a] = my_summary(pd.DataFrame(n_COVID[c,a]).sum())"
   ]
  },
  {
   "cell_type": "code",
   "execution_count": null,
   "id": "3bc627db",
   "metadata": {},
   "outputs": [],
   "source": [
    "print(f\"\"\"[[Number who develop symptomatic COVID-19 in baseline and alternative scenarios, and for alternative age cutoffs. Including stratification by race and ethnicity.]]\"\"\")\n",
    "\n",
    "print(f\"\"\"We estimate that without PEP, {total_COVID[0,0]['mean_and_ui']} individuals developed a symptomatic COVID-19 infection from a household exposure,\n",
    "      while in a hypothetical scenario where 50% of those exposed and of age 50 or older receive PEP,\n",
    "{total_COVID[.5,50]['mean_and_ui']} individuals developed a symptomatic infection.\"\"\")"
   ]
  },
  {
   "cell_type": "code",
   "execution_count": null,
   "id": "0b70b7c6",
   "metadata": {},
   "outputs": [],
   "source": [
    "print(f\"\"\"In a hypothetical scenario where 50% of those exposed and of age 80 or older receive PEP,\n",
    "we estimate {total_COVID[.5,80]['mean_and_ui']} individuals developed symptomatic infection,\n",
    "and in a hypothetical scenario where 50% of those exposed and of age 20 or older receive PEP,\n",
    "we estimate {total_COVID[.5,20]['mean_and_ui']} individuals developed symptomatic infection.\"\"\")"
   ]
  },
  {
   "cell_type": "code",
   "execution_count": null,
   "id": "3a1ab710",
   "metadata": {},
   "outputs": [],
   "source": [
    "total_hosp = {}\n",
    "for c,a in n_hosp.keys():\n",
    "    total_hosp[c,a] = my_summary(pd.DataFrame(n_hosp[c,a]).sum())\n",
    "total_deaths = {}\n",
    "for c,a in n_deaths.keys():\n",
    "    total_deaths[c,a] = my_summary(pd.DataFrame(n_deaths[c,a]).sum())"
   ]
  },
  {
   "cell_type": "code",
   "execution_count": null,
   "id": "46c6aeed",
   "metadata": {},
   "outputs": [],
   "source": [
    "print(f\"\"\"We estimate that without PEP, {total_hosp[0,0]['mean_and_ui']} individuals would be hospitalized\n",
    "because of a COVID-19 infection from a household exposure,\n",
    "while in a hypothetical scenario where 50% of those exposed and of age 50 or older receive PEP,\n",
    "{total_hosp[.5,50]['mean_and_ui']} individuals would be hospitalized;\n",
    "in a scenario where 50% of those exposed and of age 80 or older receive PEP,\n",
    "we estimate {total_hosp[.5,80]['mean_and_ui']} individuals would be hospitalized,\n",
    "and in a scenario where 50% of those exposed and of age 20 or older receive PEP,\n",
    "{total_hosp[.5,20]['mean_and_ui']} individuals would be hospitalized.\n",
    "\"\"\")"
   ]
  },
  {
   "cell_type": "code",
   "execution_count": null,
   "id": "2d2a5604",
   "metadata": {},
   "outputs": [],
   "source": [
    "print(f\"\"\"We estimate that without PEP, {total_deaths[0,0]['mean_and_ui']} individuals would die\n",
    "because of a COVID-19 infection from a household exposure,\n",
    "while in a hypothetical scenario where 50% of those exposed and of age 50 or older receive PEP,\n",
    "{total_deaths[.5,50]['mean_and_ui']} individuals would die;\n",
    "in a scenario where 50% of those exposed and of age 80 or older receive PEP,\n",
    "{total_deaths[.5,80]['mean_and_ui']} individuals would die,\n",
    "and in a scenario where 50% of those exposed and of age 20 or older receive PEP,\n",
    "{total_deaths[.5,20]['mean_and_ui']} individuals would die.\n",
    "\"\"\")"
   ]
  },
  {
   "cell_type": "code",
   "execution_count": null,
   "id": "f8102eb4",
   "metadata": {},
   "outputs": [],
   "source": [
    "total_cost = {}\n",
    "hosp_cost_str = {}\n",
    "PEP_cost = {}\n",
    "savings = {}\n",
    "incremental_cost = {}\n",
    "\n",
    "total_cost_0 = (pd.Series(mAbs_cost[0,0]) + pd.Series(hosp_cost[0,0])) / 1_000_000\n",
    "\n",
    "for c,a in n_hosp.keys():\n",
    "    total_cost_ca = (pd.Series(mAbs_cost[c,a]) + pd.Series(hosp_cost[c,a])) / 1_000_000\n",
    "    total_cost[c,a] = my_summary(total_cost_ca)\n",
    "    savings[c,a] = my_summary(total_cost_0 - total_cost_ca)\n",
    "    incremental_cost[c,a] = my_summary(total_cost_ca - total_cost_0)\n",
    "    hosp_cost_str[c,a] = my_summary(pd.Series(hosp_cost[c,a])/1_000_000)\n",
    "    PEP_cost[c,a] = my_summary(pd.Series(mAbs_cost[c,a])/1_000_000)\n",
    "\n",
    "hosp_cost_str[.5,20] , PEP_cost[.5,20]"
   ]
  },
  {
   "cell_type": "code",
   "execution_count": null,
   "id": "040cc14e-bcaa-49bf-9b6b-1f69a645b35b",
   "metadata": {},
   "outputs": [],
   "source": [
    "savings[0.5,50]"
   ]
  },
  {
   "cell_type": "code",
   "execution_count": null,
   "id": "4bec257e-9d9e-4d30-aa9e-7f9640b9eaaa",
   "metadata": {},
   "outputs": [],
   "source": [
    "#results paragraph 3\n",
    "print(f\"\"\"We estimate that without PEP, the cost of hospitalizations due to COVID-19 infections from household exposure would be {hosp_cost_str[0,0]['mean_and_ui']} million dollars, while in a hypothetical scenario where 50% of unvaccinated household contacts age 50 or older receive PEP, the cost of hospitalizations would be {hosp_cost_str[.5,50]['mean_and_ui']} million dollars and the cost of PEP would be {PEP_cost[.5,50]['mean_and_ui']} million dollars, for a total of {total_cost[.5,50]['mean_and_ui']} million dollars, which is a savings of {savings[.5,50]['mean_and_ui']} million dollars compared to the without-PEP scenario. In a scenario where 50% of those exposed and of age 80 or older receive PEP, the cost of hospitalizations would be {hosp_cost_str[.5,80]['mean_and_ui']} million dollars and the cost of PEP would be {PEP_cost[.5,80]['mean_and_ui']} million dollars, for a total of {total_cost[.5,80]['mean_and_ui']} million dollars, which is a savings of {savings[.5,80]['mean_and_ui']} million dollars compared to the without-PEP scenario. Alternatively, in a scenario where 50% of those exposed and of age 20 or older receive PEP, the cost of hospitalizations would be {hosp_cost_str[.5,20]['mean_and_ui']} million dollars and the cost of PEP would be {PEP_cost[.5,20]['mean_and_ui']} million dollars, for a total of {total_cost[.5,20]['mean_and_ui']} million dollars, which is a total of {incremental_cost[.5,20]['mean_and_ui']} million dollars more than in the without-PEP scenario. The incremental cost and COVID-19 deaths averted for a range of scenarios is summarized in Figure 2.\"\"\")"
   ]
  },
  {
   "cell_type": "code",
   "execution_count": null,
   "id": "469a0df2",
   "metadata": {},
   "outputs": [],
   "source": [
    "total_cost[c,a]"
   ]
  },
  {
   "cell_type": "code",
   "execution_count": null,
   "id": "ffc03e3e",
   "metadata": {},
   "outputs": [],
   "source": [
    "import seaborn as sns"
   ]
  },
  {
   "cell_type": "code",
   "execution_count": null,
   "id": "57b450e2",
   "metadata": {},
   "outputs": [],
   "source": [
    "plt.figure(figsize=(6.5,3), dpi=120)\n",
    "for c in [0.25, .5, .75]:\n",
    "    for i, a in enumerate(age_lower_bounds[::-1]):\n",
    "        s_cost = (pd.Series(mAbs_cost[c,a]) + pd.Series(hosp_cost[c,a])) / 1e6\n",
    "        s_cost -= (pd.Series(mAbs_cost[0,0]) + pd.Series(hosp_cost[0,0])) / 1e6\n",
    "        \n",
    "        s_deaths = pd.DataFrame(n_deaths[c,a]).sum(axis=0)\n",
    "        s_deaths -= pd.DataFrame(n_deaths[0,0]).sum(axis=0)\n",
    "        s_deaths *= -1\n",
    "        \n",
    "        if c == 0.5:\n",
    "            plt.plot(s_deaths, s_cost, 'o', label=f'{a}+', alpha=.95, color='none', mec=f'C{i}', mew=1)\n",
    "#         else:\n",
    "#             plt.plot(s_deaths, s_cost, 'o', color='grey')\n",
    "plt.legend(loc=(1.02, .02), title='50% coverage, with\\nPEP for exposed of age:')\n",
    "plt.xlabel('COVID-19 deaths averted (people)')\n",
    "plt.ylabel('Incremental cost (millions of dollars)')\n",
    "plt.grid()\n",
    "plt.subplots_adjust(right=.7);\n",
    "plt.savefig('output.png', dpi=300, bbox_inches='tight')\n"
   ]
  },
  {
   "cell_type": "code",
   "execution_count": null,
   "id": "add28e95-a6bf-42db-9134-d5f875d58685",
   "metadata": {},
   "outputs": [],
   "source": [
    "#Table 1\n",
    "#nvaccinated household contacts n_2.sum().mean(), (np.percentile(n_2.sum(), 2.5),np.percentile(n_2.sum(), 97.5))\n",
    "def m_ui(z):\n",
    "    return f'{np.mean(z):,.0f} ({np.percentile(z, 2.5):,.0f} - {np.percentile(z, 97.5):,.0f})'\n",
    "\n",
    "def contacts(df,age_range):\n",
    "    results = m_ui(pd.DataFrame(df).unstack(0).sum().unstack(0).loc[age_range:].sum())\n",
    "    return results\n",
    "\n",
    "\n",
    "tab1 = {'Age threshold for PEP': ['Baseline (no PEP)', '80+', '50+', '20+'],\n",
    "        'Household contacts': [contacts(n_2_all,0), contacts(n_2_all,80), contacts(n_2_all,50), contacts(n_2_all,20)],\n",
    "        'Unvaccinated household contacts': [contacts(n_2_unvax,0), contacts(n_2_unvax,80), contacts(n_2_unvax,50), contacts(n_2_unvax,20)],\n",
    "        'PEP coverage': ['0', '50%', '50%', '50%'],\n",
    "        'Number Treated with PEP': ['0', total_PEP[.5, 80]['mean_and_ui'], total_PEP[.5,50]['mean_and_ui'], total_PEP[.5,20]['mean_and_ui']],\n",
    "        'Symptomatic COVID-19 from household exposure': [total_COVID[0, 0]['mean_and_ui'], total_COVID[.5,80]['mean_and_ui'] , total_COVID[.5,50]['mean_and_ui'], total_COVID[.5,20]['mean_and_ui']],\n",
    "        'Hospitalizations from household exposure': [total_hosp[0, 0]['mean_and_ui'], total_hosp[.5, 80]['mean_and_ui'] , total_hosp[.5,50]['mean_and_ui'], total_hosp[.5,20]['mean_and_ui']],\n",
    "        'Deaths from household exposure': [total_deaths[0, 0]['mean_and_ui'], total_deaths[.5, 80]['mean_and_ui'], total_deaths[.5,50]['mean_and_ui'], total_deaths[.5,20]['mean_and_ui']]}\n",
    "\n",
    "\n",
    "pd.DataFrame(tab1, columns = ['Household contacts',\n",
    "                              'Unvaccinated household contacts',\n",
    "                              'PEP coverage',\n",
    "                              'Number Treated with PEP',\n",
    "                              'Symptomatic COVID-19 from household exposure', \n",
    "                              'Hospitalizations from household exposure', \n",
    "                              'Deaths from household exposure'], \n",
    "            index = ['Baseline (no PEP)', '80+', '50+', '20+']).apply(lambda col: col.str.replace(\"95% UI \", \"\"))"
   ]
  },
  {
   "cell_type": "code",
   "execution_count": null,
   "id": "61a76212-4052-4dcc-8b9d-fb103c9fa0f9",
   "metadata": {},
   "outputs": [],
   "source": [
    "df_cdc_month.race_eth.value_counts(normalize=True).mul(100).round(2).astype(str)+%"
   ]
  },
  {
   "cell_type": "code",
   "execution_count": null,
   "id": "bdde1bee-3973-4bcf-8fd6-67a4b4a13726",
   "metadata": {},
   "outputs": [],
   "source": [
    "def contacts(df,age):\n",
    "    age = m_ui(pd.DataFrame(df).unstack(0).sum().unstack(0).loc[age:].sum())\n",
    "    return age\n"
   ]
  },
  {
   "cell_type": "code",
   "execution_count": null,
   "id": "18386ef3-4ba9-44b0-85d1-09af55ec5ed2",
   "metadata": {},
   "outputs": [],
   "source": [
    "df_cdc_month.race_eth.value_counts()"
   ]
  },
  {
   "cell_type": "code",
   "execution_count": null,
   "id": "ddfaf9d7-42ce-43d0-a36a-0c723802fb7a",
   "metadata": {},
   "outputs": [],
   "source": [
    "len(df_cdc_month)"
   ]
  },
  {
   "cell_type": "code",
   "execution_count": null,
   "id": "d693f2e2-132e-40a3-86bf-d213c43572d1",
   "metadata": {},
   "outputs": [],
   "source": [
    "dd = len(df_cdc_month) - df_cdc_month.race_eth.isna().sum() #Non-NA total (removing NAs)\n",
    "df_cdc_month.race_eth.value_counts().div(dd).mul(100).round(2).astype(str)+'%'"
   ]
  },
  {
   "cell_type": "code",
   "execution_count": null,
   "id": "6513a899-0982-43f1-ae04-9ab554155f7e",
   "metadata": {},
   "outputs": [],
   "source": []
  },
  {
   "cell_type": "code",
   "execution_count": null,
   "id": "639ab5e4-6a02-44d3-96c3-0b0cb5b81ca6",
   "metadata": {},
   "outputs": [],
   "source": [
    "n_PEP_mean.unstack(1).unstack().sum().sum()"
   ]
  },
  {
   "cell_type": "code",
   "execution_count": null,
   "id": "724abb7a-a861-44ed-8f8f-cc3c02a32414",
   "metadata": {},
   "outputs": [],
   "source": []
  }
 ],
 "metadata": {
  "kernelspec": {
   "display_name": "Python 3 (ipykernel)",
   "language": "python",
   "name": "python3"
  },
  "language_info": {
   "codemirror_mode": {
    "name": "ipython",
    "version": 3
   },
   "file_extension": ".py",
   "mimetype": "text/x-python",
   "name": "python",
   "nbconvert_exporter": "python",
   "pygments_lexer": "ipython3",
   "version": "3.8.8"
  }
 },
 "nbformat": 4,
 "nbformat_minor": 5
}
