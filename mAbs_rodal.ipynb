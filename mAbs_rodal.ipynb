{
 "cells": [
  {
   "cell_type": "code",
   "execution_count": 1,
   "id": "a260904b",
   "metadata": {},
   "outputs": [],
   "source": [
    "import pandas as pd, matplotlib.pyplot as plt, numpy as np\n",
    "pd.set_option('display.max_rows', 10)\n",
    "\n",
    "%load_ext autoreload\n",
    "%autoreload 2"
   ]
  },
  {
   "cell_type": "markdown",
   "id": "2ad6ce65",
   "metadata": {},
   "source": [
    "# Potential impact of post-exposure prophalaxis for COVID-19 with monoclonal antibodies\n",
    "\n",
    "Updated from March 2021 analysis to include more recent confirmed cases, and also vaccination coverage.\n",
    "\n",
    "Also updated to use completed, and now peer-reviewed, results from RCT\n",
    "\n",
    "And in this version, use the KFF survey results that 77% of unvaccinated adults say everyone in their household is unvaccinated. https://www.kff.org/coronavirus-covid-19/poll-finding/kff-covid-19-vaccine-monitor-june-2021/"
   ]
  },
  {
   "cell_type": "code",
   "execution_count": 2,
   "id": "ab607cce",
   "metadata": {},
   "outputs": [],
   "source": [
    "# range of values to consider in alternative scenarios\n",
    "coverage_levels = [0, 1/4, 1/2, 3/4, 1]\n",
    "age_lower_bounds = [0, 20, 40, 50, 60, 70, 80]"
   ]
  },
  {
   "cell_type": "code",
   "execution_count": 3,
   "id": "5a6ad19c",
   "metadata": {},
   "outputs": [],
   "source": [
    "n_draws = 100 # number of bootstrap resamples for quantifying uncertainty\n",
    "np.random.seed(12345)  # set random seed for reproducibility"
   ]
  },
  {
   "cell_type": "code",
   "execution_count": 4,
   "id": "eff1bf64",
   "metadata": {},
   "outputs": [],
   "source": [
    "attack_rate_without_mAbs = np.random.binomial(752, 59/752, size=n_draws) / 752\n",
    "attack_rate_with_mAbs = np.random.binomial(753, 11/753, size=n_draws) / 753\n",
    "\n",
    "mAbs_unit_cost = np.random.normal(1_250, 125, size=n_draws)  # 1_250 is what it says online;\n",
    "COVID_hospitalization_unit_cost = np.random.normal(73_300, 7_330, size=n_draws)"
   ]
  },
  {
   "cell_type": "code",
   "execution_count": 5,
   "id": "d7ffda17",
   "metadata": {},
   "outputs": [
    {
     "name": "stdout",
     "output_type": "stream",
     "text": [
      "Wall time: 1.72 s\n"
     ]
    }
   ],
   "source": [
    "%%time\n",
    "\n",
    "# Administrated data on how many vaccines have been given in the US\n",
    "url = \"https://data.cdc.gov/api/views/rh2h-3yt2/rows.csv?accessType=DOWNLOAD\"\n",
    "vax_dt = pd.read_csv(url)\n",
    "#vax_dt"
   ]
  },
  {
   "cell_type": "code",
   "execution_count": 6,
   "id": "b602c657",
   "metadata": {},
   "outputs": [],
   "source": [
    "total_vax = vax_dt[(vax_dt[\"Date\"] == \"05/31/2021\") & (vax_dt[\"date_type\"] == \"Report\") & (vax_dt[\"Location\"] == \"US\")]\n",
    "us_pop = 332_378_911 #census population on 5/31/2021 (https://www.census.gov/popclock/)\n",
    "\n",
    "p_vax   = np.random.binomial(us_pop, total_vax.Admin_Dose_1_Cumulative/us_pop, size=n_draws) / us_pop\n",
    "p_unvax = 1-p_vax\n",
    "#p_vax, p_unvax"
   ]
  },
  {
   "cell_type": "code",
   "execution_count": 7,
   "id": "793a5788",
   "metadata": {},
   "outputs": [],
   "source": [
    "# TODO: fill in the following with an appropriate RCT (or meta-analysis, or real-world effectiveness study...)\n",
    "# numbers from https://www.ncbi.nlm.nih.gov/pmc/articles/PMC8022879/pdf/mm7013e3.pdf\n",
    "n_treated = 2_928 #(excluded 33 cases in study because occured before 14 days period)\n",
    "cases_treated = 11\n",
    "\n",
    "n_control = 989\n",
    "cases_control = 161\n",
    "\n",
    "efficacy = 1 - (\n",
    "    (np.random.binomial(n_treated, cases_treated/n_treated, size=n_draws) / n_treated)\n",
    "    /\n",
    "    (np.random.binomial(n_control, cases_control/n_control, size=n_draws) / n_control))\n",
    "\n",
    "## equ1: p_cc = (p_cc_vax*p_vax) + (p_cc_unvax*p_unvax)\n",
    "## equ2: p_unvax_cc = (p_cc_unvax * p_unvax)/p_cc\n",
    "## equ3: p_cc_vax = efficacy * p_cc_unvax\n",
    "\n",
    "## substitute equ3 into equ1: p_cc = ((efficacy * p_cc_unvax) * p_vax) + (p_cc_unvax*p_unvax)\n",
    "## p_cc = p_cc_unvax((efficacy * p_vax) + p_unvax)\n",
    "\n",
    "## substitute equ1 into equ2: p_unvax_cc = (p_cc_unvax * p_unvax) / p_cc_unvax((efficacy * p_vax) + p_unvax)\n",
    "p_unvax_cc =  p_unvax / (((1-efficacy) * (p_vax)) + p_unvax)\n",
    "#p_unvax_cc"
   ]
  },
  {
   "cell_type": "code",
   "execution_count": 8,
   "id": "45c3e882",
   "metadata": {},
   "outputs": [],
   "source": [
    "pr_unvaccinated_cond_on_test_positive = p_unvax_cc  # np.random.binomial(10_000, unvac_covPos, size=n_draws)/10_000 \n",
    "\n",
    "# https://files.kff.org/attachment/Topline-KFF-COVID-19-Vaccine-Monitor-June-2021.pdf\n",
    "# n = 458, p_all_hh_members unvaccinated = 0.69\n",
    "pr_case_in_unvaccinated_household = pr_unvaccinated_cond_on_test_positive * np.random.binomial(458, 0.69, size=n_draws) / 458"
   ]
  },
  {
   "cell_type": "code",
   "execution_count": 9,
   "id": "dfb1a13c",
   "metadata": {},
   "outputs": [
    {
     "name": "stdout",
     "output_type": "stream",
     "text": [
      "Wall time: 612 ms\n"
     ]
    }
   ],
   "source": [
    "%%time\n",
    "\n",
    "df_cdc = pd.read_csv('data/cdc_covid_linelist_may_2021.csv.bz2', low_memory=False)"
   ]
  },
  {
   "cell_type": "markdown",
   "id": "407032ba",
   "metadata": {},
   "source": [
    "# 1.\tEstimate the number of COVID-19 case count, n_1, and the age-/sex-/race-stratified case counts\n",
    "\n",
    "    n_1 (a,s,r)=# cases for strata (a,s,r).\n"
   ]
  },
  {
   "cell_type": "code",
   "execution_count": 10,
   "id": "4991011b",
   "metadata": {},
   "outputs": [],
   "source": [
    "# first select all cases during time period of interest\n",
    "diagnosis_date = pd.to_datetime(df_cdc.pos_spec_dt)\n",
    "rows = (diagnosis_date >= '2021-05-01') & (diagnosis_date < '2021-06-01')\n",
    "t = df_cdc[rows].copy()  # NOTE: same dataframe, code just kept for convenience"
   ]
  },
  {
   "cell_type": "code",
   "execution_count": 11,
   "id": "3b63ccf8",
   "metadata": {},
   "outputs": [
    {
     "name": "stdout",
     "output_type": "stream",
     "text": [
      "Total cases: 154,136\n"
     ]
    }
   ],
   "source": [
    "n_1_total = len(t) #total cases\n",
    "print(f'Total cases: {n_1_total:,}')"
   ]
  },
  {
   "cell_type": "code",
   "execution_count": 12,
   "id": "c236517a",
   "metadata": {},
   "outputs": [],
   "source": [
    "age_cutpoints = [0,10,20,30,40,50,60,70,80,125]\n",
    "cdc_age_map = {f'{a} - {a+9} Years':a for a in age_cutpoints}\n",
    "cdc_age_map['80+ Years'] = 80\n",
    "t['age'] = t.age_group.map(cdc_age_map)\n",
    "\n",
    "t['age_group'] = pd.cut(t.age, age_cutpoints, right=False)\n",
    "t['sex'] = t.sex.map({'Male': 'male', 'Female':'female'})\n",
    "t['race_eth'] = t.race_ethnicity_combined.map({\n",
    "    'White, Non-Hispanic':'White',\n",
    "    'Black, Non-Hispanic':'Black',\n",
    "    'Hispanic/Latino':'Hispanic', \n",
    "    'American Indian/Alaska Native, Non-Hispanic':'Other',\n",
    "    'Multiple/Other, Non-Hispanic':'Other',\n",
    "    'Asian, Non-Hispanic':'Other',\n",
    "    'Native Hawaiian/Other Pacific Islander, Non-Hispanic':'Other',\n",
    "})\n",
    "\n",
    "t['weight'] = 1.0\n",
    "#t"
   ]
  },
  {
   "cell_type": "code",
   "execution_count": 13,
   "id": "4583f0d9",
   "metadata": {},
   "outputs": [],
   "source": [
    "df_cdc_month = t\n",
    "#df_cdc_month.shape"
   ]
  },
  {
   "cell_type": "code",
   "execution_count": 14,
   "id": "6f0ebd89",
   "metadata": {},
   "outputs": [],
   "source": [
    "# stratification factors\n",
    "age_groups = pd.cut(np.random.uniform(0, 125, 10_000), age_cutpoints, right=False).unique().sort_values()\n",
    "#age_groups = pd.cut(list(range(0, 125)), age_cutpoints, right=False).unique()\n",
    "sexes = ['male', 'female']\n",
    "race_eth = ['White', 'Black', 'Hispanic', 'Other']\n",
    "stratification_groups = pd.MultiIndex.from_product([age_groups, sexes, race_eth])"
   ]
  },
  {
   "cell_type": "code",
   "execution_count": 15,
   "id": "bbed27a1",
   "metadata": {},
   "outputs": [
    {
     "name": "stdout",
     "output_type": "stream",
     "text": [
      "Wall time: 6.75 s\n"
     ]
    }
   ],
   "source": [
    "%%time\n",
    "#    n_1 (a,s,r) = number of cases for strata (a,s,r).\n",
    "\n",
    "n_1 = {}\n",
    "\n",
    "for k in range(n_draws):\n",
    "    # use bootstrap to resample confirmed cases, to quantify uncertainty\n",
    "    resampled_rows = np.random.choice(df_cdc_month.index, size=len(t), replace=True)\n",
    "    df_selected_cdc = df_cdc_month.loc[resampled_rows]\n",
    "    \n",
    "    n_1[k] = df_selected_cdc.groupby(['age_group', 'sex', 'race_eth']).weight.sum()\n",
    "    \n",
    "    # use parametric resampling from a possion distribution to also include uncertainty in total number of cases\n",
    "    n_1[k] = np.random.poisson(n_1_total) * n_1[k] / n_1[k].sum()"
   ]
  },
  {
   "cell_type": "code",
   "execution_count": 16,
   "id": "c9353377",
   "metadata": {},
   "outputs": [],
   "source": [
    "# TODO: Table 1 showing the demographics of the confirmed case population,\n",
    "# highlighting amount of missingness and also including household size distribution"
   ]
  },
  {
   "cell_type": "code",
   "execution_count": 17,
   "id": "acf192ae",
   "metadata": {},
   "outputs": [
    {
     "data": {
      "text/html": [
       "<div>\n",
       "<style scoped>\n",
       "    .dataframe tbody tr th:only-of-type {\n",
       "        vertical-align: middle;\n",
       "    }\n",
       "\n",
       "    .dataframe tbody tr th {\n",
       "        vertical-align: top;\n",
       "    }\n",
       "\n",
       "    .dataframe thead tr th {\n",
       "        text-align: left;\n",
       "    }\n",
       "\n",
       "    .dataframe thead tr:last-of-type th {\n",
       "        text-align: right;\n",
       "    }\n",
       "</style>\n",
       "<table border=\"1\" class=\"dataframe\">\n",
       "  <thead>\n",
       "    <tr>\n",
       "      <th>race_eth</th>\n",
       "      <th colspan=\"2\" halign=\"left\">Black</th>\n",
       "      <th colspan=\"2\" halign=\"left\">Hispanic</th>\n",
       "      <th colspan=\"2\" halign=\"left\">Other</th>\n",
       "      <th colspan=\"2\" halign=\"left\">White</th>\n",
       "    </tr>\n",
       "    <tr>\n",
       "      <th>sex</th>\n",
       "      <th>female</th>\n",
       "      <th>male</th>\n",
       "      <th>female</th>\n",
       "      <th>male</th>\n",
       "      <th>female</th>\n",
       "      <th>male</th>\n",
       "      <th>female</th>\n",
       "      <th>male</th>\n",
       "    </tr>\n",
       "    <tr>\n",
       "      <th>age_group</th>\n",
       "      <th></th>\n",
       "      <th></th>\n",
       "      <th></th>\n",
       "      <th></th>\n",
       "      <th></th>\n",
       "      <th></th>\n",
       "      <th></th>\n",
       "      <th></th>\n",
       "    </tr>\n",
       "  </thead>\n",
       "  <tbody>\n",
       "    <tr>\n",
       "      <th>[0, 10)</th>\n",
       "      <td>1238.8</td>\n",
       "      <td>1331.3</td>\n",
       "      <td>1216.5</td>\n",
       "      <td>1329.6</td>\n",
       "      <td>762.6</td>\n",
       "      <td>859.5</td>\n",
       "      <td>2818.0</td>\n",
       "      <td>2917.7</td>\n",
       "    </tr>\n",
       "    <tr>\n",
       "      <th>[10, 20)</th>\n",
       "      <td>2195.6</td>\n",
       "      <td>2010.6</td>\n",
       "      <td>2373.1</td>\n",
       "      <td>2222.3</td>\n",
       "      <td>1258.0</td>\n",
       "      <td>1236.7</td>\n",
       "      <td>7295.2</td>\n",
       "      <td>6706.4</td>\n",
       "    </tr>\n",
       "    <tr>\n",
       "      <th>[20, 30)</th>\n",
       "      <td>3500.3</td>\n",
       "      <td>2316.8</td>\n",
       "      <td>2584.4</td>\n",
       "      <td>2397.1</td>\n",
       "      <td>1714.5</td>\n",
       "      <td>1335.1</td>\n",
       "      <td>8143.4</td>\n",
       "      <td>6826.2</td>\n",
       "    </tr>\n",
       "    <tr>\n",
       "      <th>[30, 40)</th>\n",
       "      <td>3357.0</td>\n",
       "      <td>2161.7</td>\n",
       "      <td>2447.7</td>\n",
       "      <td>2148.7</td>\n",
       "      <td>1424.4</td>\n",
       "      <td>1190.1</td>\n",
       "      <td>7727.9</td>\n",
       "      <td>5994.0</td>\n",
       "    </tr>\n",
       "    <tr>\n",
       "      <th>[40, 50)</th>\n",
       "      <td>2208.5</td>\n",
       "      <td>1564.8</td>\n",
       "      <td>1716.7</td>\n",
       "      <td>1588.4</td>\n",
       "      <td>984.1</td>\n",
       "      <td>809.1</td>\n",
       "      <td>6753.5</td>\n",
       "      <td>5859.6</td>\n",
       "    </tr>\n",
       "    <tr>\n",
       "      <th>[50, 60)</th>\n",
       "      <td>1746.3</td>\n",
       "      <td>1206.3</td>\n",
       "      <td>1160.5</td>\n",
       "      <td>951.5</td>\n",
       "      <td>678.4</td>\n",
       "      <td>663.2</td>\n",
       "      <td>6176.3</td>\n",
       "      <td>5944.0</td>\n",
       "    </tr>\n",
       "    <tr>\n",
       "      <th>[60, 70)</th>\n",
       "      <td>1029.3</td>\n",
       "      <td>697.1</td>\n",
       "      <td>637.9</td>\n",
       "      <td>469.4</td>\n",
       "      <td>437.7</td>\n",
       "      <td>432.9</td>\n",
       "      <td>4391.1</td>\n",
       "      <td>4034.1</td>\n",
       "    </tr>\n",
       "    <tr>\n",
       "      <th>[70, 80)</th>\n",
       "      <td>432.3</td>\n",
       "      <td>215.3</td>\n",
       "      <td>266.7</td>\n",
       "      <td>180.3</td>\n",
       "      <td>174.1</td>\n",
       "      <td>143.1</td>\n",
       "      <td>2323.8</td>\n",
       "      <td>2179.9</td>\n",
       "    </tr>\n",
       "    <tr>\n",
       "      <th>[80, 125)</th>\n",
       "      <td>249.7</td>\n",
       "      <td>98.7</td>\n",
       "      <td>144.1</td>\n",
       "      <td>64.1</td>\n",
       "      <td>109.7</td>\n",
       "      <td>85.5</td>\n",
       "      <td>1413.3</td>\n",
       "      <td>973.1</td>\n",
       "    </tr>\n",
       "  </tbody>\n",
       "</table>\n",
       "</div>"
      ],
      "text/plain": [
       "race_eth    Black         Hispanic           Other           White        \n",
       "sex        female    male   female    male  female    male  female    male\n",
       "age_group                                                                 \n",
       "[0, 10)    1238.8  1331.3   1216.5  1329.6   762.6   859.5  2818.0  2917.7\n",
       "[10, 20)   2195.6  2010.6   2373.1  2222.3  1258.0  1236.7  7295.2  6706.4\n",
       "[20, 30)   3500.3  2316.8   2584.4  2397.1  1714.5  1335.1  8143.4  6826.2\n",
       "[30, 40)   3357.0  2161.7   2447.7  2148.7  1424.4  1190.1  7727.9  5994.0\n",
       "[40, 50)   2208.5  1564.8   1716.7  1588.4   984.1   809.1  6753.5  5859.6\n",
       "[50, 60)   1746.3  1206.3   1160.5   951.5   678.4   663.2  6176.3  5944.0\n",
       "[60, 70)   1029.3   697.1    637.9   469.4   437.7   432.9  4391.1  4034.1\n",
       "[70, 80)    432.3   215.3    266.7   180.3   174.1   143.1  2323.8  2179.9\n",
       "[80, 125)   249.7    98.7    144.1    64.1   109.7    85.5  1413.3   973.1"
      ]
     },
     "execution_count": 17,
     "metadata": {},
     "output_type": "execute_result"
    }
   ],
   "source": [
    "n_1_mean = pd.DataFrame(n_1).T.mean()\n",
    "np.round(n_1_mean.unstack().unstack(),1)  # number of confirmed cases of COVID-19, stratified by age, sex, and race/ethnicity"
   ]
  },
  {
   "cell_type": "code",
   "execution_count": 18,
   "id": "381050f2",
   "metadata": {},
   "outputs": [],
   "source": [
    "# assert np.allclose(n_1_mean.sum(), n_1_total)\n"
   ]
  },
  {
   "cell_type": "markdown",
   "id": "b270458c",
   "metadata": {},
   "source": [
    "## 2. Estimate the stratified number of household contacts who might benefit from mAbs PEP \n",
    "\n",
    "Think of entry $(i,j)$ in this table as the number of people in group $j$ you would find who have been exposed to COVID, if you did a household visit for a COVID-19 case in group $i$.\n",
    "\n",
    "### TODO: Figure out how to quantify uncertainty for this in a reasonable amount of time."
   ]
  },
  {
   "cell_type": "code",
   "execution_count": 19,
   "id": "33d90932",
   "metadata": {},
   "outputs": [],
   "source": [
    "acs = pd.read_csv('data/acs_2019_pums.csv.bz2')\n",
    "#acs.head()"
   ]
  },
  {
   "cell_type": "code",
   "execution_count": 20,
   "id": "f8b1b4f6",
   "metadata": {},
   "outputs": [],
   "source": [
    "acs['age_group'] = pd.cut(acs.age, age_cutpoints, right=False)\n",
    "acs['sex'] = acs.sex.map({1:'male', 2:'female'})\n",
    "acs['race_eth'] = acs.race_eth.map({1:'White',\n",
    "                                    2:'Black',\n",
    "                                    3:'Hispanic', \n",
    "                                    4:'Other'})\n",
    "#acs.head()"
   ]
  },
  {
   "cell_type": "code",
   "execution_count": 21,
   "id": "e0ff4a9a",
   "metadata": {},
   "outputs": [],
   "source": [
    "g_acs = acs[acs.household_id.str.contains('HU')].groupby(['age_group', 'sex', 'race_eth'])\n",
    "#g_acs.head()"
   ]
  },
  {
   "cell_type": "code",
   "execution_count": 22,
   "id": "4c8841e8",
   "metadata": {},
   "outputs": [
    {
     "name": "stdout",
     "output_type": "stream",
     "text": [
      "\n",
      " 0\n",
      ". . . . . . . . . . . . . . . . . . . . . . . . . . . . . . . . . . . . . . . . . . . . . . . . . . . . . . . . . . . . . . . . . . . . . . . . \n",
      " 1\n",
      ". . . . . . . . . . . . . . . . . . . . . . . . . . . . . . . . . . . . . . . . . . . . . . . . . . . . . . . . . . . . . . . . . . . . . . . . \n",
      " 2\n",
      ". . . . . . . . . . . . . . . . . . . . . . . . . . . . . . . . . . . . . . . . . . . . . . . . . . . . . . . . . . . . . . . . . . . . . . . . \n",
      " 3\n",
      ". . . . . . . . . . . . . . . . . . . . . . . . . . . . . . . . . . . . . . . . . . . . . . . . . . . . . . . . . . . . . . . . . . . . . . . . \n",
      " 4\n",
      ". . . . . . . . . . . . . . . . . . . . . . . . . . . . . . . . . . . . . . . . . . . . . . . . . . . . . . . . . . . . . . . . . . . . . . . . \n",
      " 5\n",
      ". . . . . . . . . . . . . . . . . . . . . . . . . . . . . . . . . . . . . . . . . . . . . . . . . . . . . . . . . . . . . . . . . . . . . . . . \n",
      " 6\n",
      ". . . . . . . . . . . . . . . . . . . . . . . . . . . . . . . . . . . . . . . . . . . . . . . . . . . . . . . . . . . . . . . . . . . . . . . . \n",
      " 7\n",
      ". . . . . . . . . . . . . . . . . . . . . . . . . . . . . . . . . . . . . . . . . . . . . . . . . . . . . . . . . . . . . . . . . . . . . . . . \n",
      " 8\n",
      ". . . . . . . . . . . . . . . . . . . . . . . . . . . . . . . . . . . . . . . . . . . . . . . . . . . . . . . . . . . . . . . . . . . . . . . . \n",
      " 9\n",
      ". . . . . . . . . . . . . . . . . . . . . . . . . . . . . . . . . . . . . . . . . . . . . . . . . . . . . . . . . . . . . . . . . . . . . . . . \n",
      " 10\n",
      ". . . . . . . . . . . . . . . . . . . . . . . . . . . . . . . . . . . . . . . . . . . . . . . . . . . . . . . . . . . . . . . . . . . . . . . . \n",
      " 11\n",
      ". . . . . . . . . . . . . . . . . . . . . . . . . . . . . . . . . . . . . . . . . . . . . . . . . . . . . . . . . . . . . . . . . . . . . . . . \n",
      " 12\n",
      ". . . . . . . . . . . . . . . . . . . . . . . . . . . . . . . . . . . . . . . . . . . . . . . . . . . . . . . . . . . . . . . . . . . . . . . . \n",
      " 13\n",
      ". . . . . . . . . . . . . . . . . . . . . . . . . . . . . . . . . . . . . . . . . . . . . . . . . . . . . . . . . . . . . . . . . . . . . . . . \n",
      " 14\n",
      ". . . . . . . . . . . . . . . . . . . . . . . . . . . . . . . . . . . . . . . . . . . . . . . . . . . . . . . . . . . . . . . . . . . . . . . . \n",
      " 15\n",
      ". . . . . . . . . . . . . . . . . . . . . . . . . . . . . . . . . . . . . . . . . . . . . . . . . . . . . . . . . . . . . . . . . . . . . . . . \n",
      " 16\n",
      ". . . . . . . . . . . . . . . . . . . . . . . . . . . . . . . . . . . . . . . . . . . . . . . . . . . . . . . . . . . . . . . . . . . . . . . . \n",
      " 17\n",
      ". . . . . . . . . . . . . . . . . . . . . . . . . . . . . . . . . . . . . . . . . . . . . . . . . . . . . . . . . . . . . . . . . . . . . . . . \n",
      " 18\n",
      ". . . . . . . . . . . . . . . . . . . . . . . . . . . . . . . . . . . . . . . . . . . . . . . . . . . . . . . . . . . . . . . . . . . . . . . . \n",
      " 19\n",
      ". . . . . . . . . . . . . . . . . . . . . . . . . . . . . . . . . . . . . . . . . . . . . . . . . . . . . . . . . . . . . . . . . . . . . . . . \n",
      " 20\n",
      ". . . . . . . . . . . . . . . . . . . . . . . . . . . . . . . . . . . . . . . . . . . . . . . . . . . . . . . . . . . . . . . . . . . . . . . . \n",
      " 21\n",
      ". . . . . . . . . . . . . . . . . . . . . . . . . . . . . . . . . . . . . . . . . . . . . . . . . . . . . . . . . . . . . . . . . . . . . . . . \n",
      " 22\n",
      ". . . . . . . . . . . . . . . . . . . . . . . . . . . . . . . . . . . . . . . . . . . . . . . . . . . . . . . . . . . . . . . . . . . . . . . . \n",
      " 23\n",
      ". . . . . . . . . . . . . . . . . . . . . . . . . . . . . . . . . . . . . . . . . . . . . . . . . . . . . . . . . . . . . . . . . . . . . . . . \n",
      " 24\n",
      ". . . . . . . . . . . . . . . . . . . . . . . . . . . . . . . . . . . . . . . . . . . . . . . . . . . . . . . . . . . . . . . . . . . . . . . . \n",
      " 25\n",
      ". . . . . . . . . . . . . . . . . . . . . . . . . . . . . . . . . . . . . . . . . . . . . . . . . . . . . . . . . . . . . . . . . . . . . . . . \n",
      " 26\n",
      ". . . . . . . . . . . . . . . . . . . . . . . . . . . . . . . . . . . . . . . . . . . . . . . . . . . . . . . . . . . . . . . . . . . . . . . . \n",
      " 27\n",
      ". . . . . . . . . . . . . . . . . . . . . . . . . . . . . . . . . . . . . . . . . . . . . . . . . . . . . . . . . . . . . . . . . . . . . . . . \n",
      " 28\n",
      ". . . . . . . . . . . . . . . . . . . . . . . . . . . . . . . . . . . . . . . . . . . . . . . . . . . . . . . . . . . . . . . . . . . . . . . . \n",
      " 29\n",
      ". . . . . . . . . . . . . . . . . . . . . . . . . . . . . . . . . . . . . . . . . . . . . . . . . . . . . . . . . . . . . . . . . . . . . . . . \n",
      " 30\n",
      ". . . . . . . . . . . . . . . . . . . . . . . . . . . . . . . . . . . . . . . . . . . . . . . . . . . . . . . . . . . . . . . . . . . . . . . . \n",
      " 31\n",
      ". . . . . . . . . . . . . . . . . . . . . . . . . . . . . . . . . . . . . . . . . . . . . . . . . . . . . . . . . . . . . . . . . . . . . . . . \n",
      " 32\n",
      ". . . . . . . . . . . . . . . . . . . . . . . . . . . . . . . . . . . . . . . . . . . . . . . . . . . . . . . . . . . . . . . . . . . . . . . . \n",
      " 33\n",
      ". . . . . . . . . . . . . . . . . . . . . . . . . . . . . . . . . . . . . . . . . . . . . . . . . . . . . . . . . . . . . . . . . . . . . . . . \n",
      " 34\n",
      ". . . . . . . . . . . . . . . . . . . . . . . . . . . . . . . . . . . . . . . . . . . . . . . . . . . . . . . . . . . . . . . . . . . . . . . . \n",
      " 35\n",
      ". . . . . . . . . . . . . . . . . . . . . . . . . . . . . . . . . . . . . . . . . . . . . . . . . . . . . . . . . . . . . . . . . . . . . . . . \n",
      " 36\n",
      ". . . . . . . . . . . . . . . . . . . . . . . . . . . . . . . . . . . . . . . . . . . . . . . . . . . . . . . . . . . . . . . . . . . . . . . . \n",
      " 37\n",
      ". . . . . . . . . . . . . . . . . . . . . . . . . . . . . . . . . . . . . . . . . . . . . . . . . . . . . . . . . . . . . . . . . . . . . . . . \n",
      " 38\n",
      ". . . . . . . . . . . . . . . . . . . . . . . . . . . . . . . . . . . . . . . . . . . . . . . . . . . . . . . . . . . . . . . . . . . . . . . . \n",
      " 39\n",
      ". . . . . . . . . . . . . . . . . . . . . . . . . . . . . . . . . . . . . . . . . . . . . . . . . . . . . . . . . . . . . . . . . . . . . . . . \n",
      " 40\n",
      ". . . . . . . . . . . . . . . . . . . . . . . . . . . . . . . . . . . . . . . . . . . . . . . . . . . . . . . . . . . . . . . . . . . . . . . . \n",
      " 41\n",
      ". . . . . . . . . . . . . . . . . . . . . . . . . . . . . . . . . . . . . . . . . . . . . . . . . . . . . . . . . . . . . . . . . . . . . . . . \n",
      " 42\n",
      ". . . . . . . . . . . . . . . . . . . . . . . . . . . . . . . . . . . . . . . . . . . . . . . . . . . . . . . . . . . . . . . . . . . . . . . . \n",
      " 43\n",
      ". . . . . . . . . . . . . . . . . . . . . . . . . . . . . . . . . . . . . . . . . . . . . . . . . . . . . . . . . . . . . . . . . . . . . . . . \n",
      " 44\n",
      ". . . . . . . . . . . . . . . . . . . . . . . . . . . . . . . . . . . . . . . . . . . . . . . . . . . . . . . . . . . . . . . . . . . . . . . . \n",
      " 45\n",
      ". . . . . . . . . . . . . . . . . . . . . . . . . . . . . . . . . . . . . . . . . . . . . . . . . . . . . . . . . . . . . . . . . . . . . . . . \n",
      " 46\n",
      ". . . . . . . . . . . . . . . . . . . . . . . . . . . . . . . . . . . . . . . . . . . . . . . . . . . . . . . . . . . . . . . . . . . . . . . . \n",
      " 47\n",
      ". . . . . . . . . . . . . . . . . . . . . . . . . . . . . . . . . . . . . . . . . . . . . . . . . . . . . . . . . . . . . . . . . . . . . . . . \n",
      " 48\n",
      ". . . . . . . . . . . . . . . . . . . . . . . . . . . . . . . . . . . . . . . . . . . . . . . . . . . . . . . . . . . . . . . . . . . . . . . . \n",
      " 49\n",
      ". . . . . . . . . . . . . . . . . . . . . . . . . . . . . . . . . . . . . . . . . . . . . . . . . . . . . . . . . . . . . . . . . . . . . . . . \n",
      " 50\n",
      ". . . . . . . . . . . . . . . . . . . . . . . . . . . . . . . . . . . . . . . . . . . . . . . . . . . . . . . . . . . . . . . . . . . . . . . . \n",
      " 51\n",
      ". . . . . . . . . . . . . . . . . . . . . . . . . . . . . . . . . . . . . . . . . . . . . . . . . . . . . . . . . . . . . . . . . . . . . . . . \n",
      " 52\n",
      ". . . . . . . . . . . . . . . . . . . . . . . . . . . . . . . . . . . . . . . . . . . . . . . . . . . . . . . . . . . . . . . . . . . . . . . . \n",
      " 53\n",
      ". . . . . . . . . . . . . . . . . . . . . . . . . . . . . . . . . . . . . . . . . . . . . . . . . . . . . . . . . . . . . . . . . . . . . . . . \n",
      " 54\n",
      ". . . . . . . . . . . . . . . . . . . . . . . . . . . . . . . . . . . . . . . . . . . . . . . . . . . . . . . . . . . . . . . . . . . . . . . . \n",
      " 55\n",
      ". . . . . . . . . . . . . . . . . . . . . . . . . . . . . . . . . . . . . . . . . . . . . . . . . . . . . . . . . . . . . . . . . . . . . . . . \n",
      " 56\n",
      ". . . . . . . . . . . . . . . . . . . . . . . . . . . . . . . . . . . . . . . . . . . . . . . . . . . . . . . . . . . . . . . . . . . . . . . . \n",
      " 57\n",
      ". . . . . . . . . . . . . . . . . . . . . . . . . . . . . . . . . . . . . . . . . . . . . . . . . . . . . . . . . . . . . . . . . . . . . . . . \n",
      " 58\n",
      ". . . . . . . . . . . . . . . . . . . . . . . . . . . . . . . . . . . . . . . . . . . . . . . . . . . . . . . . . . . . . . . . . . . . . . . . \n",
      " 59\n",
      ". . . . . . . . . . . . . . . . . . . . . . . . . . . . . . . . . . . . . . . . . . . . . . . . . . . . . . . . . . . . . . . . . . . . . . . . \n",
      " 60\n",
      ". . . . . . . . . . . . . . . . . . . . . . . . . . . . . . . . . . . . . . . . . . . . . . . . . . . . . . . . . . . . . . . . . . . . . . . . \n",
      " 61\n",
      ". . . . . . . . . . . . . . . . . . . . . . . . . . . . . . . . . . . . . . . . . . . . . . . . . . . . . . . . . . . . . . . . . . . . . . . . \n",
      " 62\n",
      ". . . . . . . . . . . . . . . . . . . . . . . . . . . . . . . . . . . . . . . . . . . . . . . . . . . . . . . . . . . . . . . . . . . . . . . . \n",
      " 63\n",
      ". . . . . . . . . . . . . . . . . . . . . . . . . . . . . . . . . . . . . . . . . . . . . . . . . . . . . . . . . . . . . . . . . . . . . . . . \n",
      " 64\n",
      ". . . . . . . . . . . . . . . . . . . . . . . . . . . . . . . . . . . . . . . . . . . . . . . . . . . . . . . . . . . . . . . . . . . . . . . . \n",
      " 65\n",
      ". . . . . . . . . . . . . . . . . . . . . . . . . . . . . . . . . . . . . . . . . . . . . . . . . . . . . . . . . . . . . . . . . . . . . . . . \n",
      " 66\n",
      ". . . . . . . . . . . . . . . . . . . . . . . . . . . . . . . . . . . . . . . . . . . . . . . . . . . . . . . . . . . . . . . . . . . . . . . . \n",
      " 67\n",
      ". . . . . . . . . . . . . . . . . . . . . . . . . . . . . . . . . . . . . . . . . . . . . . . . . . . . . . . . . . . . . . . . . . . . . . . . \n",
      " 68\n",
      ". . . . . . . . . . . . . . . . . . . . . . . . . . . . . . . . . . . . . . . . . . . . . . . . . . . . . . . . . . . . . . . . . . . . . . . . \n",
      " 69\n",
      ". . . . . . . . . . . . . . . . . . . . . . . . . . . . . . . . . . . . . . . . . . . . . . . . . . . . . . . . . . . . . . . . . . . . . . . . \n",
      " 70\n",
      ". . . . . . . . . . . . . . . . . . . . . . . . . . . . . . . . . . . . . . . . . . . . . . . . . . . . . . . . . . . . . . . . . . . . . . . . \n",
      " 71\n",
      ". . . . . . . . . . . . . . . . . . . . . . . . . . . . . . . . . . . . . . . . . . . . . . . . . . . . . . . . . . . . . . . . . . . . . . . . \n",
      " 72\n",
      ". . . . . . . . . . . . . . . . . . . . . . . . . . . . . . . . . . . . . . . . . . . . . . . . . . . . . . . . . . . . . . . . . . . . . . . . \n",
      " 73\n",
      ". . . . . . . . . . . . . . . . . . . . . . . . . . . . . . . . . . . . . . . . . . . . . . . . . . . . . . . . . . . . . . . . . . . . . . . . \n",
      " 74\n",
      ". . . . . . . . . . . . . . . . . . . . . . . . . . . . . . . . . . . . . . . . . . . . . . . . . . . . . . . . . . . . . . . . . . . . . . . . \n",
      " 75\n",
      ". . . . . . . . . . . . . . . . . . . . . . . . . . . . . . . . . . . . . . . . . . . . . . . . . . . . . . . . . . . . . . . . . . . . . . . . \n",
      " 76\n",
      ". . . . . . . . . . . . . . . . . . . . . . . . . . . . . . . . . . . . . . . . . . . . . . . . . . . . . . . . . . . . . . . . . . . . . . . . \n",
      " 77\n",
      ". . . . . . . . . . . . . . . . . . . . . . . . . . . . . . . . . . . . . . . . . . . . . . . . . . . . . . . . . . . . . . . . . . . . . . . . \n",
      " 78\n",
      ". . . . . . . . . . . . . . . . . . . . . . . . . . . . . . . . . . . . . . . . . . . . . . . . . . . . . . . . . . . . . . . . . . . . . . . . \n",
      " 79\n",
      ". . . . . . . . . . . . . . . . . . . . . . . . . . . . . . . . . . . . . . . . . . . . . . . . . . . . . . . . . . . . . . . . . . . . . . . . \n",
      " 80\n",
      ". . . . . . . . . . . . . . . . . . . . . . . . . . . . . . . . . . . . . . . . . . . . . . . . . . . . . . . . . . . . . . . . . . . . . . . . \n",
      " 81\n",
      ". . . . . . . . . . . . . . . . . . . . . . . . . . . . . . . . . . . . . . . . . . . . . . . . . . . . . . . . . . . . . . . . . . . . . . . . \n",
      " 82\n",
      ". . . . . . . . . . . . . . . . . . . . . . . . . . . . . . . . . . . . . . . . . . . . . . . . . . . . . . . . . . . . . . . . . . . . . . . . \n",
      " 83\n",
      ". . . . . . . . . . . . . . . . . . . . . . . . . . . . . . . . . . . . . . . . . . . . . . . . . . . . . . . . . . . . . . . . . . . . . . . . \n",
      " 84\n",
      ". . . . . . . . . . . . . . . . . . . . . . . . . . . . . . . . . . . . . . . . . . . . . . . . . . . . . . . . . . . . . . . . . . . . . . . . \n",
      " 85\n",
      ". . . . . . . . . . . . . . . . . . . . . . . . . . . . . . . . . . . . . . . . . . . . . . . . . . . . . . . . . . . . . . . . . . . . . . . . \n",
      " 86\n",
      ". . . . . . . . . . . . . . . . . . . . . . . . . . . . . . . . . . . . . . . . . . . . . . . . . . . . . . . . . . . . . . . . . . . . . . . . \n",
      " 87\n",
      ". . . . . . . . . . . . . . . . . . . . . . . . . . . . . . . . . . . . . . . . . . . . . . . . . . . . . . . . . . . . . . . . . . . . . . . . \n",
      " 88\n",
      ". . . . . . . . . . . . . . . . . . . . . . . . . . . . . . . . . . . . . . . . . . . . . . . . . . . . . . . . . . . . . . . . . . . . . . . . \n",
      " 89\n",
      ". . . . . . . . . . . . . . . . . . . . . . . . . . . . . . . . . . . . . . . . . . . . . . . . . . . . . . . . . . . . . . . . . . . . . . . . \n",
      " 90\n",
      ". . . . . . . . . . . . . . . . . . . . . . . . . . . . . . . . . . . . . . . . . . . . . . . . . . . . . . . . . . . . . . . . . . . . . . . . \n",
      " 91\n",
      ". . . . . . . . . . . . . . . . . . . . . . . . . . . . . . . . . . . . . . . . . . . . . . . . . . . . . . . . . . . . . . . . . . . . . . . . \n",
      " 92\n",
      ". . . . . . . . . . . . . . . . . . . . . . . . . . . . . . . . . . . . . . . . . . . . . . . . . . . . . . . . . . . . . . . . . . . . . . . . \n",
      " 93\n",
      ". . . . . . . . . . . . . . . . . . . . . . . . . . . . . . . . . . . . . . . . . . . . . . . . . . . . . . . . . . . . . . . . . . . . . . . . \n",
      " 94\n",
      ". . . . . . . . . . . . . . . . . . . . . . . . . . . . . . . . . . . . . . . . . . . . . . . . . . . . . . . . . . . . . . . . . . . . . . . . \n",
      " 95\n",
      ". . . . . . . . . . . . . . . . . . . . . . . . . . . . . . . . . . . . . . . . . . . . . . . . . . . . . . . . . . . . . . . . . . . . . . . . \n",
      " 96\n",
      ". . . . . . . . . . . . . . . . . . . . . . . . . . . . . . . . . . . . . . . . . . . . . . . . . . . . . . . . . . . . . . . . . . . . . . . . \n",
      " 97\n",
      ". . . . . . . . . . . . . . . . . . . . . . . . . . . . . . . . . . . . . . . . . . . . . . . . . . . . . . . . . . . . . . . . . . . . . . . . \n",
      " 98\n",
      ". . . . . . . . . . . . . . . . . . . . . . . . . . . . . . . . . . . . . . . . . . . . . . . . . . . . . . . . . . . . . . . . . . . . . . . . \n",
      " 99\n",
      ". . . . . . . . . . . . . . . . . . . . . . . . . . . . . . . . . . . . . . . . . . . . . . . . . . . . . . . . . . . . . . . . . . . . . . . . Wall time: 2h 30min 17s\n"
     ]
    }
   ],
   "source": [
    "%%time\n",
    "n_hh = {}\n",
    "\n",
    "for k in range(n_draws):\n",
    "    print('\\n',k)\n",
    "    n_hh[k] = pd.DataFrame(0, index=stratification_groups, columns=stratification_groups)\n",
    "    n_hh[k] = n_hh[k].sort_index()  # make a pesky warning go away, and possibly make things faster --- see https://stackoverflow.com/questions/54307300/what-causes-indexing-past-lexsort-depth-warning-in-pandas\n",
    "    \n",
    "    for i in stratification_groups:\n",
    "        print('.', flush=True, end=' ')\n",
    "        hh_ids = g_acs.get_group(i).household_id  # ids for households containing a person from stratification group i\n",
    "        hh_ids_k = np.random.choice(hh_ids, size=100, replace=True)  # randomly resampled hhs with person from group i\n",
    "\n",
    "        for j in stratification_groups:\n",
    "            t = g_acs.get_group(j) # all people in stratification from j\n",
    "\n",
    "            df_ij = t[t.household_id.isin(hh_ids_k)]  # people in stratification group j who live in household with person from stratification group i\n",
    "\n",
    "            hh_ij = pd.Series(0, index=hh_ids_k).add(\n",
    "                        df_ij.household_id.value_counts() * pd.Series(hh_ids_k).value_counts(),  # resampling with replacement means some hhs will appear more than once\n",
    "                        fill_value=0\n",
    "                    )\n",
    "\n",
    "            n_hh[k].loc[i,j] = hh_ij.mean()\n",
    "            if i == j:\n",
    "                n_hh[k].loc[i,j] -= 1 # don't include the person with a confirmed case when tallying household exposure count"
   ]
  },
  {
   "cell_type": "code",
   "execution_count": 23,
   "id": "1029c102",
   "metadata": {},
   "outputs": [
    {
     "name": "stdout",
     "output_type": "stream",
     "text": [
      "Wall time: 22min 58s\n"
     ]
    },
    {
     "data": {
      "text/html": [
       "<div>\n",
       "<style scoped>\n",
       "    .dataframe tbody tr th:only-of-type {\n",
       "        vertical-align: middle;\n",
       "    }\n",
       "\n",
       "    .dataframe tbody tr th {\n",
       "        vertical-align: top;\n",
       "    }\n",
       "\n",
       "    .dataframe thead tr th {\n",
       "        text-align: left;\n",
       "    }\n",
       "</style>\n",
       "<table border=\"1\" class=\"dataframe\">\n",
       "  <thead>\n",
       "    <tr>\n",
       "      <th></th>\n",
       "      <th colspan=\"2\" halign=\"left\">Black</th>\n",
       "      <th colspan=\"2\" halign=\"left\">Hispanic</th>\n",
       "      <th colspan=\"2\" halign=\"left\">Other</th>\n",
       "      <th colspan=\"2\" halign=\"left\">White</th>\n",
       "    </tr>\n",
       "    <tr>\n",
       "      <th></th>\n",
       "      <th>female</th>\n",
       "      <th>male</th>\n",
       "      <th>female</th>\n",
       "      <th>male</th>\n",
       "      <th>female</th>\n",
       "      <th>male</th>\n",
       "      <th>female</th>\n",
       "      <th>male</th>\n",
       "    </tr>\n",
       "  </thead>\n",
       "  <tbody>\n",
       "    <tr>\n",
       "      <th>[0, 10)</th>\n",
       "      <td>6336.1</td>\n",
       "      <td>6573.5</td>\n",
       "      <td>7611.0</td>\n",
       "      <td>7845.6</td>\n",
       "      <td>4205.0</td>\n",
       "      <td>4298.2</td>\n",
       "      <td>16782.6</td>\n",
       "      <td>17976.9</td>\n",
       "    </tr>\n",
       "    <tr>\n",
       "      <th>[10, 20)</th>\n",
       "      <td>6501.8</td>\n",
       "      <td>6880.6</td>\n",
       "      <td>8111.7</td>\n",
       "      <td>8382.3</td>\n",
       "      <td>3785.2</td>\n",
       "      <td>3945.7</td>\n",
       "      <td>18316.8</td>\n",
       "      <td>19498.3</td>\n",
       "    </tr>\n",
       "    <tr>\n",
       "      <th>[20, 30)</th>\n",
       "      <td>4233.2</td>\n",
       "      <td>3817.4</td>\n",
       "      <td>5398.8</td>\n",
       "      <td>5541.8</td>\n",
       "      <td>2624.2</td>\n",
       "      <td>2662.2</td>\n",
       "      <td>11161.7</td>\n",
       "      <td>11782.1</td>\n",
       "    </tr>\n",
       "    <tr>\n",
       "      <th>[30, 40)</th>\n",
       "      <td>4499.3</td>\n",
       "      <td>3362.2</td>\n",
       "      <td>5301.3</td>\n",
       "      <td>4898.8</td>\n",
       "      <td>2883.8</td>\n",
       "      <td>2414.4</td>\n",
       "      <td>13942.5</td>\n",
       "      <td>13211.2</td>\n",
       "    </tr>\n",
       "    <tr>\n",
       "      <th>[40, 50)</th>\n",
       "      <td>4249.8</td>\n",
       "      <td>3338.4</td>\n",
       "      <td>5042.4</td>\n",
       "      <td>4599.6</td>\n",
       "      <td>2934.1</td>\n",
       "      <td>2436.2</td>\n",
       "      <td>15201.5</td>\n",
       "      <td>14896.3</td>\n",
       "    </tr>\n",
       "    <tr>\n",
       "      <th>[50, 60)</th>\n",
       "      <td>3804.5</td>\n",
       "      <td>3042.7</td>\n",
       "      <td>3339.5</td>\n",
       "      <td>3353.5</td>\n",
       "      <td>2110.3</td>\n",
       "      <td>1965.4</td>\n",
       "      <td>11897.3</td>\n",
       "      <td>12597.8</td>\n",
       "    </tr>\n",
       "    <tr>\n",
       "      <th>[60, 70)</th>\n",
       "      <td>2634.7</td>\n",
       "      <td>1993.5</td>\n",
       "      <td>1791.8</td>\n",
       "      <td>1645.2</td>\n",
       "      <td>1372.9</td>\n",
       "      <td>1237.3</td>\n",
       "      <td>7147.4</td>\n",
       "      <td>7578.4</td>\n",
       "    </tr>\n",
       "    <tr>\n",
       "      <th>[70, 80)</th>\n",
       "      <td>1214.4</td>\n",
       "      <td>841.6</td>\n",
       "      <td>790.1</td>\n",
       "      <td>671.9</td>\n",
       "      <td>639.8</td>\n",
       "      <td>530.5</td>\n",
       "      <td>3510.8</td>\n",
       "      <td>3503.2</td>\n",
       "    </tr>\n",
       "    <tr>\n",
       "      <th>[80, 125)</th>\n",
       "      <td>563.3</td>\n",
       "      <td>277.5</td>\n",
       "      <td>396.4</td>\n",
       "      <td>249.4</td>\n",
       "      <td>305.6</td>\n",
       "      <td>215.4</td>\n",
       "      <td>1551.8</td>\n",
       "      <td>1240.0</td>\n",
       "    </tr>\n",
       "  </tbody>\n",
       "</table>\n",
       "</div>"
      ],
      "text/plain": [
       "            Black         Hispanic           Other            White         \n",
       "           female    male   female    male  female    male   female     male\n",
       "[0, 10)    6336.1  6573.5   7611.0  7845.6  4205.0  4298.2  16782.6  17976.9\n",
       "[10, 20)   6501.8  6880.6   8111.7  8382.3  3785.2  3945.7  18316.8  19498.3\n",
       "[20, 30)   4233.2  3817.4   5398.8  5541.8  2624.2  2662.2  11161.7  11782.1\n",
       "[30, 40)   4499.3  3362.2   5301.3  4898.8  2883.8  2414.4  13942.5  13211.2\n",
       "[40, 50)   4249.8  3338.4   5042.4  4599.6  2934.1  2436.2  15201.5  14896.3\n",
       "[50, 60)   3804.5  3042.7   3339.5  3353.5  2110.3  1965.4  11897.3  12597.8\n",
       "[60, 70)   2634.7  1993.5   1791.8  1645.2  1372.9  1237.3   7147.4   7578.4\n",
       "[70, 80)   1214.4   841.6    790.1   671.9   639.8   530.5   3510.8   3503.2\n",
       "[80, 125)   563.3   277.5    396.4   249.4   305.6   215.4   1551.8   1240.0"
      ]
     },
     "execution_count": 23,
     "metadata": {},
     "output_type": "execute_result"
    }
   ],
   "source": [
    "%%time\n",
    "\n",
    "n_2_unvax = {}\n",
    "n_2_unvax_total = {}\n",
    "\n",
    "n_2_all = {}\n",
    "n_2_all_total = {}\n",
    "\n",
    "for k in range(n_draws):\n",
    "    n_2_unvax[k] = pd.Series(0.0, index=stratification_groups)\n",
    "    n_2_all[k] = pd.Series(0.0, index=stratification_groups)\n",
    "    for j in stratification_groups:\n",
    "        a0,a1 = j[0].left, j[0].right\n",
    "        s,r=j[1],j[2]\n",
    "        j_cov = (f'[{a0}, {a1})', s, r)\n",
    "        for i in stratification_groups:\n",
    "            n_2_unvax[k][j] += n_1[k][i] * pr_case_in_unvaccinated_household[k] * n_hh[k].loc[i,j] # count only the unvaccinated who's household is all unvaccinated, which is a lower-bound on total\n",
    "            n_2_all[k][j] += n_1[k][i] * n_hh[k].loc[i,j]\n",
    "    n_2_unvax_total[k] = n_2_unvax[k].sum()\n",
    "    n_2_all_total[k] = n_2_all[k].sum()\n",
    "n_2_unvax_mean = sum(n_2_unvax.values()) / n_draws\n",
    "n_2_all_mean = sum(n_2_all.values()) / n_draws\n",
    "np.round(n_2_all_mean.unstack().unstack(), 1)"
   ]
  },
  {
   "cell_type": "code",
   "execution_count": 24,
   "id": "583dbd10",
   "metadata": {},
   "outputs": [
    {
     "data": {
      "text/html": [
       "<div>\n",
       "<style scoped>\n",
       "    .dataframe tbody tr th:only-of-type {\n",
       "        vertical-align: middle;\n",
       "    }\n",
       "\n",
       "    .dataframe tbody tr th {\n",
       "        vertical-align: top;\n",
       "    }\n",
       "\n",
       "    .dataframe thead tr th {\n",
       "        text-align: left;\n",
       "    }\n",
       "</style>\n",
       "<table border=\"1\" class=\"dataframe\">\n",
       "  <thead>\n",
       "    <tr>\n",
       "      <th></th>\n",
       "      <th colspan=\"2\" halign=\"left\">Black</th>\n",
       "      <th colspan=\"2\" halign=\"left\">Hispanic</th>\n",
       "      <th colspan=\"2\" halign=\"left\">Other</th>\n",
       "      <th colspan=\"2\" halign=\"left\">White</th>\n",
       "    </tr>\n",
       "    <tr>\n",
       "      <th></th>\n",
       "      <th>female</th>\n",
       "      <th>male</th>\n",
       "      <th>female</th>\n",
       "      <th>male</th>\n",
       "      <th>female</th>\n",
       "      <th>male</th>\n",
       "      <th>female</th>\n",
       "      <th>male</th>\n",
       "    </tr>\n",
       "  </thead>\n",
       "  <tbody>\n",
       "    <tr>\n",
       "      <th>[0, 10)</th>\n",
       "      <td>4250.1</td>\n",
       "      <td>4410.0</td>\n",
       "      <td>5104.7</td>\n",
       "      <td>5264.7</td>\n",
       "      <td>2820.8</td>\n",
       "      <td>2884.5</td>\n",
       "      <td>11261.2</td>\n",
       "      <td>12059.9</td>\n",
       "    </tr>\n",
       "    <tr>\n",
       "      <th>[10, 20)</th>\n",
       "      <td>4362.8</td>\n",
       "      <td>4617.3</td>\n",
       "      <td>5441.7</td>\n",
       "      <td>5623.7</td>\n",
       "      <td>2540.5</td>\n",
       "      <td>2646.6</td>\n",
       "      <td>12289.3</td>\n",
       "      <td>13083.3</td>\n",
       "    </tr>\n",
       "    <tr>\n",
       "      <th>[20, 30)</th>\n",
       "      <td>2840.8</td>\n",
       "      <td>2561.6</td>\n",
       "      <td>3621.4</td>\n",
       "      <td>3718.2</td>\n",
       "      <td>1759.6</td>\n",
       "      <td>1785.6</td>\n",
       "      <td>7490.8</td>\n",
       "      <td>7902.7</td>\n",
       "    </tr>\n",
       "    <tr>\n",
       "      <th>[30, 40)</th>\n",
       "      <td>3018.5</td>\n",
       "      <td>2255.9</td>\n",
       "      <td>3555.5</td>\n",
       "      <td>3287.3</td>\n",
       "      <td>1934.2</td>\n",
       "      <td>1619.5</td>\n",
       "      <td>9353.2</td>\n",
       "      <td>8862.9</td>\n",
       "    </tr>\n",
       "    <tr>\n",
       "      <th>[40, 50)</th>\n",
       "      <td>2852.5</td>\n",
       "      <td>2239.4</td>\n",
       "      <td>3383.1</td>\n",
       "      <td>3086.0</td>\n",
       "      <td>1968.9</td>\n",
       "      <td>1634.6</td>\n",
       "      <td>10199.0</td>\n",
       "      <td>9993.1</td>\n",
       "    </tr>\n",
       "    <tr>\n",
       "      <th>[50, 60)</th>\n",
       "      <td>2551.6</td>\n",
       "      <td>2042.3</td>\n",
       "      <td>2240.7</td>\n",
       "      <td>2249.6</td>\n",
       "      <td>1415.9</td>\n",
       "      <td>1318.8</td>\n",
       "      <td>7986.7</td>\n",
       "      <td>8453.7</td>\n",
       "    </tr>\n",
       "    <tr>\n",
       "      <th>[60, 70)</th>\n",
       "      <td>1767.8</td>\n",
       "      <td>1336.8</td>\n",
       "      <td>1202.3</td>\n",
       "      <td>1103.8</td>\n",
       "      <td>920.9</td>\n",
       "      <td>829.7</td>\n",
       "      <td>4793.6</td>\n",
       "      <td>5085.8</td>\n",
       "    </tr>\n",
       "    <tr>\n",
       "      <th>[70, 80)</th>\n",
       "      <td>815.0</td>\n",
       "      <td>564.8</td>\n",
       "      <td>530.5</td>\n",
       "      <td>450.6</td>\n",
       "      <td>429.0</td>\n",
       "      <td>355.6</td>\n",
       "      <td>2356.6</td>\n",
       "      <td>2350.4</td>\n",
       "    </tr>\n",
       "    <tr>\n",
       "      <th>[80, 125)</th>\n",
       "      <td>378.3</td>\n",
       "      <td>186.1</td>\n",
       "      <td>266.0</td>\n",
       "      <td>167.1</td>\n",
       "      <td>205.2</td>\n",
       "      <td>144.5</td>\n",
       "      <td>1041.4</td>\n",
       "      <td>832.5</td>\n",
       "    </tr>\n",
       "  </tbody>\n",
       "</table>\n",
       "</div>"
      ],
      "text/plain": [
       "            Black         Hispanic           Other            White         \n",
       "           female    male   female    male  female    male   female     male\n",
       "[0, 10)    4250.1  4410.0   5104.7  5264.7  2820.8  2884.5  11261.2  12059.9\n",
       "[10, 20)   4362.8  4617.3   5441.7  5623.7  2540.5  2646.6  12289.3  13083.3\n",
       "[20, 30)   2840.8  2561.6   3621.4  3718.2  1759.6  1785.6   7490.8   7902.7\n",
       "[30, 40)   3018.5  2255.9   3555.5  3287.3  1934.2  1619.5   9353.2   8862.9\n",
       "[40, 50)   2852.5  2239.4   3383.1  3086.0  1968.9  1634.6  10199.0   9993.1\n",
       "[50, 60)   2551.6  2042.3   2240.7  2249.6  1415.9  1318.8   7986.7   8453.7\n",
       "[60, 70)   1767.8  1336.8   1202.3  1103.8   920.9   829.7   4793.6   5085.8\n",
       "[70, 80)    815.0   564.8    530.5   450.6   429.0   355.6   2356.6   2350.4\n",
       "[80, 125)   378.3   186.1    266.0   167.1   205.2   144.5   1041.4    832.5"
      ]
     },
     "execution_count": 24,
     "metadata": {},
     "output_type": "execute_result"
    }
   ],
   "source": [
    "np.round(n_2_unvax_mean.unstack().unstack(), 1)"
   ]
  },
  {
   "cell_type": "code",
   "execution_count": 25,
   "id": "8a483cf4",
   "metadata": {},
   "outputs": [],
   "source": [
    "n_2_all_total_mean = sum(n_2_all_total.values()) / n_draws\n",
    "n_2_all_total_lb = np.percentile(list(n_2_all_total.values()), 2.5)\n",
    "n_2_all_total_ub = np.percentile(list(n_2_all_total.values()), 97.5)"
   ]
  },
  {
   "cell_type": "code",
   "execution_count": 26,
   "id": "121d78a1",
   "metadata": {},
   "outputs": [
    {
     "name": "stdout",
     "output_type": "stream",
     "text": [
      "total number of (vaccinated & unvaccinated) household contacts: 381,498.5 (95% UI 373,749.0-389,767.9)\n"
     ]
    }
   ],
   "source": [
    "print(f'total number of (vaccinated & unvaccinated) household contacts: {n_2_all_total_mean:,.1f} (95% UI {n_2_all_total_lb:,.1f}-{n_2_all_total_ub:,.1f})')"
   ]
  },
  {
   "cell_type": "code",
   "execution_count": 27,
   "id": "7de9d7a6",
   "metadata": {},
   "outputs": [],
   "source": [
    "n_2_total_mean = sum(n_2_unvax_total.values()) / n_draws\n",
    "n_2_total_lb = np.percentile(list(n_2_unvax_total.values()), 2.5)\n",
    "n_2_total_ub = np.percentile(list(n_2_unvax_total.values()), 97.5)"
   ]
  },
  {
   "cell_type": "code",
   "execution_count": 28,
   "id": "02846561",
   "metadata": {},
   "outputs": [
    {
     "name": "stdout",
     "output_type": "stream",
     "text": [
      "total number of unvaccinated household contacts: 255,959.2 (95% UI 240,449.7-271,481.9)\n"
     ]
    }
   ],
   "source": [
    "print(f'total number of unvaccinated household contacts: {n_2_total_mean:,.1f} (95% UI {n_2_total_lb:,.1f}-{n_2_total_ub:,.1f})')"
   ]
  },
  {
   "cell_type": "code",
   "execution_count": 29,
   "id": "95d1bf17",
   "metadata": {},
   "outputs": [
    {
     "data": {
      "text/plain": [
       "Black       110.7\n",
       "Hispanic     84.7\n",
       "Other        91.9\n",
       "White        70.4\n",
       "dtype: float64"
      ]
     },
     "execution_count": 29,
     "metadata": {},
     "output_type": "execute_result"
    }
   ],
   "source": [
    "# household exposure rate (exposures per 100,000 person-months) by race\n",
    "n_2_race = {}\n",
    "for k in range(n_draws):\n",
    "    n_2_race[k] = 100_000 * (n_2_unvax[k].unstack().sum() / g_acs.weight.sum().unstack().sum())\n",
    "\n",
    "np.round(sum(n_2_race.values())/n_draws, 1)"
   ]
  },
  {
   "cell_type": "markdown",
   "id": "57ec8600",
   "metadata": {},
   "source": [
    "## 3. Estimate the number of people who receive PEP in scenarios with a range of coverage levels c and minimum age a_0 for receiving PEP"
   ]
  },
  {
   "cell_type": "code",
   "execution_count": 30,
   "id": "b60a73fb",
   "metadata": {},
   "outputs": [],
   "source": [
    "n_PEP = {}\n",
    "for c in coverage_levels:\n",
    "    for a0 in age_lower_bounds:\n",
    "        n_PEP[c,a0] = {}\n",
    "        for k in range(n_draws):\n",
    "            age_mask = pd.Series([a.left >= a0 for a,s,r in stratification_groups],\n",
    "                         index=stratification_groups)\n",
    "            n_PEP[c,a0][k] = c*n_2_unvax[k]*age_mask\n"
   ]
  },
  {
   "cell_type": "code",
   "execution_count": 31,
   "id": "559bbcbb",
   "metadata": {},
   "outputs": [
    {
     "data": {
      "text/plain": [
       "Black       12.4\n",
       "Hispanic     6.9\n",
       "Other        9.5\n",
       "White        8.6\n",
       "dtype: float64"
      ]
     },
     "execution_count": 31,
     "metadata": {},
     "output_type": "execute_result"
    }
   ],
   "source": [
    "# treatment rate (tx per 100,000 person-months) by race\n",
    "c,a = .50,50\n",
    "n_PEP_mean = sum(n_PEP[c, a].values())/n_draws\n",
    "np.round(100_000 * (n_PEP_mean.unstack().sum() / g_acs.weight.sum().unstack().sum()), 1) "
   ]
  },
  {
   "cell_type": "markdown",
   "id": "272e6f95",
   "metadata": {},
   "source": [
    "## 4.\tEstimate the number of people who develop a symptomatic COVID-19 infection in each scenario"
   ]
  },
  {
   "cell_type": "code",
   "execution_count": 32,
   "id": "814e9b0d",
   "metadata": {},
   "outputs": [],
   "source": [
    "n_COVID = {}\n",
    "for c in coverage_levels:\n",
    "    for a0 in age_lower_bounds:\n",
    "        n_COVID[c,a0] = {}\n",
    "        for k in range(n_draws):\n",
    "            n_COVID[c,a0][k] = attack_rate_without_mAbs[k] * (n_2_unvax[k] - n_PEP[c,a0][k]) \\\n",
    "                        + attack_rate_with_mAbs[k] * n_PEP[c,a0][k]"
   ]
  },
  {
   "cell_type": "code",
   "execution_count": 33,
   "id": "02cf0f2e",
   "metadata": {},
   "outputs": [
    {
     "data": {
      "text/html": [
       "<div>\n",
       "<style scoped>\n",
       "    .dataframe tbody tr th:only-of-type {\n",
       "        vertical-align: middle;\n",
       "    }\n",
       "\n",
       "    .dataframe tbody tr th {\n",
       "        vertical-align: top;\n",
       "    }\n",
       "\n",
       "    .dataframe thead tr th {\n",
       "        text-align: left;\n",
       "    }\n",
       "</style>\n",
       "<table border=\"1\" class=\"dataframe\">\n",
       "  <thead>\n",
       "    <tr>\n",
       "      <th></th>\n",
       "      <th colspan=\"2\" halign=\"left\">Black</th>\n",
       "      <th colspan=\"2\" halign=\"left\">Hispanic</th>\n",
       "      <th colspan=\"2\" halign=\"left\">Other</th>\n",
       "      <th colspan=\"2\" halign=\"left\">White</th>\n",
       "    </tr>\n",
       "    <tr>\n",
       "      <th></th>\n",
       "      <th>female</th>\n",
       "      <th>male</th>\n",
       "      <th>female</th>\n",
       "      <th>male</th>\n",
       "      <th>female</th>\n",
       "      <th>male</th>\n",
       "      <th>female</th>\n",
       "      <th>male</th>\n",
       "    </tr>\n",
       "  </thead>\n",
       "  <tbody>\n",
       "    <tr>\n",
       "      <th>[0, 10)</th>\n",
       "      <td>332.8</td>\n",
       "      <td>346.1</td>\n",
       "      <td>400.2</td>\n",
       "      <td>413.2</td>\n",
       "      <td>221.0</td>\n",
       "      <td>226.2</td>\n",
       "      <td>883.3</td>\n",
       "      <td>946.0</td>\n",
       "    </tr>\n",
       "    <tr>\n",
       "      <th>[10, 20)</th>\n",
       "      <td>342.3</td>\n",
       "      <td>362.4</td>\n",
       "      <td>426.5</td>\n",
       "      <td>441.0</td>\n",
       "      <td>199.3</td>\n",
       "      <td>207.6</td>\n",
       "      <td>964.7</td>\n",
       "      <td>1026.1</td>\n",
       "    </tr>\n",
       "    <tr>\n",
       "      <th>[20, 30)</th>\n",
       "      <td>222.6</td>\n",
       "      <td>201.1</td>\n",
       "      <td>284.3</td>\n",
       "      <td>291.6</td>\n",
       "      <td>138.0</td>\n",
       "      <td>139.9</td>\n",
       "      <td>587.3</td>\n",
       "      <td>619.4</td>\n",
       "    </tr>\n",
       "    <tr>\n",
       "      <th>[30, 40)</th>\n",
       "      <td>237.1</td>\n",
       "      <td>176.8</td>\n",
       "      <td>278.7</td>\n",
       "      <td>257.8</td>\n",
       "      <td>151.8</td>\n",
       "      <td>126.8</td>\n",
       "      <td>733.0</td>\n",
       "      <td>695.3</td>\n",
       "    </tr>\n",
       "    <tr>\n",
       "      <th>[40, 50)</th>\n",
       "      <td>223.5</td>\n",
       "      <td>175.6</td>\n",
       "      <td>265.6</td>\n",
       "      <td>242.0</td>\n",
       "      <td>154.4</td>\n",
       "      <td>128.1</td>\n",
       "      <td>800.0</td>\n",
       "      <td>783.4</td>\n",
       "    </tr>\n",
       "    <tr>\n",
       "      <th>[50, 60)</th>\n",
       "      <td>200.0</td>\n",
       "      <td>160.3</td>\n",
       "      <td>175.7</td>\n",
       "      <td>176.3</td>\n",
       "      <td>111.1</td>\n",
       "      <td>103.6</td>\n",
       "      <td>627.3</td>\n",
       "      <td>664.4</td>\n",
       "    </tr>\n",
       "    <tr>\n",
       "      <th>[60, 70)</th>\n",
       "      <td>138.7</td>\n",
       "      <td>104.8</td>\n",
       "      <td>94.3</td>\n",
       "      <td>86.5</td>\n",
       "      <td>72.1</td>\n",
       "      <td>65.0</td>\n",
       "      <td>375.8</td>\n",
       "      <td>398.9</td>\n",
       "    </tr>\n",
       "    <tr>\n",
       "      <th>[70, 80)</th>\n",
       "      <td>63.7</td>\n",
       "      <td>44.2</td>\n",
       "      <td>41.6</td>\n",
       "      <td>35.3</td>\n",
       "      <td>33.6</td>\n",
       "      <td>27.8</td>\n",
       "      <td>184.7</td>\n",
       "      <td>184.4</td>\n",
       "    </tr>\n",
       "    <tr>\n",
       "      <th>[80, 125)</th>\n",
       "      <td>29.7</td>\n",
       "      <td>14.6</td>\n",
       "      <td>20.9</td>\n",
       "      <td>13.1</td>\n",
       "      <td>16.1</td>\n",
       "      <td>11.3</td>\n",
       "      <td>81.5</td>\n",
       "      <td>65.2</td>\n",
       "    </tr>\n",
       "  </tbody>\n",
       "</table>\n",
       "</div>"
      ],
      "text/plain": [
       "           Black        Hispanic         Other         White        \n",
       "          female   male   female   male female   male female    male\n",
       "[0, 10)    332.8  346.1    400.2  413.2  221.0  226.2  883.3   946.0\n",
       "[10, 20)   342.3  362.4    426.5  441.0  199.3  207.6  964.7  1026.1\n",
       "[20, 30)   222.6  201.1    284.3  291.6  138.0  139.9  587.3   619.4\n",
       "[30, 40)   237.1  176.8    278.7  257.8  151.8  126.8  733.0   695.3\n",
       "[40, 50)   223.5  175.6    265.6  242.0  154.4  128.1  800.0   783.4\n",
       "[50, 60)   200.0  160.3    175.7  176.3  111.1  103.6  627.3   664.4\n",
       "[60, 70)   138.7  104.8     94.3   86.5   72.1   65.0  375.8   398.9\n",
       "[70, 80)    63.7   44.2     41.6   35.3   33.6   27.8  184.7   184.4\n",
       "[80, 125)   29.7   14.6     20.9   13.1   16.1   11.3   81.5    65.2"
      ]
     },
     "execution_count": 33,
     "metadata": {},
     "output_type": "execute_result"
    }
   ],
   "source": [
    "n_COVID_mean = sum(n_COVID[0,70].values())/n_draws\n",
    "\n",
    "np.round(n_COVID_mean.unstack().unstack(),1)"
   ]
  },
  {
   "cell_type": "code",
   "execution_count": 34,
   "id": "62c0d499",
   "metadata": {},
   "outputs": [
    {
     "data": {
      "text/html": [
       "<div>\n",
       "<style scoped>\n",
       "    .dataframe tbody tr th:only-of-type {\n",
       "        vertical-align: middle;\n",
       "    }\n",
       "\n",
       "    .dataframe tbody tr th {\n",
       "        vertical-align: top;\n",
       "    }\n",
       "\n",
       "    .dataframe thead tr th {\n",
       "        text-align: left;\n",
       "    }\n",
       "</style>\n",
       "<table border=\"1\" class=\"dataframe\">\n",
       "  <thead>\n",
       "    <tr>\n",
       "      <th></th>\n",
       "      <th colspan=\"2\" halign=\"left\">Black</th>\n",
       "      <th colspan=\"2\" halign=\"left\">Hispanic</th>\n",
       "      <th colspan=\"2\" halign=\"left\">Other</th>\n",
       "      <th colspan=\"2\" halign=\"left\">White</th>\n",
       "    </tr>\n",
       "    <tr>\n",
       "      <th></th>\n",
       "      <th>female</th>\n",
       "      <th>male</th>\n",
       "      <th>female</th>\n",
       "      <th>male</th>\n",
       "      <th>female</th>\n",
       "      <th>male</th>\n",
       "      <th>female</th>\n",
       "      <th>male</th>\n",
       "    </tr>\n",
       "  </thead>\n",
       "  <tbody>\n",
       "    <tr>\n",
       "      <th>[0, 10)</th>\n",
       "      <td>332.8</td>\n",
       "      <td>346.1</td>\n",
       "      <td>400.2</td>\n",
       "      <td>413.2</td>\n",
       "      <td>221.0</td>\n",
       "      <td>226.2</td>\n",
       "      <td>883.3</td>\n",
       "      <td>946.0</td>\n",
       "    </tr>\n",
       "    <tr>\n",
       "      <th>[10, 20)</th>\n",
       "      <td>342.3</td>\n",
       "      <td>362.4</td>\n",
       "      <td>426.5</td>\n",
       "      <td>441.0</td>\n",
       "      <td>199.3</td>\n",
       "      <td>207.6</td>\n",
       "      <td>964.7</td>\n",
       "      <td>1026.1</td>\n",
       "    </tr>\n",
       "    <tr>\n",
       "      <th>[20, 30)</th>\n",
       "      <td>222.6</td>\n",
       "      <td>201.1</td>\n",
       "      <td>284.3</td>\n",
       "      <td>291.6</td>\n",
       "      <td>138.0</td>\n",
       "      <td>139.9</td>\n",
       "      <td>587.3</td>\n",
       "      <td>619.4</td>\n",
       "    </tr>\n",
       "    <tr>\n",
       "      <th>[30, 40)</th>\n",
       "      <td>237.1</td>\n",
       "      <td>176.8</td>\n",
       "      <td>278.7</td>\n",
       "      <td>257.8</td>\n",
       "      <td>151.8</td>\n",
       "      <td>126.8</td>\n",
       "      <td>733.0</td>\n",
       "      <td>695.3</td>\n",
       "    </tr>\n",
       "    <tr>\n",
       "      <th>[40, 50)</th>\n",
       "      <td>223.5</td>\n",
       "      <td>175.6</td>\n",
       "      <td>265.6</td>\n",
       "      <td>242.0</td>\n",
       "      <td>154.4</td>\n",
       "      <td>128.1</td>\n",
       "      <td>800.0</td>\n",
       "      <td>783.4</td>\n",
       "    </tr>\n",
       "    <tr>\n",
       "      <th>[50, 60)</th>\n",
       "      <td>200.0</td>\n",
       "      <td>160.3</td>\n",
       "      <td>175.7</td>\n",
       "      <td>176.3</td>\n",
       "      <td>111.1</td>\n",
       "      <td>103.6</td>\n",
       "      <td>627.3</td>\n",
       "      <td>664.4</td>\n",
       "    </tr>\n",
       "    <tr>\n",
       "      <th>[60, 70)</th>\n",
       "      <td>138.7</td>\n",
       "      <td>104.8</td>\n",
       "      <td>94.3</td>\n",
       "      <td>86.5</td>\n",
       "      <td>72.1</td>\n",
       "      <td>65.0</td>\n",
       "      <td>375.8</td>\n",
       "      <td>398.9</td>\n",
       "    </tr>\n",
       "    <tr>\n",
       "      <th>[70, 80)</th>\n",
       "      <td>37.7</td>\n",
       "      <td>26.1</td>\n",
       "      <td>24.6</td>\n",
       "      <td>20.8</td>\n",
       "      <td>19.8</td>\n",
       "      <td>16.4</td>\n",
       "      <td>109.0</td>\n",
       "      <td>108.8</td>\n",
       "    </tr>\n",
       "    <tr>\n",
       "      <th>[80, 125)</th>\n",
       "      <td>17.5</td>\n",
       "      <td>8.6</td>\n",
       "      <td>12.3</td>\n",
       "      <td>7.7</td>\n",
       "      <td>9.5</td>\n",
       "      <td>6.7</td>\n",
       "      <td>48.1</td>\n",
       "      <td>38.5</td>\n",
       "    </tr>\n",
       "  </tbody>\n",
       "</table>\n",
       "</div>"
      ],
      "text/plain": [
       "           Black        Hispanic         Other         White        \n",
       "          female   male   female   male female   male female    male\n",
       "[0, 10)    332.8  346.1    400.2  413.2  221.0  226.2  883.3   946.0\n",
       "[10, 20)   342.3  362.4    426.5  441.0  199.3  207.6  964.7  1026.1\n",
       "[20, 30)   222.6  201.1    284.3  291.6  138.0  139.9  587.3   619.4\n",
       "[30, 40)   237.1  176.8    278.7  257.8  151.8  126.8  733.0   695.3\n",
       "[40, 50)   223.5  175.6    265.6  242.0  154.4  128.1  800.0   783.4\n",
       "[50, 60)   200.0  160.3    175.7  176.3  111.1  103.6  627.3   664.4\n",
       "[60, 70)   138.7  104.8     94.3   86.5   72.1   65.0  375.8   398.9\n",
       "[70, 80)    37.7   26.1     24.6   20.8   19.8   16.4  109.0   108.8\n",
       "[80, 125)   17.5    8.6     12.3    7.7    9.5    6.7   48.1    38.5"
      ]
     },
     "execution_count": 34,
     "metadata": {},
     "output_type": "execute_result"
    }
   ],
   "source": [
    "n_COVID_mean = sum(n_COVID[.5,70].values())/n_draws\n",
    "\n",
    "np.round(n_COVID_mean.unstack().unstack(),1)"
   ]
  },
  {
   "cell_type": "code",
   "execution_count": 35,
   "id": "7f9dc392",
   "metadata": {},
   "outputs": [
    {
     "name": "stdout",
     "output_type": "stream",
     "text": [
      "confirmed cases: 154,136\n",
      "predicted hh infections: 20,075\n"
     ]
    }
   ],
   "source": [
    "print(f'confirmed cases: {n_1_total:,.0f}\\npredicted hh infections: {sum(n_COVID[0,0].values()).sum()/n_draws:,.0f}')"
   ]
  },
  {
   "cell_type": "code",
   "execution_count": 36,
   "id": "18147b54",
   "metadata": {},
   "outputs": [
    {
     "data": {
      "text/plain": [
       "Black       7.9\n",
       "Hispanic    6.2\n",
       "Other       6.6\n",
       "White       5.0\n",
       "dtype: float64"
      ]
     },
     "execution_count": 36,
     "metadata": {},
     "output_type": "execute_result"
    }
   ],
   "source": [
    "# secondary infection rate (symptomatic infections per 100,000 person-months) by race\n",
    "c,a = .50,50\n",
    "n_COVID_mean = sum(n_COVID[c,a].values())/n_draws\n",
    "\n",
    "np.round(100_000 * (n_COVID_mean.unstack().sum() / g_acs.weight.sum().unstack().sum()), 1)"
   ]
  },
  {
   "cell_type": "code",
   "execution_count": 112,
   "id": "b2ccd836",
   "metadata": {},
   "outputs": [
    {
     "data": {
      "text/plain": [
       "Black       80\n",
       "Hispanic    44\n",
       "Other       61\n",
       "White       55\n",
       "dtype: int64"
      ]
     },
     "execution_count": 112,
     "metadata": {},
     "output_type": "execute_result"
    }
   ],
   "source": [
    "# averted secondary infection rate (symptomatic infections per 100,000 person-months) by race\n",
    "c,a = .50,50\n",
    "n_COVID_averted_mean = sum([n_COVID[0, 0][k] - n_COVID[c, a][k] for k in range(n_draws)]) / n_draws\n",
    "averted_symptomatic_race = np.round(10_000_000 * (n_COVID_averted_mean).unstack().sum() / g_acs.weight.sum().unstack().sum(), 0).apply(int)"
   ]
  },
  {
   "cell_type": "markdown",
   "id": "007a07cf",
   "metadata": {},
   "source": [
    "# 5.\tEstimate the number of hospitalizations in each scenario\n",
    "\n",
    "[Rate Ratios for Hospitalization by Age](https://www.cdc.gov/coronavirus/2019-ncov/covid-data/investigations-discovery/hospitalization-death-by-age.html)\n",
    "\n",
    "But better to calculate it myself"
   ]
  },
  {
   "cell_type": "code",
   "execution_count": 38,
   "id": "8ee01009",
   "metadata": {},
   "outputs": [],
   "source": [
    "rows = df_cdc_month.hosp_yn.isin(['No', 'Yes'])\n",
    "df_cdc_month_complete_cases = df_cdc_month[rows].copy()\n",
    "\n",
    "df_cdc_month_complete_cases['hosp'] = (df_cdc_month_complete_cases.hosp_yn == 'Yes').astype(float)\n",
    "# np.round(100 * df_cases.groupby('age_group').hosp.mean(), 1)"
   ]
  },
  {
   "cell_type": "code",
   "execution_count": 39,
   "id": "8947127d",
   "metadata": {},
   "outputs": [
    {
     "data": {
      "text/html": [
       "<div>\n",
       "<style scoped>\n",
       "    .dataframe tbody tr th:only-of-type {\n",
       "        vertical-align: middle;\n",
       "    }\n",
       "\n",
       "    .dataframe tbody tr th {\n",
       "        vertical-align: top;\n",
       "    }\n",
       "\n",
       "    .dataframe thead tr th {\n",
       "        text-align: left;\n",
       "    }\n",
       "</style>\n",
       "<table border=\"1\" class=\"dataframe\">\n",
       "  <thead>\n",
       "    <tr>\n",
       "      <th></th>\n",
       "      <th colspan=\"2\" halign=\"left\">Black</th>\n",
       "      <th colspan=\"2\" halign=\"left\">Hispanic</th>\n",
       "      <th colspan=\"2\" halign=\"left\">Other</th>\n",
       "      <th colspan=\"2\" halign=\"left\">White</th>\n",
       "    </tr>\n",
       "    <tr>\n",
       "      <th></th>\n",
       "      <th>female</th>\n",
       "      <th>male</th>\n",
       "      <th>female</th>\n",
       "      <th>male</th>\n",
       "      <th>female</th>\n",
       "      <th>male</th>\n",
       "      <th>female</th>\n",
       "      <th>male</th>\n",
       "    </tr>\n",
       "  </thead>\n",
       "  <tbody>\n",
       "    <tr>\n",
       "      <th>[0, 10)</th>\n",
       "      <td>2.3</td>\n",
       "      <td>3.9</td>\n",
       "      <td>2.4</td>\n",
       "      <td>3.1</td>\n",
       "      <td>5.8</td>\n",
       "      <td>2.5</td>\n",
       "      <td>2.3</td>\n",
       "      <td>1.7</td>\n",
       "    </tr>\n",
       "    <tr>\n",
       "      <th>[10, 20)</th>\n",
       "      <td>2.5</td>\n",
       "      <td>2.7</td>\n",
       "      <td>1.7</td>\n",
       "      <td>1.6</td>\n",
       "      <td>2.7</td>\n",
       "      <td>2.1</td>\n",
       "      <td>1.2</td>\n",
       "      <td>1.1</td>\n",
       "    </tr>\n",
       "    <tr>\n",
       "      <th>[20, 30)</th>\n",
       "      <td>8.1</td>\n",
       "      <td>5.9</td>\n",
       "      <td>6.0</td>\n",
       "      <td>4.7</td>\n",
       "      <td>6.3</td>\n",
       "      <td>2.8</td>\n",
       "      <td>3.5</td>\n",
       "      <td>2.5</td>\n",
       "    </tr>\n",
       "    <tr>\n",
       "      <th>[30, 40)</th>\n",
       "      <td>9.0</td>\n",
       "      <td>8.6</td>\n",
       "      <td>8.7</td>\n",
       "      <td>8.4</td>\n",
       "      <td>9.7</td>\n",
       "      <td>9.5</td>\n",
       "      <td>5.5</td>\n",
       "      <td>4.8</td>\n",
       "    </tr>\n",
       "    <tr>\n",
       "      <th>[40, 50)</th>\n",
       "      <td>15.2</td>\n",
       "      <td>15.1</td>\n",
       "      <td>11.1</td>\n",
       "      <td>13.6</td>\n",
       "      <td>13.9</td>\n",
       "      <td>13.6</td>\n",
       "      <td>7.5</td>\n",
       "      <td>9.9</td>\n",
       "    </tr>\n",
       "    <tr>\n",
       "      <th>[50, 60)</th>\n",
       "      <td>27.7</td>\n",
       "      <td>25.2</td>\n",
       "      <td>22.0</td>\n",
       "      <td>24.9</td>\n",
       "      <td>21.0</td>\n",
       "      <td>27.5</td>\n",
       "      <td>11.9</td>\n",
       "      <td>15.7</td>\n",
       "    </tr>\n",
       "    <tr>\n",
       "      <th>[60, 70)</th>\n",
       "      <td>45.4</td>\n",
       "      <td>49.1</td>\n",
       "      <td>31.6</td>\n",
       "      <td>33.7</td>\n",
       "      <td>32.8</td>\n",
       "      <td>42.2</td>\n",
       "      <td>24.1</td>\n",
       "      <td>27.3</td>\n",
       "    </tr>\n",
       "    <tr>\n",
       "      <th>[70, 80)</th>\n",
       "      <td>55.5</td>\n",
       "      <td>60.4</td>\n",
       "      <td>56.2</td>\n",
       "      <td>63.5</td>\n",
       "      <td>56.2</td>\n",
       "      <td>40.6</td>\n",
       "      <td>36.4</td>\n",
       "      <td>43.8</td>\n",
       "    </tr>\n",
       "    <tr>\n",
       "      <th>[80, 125)</th>\n",
       "      <td>73.8</td>\n",
       "      <td>70.6</td>\n",
       "      <td>77.2</td>\n",
       "      <td>79.8</td>\n",
       "      <td>71.6</td>\n",
       "      <td>80.9</td>\n",
       "      <td>53.8</td>\n",
       "      <td>63.2</td>\n",
       "    </tr>\n",
       "  </tbody>\n",
       "</table>\n",
       "</div>"
      ],
      "text/plain": [
       "           Black       Hispanic        Other        White      \n",
       "          female  male   female  male female  male female  male\n",
       "[0, 10)      2.3   3.9      2.4   3.1    5.8   2.5    2.3   1.7\n",
       "[10, 20)     2.5   2.7      1.7   1.6    2.7   2.1    1.2   1.1\n",
       "[20, 30)     8.1   5.9      6.0   4.7    6.3   2.8    3.5   2.5\n",
       "[30, 40)     9.0   8.6      8.7   8.4    9.7   9.5    5.5   4.8\n",
       "[40, 50)    15.2  15.1     11.1  13.6   13.9  13.6    7.5   9.9\n",
       "[50, 60)    27.7  25.2     22.0  24.9   21.0  27.5   11.9  15.7\n",
       "[60, 70)    45.4  49.1     31.6  33.7   32.8  42.2   24.1  27.3\n",
       "[70, 80)    55.5  60.4     56.2  63.5   56.2  40.6   36.4  43.8\n",
       "[80, 125)   73.8  70.6     77.2  79.8   71.6  80.9   53.8  63.2"
      ]
     },
     "execution_count": 39,
     "metadata": {},
     "output_type": "execute_result"
    }
   ],
   "source": [
    "hospitalization_rate = {}\n",
    "\n",
    "for k in range(n_draws):\n",
    "    resampled_rows = np.random.choice(df_cdc_month_complete_cases.index, size=len(df_cdc_month_complete_cases))\n",
    "    t = df_cdc_month_complete_cases.loc[resampled_rows]\n",
    "    hospitalization_rate[k] = pd.Series(t.groupby(['age_group', 'sex', 'race_eth']).hosp.mean(), index=stratification_groups)\n",
    "\n",
    "hospitalization_rate_mean = sum(hospitalization_rate.values()) / n_draws\n",
    "np.round(hospitalization_rate_mean.unstack().unstack()*100,1)"
   ]
  },
  {
   "cell_type": "code",
   "execution_count": 40,
   "id": "81f57078",
   "metadata": {},
   "outputs": [],
   "source": [
    "# this is hospitalization rate among *confirmed cases*\n",
    "# is the attack rate from Ruanne's study for \"symptomatic cases\"? And how many of these are confirmed\n",
    "for k in range(n_draws):\n",
    "    hospitalization_rate[k] *= 1 "
   ]
  },
  {
   "cell_type": "code",
   "execution_count": 41,
   "id": "4397962f",
   "metadata": {},
   "outputs": [
    {
     "name": "stdout",
     "output_type": "stream",
     "text": [
      "Wall time: 485 ms\n"
     ]
    }
   ],
   "source": [
    "%%time\n",
    "\n",
    "n_hosp = {}\n",
    "for c in coverage_levels:\n",
    "    for a0 in age_lower_bounds:\n",
    "        n_hosp[c,a0] = {}\n",
    "        for k in range(n_draws):\n",
    "            n_hosp[c,a0][k] = hospitalization_rate[k] * n_COVID[c,a0][k]"
   ]
  },
  {
   "cell_type": "code",
   "execution_count": 42,
   "id": "93a1cecb",
   "metadata": {},
   "outputs": [
    {
     "data": {
      "text/html": [
       "<div>\n",
       "<style scoped>\n",
       "    .dataframe tbody tr th:only-of-type {\n",
       "        vertical-align: middle;\n",
       "    }\n",
       "\n",
       "    .dataframe tbody tr th {\n",
       "        vertical-align: top;\n",
       "    }\n",
       "\n",
       "    .dataframe thead tr th {\n",
       "        text-align: left;\n",
       "    }\n",
       "</style>\n",
       "<table border=\"1\" class=\"dataframe\">\n",
       "  <thead>\n",
       "    <tr>\n",
       "      <th></th>\n",
       "      <th colspan=\"2\" halign=\"left\">Black</th>\n",
       "      <th colspan=\"2\" halign=\"left\">Hispanic</th>\n",
       "      <th colspan=\"2\" halign=\"left\">Other</th>\n",
       "      <th colspan=\"2\" halign=\"left\">White</th>\n",
       "    </tr>\n",
       "    <tr>\n",
       "      <th></th>\n",
       "      <th>female</th>\n",
       "      <th>male</th>\n",
       "      <th>female</th>\n",
       "      <th>male</th>\n",
       "      <th>female</th>\n",
       "      <th>male</th>\n",
       "      <th>female</th>\n",
       "      <th>male</th>\n",
       "    </tr>\n",
       "  </thead>\n",
       "  <tbody>\n",
       "    <tr>\n",
       "      <th>[0, 10)</th>\n",
       "      <td>0.000000</td>\n",
       "      <td>0.000000</td>\n",
       "      <td>0.000000</td>\n",
       "      <td>0.000000</td>\n",
       "      <td>0.000000</td>\n",
       "      <td>0.000000</td>\n",
       "      <td>0.000000</td>\n",
       "      <td>0.000000</td>\n",
       "    </tr>\n",
       "    <tr>\n",
       "      <th>[10, 20)</th>\n",
       "      <td>0.000000</td>\n",
       "      <td>0.000000</td>\n",
       "      <td>0.000000</td>\n",
       "      <td>0.000000</td>\n",
       "      <td>0.000000</td>\n",
       "      <td>0.000000</td>\n",
       "      <td>0.000000</td>\n",
       "      <td>0.000000</td>\n",
       "    </tr>\n",
       "    <tr>\n",
       "      <th>[20, 30)</th>\n",
       "      <td>0.000000</td>\n",
       "      <td>0.000000</td>\n",
       "      <td>0.000000</td>\n",
       "      <td>0.000000</td>\n",
       "      <td>0.000000</td>\n",
       "      <td>0.000000</td>\n",
       "      <td>0.000000</td>\n",
       "      <td>0.000000</td>\n",
       "    </tr>\n",
       "    <tr>\n",
       "      <th>[30, 40)</th>\n",
       "      <td>0.000000</td>\n",
       "      <td>0.000000</td>\n",
       "      <td>0.000000</td>\n",
       "      <td>0.000000</td>\n",
       "      <td>0.000000</td>\n",
       "      <td>0.000000</td>\n",
       "      <td>0.000000</td>\n",
       "      <td>0.000000</td>\n",
       "    </tr>\n",
       "    <tr>\n",
       "      <th>[40, 50)</th>\n",
       "      <td>0.000000</td>\n",
       "      <td>0.000000</td>\n",
       "      <td>0.000000</td>\n",
       "      <td>0.000000</td>\n",
       "      <td>0.000000</td>\n",
       "      <td>0.000000</td>\n",
       "      <td>0.000000</td>\n",
       "      <td>0.000000</td>\n",
       "    </tr>\n",
       "    <tr>\n",
       "      <th>[50, 60)</th>\n",
       "      <td>31.901436</td>\n",
       "      <td>23.005286</td>\n",
       "      <td>24.365067</td>\n",
       "      <td>27.858173</td>\n",
       "      <td>12.489134</td>\n",
       "      <td>18.156542</td>\n",
       "      <td>38.886015</td>\n",
       "      <td>61.977107</td>\n",
       "    </tr>\n",
       "    <tr>\n",
       "      <th>[60, 70)</th>\n",
       "      <td>33.901047</td>\n",
       "      <td>25.049923</td>\n",
       "      <td>19.397681</td>\n",
       "      <td>14.822000</td>\n",
       "      <td>17.778356</td>\n",
       "      <td>21.386754</td>\n",
       "      <td>48.291653</td>\n",
       "      <td>52.261719</td>\n",
       "    </tr>\n",
       "    <tr>\n",
       "      <th>[70, 80)</th>\n",
       "      <td>20.202436</td>\n",
       "      <td>14.269614</td>\n",
       "      <td>10.616753</td>\n",
       "      <td>10.432343</td>\n",
       "      <td>10.314473</td>\n",
       "      <td>6.318842</td>\n",
       "      <td>29.547264</td>\n",
       "      <td>43.174807</td>\n",
       "    </tr>\n",
       "    <tr>\n",
       "      <th>[80, 125)</th>\n",
       "      <td>12.006867</td>\n",
       "      <td>3.093864</td>\n",
       "      <td>9.667092</td>\n",
       "      <td>4.928723</td>\n",
       "      <td>7.706263</td>\n",
       "      <td>3.620263</td>\n",
       "      <td>18.713429</td>\n",
       "      <td>17.512049</td>\n",
       "    </tr>\n",
       "  </tbody>\n",
       "</table>\n",
       "</div>"
      ],
      "text/plain": [
       "               Black              Hispanic                 Other             \\\n",
       "              female       male     female       male     female       male   \n",
       "[0, 10)     0.000000   0.000000   0.000000   0.000000   0.000000   0.000000   \n",
       "[10, 20)    0.000000   0.000000   0.000000   0.000000   0.000000   0.000000   \n",
       "[20, 30)    0.000000   0.000000   0.000000   0.000000   0.000000   0.000000   \n",
       "[30, 40)    0.000000   0.000000   0.000000   0.000000   0.000000   0.000000   \n",
       "[40, 50)    0.000000   0.000000   0.000000   0.000000   0.000000   0.000000   \n",
       "[50, 60)   31.901436  23.005286  24.365067  27.858173  12.489134  18.156542   \n",
       "[60, 70)   33.901047  25.049923  19.397681  14.822000  17.778356  21.386754   \n",
       "[70, 80)   20.202436  14.269614  10.616753  10.432343  10.314473   6.318842   \n",
       "[80, 125)  12.006867   3.093864   9.667092   4.928723   7.706263   3.620263   \n",
       "\n",
       "               White             \n",
       "              female       male  \n",
       "[0, 10)     0.000000   0.000000  \n",
       "[10, 20)    0.000000   0.000000  \n",
       "[20, 30)    0.000000   0.000000  \n",
       "[30, 40)    0.000000   0.000000  \n",
       "[40, 50)    0.000000   0.000000  \n",
       "[50, 60)   38.886015  61.977107  \n",
       "[60, 70)   48.291653  52.261719  \n",
       "[70, 80)   29.547264  43.174807  \n",
       "[80, 125)  18.713429  17.512049  "
      ]
     },
     "execution_count": 42,
     "metadata": {},
     "output_type": "execute_result"
    }
   ],
   "source": [
    "(n_hosp[0, 0][0] - n_hosp[.5, 50][0]).unstack().unstack()"
   ]
  },
  {
   "cell_type": "code",
   "execution_count": 43,
   "id": "bc4a969c",
   "metadata": {},
   "outputs": [
    {
     "data": {
      "text/plain": [
       "Black       0.9\n",
       "Hispanic    0.5\n",
       "Other       0.7\n",
       "White       0.3\n",
       "dtype: float64"
      ]
     },
     "execution_count": 43,
     "metadata": {},
     "output_type": "execute_result"
    }
   ],
   "source": [
    "# hospitalization rate (tx per 100,000 person-months) by race\n",
    "c,a = .50,50\n",
    "n_hosp_mean = sum(n_hosp[c, a].values()) / n_draws\n",
    "np.round(100_000 * (n_hosp_mean.unstack().sum() / g_acs.weight.sum().unstack().sum()), 1) "
   ]
  },
  {
   "cell_type": "code",
   "execution_count": 115,
   "id": "8614ed01",
   "metadata": {},
   "outputs": [
    {
     "data": {
      "text/plain": [
       "Black       32\n",
       "Hispanic    15\n",
       "Other       21\n",
       "White       13\n",
       "dtype: int64"
      ]
     },
     "execution_count": 115,
     "metadata": {},
     "output_type": "execute_result"
    }
   ],
   "source": [
    "# averted hospitalization rate (hospitalizations per 10,000,000 person-months) by race\n",
    "n_hosp_averted_mean = sum([n_hosp[0, 0][k] - n_hosp[c, a][k] for k in range(n_draws)]) / n_draws\n",
    "averted_hosp_race = np.round(10_000_000 * (n_hosp_averted_mean.unstack().sum() / g_acs.weight.sum().unstack().sum()), 0).apply(int) \n",
    "averted_hosp_race"
   ]
  },
  {
   "cell_type": "markdown",
   "id": "65bf36f9",
   "metadata": {},
   "source": [
    "# 6. Find number of deaths"
   ]
  },
  {
   "cell_type": "code",
   "execution_count": 48,
   "id": "6c8cbf74",
   "metadata": {},
   "outputs": [
    {
     "data": {
      "text/plain": [
       "No         44476\n",
       "Missing    25656\n",
       "Unknown     7323\n",
       "Yes          725\n",
       "Name: death_yn, dtype: int64"
      ]
     },
     "execution_count": 48,
     "metadata": {},
     "output_type": "execute_result"
    }
   ],
   "source": [
    "df_cdc_month_complete_cases.death_yn.value_counts()"
   ]
  },
  {
   "cell_type": "code",
   "execution_count": 49,
   "id": "f1106125",
   "metadata": {},
   "outputs": [
    {
     "data": {
      "text/html": [
       "<div>\n",
       "<style scoped>\n",
       "    .dataframe tbody tr th:only-of-type {\n",
       "        vertical-align: middle;\n",
       "    }\n",
       "\n",
       "    .dataframe tbody tr th {\n",
       "        vertical-align: top;\n",
       "    }\n",
       "\n",
       "    .dataframe thead tr th {\n",
       "        text-align: left;\n",
       "    }\n",
       "</style>\n",
       "<table border=\"1\" class=\"dataframe\">\n",
       "  <thead>\n",
       "    <tr>\n",
       "      <th></th>\n",
       "      <th colspan=\"2\" halign=\"left\">Black</th>\n",
       "      <th colspan=\"2\" halign=\"left\">Hispanic</th>\n",
       "      <th colspan=\"2\" halign=\"left\">Other</th>\n",
       "      <th colspan=\"2\" halign=\"left\">White</th>\n",
       "    </tr>\n",
       "    <tr>\n",
       "      <th></th>\n",
       "      <th>female</th>\n",
       "      <th>male</th>\n",
       "      <th>female</th>\n",
       "      <th>male</th>\n",
       "      <th>female</th>\n",
       "      <th>male</th>\n",
       "      <th>female</th>\n",
       "      <th>male</th>\n",
       "    </tr>\n",
       "  </thead>\n",
       "  <tbody>\n",
       "    <tr>\n",
       "      <th>[0, 10)</th>\n",
       "      <td>0.0</td>\n",
       "      <td>NaN</td>\n",
       "      <td>NaN</td>\n",
       "      <td>0.0</td>\n",
       "      <td>0.0</td>\n",
       "      <td>NaN</td>\n",
       "      <td>0.0</td>\n",
       "      <td>0.0</td>\n",
       "    </tr>\n",
       "    <tr>\n",
       "      <th>[10, 20)</th>\n",
       "      <td>0.0</td>\n",
       "      <td>0.0</td>\n",
       "      <td>0.0</td>\n",
       "      <td>0.0</td>\n",
       "      <td>0.0</td>\n",
       "      <td>0.0</td>\n",
       "      <td>0.0</td>\n",
       "      <td>0.0</td>\n",
       "    </tr>\n",
       "    <tr>\n",
       "      <th>[20, 30)</th>\n",
       "      <td>1.5</td>\n",
       "      <td>0.0</td>\n",
       "      <td>4.9</td>\n",
       "      <td>11.0</td>\n",
       "      <td>0.0</td>\n",
       "      <td>0.0</td>\n",
       "      <td>0.0</td>\n",
       "      <td>4.4</td>\n",
       "    </tr>\n",
       "    <tr>\n",
       "      <th>[30, 40)</th>\n",
       "      <td>0.0</td>\n",
       "      <td>7.7</td>\n",
       "      <td>3.6</td>\n",
       "      <td>0.0</td>\n",
       "      <td>0.0</td>\n",
       "      <td>0.0</td>\n",
       "      <td>0.8</td>\n",
       "      <td>5.9</td>\n",
       "    </tr>\n",
       "    <tr>\n",
       "      <th>[40, 50)</th>\n",
       "      <td>7.0</td>\n",
       "      <td>8.4</td>\n",
       "      <td>0.0</td>\n",
       "      <td>11.8</td>\n",
       "      <td>0.0</td>\n",
       "      <td>12.8</td>\n",
       "      <td>2.8</td>\n",
       "      <td>3.5</td>\n",
       "    </tr>\n",
       "    <tr>\n",
       "      <th>[50, 60)</th>\n",
       "      <td>7.4</td>\n",
       "      <td>7.9</td>\n",
       "      <td>2.9</td>\n",
       "      <td>16.1</td>\n",
       "      <td>7.7</td>\n",
       "      <td>14.3</td>\n",
       "      <td>4.1</td>\n",
       "      <td>7.8</td>\n",
       "    </tr>\n",
       "    <tr>\n",
       "      <th>[60, 70)</th>\n",
       "      <td>12.6</td>\n",
       "      <td>12.8</td>\n",
       "      <td>19.1</td>\n",
       "      <td>16.4</td>\n",
       "      <td>8.2</td>\n",
       "      <td>29.3</td>\n",
       "      <td>10.9</td>\n",
       "      <td>11.1</td>\n",
       "    </tr>\n",
       "    <tr>\n",
       "      <th>[70, 80)</th>\n",
       "      <td>18.0</td>\n",
       "      <td>24.7</td>\n",
       "      <td>32.4</td>\n",
       "      <td>26.4</td>\n",
       "      <td>22.1</td>\n",
       "      <td>31.7</td>\n",
       "      <td>14.6</td>\n",
       "      <td>15.7</td>\n",
       "    </tr>\n",
       "    <tr>\n",
       "      <th>[80, 125)</th>\n",
       "      <td>27.7</td>\n",
       "      <td>63.6</td>\n",
       "      <td>59.2</td>\n",
       "      <td>23.9</td>\n",
       "      <td>48.6</td>\n",
       "      <td>63.0</td>\n",
       "      <td>22.5</td>\n",
       "      <td>28.5</td>\n",
       "    </tr>\n",
       "  </tbody>\n",
       "</table>\n",
       "</div>"
      ],
      "text/plain": [
       "           Black       Hispanic        Other        White      \n",
       "          female  male   female  male female  male female  male\n",
       "[0, 10)      0.0   NaN      NaN   0.0    0.0   NaN    0.0   0.0\n",
       "[10, 20)     0.0   0.0      0.0   0.0    0.0   0.0    0.0   0.0\n",
       "[20, 30)     1.5   0.0      4.9  11.0    0.0   0.0    0.0   4.4\n",
       "[30, 40)     0.0   7.7      3.6   0.0    0.0   0.0    0.8   5.9\n",
       "[40, 50)     7.0   8.4      0.0  11.8    0.0  12.8    2.8   3.5\n",
       "[50, 60)     7.4   7.9      2.9  16.1    7.7  14.3    4.1   7.8\n",
       "[60, 70)    12.6  12.8     19.1  16.4    8.2  29.3   10.9  11.1\n",
       "[70, 80)    18.0  24.7     32.4  26.4   22.1  31.7   14.6  15.7\n",
       "[80, 125)   27.7  63.6     59.2  23.9   48.6  63.0   22.5  28.5"
      ]
     },
     "execution_count": 49,
     "metadata": {},
     "output_type": "execute_result"
    }
   ],
   "source": [
    "df_cdc_month_complete_cases['death'] = df_cdc_month_complete_cases.death_yn.map({'Yes':1, 'No':0})\n",
    "hosp_rows = df_cdc_month_complete_cases[df_cdc_month_complete_cases.hosp == 1].index\n",
    "\n",
    "hospitalization_fatility_ratio = {}\n",
    "for k in range(n_draws):\n",
    "    resampled_rows = np.random.choice(hosp_rows, size=len(hosp_rows), replace=True)\n",
    "    t = df_cdc_month_complete_cases.loc[resampled_rows]\n",
    "    hospitalization_fatility_ratio[k] = t.groupby(['age_group', 'sex', 'race_eth']).death.mean()\n",
    "    hospitalization_fatility_ratio[k] = pd.Series(hospitalization_fatility_ratio[k], index=stratification_groups)\n",
    "np.round((sum(hospitalization_fatility_ratio.values()) / n_draws).unstack().unstack()*100, 1)"
   ]
  },
  {
   "cell_type": "code",
   "execution_count": 50,
   "id": "c433c0c6",
   "metadata": {},
   "outputs": [],
   "source": [
    "n_deaths = {}\n",
    "for c in coverage_levels:\n",
    "    for a0 in age_lower_bounds:\n",
    "        n_deaths[c,a0] = {}\n",
    "        for k in range(n_draws):\n",
    "            n_deaths[c,a0][k] = hospitalization_fatility_ratio[k] * n_hosp[c,a0][k]"
   ]
  },
  {
   "cell_type": "code",
   "execution_count": 51,
   "id": "1d9a4c0a",
   "metadata": {},
   "outputs": [
    {
     "data": {
      "text/html": [
       "<div>\n",
       "<style scoped>\n",
       "    .dataframe tbody tr th:only-of-type {\n",
       "        vertical-align: middle;\n",
       "    }\n",
       "\n",
       "    .dataframe tbody tr th {\n",
       "        vertical-align: top;\n",
       "    }\n",
       "\n",
       "    .dataframe thead tr th {\n",
       "        text-align: left;\n",
       "    }\n",
       "</style>\n",
       "<table border=\"1\" class=\"dataframe\">\n",
       "  <thead>\n",
       "    <tr>\n",
       "      <th></th>\n",
       "      <th colspan=\"2\" halign=\"left\">Black</th>\n",
       "      <th colspan=\"2\" halign=\"left\">Hispanic</th>\n",
       "      <th colspan=\"2\" halign=\"left\">Other</th>\n",
       "      <th colspan=\"2\" halign=\"left\">White</th>\n",
       "    </tr>\n",
       "    <tr>\n",
       "      <th></th>\n",
       "      <th>female</th>\n",
       "      <th>male</th>\n",
       "      <th>female</th>\n",
       "      <th>male</th>\n",
       "      <th>female</th>\n",
       "      <th>male</th>\n",
       "      <th>female</th>\n",
       "      <th>male</th>\n",
       "    </tr>\n",
       "  </thead>\n",
       "  <tbody>\n",
       "    <tr>\n",
       "      <th>[0, 10)</th>\n",
       "      <td>0.0</td>\n",
       "      <td>NaN</td>\n",
       "      <td>NaN</td>\n",
       "      <td>0.0</td>\n",
       "      <td>0.0</td>\n",
       "      <td>NaN</td>\n",
       "      <td>0.0</td>\n",
       "      <td>0.0</td>\n",
       "    </tr>\n",
       "    <tr>\n",
       "      <th>[10, 20)</th>\n",
       "      <td>0.0</td>\n",
       "      <td>0.0</td>\n",
       "      <td>0.0</td>\n",
       "      <td>0.0</td>\n",
       "      <td>0.0</td>\n",
       "      <td>0.0</td>\n",
       "      <td>0.0</td>\n",
       "      <td>0.0</td>\n",
       "    </tr>\n",
       "    <tr>\n",
       "      <th>[20, 30)</th>\n",
       "      <td>0.0</td>\n",
       "      <td>0.0</td>\n",
       "      <td>0.0</td>\n",
       "      <td>0.0</td>\n",
       "      <td>0.0</td>\n",
       "      <td>0.0</td>\n",
       "      <td>0.0</td>\n",
       "      <td>0.0</td>\n",
       "    </tr>\n",
       "    <tr>\n",
       "      <th>[30, 40)</th>\n",
       "      <td>0.0</td>\n",
       "      <td>0.0</td>\n",
       "      <td>0.0</td>\n",
       "      <td>0.0</td>\n",
       "      <td>0.0</td>\n",
       "      <td>0.0</td>\n",
       "      <td>0.0</td>\n",
       "      <td>0.0</td>\n",
       "    </tr>\n",
       "    <tr>\n",
       "      <th>[40, 50)</th>\n",
       "      <td>0.0</td>\n",
       "      <td>0.0</td>\n",
       "      <td>0.0</td>\n",
       "      <td>0.0</td>\n",
       "      <td>0.0</td>\n",
       "      <td>0.0</td>\n",
       "      <td>0.0</td>\n",
       "      <td>0.0</td>\n",
       "    </tr>\n",
       "    <tr>\n",
       "      <th>[50, 60)</th>\n",
       "      <td>1.7</td>\n",
       "      <td>1.3</td>\n",
       "      <td>0.5</td>\n",
       "      <td>2.9</td>\n",
       "      <td>0.7</td>\n",
       "      <td>1.6</td>\n",
       "      <td>1.3</td>\n",
       "      <td>3.3</td>\n",
       "    </tr>\n",
       "    <tr>\n",
       "      <th>[60, 70)</th>\n",
       "      <td>3.2</td>\n",
       "      <td>2.7</td>\n",
       "      <td>2.3</td>\n",
       "      <td>1.9</td>\n",
       "      <td>0.8</td>\n",
       "      <td>3.3</td>\n",
       "      <td>4.0</td>\n",
       "      <td>5.0</td>\n",
       "    </tr>\n",
       "    <tr>\n",
       "      <th>[70, 80)</th>\n",
       "      <td>2.6</td>\n",
       "      <td>2.7</td>\n",
       "      <td>3.1</td>\n",
       "      <td>2.4</td>\n",
       "      <td>1.7</td>\n",
       "      <td>1.5</td>\n",
       "      <td>4.0</td>\n",
       "      <td>5.2</td>\n",
       "    </tr>\n",
       "    <tr>\n",
       "      <th>[80, 125)</th>\n",
       "      <td>2.5</td>\n",
       "      <td>2.7</td>\n",
       "      <td>3.9</td>\n",
       "      <td>1.0</td>\n",
       "      <td>2.3</td>\n",
       "      <td>2.3</td>\n",
       "      <td>4.0</td>\n",
       "      <td>4.8</td>\n",
       "    </tr>\n",
       "  </tbody>\n",
       "</table>\n",
       "</div>"
      ],
      "text/plain": [
       "           Black      Hispanic       Other       White     \n",
       "          female male   female male female male female male\n",
       "[0, 10)      0.0  NaN      NaN  0.0    0.0  NaN    0.0  0.0\n",
       "[10, 20)     0.0  0.0      0.0  0.0    0.0  0.0    0.0  0.0\n",
       "[20, 30)     0.0  0.0      0.0  0.0    0.0  0.0    0.0  0.0\n",
       "[30, 40)     0.0  0.0      0.0  0.0    0.0  0.0    0.0  0.0\n",
       "[40, 50)     0.0  0.0      0.0  0.0    0.0  0.0    0.0  0.0\n",
       "[50, 60)     1.7  1.3      0.5  2.9    0.7  1.6    1.3  3.3\n",
       "[60, 70)     3.2  2.7      2.3  1.9    0.8  3.3    4.0  5.0\n",
       "[70, 80)     2.6  2.7      3.1  2.4    1.7  1.5    4.0  5.2\n",
       "[80, 125)    2.5  2.7      3.9  1.0    2.3  2.3    4.0  4.8"
      ]
     },
     "execution_count": 51,
     "metadata": {},
     "output_type": "execute_result"
    }
   ],
   "source": [
    "c,a = .50,50\n",
    "\n",
    "# averted death rate (hospitalizations per 100,000 person-months) by race\n",
    "n_death_averted_mean = sum([n_deaths[0, 0][k] - n_deaths[c, a][k] for k in range(n_draws)]) / n_draws\n",
    "np.round((n_death_averted_mean).unstack().unstack(),1)"
   ]
  },
  {
   "cell_type": "code",
   "execution_count": 116,
   "id": "21591b38",
   "metadata": {},
   "outputs": [],
   "source": [
    "# averted death rate (deaths per 100,000 person-months) by race\n",
    "n_death_mean = sum([n_deaths[c, a][k] for k in range(n_draws)]) / n_draws\n",
    "np.round(100_000 * (n_death_mean.unstack().sum() / g_acs.weight.sum().unstack().sum()), 3) "
   ]
  },
  {
   "cell_type": "code",
   "execution_count": 121,
   "id": "fbb63ec3",
   "metadata": {},
   "outputs": [
    {
     "data": {
      "text/plain": [
       "Black       50\n",
       "Hispanic    31\n",
       "Other       48\n",
       "White       16\n",
       "dtype: int64"
      ]
     },
     "execution_count": 121,
     "metadata": {},
     "output_type": "execute_result"
    }
   ],
   "source": [
    "# averted death rate (deaths averted per 10,000,000 person-months) by race\n",
    "averted_death_race = np.round(100_000_000 * ((n_death_averted_mean).unstack().sum() / g_acs.weight.sum().unstack().sum()), 0).apply(int)\n",
    "averted_death_race"
   ]
  },
  {
   "cell_type": "markdown",
   "id": "5f8d2ca1",
   "metadata": {},
   "source": [
    "## 7.\tEstimate the cost of administering mAbs and the cost of COVID-19 hospitalizations \n",
    "\n",
    "Tough [to get cost of mAbs](https://www.npr.org/sections/health-shots/2020/10/28/928841997/government-signs-deal-for-covid-19-treatments-from-eli-lilly)\n",
    "\n",
    "Lots of hits from a search of [cost of hospitalization](https://www.fairhealth.org/article/costs-for-a-hospital-stay-for-covid-19)."
   ]
  },
  {
   "cell_type": "code",
   "execution_count": 55,
   "id": "e26d0840",
   "metadata": {},
   "outputs": [
    {
     "data": {
      "text/plain": [
       "2077.5996814074297"
      ]
     },
     "execution_count": 55,
     "metadata": {},
     "output_type": "execute_result"
    }
   ],
   "source": [
    "n_hosp[c,a0][k].sum()"
   ]
  },
  {
   "cell_type": "code",
   "execution_count": 56,
   "id": "a74f379e",
   "metadata": {},
   "outputs": [],
   "source": [
    "doses = {}\n",
    "mAbs_cost = {}\n",
    "hosp_cost = {}\n",
    "for c in coverage_levels:\n",
    "    for a0 in age_lower_bounds:\n",
    "        doses[c,a0] = {}\n",
    "        mAbs_cost[c,a0] = {}\n",
    "        hosp_cost[c,a0] = {}\n",
    "        for k in range(n_draws):\n",
    "            doses[c,a0][k] = n_PEP[c,a0][k].sum()\n",
    "            mAbs_cost[c,a0][k] = n_PEP[c,a0][k].sum() * mAbs_unit_cost[k]\n",
    "            hosp_cost[c,a0][k] = n_hosp[c,a0][k].sum() * COVID_hospitalization_unit_cost[k]"
   ]
  },
  {
   "cell_type": "code",
   "execution_count": 57,
   "id": "b236c161",
   "metadata": {},
   "outputs": [
    {
     "data": {
      "text/plain": [
       "0.0  0     0.000000e+00\n",
       "     20    0.000000e+00\n",
       "     40    0.000000e+00\n",
       "     50    0.000000e+00\n",
       "     60    0.000000e+00\n",
       "               ...     \n",
       "1.0  40    1.159665e+08\n",
       "     50    7.128410e+07\n",
       "     60    3.554036e+07\n",
       "     70    1.399649e+07\n",
       "     80    4.067432e+06\n",
       "Length: 35, dtype: float64"
      ]
     },
     "execution_count": 57,
     "metadata": {},
     "output_type": "execute_result"
    }
   ],
   "source": [
    "pd.DataFrame(mAbs_cost).mean()"
   ]
  },
  {
   "cell_type": "code",
   "execution_count": 59,
   "id": "677a6d00",
   "metadata": {},
   "outputs": [
    {
     "name": "stdout",
     "output_type": "stream",
     "text": [
      "averted cost\n",
      "3,055,202 (-14,034,632 - 18,787,692)\n"
     ]
    }
   ],
   "source": [
    "def print_mean_and_ui(z):\n",
    "    print(f'{np.mean(z):,.0f} ({np.percentile(z, 2.5):,.0f} - {np.percentile(z, 97.5):,.0f})')          \n",
    "    \n",
    "c,a = .50,50\n",
    "\n",
    "print('averted cost')\n",
    "print_mean_and_ui(\n",
    "    [((mAbs_cost[0, 0][k]+hosp_cost[0, 0][k]) - (mAbs_cost[c, a][k]+hosp_cost[c, a][k])).sum() for k in range(n_draws)]\n",
    ")"
   ]
  },
  {
   "cell_type": "code",
   "execution_count": 60,
   "id": "8db7fb31",
   "metadata": {},
   "outputs": [
    {
     "data": {
      "image/png": "[encoded data removed]",
      "text/plain": [
       "<Figure size 432x288 with 1 Axes>"
      ]
     },
     "metadata": {
      "needs_background": "light"
     },
     "output_type": "display_data"
    }
   ],
   "source": [
    "cost = pd.DataFrame(mAbs_cost).mean() + pd.DataFrame(hosp_cost).mean()\n",
    "(cost.unstack() / 1_000_000).plot(marker='o')\n",
    "plt.ylabel('Cost (Million USD)')\n",
    "plt.grid();"
   ]
  },
  {
   "cell_type": "code",
   "execution_count": 61,
   "id": "ddcb7f8d",
   "metadata": {},
   "outputs": [
    {
     "data": {
      "image/png": "[encoded data removed]",
      "text/plain": [
       "<Figure size 432x288 with 1 Axes>"
      ]
     },
     "metadata": {
      "needs_background": "light"
     },
     "output_type": "display_data"
    }
   ],
   "source": [
    "pd.DataFrame(doses).mean().unstack().plot(marker='o')\n",
    "# plt.semilogy()\n",
    "plt.ylabel('mAbs doses');"
   ]
  },
  {
   "cell_type": "markdown",
   "id": "d3cbf5be",
   "metadata": {},
   "source": [
    "# Burden Averted"
   ]
  },
  {
   "cell_type": "code",
   "execution_count": 62,
   "id": "9612f0ff-7a60-472a-b0be-e426de524207",
   "metadata": {},
   "outputs": [],
   "source": [
    "#(pd.DataFrame(n_COVID[0,0]).mean().sum() - pd.Series({i: pd.DataFrame(n_COVID[i]).mean().sum() for i in n_COVID}))"
   ]
  },
  {
   "cell_type": "code",
   "execution_count": 63,
   "id": "8d46d9b4-25e9-451c-a0a6-f2722e822e3f",
   "metadata": {},
   "outputs": [
    {
     "data": {
      "text/plain": [
       "'1,813 (1,171 - 2,456)'"
      ]
     },
     "execution_count": 63,
     "metadata": {},
     "output_type": "execute_result"
    }
   ],
   "source": [
    "#print('averted secondary infections')\n",
    "def mean_ui(df, c, a, div = 1):\n",
    "    # shows cases averted with UIs\n",
    "    z = [(df[0, 0][k] - df[c, a][k]).sum() for k in range(n_draws)]\n",
    "    return f'{np.mean(z)/div:,.0f} ({np.percentile(z, 2.5)/div:,.0f} - {np.percentile(z, 97.5)/div:,.0f})'\n",
    "    \n",
    "mean_ui(n_COVID, .50, 50)"
   ]
  },
  {
   "cell_type": "code",
   "execution_count": 64,
   "id": "027de9be-422e-473d-943f-34475a1e3dd3",
   "metadata": {},
   "outputs": [],
   "source": [
    "def averted(df, div = 1):\n",
    "    pretty_table_ui = {}\n",
    "    pretty_table    = {}\n",
    "    \n",
    "    for c in coverage_levels:\n",
    "        for a in age_lower_bounds:\n",
    "            pretty_table_ui[c, a] = mean_ui(df, c, a, div)\n",
    "            pretty_table[c, a] = np.mean([(df[0, 0][k] - df[c, a][k]).sum() for k in range(n_draws)])\n",
    "    \n",
    "    return pd.Series(pretty_table), pd.Series(pretty_table_ui)\n",
    "#averted(n_COVID)"
   ]
  },
  {
   "cell_type": "code",
   "execution_count": 66,
   "id": "a4f70264-d164-44c5-bbc7-0ae8b2601a78",
   "metadata": {},
   "outputs": [],
   "source": [
    "symptomatic_infections_averted = averted(n_COVID)[1]\n",
    "hospitalizations_averted = averted(n_hosp)[1]\n",
    "deaths_averted = averted(n_deaths)[1]\n",
    "doses_averted = averted(doses)[1]"
   ]
  },
  {
   "cell_type": "code",
   "execution_count": 67,
   "id": "bbed129a-2b9d-4117-b694-d511a8755540",
   "metadata": {},
   "outputs": [
    {
     "data": {
      "text/html": [
       "<div>\n",
       "<style scoped>\n",
       "    .dataframe tbody tr th:only-of-type {\n",
       "        vertical-align: middle;\n",
       "    }\n",
       "\n",
       "    .dataframe tbody tr th {\n",
       "        vertical-align: top;\n",
       "    }\n",
       "\n",
       "    .dataframe thead th {\n",
       "        text-align: right;\n",
       "    }\n",
       "</style>\n",
       "<table border=\"1\" class=\"dataframe\">\n",
       "  <thead>\n",
       "    <tr style=\"text-align: right;\">\n",
       "      <th></th>\n",
       "      <th></th>\n",
       "      <th>0.25</th>\n",
       "      <th>0.50</th>\n",
       "      <th>0.75</th>\n",
       "      <th>1.00</th>\n",
       "    </tr>\n",
       "  </thead>\n",
       "  <tbody>\n",
       "    <tr>\n",
       "      <th rowspan=\"7\" valign=\"top\">Symptomatic Infections Averted</th>\n",
       "      <th>0</th>\n",
       "      <td>4,114 (2,669 - 5,684)</td>\n",
       "      <td>8,227 (5,338 - 11,369)</td>\n",
       "      <td>12,341 (8,007 - 17,053)</td>\n",
       "      <td>16,455 (10,676 - 22,737)</td>\n",
       "    </tr>\n",
       "    <tr>\n",
       "      <th>20</th>\n",
       "      <td>2,528 (1,638 - 3,495)</td>\n",
       "      <td>5,056 (3,277 - 6,990)</td>\n",
       "      <td>7,584 (4,915 - 10,485)</td>\n",
       "      <td>10,112 (6,554 - 13,980)</td>\n",
       "    </tr>\n",
       "    <tr>\n",
       "      <th>40</th>\n",
       "      <td>1,475 (956 - 2,024)</td>\n",
       "      <td>2,949 (1,911 - 4,047)</td>\n",
       "      <td>4,424 (2,867 - 6,071)</td>\n",
       "      <td>5,898 (3,822 - 8,094)</td>\n",
       "    </tr>\n",
       "    <tr>\n",
       "      <th>50</th>\n",
       "      <td>906 (586 - 1,228)</td>\n",
       "      <td>1,813 (1,171 - 2,456)</td>\n",
       "      <td>2,719 (1,757 - 3,684)</td>\n",
       "      <td>3,626 (2,342 - 4,912)</td>\n",
       "    </tr>\n",
       "    <tr>\n",
       "      <th>60</th>\n",
       "      <td>452 (297 - 601)</td>\n",
       "      <td>903 (593 - 1,202)</td>\n",
       "      <td>1,355 (890 - 1,803)</td>\n",
       "      <td>1,807 (1,186 - 2,404)</td>\n",
       "    </tr>\n",
       "    <tr>\n",
       "      <th>70</th>\n",
       "      <td>178 (118 - 236)</td>\n",
       "      <td>356 (235 - 473)</td>\n",
       "      <td>534 (353 - 709)</td>\n",
       "      <td>711 (470 - 946)</td>\n",
       "    </tr>\n",
       "    <tr>\n",
       "      <th>80</th>\n",
       "      <td>52 (33 - 75)</td>\n",
       "      <td>104 (67 - 151)</td>\n",
       "      <td>155 (100 - 226)</td>\n",
       "      <td>207 (133 - 301)</td>\n",
       "    </tr>\n",
       "    <tr>\n",
       "      <th rowspan=\"7\" valign=\"top\">Hospitalizations Averted</th>\n",
       "      <th>0</th>\n",
       "      <td>418 (271 - 566)</td>\n",
       "      <td>836 (543 - 1,132)</td>\n",
       "      <td>1,254 (814 - 1,697)</td>\n",
       "      <td>1,672 (1,085 - 2,263)</td>\n",
       "    </tr>\n",
       "    <tr>\n",
       "      <th>20</th>\n",
       "      <td>384 (250 - 518)</td>\n",
       "      <td>768 (500 - 1,036)</td>\n",
       "      <td>1,153 (750 - 1,555)</td>\n",
       "      <td>1,537 (1,001 - 2,073)</td>\n",
       "    </tr>\n",
       "    <tr>\n",
       "      <th>40</th>\n",
       "      <td>324 (212 - 440)</td>\n",
       "      <td>649 (424 - 880)</td>\n",
       "      <td>973 (636 - 1,320)</td>\n",
       "      <td>1,297 (847 - 1,761)</td>\n",
       "    </tr>\n",
       "    <tr>\n",
       "      <th>50</th>\n",
       "      <td>263 (171 - 358)</td>\n",
       "      <td>526 (343 - 716)</td>\n",
       "      <td>789 (514 - 1,074)</td>\n",
       "      <td>1,052 (686 - 1,432)</td>\n",
       "    </tr>\n",
       "    <tr>\n",
       "      <th>60</th>\n",
       "      <td>179 (117 - 240)</td>\n",
       "      <td>358 (234 - 480)</td>\n",
       "      <td>538 (351 - 720)</td>\n",
       "      <td>717 (468 - 960)</td>\n",
       "    </tr>\n",
       "    <tr>\n",
       "      <th>70</th>\n",
       "      <td>92 (61 - 125)</td>\n",
       "      <td>185 (122 - 249)</td>\n",
       "      <td>277 (183 - 374)</td>\n",
       "      <td>369 (244 - 499)</td>\n",
       "    </tr>\n",
       "    <tr>\n",
       "      <th>80</th>\n",
       "      <td>34 (22 - 48)</td>\n",
       "      <td>67 (44 - 97)</td>\n",
       "      <td>101 (66 - 145)</td>\n",
       "      <td>135 (88 - 193)</td>\n",
       "    </tr>\n",
       "    <tr>\n",
       "      <th rowspan=\"7\" valign=\"top\">Deaths Averted</th>\n",
       "      <th>0</th>\n",
       "      <td>46 (31 - 65)</td>\n",
       "      <td>93 (61 - 129)</td>\n",
       "      <td>139 (92 - 194)</td>\n",
       "      <td>186 (122 - 258)</td>\n",
       "    </tr>\n",
       "    <tr>\n",
       "      <th>20</th>\n",
       "      <td>46 (31 - 65)</td>\n",
       "      <td>93 (61 - 129)</td>\n",
       "      <td>139 (92 - 194)</td>\n",
       "      <td>186 (122 - 258)</td>\n",
       "    </tr>\n",
       "    <tr>\n",
       "      <th>40</th>\n",
       "      <td>45 (30 - 62)</td>\n",
       "      <td>90 (59 - 125)</td>\n",
       "      <td>135 (89 - 187)</td>\n",
       "      <td>179 (119 - 250)</td>\n",
       "    </tr>\n",
       "    <tr>\n",
       "      <th>50</th>\n",
       "      <td>42 (28 - 58)</td>\n",
       "      <td>83 (56 - 116)</td>\n",
       "      <td>125 (83 - 174)</td>\n",
       "      <td>167 (111 - 232)</td>\n",
       "    </tr>\n",
       "    <tr>\n",
       "      <th>60</th>\n",
       "      <td>35 (23 - 48)</td>\n",
       "      <td>70 (46 - 96)</td>\n",
       "      <td>105 (69 - 144)</td>\n",
       "      <td>140 (92 - 192)</td>\n",
       "    </tr>\n",
       "    <tr>\n",
       "      <th>70</th>\n",
       "      <td>23 (15 - 33)</td>\n",
       "      <td>47 (31 - 66)</td>\n",
       "      <td>70 (46 - 100)</td>\n",
       "      <td>94 (61 - 133)</td>\n",
       "    </tr>\n",
       "    <tr>\n",
       "      <th>80</th>\n",
       "      <td>12 (8 - 18)</td>\n",
       "      <td>24 (15 - 36)</td>\n",
       "      <td>35 (23 - 54)</td>\n",
       "      <td>47 (30 - 71)</td>\n",
       "    </tr>\n",
       "    <tr>\n",
       "      <th rowspan=\"7\" valign=\"top\">Doses</th>\n",
       "      <th>0</th>\n",
       "      <td>-63,990 (-67,870 - -60,112)</td>\n",
       "      <td>-127,980 (-135,741 - -120,225)</td>\n",
       "      <td>-191,969 (-203,611 - -180,337)</td>\n",
       "      <td>-255,959 (-271,482 - -240,450)</td>\n",
       "    </tr>\n",
       "    <tr>\n",
       "      <th>20</th>\n",
       "      <td>-39,324 (-41,778 - -37,086)</td>\n",
       "      <td>-78,649 (-83,557 - -74,173)</td>\n",
       "      <td>-117,973 (-125,335 - -111,259)</td>\n",
       "      <td>-157,298 (-167,114 - -148,345)</td>\n",
       "    </tr>\n",
       "    <tr>\n",
       "      <th>40</th>\n",
       "      <td>-22,933 (-24,527 - -21,500)</td>\n",
       "      <td>-45,865 (-49,053 - -43,000)</td>\n",
       "      <td>-68,798 (-73,580 - -64,500)</td>\n",
       "      <td>-91,730 (-98,106 - -86,000)</td>\n",
       "    </tr>\n",
       "    <tr>\n",
       "      <th>50</th>\n",
       "      <td>-14,093 (-15,268 - -13,168)</td>\n",
       "      <td>-28,187 (-30,536 - -26,336)</td>\n",
       "      <td>-42,280 (-45,804 - -39,505)</td>\n",
       "      <td>-56,374 (-61,072 - -52,673)</td>\n",
       "    </tr>\n",
       "    <tr>\n",
       "      <th>60</th>\n",
       "      <td>-7,029 (-7,597 - -6,508)</td>\n",
       "      <td>-14,057 (-15,193 - -13,016)</td>\n",
       "      <td>-21,086 (-22,790 - -19,524)</td>\n",
       "      <td>-28,114 (-30,387 - -26,031)</td>\n",
       "    </tr>\n",
       "    <tr>\n",
       "      <th>70</th>\n",
       "      <td>-2,768 (-3,107 - -2,502)</td>\n",
       "      <td>-5,537 (-6,214 - -5,004)</td>\n",
       "      <td>-8,305 (-9,320 - -7,506)</td>\n",
       "      <td>-11,074 (-12,427 - -10,008)</td>\n",
       "    </tr>\n",
       "    <tr>\n",
       "      <th>80</th>\n",
       "      <td>-805 (-1,004 - -678)</td>\n",
       "      <td>-1,611 (-2,008 - -1,356)</td>\n",
       "      <td>-2,416 (-3,011 - -2,034)</td>\n",
       "      <td>-3,221 (-4,015 - -2,711)</td>\n",
       "    </tr>\n",
       "    <tr>\n",
       "      <th rowspan=\"7\" valign=\"top\">Incremental Cost</th>\n",
       "      <th>0</th>\n",
       "      <td>50.2</td>\n",
       "      <td>100.3</td>\n",
       "      <td>150.5</td>\n",
       "      <td>200.7</td>\n",
       "    </tr>\n",
       "    <tr>\n",
       "      <th>20</th>\n",
       "      <td>21.5</td>\n",
       "      <td>42.9</td>\n",
       "      <td>64.4</td>\n",
       "      <td>85.9</td>\n",
       "    </tr>\n",
       "    <tr>\n",
       "      <th>40</th>\n",
       "      <td>5.1</td>\n",
       "      <td>10.3</td>\n",
       "      <td>15.4</td>\n",
       "      <td>20.5</td>\n",
       "    </tr>\n",
       "    <tr>\n",
       "      <th>50</th>\n",
       "      <td>-1.5</td>\n",
       "      <td>-3.1</td>\n",
       "      <td>-4.6</td>\n",
       "      <td>-6.1</td>\n",
       "    </tr>\n",
       "    <tr>\n",
       "      <th>60</th>\n",
       "      <td>-4.3</td>\n",
       "      <td>-8.6</td>\n",
       "      <td>-12.9</td>\n",
       "      <td>-17.2</td>\n",
       "    </tr>\n",
       "    <tr>\n",
       "      <th>70</th>\n",
       "      <td>-3.3</td>\n",
       "      <td>-6.6</td>\n",
       "      <td>-9.9</td>\n",
       "      <td>-13.2</td>\n",
       "    </tr>\n",
       "    <tr>\n",
       "      <th>80</th>\n",
       "      <td>-1.5</td>\n",
       "      <td>-2.9</td>\n",
       "      <td>-4.4</td>\n",
       "      <td>-5.9</td>\n",
       "    </tr>\n",
       "  </tbody>\n",
       "</table>\n",
       "</div>"
      ],
      "text/plain": [
       "                                                          0.25  \\\n",
       "Symptomatic Infections Averted 0         4,114 (2,669 - 5,684)   \n",
       "                               20        2,528 (1,638 - 3,495)   \n",
       "                               40          1,475 (956 - 2,024)   \n",
       "                               50            906 (586 - 1,228)   \n",
       "                               60              452 (297 - 601)   \n",
       "                               70              178 (118 - 236)   \n",
       "                               80                 52 (33 - 75)   \n",
       "Hospitalizations Averted       0               418 (271 - 566)   \n",
       "                               20              384 (250 - 518)   \n",
       "                               40              324 (212 - 440)   \n",
       "                               50              263 (171 - 358)   \n",
       "                               60              179 (117 - 240)   \n",
       "                               70                92 (61 - 125)   \n",
       "                               80                 34 (22 - 48)   \n",
       "Deaths Averted                 0                  46 (31 - 65)   \n",
       "                               20                 46 (31 - 65)   \n",
       "                               40                 45 (30 - 62)   \n",
       "                               50                 42 (28 - 58)   \n",
       "                               60                 35 (23 - 48)   \n",
       "                               70                 23 (15 - 33)   \n",
       "                               80                  12 (8 - 18)   \n",
       "Doses                          0   -63,990 (-67,870 - -60,112)   \n",
       "                               20  -39,324 (-41,778 - -37,086)   \n",
       "                               40  -22,933 (-24,527 - -21,500)   \n",
       "                               50  -14,093 (-15,268 - -13,168)   \n",
       "                               60     -7,029 (-7,597 - -6,508)   \n",
       "                               70     -2,768 (-3,107 - -2,502)   \n",
       "                               80         -805 (-1,004 - -678)   \n",
       "Incremental Cost               0                          50.2   \n",
       "                               20                         21.5   \n",
       "                               40                          5.1   \n",
       "                               50                         -1.5   \n",
       "                               60                         -4.3   \n",
       "                               70                         -3.3   \n",
       "                               80                         -1.5   \n",
       "\n",
       "                                                             0.50  \\\n",
       "Symptomatic Infections Averted 0           8,227 (5,338 - 11,369)   \n",
       "                               20           5,056 (3,277 - 6,990)   \n",
       "                               40           2,949 (1,911 - 4,047)   \n",
       "                               50           1,813 (1,171 - 2,456)   \n",
       "                               60               903 (593 - 1,202)   \n",
       "                               70                 356 (235 - 473)   \n",
       "                               80                  104 (67 - 151)   \n",
       "Hospitalizations Averted       0                836 (543 - 1,132)   \n",
       "                               20               768 (500 - 1,036)   \n",
       "                               40                 649 (424 - 880)   \n",
       "                               50                 526 (343 - 716)   \n",
       "                               60                 358 (234 - 480)   \n",
       "                               70                 185 (122 - 249)   \n",
       "                               80                    67 (44 - 97)   \n",
       "Deaths Averted                 0                    93 (61 - 129)   \n",
       "                               20                   93 (61 - 129)   \n",
       "                               40                   90 (59 - 125)   \n",
       "                               50                   83 (56 - 116)   \n",
       "                               60                    70 (46 - 96)   \n",
       "                               70                    47 (31 - 66)   \n",
       "                               80                    24 (15 - 36)   \n",
       "Doses                          0   -127,980 (-135,741 - -120,225)   \n",
       "                               20     -78,649 (-83,557 - -74,173)   \n",
       "                               40     -45,865 (-49,053 - -43,000)   \n",
       "                               50     -28,187 (-30,536 - -26,336)   \n",
       "                               60     -14,057 (-15,193 - -13,016)   \n",
       "                               70        -5,537 (-6,214 - -5,004)   \n",
       "                               80        -1,611 (-2,008 - -1,356)   \n",
       "Incremental Cost               0                            100.3   \n",
       "                               20                            42.9   \n",
       "                               40                            10.3   \n",
       "                               50                            -3.1   \n",
       "                               60                            -8.6   \n",
       "                               70                            -6.6   \n",
       "                               80                            -2.9   \n",
       "\n",
       "                                                             0.75  \\\n",
       "Symptomatic Infections Averted 0          12,341 (8,007 - 17,053)   \n",
       "                               20          7,584 (4,915 - 10,485)   \n",
       "                               40           4,424 (2,867 - 6,071)   \n",
       "                               50           2,719 (1,757 - 3,684)   \n",
       "                               60             1,355 (890 - 1,803)   \n",
       "                               70                 534 (353 - 709)   \n",
       "                               80                 155 (100 - 226)   \n",
       "Hospitalizations Averted       0              1,254 (814 - 1,697)   \n",
       "                               20             1,153 (750 - 1,555)   \n",
       "                               40               973 (636 - 1,320)   \n",
       "                               50               789 (514 - 1,074)   \n",
       "                               60                 538 (351 - 720)   \n",
       "                               70                 277 (183 - 374)   \n",
       "                               80                  101 (66 - 145)   \n",
       "Deaths Averted                 0                   139 (92 - 194)   \n",
       "                               20                  139 (92 - 194)   \n",
       "                               40                  135 (89 - 187)   \n",
       "                               50                  125 (83 - 174)   \n",
       "                               60                  105 (69 - 144)   \n",
       "                               70                   70 (46 - 100)   \n",
       "                               80                    35 (23 - 54)   \n",
       "Doses                          0   -191,969 (-203,611 - -180,337)   \n",
       "                               20  -117,973 (-125,335 - -111,259)   \n",
       "                               40     -68,798 (-73,580 - -64,500)   \n",
       "                               50     -42,280 (-45,804 - -39,505)   \n",
       "                               60     -21,086 (-22,790 - -19,524)   \n",
       "                               70        -8,305 (-9,320 - -7,506)   \n",
       "                               80        -2,416 (-3,011 - -2,034)   \n",
       "Incremental Cost               0                            150.5   \n",
       "                               20                            64.4   \n",
       "                               40                            15.4   \n",
       "                               50                            -4.6   \n",
       "                               60                           -12.9   \n",
       "                               70                            -9.9   \n",
       "                               80                            -4.4   \n",
       "\n",
       "                                                             1.00  \n",
       "Symptomatic Infections Averted 0         16,455 (10,676 - 22,737)  \n",
       "                               20         10,112 (6,554 - 13,980)  \n",
       "                               40           5,898 (3,822 - 8,094)  \n",
       "                               50           3,626 (2,342 - 4,912)  \n",
       "                               60           1,807 (1,186 - 2,404)  \n",
       "                               70                 711 (470 - 946)  \n",
       "                               80                 207 (133 - 301)  \n",
       "Hospitalizations Averted       0            1,672 (1,085 - 2,263)  \n",
       "                               20           1,537 (1,001 - 2,073)  \n",
       "                               40             1,297 (847 - 1,761)  \n",
       "                               50             1,052 (686 - 1,432)  \n",
       "                               60                 717 (468 - 960)  \n",
       "                               70                 369 (244 - 499)  \n",
       "                               80                  135 (88 - 193)  \n",
       "Deaths Averted                 0                  186 (122 - 258)  \n",
       "                               20                 186 (122 - 258)  \n",
       "                               40                 179 (119 - 250)  \n",
       "                               50                 167 (111 - 232)  \n",
       "                               60                  140 (92 - 192)  \n",
       "                               70                   94 (61 - 133)  \n",
       "                               80                    47 (30 - 71)  \n",
       "Doses                          0   -255,959 (-271,482 - -240,450)  \n",
       "                               20  -157,298 (-167,114 - -148,345)  \n",
       "                               40     -91,730 (-98,106 - -86,000)  \n",
       "                               50     -56,374 (-61,072 - -52,673)  \n",
       "                               60     -28,114 (-30,387 - -26,031)  \n",
       "                               70     -11,074 (-12,427 - -10,008)  \n",
       "                               80        -3,221 (-4,015 - -2,711)  \n",
       "Incremental Cost               0                            200.7  \n",
       "                               20                            85.9  \n",
       "                               40                            20.5  \n",
       "                               50                            -6.1  \n",
       "                               60                           -17.2  \n",
       "                               70                           -13.2  \n",
       "                               80                            -5.9  "
      ]
     },
     "execution_count": 67,
     "metadata": {},
     "output_type": "execute_result"
    }
   ],
   "source": [
    "pd.set_option('display.max_rows', 35)\n",
    "\n",
    "pd.DataFrame({\n",
    "    'Symptomatic Infections Averted': symptomatic_infections_averted,\n",
    "    'Hospitalizations Averted': hospitalizations_averted,\n",
    "    'Deaths Averted': deaths_averted,\n",
    "    'Doses': doses_averted, #pd.DataFrame(doses).mean()/1e3\n",
    "    'Incremental Cost':((cost-cost.loc[0,0])/1e6).round(1)\n",
    "}).unstack().unstack().unstack().loc[:, [0.25, 0.50, 0.75, 1]]"
   ]
  },
  {
   "cell_type": "code",
   "execution_count": 139,
   "id": "8c9a1740",
   "metadata": {},
   "outputs": [
    {
     "data": {
      "text/html": [
       "<div>\n",
       "<style scoped>\n",
       "    .dataframe tbody tr th:only-of-type {\n",
       "        vertical-align: middle;\n",
       "    }\n",
       "\n",
       "    .dataframe tbody tr th {\n",
       "        vertical-align: top;\n",
       "    }\n",
       "\n",
       "    .dataframe thead th {\n",
       "        text-align: right;\n",
       "    }\n",
       "</style>\n",
       "<table border=\"1\" class=\"dataframe\">\n",
       "  <thead>\n",
       "    <tr style=\"text-align: right;\">\n",
       "      <th></th>\n",
       "      <th>0</th>\n",
       "      <th>20</th>\n",
       "      <th>40</th>\n",
       "      <th>50</th>\n",
       "      <th>60</th>\n",
       "      <th>70</th>\n",
       "      <th>80</th>\n",
       "    </tr>\n",
       "  </thead>\n",
       "  <tbody>\n",
       "    <tr>\n",
       "      <th>0.00</th>\n",
       "      <td>NaN</td>\n",
       "      <td>NaN</td>\n",
       "      <td>NaN</td>\n",
       "      <td>NaN</td>\n",
       "      <td>NaN</td>\n",
       "      <td>NaN</td>\n",
       "      <td>NaN</td>\n",
       "    </tr>\n",
       "    <tr>\n",
       "      <th>0.25</th>\n",
       "      <td>1080.9</td>\n",
       "      <td>462.5</td>\n",
       "      <td>114.4</td>\n",
       "      <td>-36.6</td>\n",
       "      <td>-122.5</td>\n",
       "      <td>-140.6</td>\n",
       "      <td>-124.1</td>\n",
       "    </tr>\n",
       "    <tr>\n",
       "      <th>0.50</th>\n",
       "      <td>1080.9</td>\n",
       "      <td>462.5</td>\n",
       "      <td>114.4</td>\n",
       "      <td>-36.6</td>\n",
       "      <td>-122.5</td>\n",
       "      <td>-140.6</td>\n",
       "      <td>-124.1</td>\n",
       "    </tr>\n",
       "    <tr>\n",
       "      <th>0.75</th>\n",
       "      <td>1080.9</td>\n",
       "      <td>462.5</td>\n",
       "      <td>114.4</td>\n",
       "      <td>-36.6</td>\n",
       "      <td>-122.5</td>\n",
       "      <td>-140.6</td>\n",
       "      <td>-124.1</td>\n",
       "    </tr>\n",
       "    <tr>\n",
       "      <th>1.00</th>\n",
       "      <td>1080.9</td>\n",
       "      <td>462.5</td>\n",
       "      <td>114.4</td>\n",
       "      <td>-36.6</td>\n",
       "      <td>-122.5</td>\n",
       "      <td>-140.6</td>\n",
       "      <td>-124.1</td>\n",
       "    </tr>\n",
       "  </tbody>\n",
       "</table>\n",
       "</div>"
      ],
      "text/plain": [
       "          0      20     40    50     60     70     80\n",
       "0.00     NaN    NaN    NaN   NaN    NaN    NaN    NaN\n",
       "0.25  1080.9  462.5  114.4 -36.6 -122.5 -140.6 -124.1\n",
       "0.50  1080.9  462.5  114.4 -36.6 -122.5 -140.6 -124.1\n",
       "0.75  1080.9  462.5  114.4 -36.6 -122.5 -140.6 -124.1\n",
       "1.00  1080.9  462.5  114.4 -36.6 -122.5 -140.6 -124.1"
      ]
     },
     "execution_count": 139,
     "metadata": {},
     "output_type": "execute_result"
    }
   ],
   "source": [
    "ICER = (cost-cost.loc[0,0]) / (averted(n_deaths)[0])\n",
    "np.round((ICER / 1_000).unstack(), 1)"
   ]
  },
  {
   "cell_type": "code",
   "execution_count": 140,
   "id": "d4149eff",
   "metadata": {},
   "outputs": [
    {
     "data": {
      "text/plain": [
       "Text(0.5, 0, 'Minimum age for PEP (years)')"
      ]
     },
     "execution_count": 140,
     "metadata": {},
     "output_type": "execute_result"
    },
    {
     "data": {
      "image/png": "[encoded data removed]",
      "text/plain": [
       "<Figure size 432x288 with 1 Axes>"
      ]
     },
     "metadata": {
      "needs_background": "light"
     },
     "output_type": "display_data"
    }
   ],
   "source": [
    "(ICER / 1_000).unstack().T.iloc[:,-1].plot(marker='o')\n",
    "plt.ylabel('ICER (Thousand USD per death averted)')\n",
    "plt.xlabel('Minimum age for PEP (years)')\n",
    "# plt.semilogy();"
   ]
  },
  {
   "cell_type": "markdown",
   "id": "81e1dbd8",
   "metadata": {},
   "source": [
    "# PEP with mAbs is a benefit for patients and for hospitals"
   ]
  },
  {
   "cell_type": "code",
   "execution_count": 322,
   "id": "cf98e94c",
   "metadata": {},
   "outputs": [
    {
     "name": "stdout",
     "output_type": "stream",
     "text": [
      "Results: In a month of similar intensity to May, 2021,\n",
      "    in USA, a program reaching 50% of exposed household members\n",
      "    aged 50+, would avert 1,813 (1,171 - 2,456) symptomatic infections,\n",
      "    526 (343 - 716) hospitalizations, and 83 (56 - 116) deaths.  If the\n",
      "    unit cost of administering the intervention was 1,264 dollars,\n",
      "    this program would save the health system 3,055,202 dollars.\n"
     ]
    }
   ],
   "source": [
    "def summary_results(coverage_level, age_lower_bound):\n",
    "    n_symp_averted = symptomatic_infections_averted.loc[coverage_level, age_lower_bound]\n",
    "    n_hosp_averted = hospitalizations_averted.loc[coverage_level, age_lower_bound]\n",
    "    n_deaths_averted = deaths_averted.loc[coverage_level, age_lower_bound]\n",
    "    unit_cost = mAbs_unit_cost\n",
    "    incremental_cost = (cost.loc[coverage_level, age_lower_bound]-cost.loc[0,0])\n",
    "\n",
    "    result_str = f\"\"\"Results: In a month of similar intensity to May, 2021, in USA, a program reaching {coverage_level*100:.0f}% \n",
    "    of exposed household members aged {age_lower_bound}+, would avert {n_symp_averted} symptomatic infections,\n",
    "    {n_hosp_averted} hospitalizations, and {n_deaths_averted} deaths.  If the unit cost of administering the intervention \n",
    "    was {pd.Series(unit_cost).mean():,.0f} dollars, this program would save the health system {-incremental_cost:,.0f} dollars.\"\"\"\n",
    "    \n",
    "    print(result_str)\n",
    "summary_results(1/2, 50)"
   ]
  },
  {
   "cell_type": "code",
   "execution_count": 319,
   "id": "a986f252",
   "metadata": {},
   "outputs": [
    {
     "name": "stdout",
     "output_type": "stream",
     "text": [
      "Results: In a month of similar intensity to May, 2021,\n",
      "    in USA, a program reaching 50% of exposed household members\n",
      "    aged 20+, would avert 5,056 (3,277 - 6,990) symptomatic infections,\n",
      "    768 (500 - 1,036) hospitalizations, and 93 (61 - 129) deaths.  If the\n",
      "    unit cost of administering the intervention was 1,264 dollars,\n",
      "    this program would save the health system -42,926,331 thousand dollars.\n"
     ]
    }
   ],
   "source": [
    "summary_results(1/2, 20)"
   ]
  },
  {
   "cell_type": "code",
   "execution_count": 143,
   "id": "33ee3a2e",
   "metadata": {},
   "outputs": [
    {
     "name": "stdout",
     "output_type": "stream",
     "text": [
      "Results: In a month of similar intensity to May, 2021,\n",
      "    in USA, a program reaching 50% of exposed household members\n",
      "    aged 80+, would avert 104 (67 - 151) symptomatic infections,\n",
      "    67 (44 - 97) hospitalizations, and 24 (15 - 36) deaths.  If the\n",
      "    unit cost of administering the intervention was 1,264 dollars,\n",
      "    this program would save the health system 2,928 thousand dollars.\n"
     ]
    }
   ],
   "source": [
    "summary_results(1/2, 80)"
   ]
  },
  {
   "cell_type": "markdown",
   "id": "1bfa9522",
   "metadata": {},
   "source": [
    "# Number-plugging values"
   ]
  },
  {
   "cell_type": "code",
   "execution_count": 144,
   "id": "f170ef51",
   "metadata": {},
   "outputs": [
    {
     "name": "stdout",
     "output_type": "stream",
     "text": [
      "[[summary of data: RCT included X subjects (Y in treatment group and Z in control),\n",
      "which we combined with confirmed cases data on 154,136 individuals and\n",
      "household structure data derived from 3,239,553 individuals in 1,428,037 households.]]\n",
      "\n"
     ]
    }
   ],
   "source": [
    "print(f\"\"\"[[summary of data: RCT included X subjects (Y in treatment group and Z in control),\n",
    "which we combined with confirmed cases data on {len(df_cdc_month):,.0f} individuals and\n",
    "household structure data derived from {len(acs):,.0f} individuals in {acs.household_id.nunique():,.0f} households.]]\n",
    "\"\"\")"
   ]
  },
  {
   "cell_type": "code",
   "execution_count": 145,
   "id": "8c5ccf26",
   "metadata": {},
   "outputs": [],
   "source": [
    "n_2 = pd.DataFrame(n_2_unvax)\n",
    "#n_2"
   ]
  },
  {
   "cell_type": "code",
   "execution_count": 146,
   "id": "c2377804",
   "metadata": {},
   "outputs": [
    {
     "name": "stdout",
     "output_type": "stream",
     "text": [
      "[[Confirmed case and household structure results,\n",
      "summarizing something about the racial segregation of household structure,\n",
      "the age-assortativity. In [[May]], there were [[154,136]]\n",
      "confirmed cases of COVID-19, which we estimate resulted\n",
      "in 255,959 (95% UI 240,450-271,482) individuals with household exposure to COVID-19. ]] [[stratify counts or rates by race??]]\n"
     ]
    }
   ],
   "source": [
    "print(f\"\"\"[[Confirmed case and household structure results,\n",
    "summarizing something about the racial segregation of household structure,\n",
    "the age-assortativity. In [[May]], there were [[{len(df_cdc_month):,.0f}]]\n",
    "confirmed cases of COVID-19, which we estimate resulted\n",
    "in {n_2.sum().mean():,.0f} (95% UI {np.percentile(n_2.sum(), 2.5):,.0f}-{np.percentile(n_2.sum(), 97.5):,.0f}) individuals with household exposure to COVID-19. ]] [[stratify counts or rates by race??]]\"\"\")"
   ]
  },
  {
   "cell_type": "code",
   "execution_count": 260,
   "id": "20ae1a84",
   "metadata": {},
   "outputs": [
    {
     "data": {
      "text/plain": [
       "Black        43051.718468\n",
       "Hispanic     50296.810900\n",
       "Other        27214.403012\n",
       "White       135396.253139\n",
       "dtype: float64"
      ]
     },
     "execution_count": 260,
     "metadata": {},
     "output_type": "execute_result"
    }
   ],
   "source": [
    "unvax_race = n_2.unstack().sum().unstack().mean()\n",
    "unvax_race"
   ]
  },
  {
   "cell_type": "code",
   "execution_count": 264,
   "id": "5b8b12cb-8a7d-4162-99b0-8be3e485c223",
   "metadata": {},
   "outputs": [
    {
     "data": {
      "text/plain": [
       "Black       16.819759\n",
       "Hispanic    19.650325\n",
       "Other       10.632321\n",
       "White       52.897595\n",
       "dtype: float64"
      ]
     },
     "execution_count": 264,
     "metadata": {},
     "output_type": "execute_result"
    }
   ],
   "source": [
    "unvax_race_per = unvax_race/sum(unvax_race) *100\n",
    "unvax_race_per"
   ]
  },
  {
   "cell_type": "code",
   "execution_count": 273,
   "id": "304920a2-2257-4c67-8ea3-c20724766f26",
   "metadata": {},
   "outputs": [
    {
     "name": "stdout",
     "output_type": "stream",
     "text": [
      "In May, there were 154,136 confirmed cases of COVID-19 in the US, which we estimate resulted in at least 255,959 (95% UI 240,450-271,482) unvaccinated individuals with household exposure to COVID-19. Using the racial and ethnic composition of households, COVID-19 cases, and vaccine coverage estimates described above, we estimated unvaccinated household contacts to include 43,052 (16.8%) non-Hispanic Black individuals, 50,297 (19.7%) Hispanic individuals, 135,396 (52.9%) non-Hispanic white individuals, and 27,214 (10.6%) members of other non-Hispanic racial and ethnic groups.\n"
     ]
    }
   ],
   "source": [
    "#Resut paragraph 1\n",
    "print(f\"\"\"In May, there were {len(df_cdc_month):,.0f} confirmed cases of COVID-19 in the US, which we estimate resulted in at least {n_2_total_mean:,.0f} (95% UI {n_2_total_lb:,.0f}-{n_2_total_ub:,.0f}) unvaccinated individuals with household exposure to COVID-19. Using the racial and ethnic composition of households, COVID-19 cases, and vaccine coverage estimates described above, we estimated unvaccinated household contacts to include {unvax_race['Black']:,.0f} ({unvax_race_per['Black']:,.1f}%) non-Hispanic Black individuals, {unvax_race['Hispanic']:,.0f} ({unvax_race_per['Hispanic']:,.1f}%) Hispanic individuals, {unvax_race['White']:,.0f} ({unvax_race_per['White']:,.1f}%) non-Hispanic white individuals, and {unvax_race['Other']:,.0f} ({unvax_race_per['Other']:,.1f}%) members of other non-Hispanic racial and ethnic groups.\"\"\")\n"
   ]
  },
  {
   "cell_type": "code",
   "execution_count": null,
   "id": "b9077e45-593a-4c9e-a6fc-da95c8c020b7",
   "metadata": {},
   "outputs": [],
   "source": [
    "print(f\"\"\"[[Number who receive PEP in alternative scenarios, and for alternative age cutoffs. Perhaps in a table?  Population-level rates of treatment stratified by race?]]\"\"\")"
   ]
  },
  {
   "cell_type": "code",
   "execution_count": 167,
   "id": "6e542cd8",
   "metadata": {},
   "outputs": [],
   "source": [
    "def my_summary(x):\n",
    "    mean = np.mean(x)\n",
    "    lb = np.percentile(x, 2.5)\n",
    "    ub = np.percentile(x, 97.5)\n",
    "    results = locals()\n",
    "    results.pop('x')\n",
    "    for k in results:\n",
    "        results[k] = '{:,.0f}'.format(results[k])\n",
    "    results['ui'] = results['lb']+'-'+results['ub']\n",
    "    results['mean_and_ui'] = f\"\"\"{results['mean']} (95% UI {results['ui']})\"\"\"\n",
    "    return results\n",
    "\n",
    "total_PEP = {}\n",
    "for c,a in n_PEP.keys():\n",
    "    total_PEP[c,a] = my_summary(pd.DataFrame(n_PEP[c,a]).sum())"
   ]
  },
  {
   "cell_type": "code",
   "execution_count": 150,
   "id": "11092de7",
   "metadata": {},
   "outputs": [
    {
     "name": "stdout",
     "output_type": "stream",
     "text": [
      "In a hypothetical scenario where 50% of those exposed and of age 50 or older receive PEP,\n",
      "we estimate 28,187 (95% UI 26,336-30,536) individuals would be treated.\n"
     ]
    }
   ],
   "source": [
    "print(f\"\"\"In a hypothetical scenario where 50% of those exposed and of age 50 or older receive PEP,\n",
    "we estimate {total_PEP[.5,50]['mean_and_ui']} individuals would be treated.\"\"\")"
   ]
  },
  {
   "cell_type": "code",
   "execution_count": 151,
   "id": "4a90ebe7-0565-4815-b699-cae5f2000f29",
   "metadata": {},
   "outputs": [
    {
     "name": "stdout",
     "output_type": "stream",
     "text": [
      "A scenario providing PEP to 50% of unvaccinated household contacts age 50+ resulted in treatment of 28,187 (95% UI 26,336-30,536) individuals, with fewer individuals treated at higher age thresholds (Table 1). PEP coverage of 50% of unvaccinated contacts age 50+ averted 1,813 (1,171 - 2,456) symptomatic COVID-19 cases, 526 (343 - 716) hospitalizations, and prevented 83 (56 - 116) deaths. Expanding the age threshold to 20+ years increased the averted burden to 5,056 (3,277 - 6,990) symptomatic COVID-19 cases, 768 (500 - 1,036) hospitalizations, and 93 (61 - 129) deaths, while shrinking the age threshold to age 80+ years reduced the burden averted to 104 (67 - 151) symptomatic COVID-19 cases, 67 (44 - 97) hospitalizations, and 24 (15 - 36) deaths for the same assumption of 50% coverage of unvaccinated contacts in each target age group. Expanding PEP coverage by half from 50% to 75% resulted in corresponding 50% reductions in symptomatic COVID-19 cases, hospitalizations, and deaths.\n"
     ]
    }
   ],
   "source": [
    "#results paragraph 2\n",
    "print(f\"\"\"A scenario providing PEP to 50% of unvaccinated household contacts age 50+ resulted in treatment of {total_PEP[.5,50]['mean_and_ui']} individuals, with fewer individuals treated at higher age thresholds (Table 1). PEP coverage of 50% of unvaccinated contacts age 50+ averted {symptomatic_infections_averted.loc[0.5, 50]} symptomatic COVID-19 cases, {hospitalizations_averted.loc[0.5, 50]} hospitalizations, and prevented {deaths_averted.loc[0.5, 50]} deaths. Expanding the age threshold to 20+ years increased the averted burden to {symptomatic_infections_averted.loc[0.5, 20]} symptomatic COVID-19 cases, {hospitalizations_averted.loc[0.5, 20]} hospitalizations, and {deaths_averted.loc[0.5, 20]} deaths, while shrinking the age threshold to age 80+ years reduced the burden averted to {symptomatic_infections_averted.loc[0.5, 80]} symptomatic COVID-19 cases, {hospitalizations_averted.loc[0.5, 80]} hospitalizations, and {deaths_averted.loc[0.5, 80]} deaths for the same assumption of 50% coverage of unvaccinated contacts in each target age group. Expanding PEP coverage by half from 50% to 75% resulted in corresponding 50% reductions in symptomatic COVID-19 cases, hospitalizations, and deaths.\"\"\")"
   ]
  },
  {
   "cell_type": "code",
   "execution_count": null,
   "id": "f76d07a3-438e-4faf-af5f-5a80178e31b2",
   "metadata": {},
   "outputs": [],
   "source": [
    "#result paragraph 3\n",
    "print(f\"\"\"The rates of averted COVID-19 cases, hospitalization, and death differed by race and ethnicity. Assuming 50% mAbs PEP coverage of unvaccinated individuals age 50+, the estimated rate of averted secondary infections was {averted_symptomatic_race[0]}, {averted_symptomatic_race[1]}, {averted_symptomatic_race[3]}, and {averted_symptomatic_race[2]} symptomatic infections per 10,000,000 person-months among non-Hispanic Black, Hispanic, non-Hispanic white, and non-Hispanic members of other racial and ethnic groups, respectively.  The averted hospitalization rate per 10,000,000 person-months were {averted_hosp_race[0]}, {averted_hosp_race[1]}, {averted_hosp_race[3]}, and {averted_hosp_race[2]} while the averted death rates per 10,000,000 person-months were {averted_death_race[0]}, {averted_death_race[1]}, {averted_death_race[3]}, and {averted_death_race[2]} for the same races, respectively.\"\"\") "
   ]
  },
  {
   "cell_type": "code",
   "execution_count": 153,
   "id": "62924219",
   "metadata": {},
   "outputs": [
    {
     "name": "stdout",
     "output_type": "stream",
     "text": [
      "While in a hypothetical scenario where 50% of those exposed and of age 80 or older receive PEP,\n",
      "we estimate 1,611 (95% UI 1,356-2,008) individuals would be treated,\n"
     ]
    }
   ],
   "source": [
    "print(f\"\"\"While in a hypothetical scenario where 50% of those exposed and of age 80 or older receive PEP,\n",
    "we estimate {total_PEP[.5,80]['mean']} (95% UI {total_PEP[.5,80]['ui']}) individuals would be treated,\"\"\")"
   ]
  },
  {
   "cell_type": "code",
   "execution_count": 154,
   "id": "3c002aa1",
   "metadata": {},
   "outputs": [
    {
     "name": "stdout",
     "output_type": "stream",
     "text": [
      "and in a hypothetical scenario where 50% of those exposed and of age 20 or older receive PEP,\n",
      "we estimate 78,649 (95% UI 74,173-83,557) individuals would be treated.\n"
     ]
    }
   ],
   "source": [
    "print(f\"\"\"and in a hypothetical scenario where 50% of those exposed and of age 20 or older receive PEP,\n",
    "we estimate {total_PEP[.5,20]['mean']} (95% UI {total_PEP[.5,20]['ui']}) individuals would be treated.\"\"\")"
   ]
  },
  {
   "cell_type": "code",
   "execution_count": 155,
   "id": "44506805",
   "metadata": {},
   "outputs": [],
   "source": [
    "total_COVID = {}\n",
    "for c,a in n_COVID.keys():\n",
    "    total_COVID[c,a] = my_summary(pd.DataFrame(n_COVID[c,a]).sum())"
   ]
  },
  {
   "cell_type": "code",
   "execution_count": 156,
   "id": "3bc627db",
   "metadata": {},
   "outputs": [
    {
     "name": "stdout",
     "output_type": "stream",
     "text": [
      "[[Number who develop symptomatic COVID-19 in baseline and alternative scenarios, and for alternative age cutoffs. Including stratification by race and ethnicity.]]\n",
      "We estimate that without PEP, 20,075 (95% UI 15,641-25,670) individuals developed a symptomatic COVID-19 infection from a household exposure,\n",
      "      while in a hypothetical scenario where 50% of those exposed and of age 50 or older receive PEP,\n",
      "18,262 (95% UI 14,155-23,253) individuals developed a symptomatic infection.\n"
     ]
    }
   ],
   "source": [
    "print(f\"\"\"[[Number who develop symptomatic COVID-19 in baseline and alternative scenarios, and for alternative age cutoffs. Including stratification by race and ethnicity.]]\"\"\")\n",
    "\n",
    "print(f\"\"\"We estimate that without PEP, {total_COVID[0,0]['mean_and_ui']} individuals developed a symptomatic COVID-19 infection from a household exposure,\n",
    "      while in a hypothetical scenario where 50% of those exposed and of age 50 or older receive PEP,\n",
    "{total_COVID[.5,50]['mean_and_ui']} individuals developed a symptomatic infection.\"\"\")"
   ]
  },
  {
   "cell_type": "code",
   "execution_count": 157,
   "id": "0b70b7c6",
   "metadata": {},
   "outputs": [
    {
     "name": "stdout",
     "output_type": "stream",
     "text": [
      "In a hypothetical scenario where 50% of those exposed and of age 80 or older receive PEP,\n",
      "we estimate 19,972 (95% UI 15,562-25,540) individuals developed symptomatic infection,\n",
      "and in a hypothetical scenario where 50% of those exposed and of age 20 or older receive PEP,\n",
      "we estimate 15,019 (95% UI 11,607-18,855) individuals developed symptomatic infection.\n"
     ]
    }
   ],
   "source": [
    "print(f\"\"\"In a hypothetical scenario where 50% of those exposed and of age 80 or older receive PEP,\n",
    "we estimate {total_COVID[.5,80]['mean_and_ui']} individuals developed symptomatic infection,\n",
    "and in a hypothetical scenario where 50% of those exposed and of age 20 or older receive PEP,\n",
    "we estimate {total_COVID[.5,20]['mean_and_ui']} individuals developed symptomatic infection.\"\"\")"
   ]
  },
  {
   "cell_type": "code",
   "execution_count": 158,
   "id": "3a1ab710",
   "metadata": {},
   "outputs": [],
   "source": [
    "total_hosp = {}\n",
    "for c,a in n_hosp.keys():\n",
    "    total_hosp[c,a] = my_summary(pd.DataFrame(n_hosp[c,a]).sum())\n",
    "total_deaths = {}\n",
    "for c,a in n_deaths.keys():\n",
    "    total_deaths[c,a] = my_summary(pd.DataFrame(n_deaths[c,a]).sum())"
   ]
  },
  {
   "cell_type": "code",
   "execution_count": 159,
   "id": "46c6aeed",
   "metadata": {},
   "outputs": [
    {
     "name": "stdout",
     "output_type": "stream",
     "text": [
      "We estimate that without PEP, 2,040 (95% UI 1,595-2,572) individuals would be hospitalized\n",
      "because of a COVID-19 infection from a household exposure,\n",
      "while in a hypothetical scenario where 50% of those exposed and of age 50 or older receive PEP,\n",
      "1,513 (95% UI 1,170-1,861) individuals would be hospitalized;\n",
      "in a scenario where 50% of those exposed and of age 80 or older receive PEP,\n",
      "we estimate 1,972 (95% UI 1,537-2,485) individuals would be hospitalized,\n",
      "and in a scenario where 50% of those exposed and of age 20 or older receive PEP,\n",
      "1,271 (95% UI 990-1,571) individuals would be hospitalized.\n",
      "\n"
     ]
    }
   ],
   "source": [
    "print(f\"\"\"We estimate that without PEP, {total_hosp[0,0]['mean_and_ui']} individuals would be hospitalized\n",
    "because of a COVID-19 infection from a household exposure,\n",
    "while in a hypothetical scenario where 50% of those exposed and of age 50 or older receive PEP,\n",
    "{total_hosp[.5,50]['mean_and_ui']} individuals would be hospitalized;\n",
    "in a scenario where 50% of those exposed and of age 80 or older receive PEP,\n",
    "we estimate {total_hosp[.5,80]['mean_and_ui']} individuals would be hospitalized,\n",
    "and in a scenario where 50% of those exposed and of age 20 or older receive PEP,\n",
    "{total_hosp[.5,20]['mean_and_ui']} individuals would be hospitalized.\n",
    "\"\"\")"
   ]
  },
  {
   "cell_type": "code",
   "execution_count": 160,
   "id": "2d2a5604",
   "metadata": {},
   "outputs": [
    {
     "name": "stdout",
     "output_type": "stream",
     "text": [
      "We estimate that without PEP, 227 (95% UI 172-293) individuals would die\n",
      "because of a COVID-19 infection from a household exposure,\n",
      "while in a hypothetical scenario where 50% of those exposed and of age 50 or older receive PEP,\n",
      "143 (95% UI 109-188) individuals would die;\n",
      "in a scenario where 50% of those exposed and of age 80 or older receive PEP,\n",
      "203 (95% UI 155-261) individuals would die,\n",
      "and in a scenario where 50% of those exposed and of age 20 or older receive PEP,\n",
      "134 (95% UI 102-176) individuals would die.\n",
      "\n"
     ]
    }
   ],
   "source": [
    "print(f\"\"\"We estimate that without PEP, {total_deaths[0,0]['mean_and_ui']} individuals would die\n",
    "because of a COVID-19 infection from a household exposure,\n",
    "while in a hypothetical scenario where 50% of those exposed and of age 50 or older receive PEP,\n",
    "{total_deaths[.5,50]['mean_and_ui']} individuals would die;\n",
    "in a scenario where 50% of those exposed and of age 80 or older receive PEP,\n",
    "{total_deaths[.5,80]['mean_and_ui']} individuals would die,\n",
    "and in a scenario where 50% of those exposed and of age 20 or older receive PEP,\n",
    "{total_deaths[.5,20]['mean_and_ui']} individuals would die.\n",
    "\"\"\")"
   ]
  },
  {
   "cell_type": "code",
   "execution_count": 161,
   "id": "f8102eb4",
   "metadata": {},
   "outputs": [
    {
     "data": {
      "text/plain": [
       "({'mean': '93',\n",
       "  'lb': '65',\n",
       "  'ub': '128',\n",
       "  'ui': '65-128',\n",
       "  'mean_and_ui': '93 (95% UI 65-128)'},\n",
       " {'mean': '99',\n",
       "  'lb': '82',\n",
       "  'ub': '123',\n",
       "  'ui': '82-123',\n",
       "  'mean_and_ui': '99 (95% UI 82-123)'})"
      ]
     },
     "execution_count": 161,
     "metadata": {},
     "output_type": "execute_result"
    }
   ],
   "source": [
    "total_cost = {}\n",
    "hosp_cost_str = {}\n",
    "PEP_cost = {}\n",
    "savings = {}\n",
    "incremental_cost = {}\n",
    "\n",
    "total_cost_0 = (pd.Series(mAbs_cost[0,0]) + pd.Series(hosp_cost[0,0])) / 1_000_000\n",
    "\n",
    "for c,a in n_hosp.keys():\n",
    "    total_cost_ca = (pd.Series(mAbs_cost[c,a]) + pd.Series(hosp_cost[c,a])) / 1_000_000\n",
    "    total_cost[c,a] = my_summary(total_cost_ca)\n",
    "    savings[c,a] = my_summary(total_cost_0 - total_cost_ca)\n",
    "    incremental_cost[c,a] = my_summary(total_cost_ca - total_cost_0)\n",
    "    hosp_cost_str[c,a] = my_summary(pd.Series(hosp_cost[c,a])/1_000_000)\n",
    "    PEP_cost[c,a] = my_summary(pd.Series(mAbs_cost[c,a])/1_000_000)\n",
    "\n",
    "hosp_cost_str[.5,20] , PEP_cost[.5,20]"
   ]
  },
  {
   "cell_type": "code",
   "execution_count": 178,
   "id": "040cc14e-bcaa-49bf-9b6b-1f69a645b35b",
   "metadata": {},
   "outputs": [
    {
     "data": {
      "text/plain": [
       "{'mean': '3',\n",
       " 'lb': '-14',\n",
       " 'ub': '19',\n",
       " 'ui': '-14-19',\n",
       " 'mean_and_ui': '3 (95% UI -14-19)'}"
      ]
     },
     "execution_count": 178,
     "metadata": {},
     "output_type": "execute_result"
    }
   ],
   "source": [
    "savings[0.5,50]"
   ]
  },
  {
   "cell_type": "code",
   "execution_count": 162,
   "id": "4bec257e-9d9e-4d30-aa9e-7f9640b9eaaa",
   "metadata": {},
   "outputs": [
    {
     "name": "stdout",
     "output_type": "stream",
     "text": [
      "We estimate that without PEP, the cost of hospitalizations due to COVID-19 infections from household exposure would be 150 (95% UI 109-205) million dollars, while in a hypothetical scenario where 50% of unvaccinated household contacts age 50 or older receive PEP, the cost of hospitalizations would be 111 (95% UI 79-152) million dollars and the cost of PEP would be 36 (95% UI 30-44) million dollars, for a total of 147 (95% UI 113-191) million dollars, which is a savings of 3 (95% UI -14-19) million dollars compared to the without-PEP scenario. In a scenario where 50% of those exposed and of age 80 or older receive PEP, the cost of hospitalizations would be 145 (95% UI 106-198) million dollars and the cost of PEP would be 2 (95% UI 2-3) million dollars, for a total of 147 (95% UI 108-200) million dollars, which is a savings of 3 (95% UI 1-5) million dollars compared to the without-PEP scenario. Alternatively, in a scenario where 50% of those exposed and of age 20 or older receive PEP, the cost of hospitalizations would be 93 (95% UI 65-128) million dollars and the cost of PEP would be 99 (95% UI 82-123) million dollars, for a total of 193 (95% UI 154-233) million dollars, which is a total of 43 (95% UI 14-75) million dollars more than in the without-PEP scenario. The incremental cost and COVID-19 deaths averted for a range of scenarios is summarized in Figure 2.\n"
     ]
    }
   ],
   "source": [
    "#results paragraph 3\n",
    "print(f\"\"\"We estimate that without PEP, the cost of hospitalizations due to COVID-19 infections from household exposure would be {hosp_cost_str[0,0]['mean_and_ui']} million dollars, while in a hypothetical scenario where 50% of unvaccinated household contacts age 50 or older receive PEP, the cost of hospitalizations would be {hosp_cost_str[.5,50]['mean_and_ui']} million dollars and the cost of PEP would be {PEP_cost[.5,50]['mean_and_ui']} million dollars, for a total of {total_cost[.5,50]['mean_and_ui']} million dollars, which is a savings of {savings[.5,50]['mean_and_ui']} million dollars compared to the without-PEP scenario. In a scenario where 50% of those exposed and of age 80 or older receive PEP, the cost of hospitalizations would be {hosp_cost_str[.5,80]['mean_and_ui']} million dollars and the cost of PEP would be {PEP_cost[.5,80]['mean_and_ui']} million dollars, for a total of {total_cost[.5,80]['mean_and_ui']} million dollars, which is a savings of {savings[.5,80]['mean_and_ui']} million dollars compared to the without-PEP scenario. Alternatively, in a scenario where 50% of those exposed and of age 20 or older receive PEP, the cost of hospitalizations would be {hosp_cost_str[.5,20]['mean_and_ui']} million dollars and the cost of PEP would be {PEP_cost[.5,20]['mean_and_ui']} million dollars, for a total of {total_cost[.5,20]['mean_and_ui']} million dollars, which is a total of {incremental_cost[.5,20]['mean_and_ui']} million dollars more than in the without-PEP scenario. The incremental cost and COVID-19 deaths averted for a range of scenarios is summarized in Figure 2.\"\"\")"
   ]
  },
  {
   "cell_type": "code",
   "execution_count": 163,
   "id": "469a0df2",
   "metadata": {},
   "outputs": [
    {
     "data": {
      "text/plain": [
       "{'mean': '144',\n",
       " 'lb': '106',\n",
       " 'ub': '196',\n",
       " 'ui': '106-196',\n",
       " 'mean_and_ui': '144 (95% UI 106-196)'}"
      ]
     },
     "execution_count": 163,
     "metadata": {},
     "output_type": "execute_result"
    }
   ],
   "source": [
    "total_cost[c,a]"
   ]
  },
  {
   "cell_type": "code",
   "execution_count": 164,
   "id": "ffc03e3e",
   "metadata": {},
   "outputs": [],
   "source": [
    "import seaborn as sns"
   ]
  },
  {
   "cell_type": "code",
   "execution_count": 165,
   "id": "57b450e2",
   "metadata": {},
   "outputs": [
    {
     "data": {
      "image/png": "[encoded data removed]",
      "text/plain": [
       "<Figure size 780x360 with 1 Axes>"
      ]
     },
     "metadata": {
      "needs_background": "light"
     },
     "output_type": "display_data"
    }
   ],
   "source": [
    "plt.figure(figsize=(6.5,3), dpi=120)\n",
    "for c in [0.25, .5, .75]:\n",
    "    for i, a in enumerate(age_lower_bounds[::-1]):\n",
    "        s_cost = (pd.Series(mAbs_cost[c,a]) + pd.Series(hosp_cost[c,a])) / 1e6\n",
    "        s_cost -= (pd.Series(mAbs_cost[0,0]) + pd.Series(hosp_cost[0,0])) / 1e6\n",
    "        \n",
    "        s_deaths = pd.DataFrame(n_deaths[c,a]).sum(axis=0)\n",
    "        s_deaths -= pd.DataFrame(n_deaths[0,0]).sum(axis=0)\n",
    "        s_deaths *= -1\n",
    "        \n",
    "        if c == 0.5:\n",
    "            plt.plot(s_deaths, s_cost, 'o', label=f'{a}+', alpha=.95, color='none', mec=f'C{i}', mew=1)\n",
    "#         else:\n",
    "#             plt.plot(s_deaths, s_cost, 'o', color='grey')\n",
    "plt.legend(loc=(1.02, .02), title='50% coverage, with\\nPEP for exposed of age:')\n",
    "plt.xlabel('COVID-19 deaths averted (people)')\n",
    "plt.ylabel('Incremental cost (millions of dollars)')\n",
    "plt.grid()\n",
    "plt.subplots_adjust(right=.7);\n",
    "plt.savefig('output.png', dpi=300, bbox_inches='tight')\n"
   ]
  },
  {
   "cell_type": "code",
   "execution_count": 567,
   "id": "add28e95-a6bf-42db-9134-d5f875d58685",
   "metadata": {},
   "outputs": [
    {
     "data": {
      "text/html": [
       "<div>\n",
       "<style scoped>\n",
       "    .dataframe tbody tr th:only-of-type {\n",
       "        vertical-align: middle;\n",
       "    }\n",
       "\n",
       "    .dataframe tbody tr th {\n",
       "        vertical-align: top;\n",
       "    }\n",
       "\n",
       "    .dataframe thead th {\n",
       "        text-align: right;\n",
       "    }\n",
       "</style>\n",
       "<table border=\"1\" class=\"dataframe\">\n",
       "  <thead>\n",
       "    <tr style=\"text-align: right;\">\n",
       "      <th></th>\n",
       "      <th>Household contacts</th>\n",
       "      <th>Unvaccinated household contacts</th>\n",
       "      <th>PEP coverage</th>\n",
       "      <th>Number Treated with PEP</th>\n",
       "      <th>Symptomatic COVID-19 from household exposure</th>\n",
       "      <th>Hospitalizations from household exposure</th>\n",
       "      <th>Deaths from household exposure</th>\n",
       "    </tr>\n",
       "  </thead>\n",
       "  <tbody>\n",
       "    <tr>\n",
       "      <th>Baseline (no PEP)</th>\n",
       "      <td>381,499 (373,749 - 389,768)</td>\n",
       "      <td>255,959 (240,450 - 271,482)</td>\n",
       "      <td>0</td>\n",
       "      <td>0</td>\n",
       "      <td>20,075 (15,641-25,670)</td>\n",
       "      <td>2,040 (1,595-2,572)</td>\n",
       "      <td>227 (172-293)</td>\n",
       "    </tr>\n",
       "    <tr>\n",
       "      <th>80+</th>\n",
       "      <td>4,799 (4,078 - 5,742)</td>\n",
       "      <td>3,221 (2,711 - 4,015)</td>\n",
       "      <td>50%</td>\n",
       "      <td>1,611 (1,356-2,008)</td>\n",
       "      <td>19,972 (15,562-25,540)</td>\n",
       "      <td>1,972 (1,537-2,485)</td>\n",
       "      <td>203 (155-261)</td>\n",
       "    </tr>\n",
       "    <tr>\n",
       "      <th>50+</th>\n",
       "      <td>84,014 (80,635 - 88,132)</td>\n",
       "      <td>56,374 (52,673 - 61,072)</td>\n",
       "      <td>50%</td>\n",
       "      <td>28,187 (26,336-30,536)</td>\n",
       "      <td>18,262 (14,155-23,253)</td>\n",
       "      <td>1,513 (1,170-1,861)</td>\n",
       "      <td>143 (109-188)</td>\n",
       "    </tr>\n",
       "    <tr>\n",
       "      <th>20+</th>\n",
       "      <td>234,447 (229,161 - 239,175)</td>\n",
       "      <td>157,298 (148,345 - 167,114)</td>\n",
       "      <td>50%</td>\n",
       "      <td>78,649 (74,173-83,557)</td>\n",
       "      <td>15,019 (11,607-18,855)</td>\n",
       "      <td>1,271 (990-1,571)</td>\n",
       "      <td>134 (102-176)</td>\n",
       "    </tr>\n",
       "  </tbody>\n",
       "</table>\n",
       "</div>"
      ],
      "text/plain": [
       "                            Household contacts  \\\n",
       "Baseline (no PEP)  381,499 (373,749 - 389,768)   \n",
       "80+                      4,799 (4,078 - 5,742)   \n",
       "50+                   84,014 (80,635 - 88,132)   \n",
       "20+                234,447 (229,161 - 239,175)   \n",
       "\n",
       "                  Unvaccinated household contacts PEP coverage  \\\n",
       "Baseline (no PEP)     255,959 (240,450 - 271,482)            0   \n",
       "80+                         3,221 (2,711 - 4,015)          50%   \n",
       "50+                      56,374 (52,673 - 61,072)          50%   \n",
       "20+                   157,298 (148,345 - 167,114)          50%   \n",
       "\n",
       "                  Number Treated with PEP  \\\n",
       "Baseline (no PEP)                       0   \n",
       "80+                   1,611 (1,356-2,008)   \n",
       "50+                28,187 (26,336-30,536)   \n",
       "20+                78,649 (74,173-83,557)   \n",
       "\n",
       "                  Symptomatic COVID-19 from household exposure  \\\n",
       "Baseline (no PEP)                       20,075 (15,641-25,670)   \n",
       "80+                                     19,972 (15,562-25,540)   \n",
       "50+                                     18,262 (14,155-23,253)   \n",
       "20+                                     15,019 (11,607-18,855)   \n",
       "\n",
       "                  Hospitalizations from household exposure  \\\n",
       "Baseline (no PEP)                      2,040 (1,595-2,572)   \n",
       "80+                                    1,972 (1,537-2,485)   \n",
       "50+                                    1,513 (1,170-1,861)   \n",
       "20+                                      1,271 (990-1,571)   \n",
       "\n",
       "                  Deaths from household exposure  \n",
       "Baseline (no PEP)                  227 (172-293)  \n",
       "80+                                203 (155-261)  \n",
       "50+                                143 (109-188)  \n",
       "20+                                134 (102-176)  "
      ]
     },
     "execution_count": 567,
     "metadata": {},
     "output_type": "execute_result"
    }
   ],
   "source": [
    "#Table 1\n",
    "#nvaccinated household contacts n_2.sum().mean(), (np.percentile(n_2.sum(), 2.5),np.percentile(n_2.sum(), 97.5))\n",
    "def m_ui(z):\n",
    "    return f'{np.mean(z):,.0f} ({np.percentile(z, 2.5):,.0f} - {np.percentile(z, 97.5):,.0f})'\n",
    "\n",
    "def contacts(df,age_range):\n",
    "    results = m_ui(pd.DataFrame(df).unstack(0).sum().unstack(0).loc[age_range:].sum())\n",
    "    return results\n",
    "\n",
    "\n",
    "tab1 = {'Age threshold for PEP': ['Baseline (no PEP)', '80+', '50+', '20+'],\n",
    "        'Household contacts': [contacts(n_2_all,0), contacts(n_2_all,80), contacts(n_2_all,50), contacts(n_2_all,20)],\n",
    "        'Unvaccinated household contacts': [contacts(n_2_unvax,0), contacts(n_2_unvax,80), contacts(n_2_unvax,50), contacts(n_2_unvax,20)],\n",
    "        'PEP coverage': ['0', '50%', '50%', '50%'],\n",
    "        'Number Treated with PEP': ['0', total_PEP[.5, 80]['mean_and_ui'], total_PEP[.5,50]['mean_and_ui'], total_PEP[.5,20]['mean_and_ui']],\n",
    "        'Symptomatic COVID-19 from household exposure': [total_COVID[0, 0]['mean_and_ui'], total_COVID[.5,80]['mean_and_ui'] , total_COVID[.5,50]['mean_and_ui'], total_COVID[.5,20]['mean_and_ui']],\n",
    "        'Hospitalizations from household exposure': [total_hosp[0, 0]['mean_and_ui'], total_hosp[.5, 80]['mean_and_ui'] , total_hosp[.5,50]['mean_and_ui'], total_hosp[.5,20]['mean_and_ui']],\n",
    "        'Deaths from household exposure': [total_deaths[0, 0]['mean_and_ui'], total_deaths[.5, 80]['mean_and_ui'], total_deaths[.5,50]['mean_and_ui'], total_deaths[.5,20]['mean_and_ui']]}\n",
    "\n",
    "\n",
    "pd.DataFrame(tab1, columns = ['Household contacts',\n",
    "                              'Unvaccinated household contacts',\n",
    "                              'PEP coverage',\n",
    "                              'Number Treated with PEP',\n",
    "                              'Symptomatic COVID-19 from household exposure', \n",
    "                              'Hospitalizations from household exposure', \n",
    "                              'Deaths from household exposure'], \n",
    "            index = ['Baseline (no PEP)', '80+', '50+', '20+']).apply(lambda col: col.str.replace(\"95% UI \", \"\"))"
   ]
  },
  {
   "cell_type": "code",
   "execution_count": 218,
   "id": "61a76212-4052-4dcc-8b9d-fb103c9fa0f9",
   "metadata": {},
   "outputs": [
    {
     "data": {
      "text/plain": [
       "White       57.34%\n",
       "Black       17.87%\n",
       "Hispanic    15.51%\n",
       "Other        9.28%\n",
       "Name: race_eth, dtype: object"
      ]
     },
     "execution_count": 218,
     "metadata": {},
     "output_type": "execute_result"
    }
   ],
   "source": [
    "df_cdc_month.race_eth.value_counts(normalize=True).mul(100).round(2).astype(str)+%"
   ]
  },
  {
   "cell_type": "code",
   "execution_count": 565,
   "id": "bdde1bee-3973-4bcf-8fd6-67a4b4a13726",
   "metadata": {},
   "outputs": [],
   "source": [
    "def contacts(df,age):\n",
    "    age = m_ui(pd.DataFrame(df).unstack(0).sum().unstack(0).loc[age:].sum())\n",
    "    return age\n"
   ]
  },
  {
   "cell_type": "code",
   "execution_count": 233,
   "id": "18386ef3-4ba9-44b0-85d1-09af55ec5ed2",
   "metadata": {},
   "outputs": [
    {
     "data": {
      "text/plain": [
       "White       59717\n",
       "Black       18614\n",
       "Hispanic    16153\n",
       "Other        9666\n",
       "Name: race_eth, dtype: int64"
      ]
     },
     "execution_count": 233,
     "metadata": {},
     "output_type": "execute_result"
    }
   ],
   "source": [
    "df_cdc_month.race_eth.value_counts()"
   ]
  },
  {
   "cell_type": "code",
   "execution_count": 232,
   "id": "ddfaf9d7-42ce-43d0-a36a-0c723802fb7a",
   "metadata": {},
   "outputs": [
    {
     "data": {
      "text/plain": [
       "154136"
      ]
     },
     "execution_count": 232,
     "metadata": {},
     "output_type": "execute_result"
    }
   ],
   "source": [
    "len(df_cdc_month)"
   ]
  },
  {
   "cell_type": "code",
   "execution_count": 230,
   "id": "d693f2e2-132e-40a3-86bf-d213c43572d1",
   "metadata": {},
   "outputs": [
    {
     "data": {
      "text/plain": [
       "White       57.34%\n",
       "Black       17.87%\n",
       "Hispanic    15.51%\n",
       "Other        9.28%\n",
       "Name: race_eth, dtype: object"
      ]
     },
     "execution_count": 230,
     "metadata": {},
     "output_type": "execute_result"
    }
   ],
   "source": [
    "dd = len(df_cdc_month) - df_cdc_month.race_eth.isna().sum() #Non-NA total (removing NAs)\n",
    "df_cdc_month.race_eth.value_counts().div(dd).mul(100).round(2).astype(str)+'%'"
   ]
  },
  {
   "cell_type": "code",
   "execution_count": 296,
   "id": "6513a899-0982-43f1-ae04-9ab554155f7e",
   "metadata": {},
   "outputs": [
    {
     "data": {
      "text/plain": [
       "0   female  [0, 10)    Black        4709.899346\n",
       "                       Hispanic     5245.431093\n",
       "                       Other        3106.355110\n",
       "                       White       10941.658279\n",
       "            [10, 20)   Black        5061.176458\n",
       "                                       ...     \n",
       "99  male    [70, 80)   White        2306.448624\n",
       "            [80, 125)  Black         150.013483\n",
       "                       Hispanic      105.695152\n",
       "                       Other         102.142540\n",
       "                       White         902.492310\n",
       "Length: 7200, dtype: float64"
      ]
     },
     "execution_count": 296,
     "metadata": {},
     "output_type": "execute_result"
    }
   ],
   "source": []
  },
  {
   "cell_type": "code",
   "execution_count": 313,
   "id": "639ab5e4-6a02-44d3-96c3-0b0cb5b81ca6",
   "metadata": {},
   "outputs": [
    {
     "data": {
      "text/plain": [
       "28186.790252064653"
      ]
     },
     "execution_count": 313,
     "metadata": {},
     "output_type": "execute_result"
    }
   ],
   "source": [
    "n_PEP_mean.unstack(1).unstack().sum().sum()"
   ]
  },
  {
   "cell_type": "code",
   "execution_count": null,
   "id": "724abb7a-a861-44ed-8f8f-cc3c02a32414",
   "metadata": {},
   "outputs": [],
   "source": []
  }
 ],
 "metadata": {
  "kernelspec": {
   "display_name": "Python 3 (ipykernel)",
   "language": "python",
   "name": "python3"
  },
  "language_info": {
   "codemirror_mode": {
    "name": "ipython",
    "version": 3
   },
   "file_extension": ".py",
   "mimetype": "text/x-python",
   "name": "python",
   "nbconvert_exporter": "python",
   "pygments_lexer": "ipython3",
   "version": "3.8.8"
  }
 },
 "nbformat": 4,
 "nbformat_minor": 5
}
