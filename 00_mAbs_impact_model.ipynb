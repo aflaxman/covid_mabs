{
 "cells": [
  {
   "cell_type": "code",
   "execution_count": 1,
   "metadata": {},
   "outputs": [
    {
     "name": "stdout",
     "output_type": "stream",
     "text": [
      "Mon Jul 26 10:19:01 PDT 2021\r\n"
     ]
    }
   ],
   "source": [
    "import numpy as np, matplotlib.pyplot as plt, pandas as pd\n",
    "pd.set_option('display.max_rows', 10)\n",
    "!date\n",
    "\n",
    "%load_ext autoreload\n",
    "%autoreload 2"
   ]
  },
  {
   "cell_type": "markdown",
   "metadata": {},
   "source": [
    "# Potential impact of post-exposure prophalaxis for COVID-19 with monoclonal antibodies\n",
    "\n",
    "Updated from March 2021 analysis to include more recent confirmed cases, and also vaccination coverage.\n",
    "\n",
    "Also updated to use completed, and now peer-reviewed, results from RCT\n",
    "\n",
    "And in this version, use the KFF survey results that 77% of unvaccinated adults say everyone in their household is unvaccinated. https://www.kff.org/coronavirus-covid-19/poll-finding/kff-covid-19-vaccine-monitor-june-2021/"
   ]
  },
  {
   "cell_type": "code",
   "execution_count": 2,
   "metadata": {},
   "outputs": [],
   "source": [
    "# range of values to consider in alternative scenarios\n",
    "coverage_levels = [0, 1/4, 1/2, 3/4, 1]\n",
    "age_lower_bounds = [0, 20, 40, 50, 60, 70, 80]"
   ]
  },
  {
   "cell_type": "code",
   "execution_count": 3,
   "metadata": {},
   "outputs": [],
   "source": [
    "n_draws = 100  # number of bootstrap resamples for quantifying uncertainty\n",
    "np.random.seed(12345)  # set random seed for reproducibility"
   ]
  },
  {
   "cell_type": "code",
   "execution_count": 4,
   "metadata": {},
   "outputs": [],
   "source": [
    "attack_rate_without_mAbs = np.random.binomial(752, 59/752, size=n_draws) / 752\n",
    "attack_rate_with_mAbs = np.random.binomial(753, 11/753, size=n_draws) / 753\n",
    "\n",
    "mAbs_unit_cost = np.random.normal(1_250, 125, size=n_draws)  # 1_250 is what it says online;\n",
    "COVID_hospitalization_unit_cost = np.random.normal(73_300, 7_330, size=n_draws)\n",
    "\n",
    "# https://files.kff.org/attachment/Topline-KFF-COVID-19-Vaccine-Monitor-June-2021.pdf\n",
    "# n = 458, p_all_hh_members unvaccinated = 0.69\n",
    "pr_unvaccinated_cond_on_test_positive = np.random.binomial(10_000, .95, size=n_draws)/10_000 # FIXME: Rodal to calculate this in an epi-approved way\n",
    "pr_case_in_unvaccinated_household = pr_unvaccinated_cond_on_test_positive * np.random.binomial(458, 0.69, size=n_draws) / 458"
   ]
  },
  {
   "cell_type": "code",
   "execution_count": 5,
   "metadata": {},
   "outputs": [
    {
     "name": "stdout",
     "output_type": "stream",
     "text": [
      "CPU times: user 489 ms, sys: 45.4 ms, total: 534 ms\n",
      "Wall time: 535 ms\n"
     ]
    }
   ],
   "source": [
    "%%time\n",
    "\n",
    "df_cdc = pd.read_csv('data/cdc_covid_linelist_may_2021.csv.bz2', low_memory=False)\n",
    "# df_cdc"
   ]
  },
  {
   "cell_type": "markdown",
   "metadata": {},
   "source": [
    "# 1.\tEstimate the number of COVID-19 case count, n_1, and the age-/sex-/race-stratified case counts\n",
    "\n",
    "    n_1 (a,s,r)=# cases for strata (a,s,r).\n"
   ]
  },
  {
   "cell_type": "code",
   "execution_count": 6,
   "metadata": {},
   "outputs": [],
   "source": [
    "# first select all cases during time period of interest\n",
    "diagnosis_date = pd.to_datetime(df_cdc.pos_spec_dt)\n",
    "\n",
    "rows = (diagnosis_date >= '2021-05-01') & (diagnosis_date < '2021-06-01')\n",
    "\n",
    "t = df_cdc[rows].copy()  # NOTE: same dataframe, code just kept for convenience"
   ]
  },
  {
   "cell_type": "code",
   "execution_count": 7,
   "metadata": {},
   "outputs": [
    {
     "name": "stdout",
     "output_type": "stream",
     "text": [
      "Total cases: 154,136\n"
     ]
    }
   ],
   "source": [
    "n_1_total = len(t)\n",
    "print(f'Total cases: {n_1_total:,}')"
   ]
  },
  {
   "cell_type": "code",
   "execution_count": 8,
   "metadata": {},
   "outputs": [],
   "source": [
    "age_cutpoints = [0,10,20,30,40,50,60,70,80,125]\n",
    "cdc_age_map = {f'{a} - {a+9} Years':a for a in age_cutpoints}\n",
    "cdc_age_map['80+ Years'] = 80\n",
    "t['age'] = t.age_group.map(cdc_age_map)\n",
    "\n",
    "t['age_group'] = pd.cut(t.age, age_cutpoints, right=False)\n",
    "\n",
    "t['sex'] = t.sex.map({'Male': 'male', 'Female':'female'})\n",
    "\n",
    "t['race_eth'] = t.race_ethnicity_combined.map({\n",
    "    'White, Non-Hispanic':'White',\n",
    "    'Black, Non-Hispanic':'Black',\n",
    "    'Hispanic/Latino':'Hispanic', \n",
    "    'American Indian/Alaska Native, Non-Hispanic':'Other',\n",
    "    'Multiple/Other, Non-Hispanic':'Other',\n",
    "    'Asian, Non-Hispanic':'Other',\n",
    "    'Native Hawaiian/Other Pacific Islander, Non-Hispanic':'Other',\n",
    "})\n",
    "\n",
    "t['weight'] = 1.0"
   ]
  },
  {
   "cell_type": "code",
   "execution_count": 9,
   "metadata": {},
   "outputs": [],
   "source": [
    "df_cdc_month = t"
   ]
  },
  {
   "cell_type": "code",
   "execution_count": null,
   "metadata": {},
   "outputs": [
    {
     "data": {
      "text/html": [
       "<div>\n",
       "<style scoped>\n",
       "    .dataframe tbody tr th:only-of-type {\n",
       "        vertical-align: middle;\n",
       "    }\n",
       "\n",
       "    .dataframe tbody tr th {\n",
       "        vertical-align: top;\n",
       "    }\n",
       "\n",
       "    .dataframe thead th {\n",
       "        text-align: right;\n",
       "    }\n",
       "</style>\n",
       "<table border=\"1\" class=\"dataframe\">\n",
       "  <thead>\n",
       "    <tr style=\"text-align: right;\">\n",
       "      <th></th>\n",
       "      <th>Unnamed: 0</th>\n",
       "      <th>cdc_case_earliest_dt</th>\n",
       "      <th>cdc_report_dt</th>\n",
       "      <th>pos_spec_dt</th>\n",
       "      <th>onset_dt</th>\n",
       "      <th>current_status</th>\n",
       "      <th>sex</th>\n",
       "      <th>age_group</th>\n",
       "      <th>race_ethnicity_combined</th>\n",
       "      <th>hosp_yn</th>\n",
       "      <th>icu_yn</th>\n",
       "      <th>death_yn</th>\n",
       "      <th>medcond_yn</th>\n",
       "      <th>age</th>\n",
       "      <th>race_eth</th>\n",
       "      <th>weight</th>\n",
       "    </tr>\n",
       "  </thead>\n",
       "  <tbody>\n",
       "    <tr>\n",
       "      <th>0</th>\n",
       "      <td>41</td>\n",
       "      <td>2021/05/21</td>\n",
       "      <td>2021/05/21</td>\n",
       "      <td>2021/05/21</td>\n",
       "      <td>NaN</td>\n",
       "      <td>Laboratory-confirmed case</td>\n",
       "      <td>male</td>\n",
       "      <td>[10, 20)</td>\n",
       "      <td>Black, Non-Hispanic</td>\n",
       "      <td>No</td>\n",
       "      <td>No</td>\n",
       "      <td>No</td>\n",
       "      <td>No</td>\n",
       "      <td>10.0</td>\n",
       "      <td>Black</td>\n",
       "      <td>1.0</td>\n",
       "    </tr>\n",
       "    <tr>\n",
       "      <th>1</th>\n",
       "      <td>370</td>\n",
       "      <td>2021/05/15</td>\n",
       "      <td>2021/05/15</td>\n",
       "      <td>2021/05/19</td>\n",
       "      <td>2021/05/15</td>\n",
       "      <td>Laboratory-confirmed case</td>\n",
       "      <td>male</td>\n",
       "      <td>[10, 20)</td>\n",
       "      <td>Black, Non-Hispanic</td>\n",
       "      <td>No</td>\n",
       "      <td>No</td>\n",
       "      <td>No</td>\n",
       "      <td>No</td>\n",
       "      <td>10.0</td>\n",
       "      <td>Black</td>\n",
       "      <td>1.0</td>\n",
       "    </tr>\n",
       "    <tr>\n",
       "      <th>2</th>\n",
       "      <td>411</td>\n",
       "      <td>2021/05/02</td>\n",
       "      <td>2021/05/02</td>\n",
       "      <td>2021/05/03</td>\n",
       "      <td>2021/05/02</td>\n",
       "      <td>Laboratory-confirmed case</td>\n",
       "      <td>male</td>\n",
       "      <td>[10, 20)</td>\n",
       "      <td>Black, Non-Hispanic</td>\n",
       "      <td>No</td>\n",
       "      <td>No</td>\n",
       "      <td>No</td>\n",
       "      <td>No</td>\n",
       "      <td>10.0</td>\n",
       "      <td>Black</td>\n",
       "      <td>1.0</td>\n",
       "    </tr>\n",
       "    <tr>\n",
       "      <th>3</th>\n",
       "      <td>497</td>\n",
       "      <td>2021/05/21</td>\n",
       "      <td>2021/05/21</td>\n",
       "      <td>2021/05/21</td>\n",
       "      <td>NaN</td>\n",
       "      <td>Laboratory-confirmed case</td>\n",
       "      <td>male</td>\n",
       "      <td>[10, 20)</td>\n",
       "      <td>Black, Non-Hispanic</td>\n",
       "      <td>No</td>\n",
       "      <td>No</td>\n",
       "      <td>No</td>\n",
       "      <td>No</td>\n",
       "      <td>10.0</td>\n",
       "      <td>Black</td>\n",
       "      <td>1.0</td>\n",
       "    </tr>\n",
       "    <tr>\n",
       "      <th>4</th>\n",
       "      <td>1270</td>\n",
       "      <td>2021/05/06</td>\n",
       "      <td>2021/05/08</td>\n",
       "      <td>2021/05/06</td>\n",
       "      <td>NaN</td>\n",
       "      <td>Laboratory-confirmed case</td>\n",
       "      <td>male</td>\n",
       "      <td>[10, 20)</td>\n",
       "      <td>Black, Non-Hispanic</td>\n",
       "      <td>Missing</td>\n",
       "      <td>Missing</td>\n",
       "      <td>No</td>\n",
       "      <td>Missing</td>\n",
       "      <td>10.0</td>\n",
       "      <td>Black</td>\n",
       "      <td>1.0</td>\n",
       "    </tr>\n",
       "    <tr>\n",
       "      <th>...</th>\n",
       "      <td>...</td>\n",
       "      <td>...</td>\n",
       "      <td>...</td>\n",
       "      <td>...</td>\n",
       "      <td>...</td>\n",
       "      <td>...</td>\n",
       "      <td>...</td>\n",
       "      <td>...</td>\n",
       "      <td>...</td>\n",
       "      <td>...</td>\n",
       "      <td>...</td>\n",
       "      <td>...</td>\n",
       "      <td>...</td>\n",
       "      <td>...</td>\n",
       "      <td>...</td>\n",
       "      <td>...</td>\n",
       "    </tr>\n",
       "    <tr>\n",
       "      <th>154131</th>\n",
       "      <td>26609728</td>\n",
       "      <td>2021/05/12</td>\n",
       "      <td>2021/05/24</td>\n",
       "      <td>2021/05/21</td>\n",
       "      <td>2021/05/12</td>\n",
       "      <td>Laboratory-confirmed case</td>\n",
       "      <td>female</td>\n",
       "      <td>[10, 20)</td>\n",
       "      <td>Missing</td>\n",
       "      <td>Missing</td>\n",
       "      <td>Missing</td>\n",
       "      <td>Missing</td>\n",
       "      <td>Missing</td>\n",
       "      <td>10.0</td>\n",
       "      <td>NaN</td>\n",
       "      <td>1.0</td>\n",
       "    </tr>\n",
       "    <tr>\n",
       "      <th>154132</th>\n",
       "      <td>26609729</td>\n",
       "      <td>2021/05/01</td>\n",
       "      <td>2021/05/05</td>\n",
       "      <td>2021/05/04</td>\n",
       "      <td>2021/05/01</td>\n",
       "      <td>Laboratory-confirmed case</td>\n",
       "      <td>female</td>\n",
       "      <td>[10, 20)</td>\n",
       "      <td>Missing</td>\n",
       "      <td>No</td>\n",
       "      <td>Missing</td>\n",
       "      <td>No</td>\n",
       "      <td>Missing</td>\n",
       "      <td>10.0</td>\n",
       "      <td>NaN</td>\n",
       "      <td>1.0</td>\n",
       "    </tr>\n",
       "    <tr>\n",
       "      <th>154133</th>\n",
       "      <td>26609730</td>\n",
       "      <td>2021/05/16</td>\n",
       "      <td>2021/05/19</td>\n",
       "      <td>2021/05/16</td>\n",
       "      <td>2021/05/16</td>\n",
       "      <td>Laboratory-confirmed case</td>\n",
       "      <td>female</td>\n",
       "      <td>[10, 20)</td>\n",
       "      <td>Missing</td>\n",
       "      <td>No</td>\n",
       "      <td>Missing</td>\n",
       "      <td>No</td>\n",
       "      <td>Missing</td>\n",
       "      <td>10.0</td>\n",
       "      <td>NaN</td>\n",
       "      <td>1.0</td>\n",
       "    </tr>\n",
       "    <tr>\n",
       "      <th>154134</th>\n",
       "      <td>26609792</td>\n",
       "      <td>2021/05/11</td>\n",
       "      <td>2021/05/12</td>\n",
       "      <td>2021/05/11</td>\n",
       "      <td>NaN</td>\n",
       "      <td>Laboratory-confirmed case</td>\n",
       "      <td>female</td>\n",
       "      <td>[10, 20)</td>\n",
       "      <td>Missing</td>\n",
       "      <td>No</td>\n",
       "      <td>Missing</td>\n",
       "      <td>No</td>\n",
       "      <td>Missing</td>\n",
       "      <td>10.0</td>\n",
       "      <td>NaN</td>\n",
       "      <td>1.0</td>\n",
       "    </tr>\n",
       "    <tr>\n",
       "      <th>154135</th>\n",
       "      <td>26609800</td>\n",
       "      <td>2021/05/09</td>\n",
       "      <td>2021/05/14</td>\n",
       "      <td>2021/05/14</td>\n",
       "      <td>2021/05/09</td>\n",
       "      <td>Laboratory-confirmed case</td>\n",
       "      <td>female</td>\n",
       "      <td>[10, 20)</td>\n",
       "      <td>Missing</td>\n",
       "      <td>No</td>\n",
       "      <td>Missing</td>\n",
       "      <td>No</td>\n",
       "      <td>Missing</td>\n",
       "      <td>10.0</td>\n",
       "      <td>NaN</td>\n",
       "      <td>1.0</td>\n",
       "    </tr>\n",
       "  </tbody>\n",
       "</table>\n",
       "<p>154136 rows × 16 columns</p>\n",
       "</div>"
      ],
      "text/plain": [
       "        Unnamed: 0 cdc_case_earliest_dt  cdc_report_dt pos_spec_dt  \\\n",
       "0               41            2021/05/21    2021/05/21  2021/05/21   \n",
       "1              370            2021/05/15    2021/05/15  2021/05/19   \n",
       "2              411            2021/05/02    2021/05/02  2021/05/03   \n",
       "3              497            2021/05/21    2021/05/21  2021/05/21   \n",
       "4             1270            2021/05/06    2021/05/08  2021/05/06   \n",
       "...            ...                   ...           ...         ...   \n",
       "154131    26609728            2021/05/12    2021/05/24  2021/05/21   \n",
       "154132    26609729            2021/05/01    2021/05/05  2021/05/04   \n",
       "154133    26609730            2021/05/16    2021/05/19  2021/05/16   \n",
       "154134    26609792            2021/05/11    2021/05/12  2021/05/11   \n",
       "154135    26609800            2021/05/09    2021/05/14  2021/05/14   \n",
       "\n",
       "          onset_dt             current_status     sex age_group  \\\n",
       "0              NaN  Laboratory-confirmed case    male  [10, 20)   \n",
       "1       2021/05/15  Laboratory-confirmed case    male  [10, 20)   \n",
       "2       2021/05/02  Laboratory-confirmed case    male  [10, 20)   \n",
       "3              NaN  Laboratory-confirmed case    male  [10, 20)   \n",
       "4              NaN  Laboratory-confirmed case    male  [10, 20)   \n",
       "...            ...                        ...     ...       ...   \n",
       "154131  2021/05/12  Laboratory-confirmed case  female  [10, 20)   \n",
       "154132  2021/05/01  Laboratory-confirmed case  female  [10, 20)   \n",
       "154133  2021/05/16  Laboratory-confirmed case  female  [10, 20)   \n",
       "154134         NaN  Laboratory-confirmed case  female  [10, 20)   \n",
       "154135  2021/05/09  Laboratory-confirmed case  female  [10, 20)   \n",
       "\n",
       "       race_ethnicity_combined  hosp_yn   icu_yn death_yn medcond_yn   age  \\\n",
       "0          Black, Non-Hispanic       No       No       No         No  10.0   \n",
       "1          Black, Non-Hispanic       No       No       No         No  10.0   \n",
       "2          Black, Non-Hispanic       No       No       No         No  10.0   \n",
       "3          Black, Non-Hispanic       No       No       No         No  10.0   \n",
       "4          Black, Non-Hispanic  Missing  Missing       No    Missing  10.0   \n",
       "...                        ...      ...      ...      ...        ...   ...   \n",
       "154131                 Missing  Missing  Missing  Missing    Missing  10.0   \n",
       "154132                 Missing       No  Missing       No    Missing  10.0   \n",
       "154133                 Missing       No  Missing       No    Missing  10.0   \n",
       "154134                 Missing       No  Missing       No    Missing  10.0   \n",
       "154135                 Missing       No  Missing       No    Missing  10.0   \n",
       "\n",
       "       race_eth  weight  \n",
       "0         Black     1.0  \n",
       "1         Black     1.0  \n",
       "2         Black     1.0  \n",
       "3         Black     1.0  \n",
       "4         Black     1.0  \n",
       "...         ...     ...  \n",
       "154131      NaN     1.0  \n",
       "154132      NaN     1.0  \n",
       "154133      NaN     1.0  \n",
       "154134      NaN     1.0  \n",
       "154135      NaN     1.0  \n",
       "\n",
       "[154136 rows x 16 columns]"
      ]
     },
     "execution_count": 10,
     "metadata": {},
     "output_type": "execute_result"
    }
   ],
   "source": [
    "df_cdc_month"
   ]
  },
  {
   "cell_type": "code",
   "execution_count": null,
   "metadata": {},
   "outputs": [],
   "source": [
    "# stratification factors\n",
    "age_groups = pd.cut(np.random.uniform(0, 125, 10_000), age_cutpoints, right=False).unique()\n",
    "sexes = ['male', 'female']\n",
    "race_eth = ['White', 'Black', 'Hispanic', 'Other']\n",
    "stratification_groups = pd.MultiIndex.from_product([age_groups, sexes, race_eth])"
   ]
  },
  {
   "cell_type": "code",
   "execution_count": null,
   "metadata": {},
   "outputs": [],
   "source": [
    "%%time\n",
    "#    n_1 (a,s,r) = number of cases for strata (a,s,r).\n",
    "\n",
    "n_1 = {}\n",
    "\n",
    "for k in range(n_draws):\n",
    "    # use bootstrap to resample confirmed cases, to quantify uncertainty\n",
    "    resampled_rows = np.random.choice(df_cdc_month.index, size=len(t), replace=True)\n",
    "    df_selected_cdc = df_cdc_month.loc[resampled_rows]\n",
    "    \n",
    "    n_1[k] = df_selected_cdc.groupby(['age_group', 'sex', 'race_eth']).weight.sum()\n",
    "    \n",
    "    # use parametric resampling from a possion distribution to also include uncertainty in total number of cases\n",
    "    n_1[k] = np.random.poisson(n_1_total) * n_1[k] / n_1[k].sum()\n"
   ]
  },
  {
   "cell_type": "code",
   "execution_count": null,
   "metadata": {},
   "outputs": [],
   "source": [
    "df_selected_cdc"
   ]
  },
  {
   "cell_type": "code",
   "execution_count": null,
   "metadata": {},
   "outputs": [],
   "source": [
    "# TODO: Table 1 showing the demographics of the confirmed case population,\n",
    "# highlighting amount of missingness and also including household size distribution"
   ]
  },
  {
   "cell_type": "code",
   "execution_count": null,
   "metadata": {},
   "outputs": [],
   "source": [
    "n_1_mean = pd.DataFrame(n_1).T.mean()\n",
    "np.round(n_1_mean.unstack().unstack(),1)  # number of confirmed cases of COVID-19, stratified by age, sex, and race/ethnicity"
   ]
  },
  {
   "cell_type": "code",
   "execution_count": null,
   "metadata": {},
   "outputs": [],
   "source": [
    "# assert np.allclose(n_1_mean.sum(), n_1_total)"
   ]
  },
  {
   "cell_type": "markdown",
   "metadata": {},
   "source": [
    "## 2. Estimate the stratified number of household contacts who might benefit from mAbs PEP \n",
    "\n",
    "Think of entry $(i,j)$ in this table as the number of people in group $j$ you would find who have been exposed to COVID, if you did a household visit for a COVID-19 case in group $i$.\n",
    "\n",
    "### TODO: Figure out how to quantify uncertainty for this in a reasonable amount of time."
   ]
  },
  {
   "cell_type": "code",
   "execution_count": null,
   "metadata": {},
   "outputs": [],
   "source": [
    "acs = pd.read_csv('/home/j/Project/Models/VEHSS/prepped/acs_2019_pums.csv', low_memory=False)\n",
    "acs"
   ]
  },
  {
   "cell_type": "code",
   "execution_count": null,
   "metadata": {},
   "outputs": [],
   "source": [
    "acs.filter(['age', 'sex', 'race_eth', 'weight', 'household_id']\n",
    "          ).to_csv('data/acs_2019_pums.csv.bz2', index=False)"
   ]
  },
  {
   "cell_type": "code",
   "execution_count": null,
   "metadata": {},
   "outputs": [],
   "source": [
    "acs = pd.read_csv('data/acs_2019_pums.csv.bz2')\n",
    "acs"
   ]
  },
  {
   "cell_type": "code",
   "execution_count": null,
   "metadata": {},
   "outputs": [],
   "source": [
    "acs['age_group'] = pd.cut(acs.age, age_cutpoints, right=False)\n",
    "acs['sex'] = acs.sex.map({1:'male', 2:'female'})\n",
    "acs['race_eth'] = acs.race_eth.map({1:'White',\n",
    "                                    2:'Black',\n",
    "                                    3:'Hispanic', \n",
    "                                    4:'Other'})"
   ]
  },
  {
   "cell_type": "code",
   "execution_count": null,
   "metadata": {},
   "outputs": [],
   "source": [
    "g_acs = acs[acs.household_id.str.contains('HU')\n",
    "           ].groupby(['age_group', 'sex', 'race_eth'])"
   ]
  },
  {
   "cell_type": "code",
   "execution_count": null,
   "metadata": {
    "scrolled": false
   },
   "outputs": [],
   "source": [
    "%%time\n",
    "n_hh = {}\n",
    "\n",
    "for k in range(n_draws):\n",
    "    print('\\n',k)\n",
    "    n_hh[k] = pd.DataFrame(0, index=stratification_groups, columns=stratification_groups)\n",
    "    n_hh[k] = n_hh[k].sort_index()  # make a pesky warning go away, and possibly make things faster --- see https://stackoverflow.com/questions/54307300/what-causes-indexing-past-lexsort-depth-warning-in-pandas\n",
    "    \n",
    "    for i in stratification_groups:\n",
    "        print('.', flush=True, end=' ')\n",
    "        hh_ids = g_acs.get_group(i).household_id  # ids for households containing a person from stratification group i\n",
    "        hh_ids_k = np.random.choice(hh_ids, size=100, replace=True)  # randomly resampled hhs with person from group i\n",
    "\n",
    "        for j in stratification_groups:\n",
    "            t = g_acs.get_group(j) # all people in stratification from j\n",
    "\n",
    "            df_ij = t[t.household_id.isin(hh_ids_k)]  # people in stratification group j who live in household with person from stratification group i\n",
    "\n",
    "            hh_ij = pd.Series(0, index=hh_ids_k).add(\n",
    "                        df_ij.household_id.value_counts() * pd.Series(hh_ids_k).value_counts(),  # resampling with replacement means some hhs will appear more than once\n",
    "                        fill_value=0\n",
    "                    )\n",
    "\n",
    "            n_hh[k].loc[i,j] = hh_ij.mean()\n",
    "            if i == j:\n",
    "                n_hh[k].loc[i,j] -= 1 # don't include the person with a confirmed case when tallying household exposure count"
   ]
  },
  {
   "cell_type": "code",
   "execution_count": null,
   "metadata": {},
   "outputs": [],
   "source": [
    "%%time\n",
    "\n",
    "n_2_unvax = {}\n",
    "n_2_unvax_total = {}\n",
    "\n",
    "n_2_all = {}\n",
    "n_2_all_total = {}\n",
    "\n",
    "for k in range(n_draws):\n",
    "    n_2_unvax[k] = pd.Series(0.0, index=stratification_groups)\n",
    "    n_2_all[k] = pd.Series(0.0, index=stratification_groups)\n",
    "    for j in stratification_groups:\n",
    "        a0,a1 = j[0].left, j[0].right\n",
    "        s,r=j[1],j[2]\n",
    "        j_cov = (f'[{a0}, {a1})', s, r)\n",
    "        for i in stratification_groups:\n",
    "            n_2_unvax[k][j] += n_1[k][i] * pr_case_in_unvaccinated_household[k] * n_hh[k].loc[i,j] # count only the unvaccinated who's household is all unvaccinated, which is a lower-bound on total\n",
    "            n_2_all[k][j] += n_1[k][i] * n_hh[k].loc[i,j]\n",
    "    n_2_unvax_total[k] = n_2_unvax[k].sum()\n",
    "    n_2_all_total[k] = n_2_all[k].sum()\n",
    "n_2_unvax_mean = sum(n_2_unvax.values()) / n_draws\n",
    "n_2_all_mean = sum(n_2_all.values()) / n_draws\n",
    "np.round(n_2_all_mean.unstack().unstack(), 1)"
   ]
  },
  {
   "cell_type": "code",
   "execution_count": null,
   "metadata": {},
   "outputs": [],
   "source": [
    "np.round(n_2_unvax_mean.unstack().unstack(), 1)"
   ]
  },
  {
   "cell_type": "code",
   "execution_count": null,
   "metadata": {},
   "outputs": [],
   "source": [
    "n_2_all_total_mean = sum(n_2_all_total.values()) / n_draws\n",
    "n_2_all_total_lb = np.percentile(list(n_2_all_total.values()), 2.5)\n",
    "n_2_all_total_ub = np.percentile(list(n_2_all_total.values()), 97.5)"
   ]
  },
  {
   "cell_type": "code",
   "execution_count": null,
   "metadata": {},
   "outputs": [],
   "source": [
    "print(f'total number of (vaccinated & unvaccinated) household contacts: {n_2_all_total_mean:,.1f} (95% UI {n_2_all_total_lb:,.1f}-{n_2_all_total_ub:,.1f})')"
   ]
  },
  {
   "cell_type": "code",
   "execution_count": null,
   "metadata": {},
   "outputs": [],
   "source": [
    "n_2_total_mean = sum(n_2_unvax_total.values()) / n_draws\n",
    "n_2_total_lb = np.percentile(list(n_2_unvax_total.values()), 2.5)\n",
    "n_2_total_ub = np.percentile(list(n_2_unvax_total.values()), 97.5)"
   ]
  },
  {
   "cell_type": "code",
   "execution_count": null,
   "metadata": {},
   "outputs": [],
   "source": [
    "print(f'total number of unvaccinated household contacts: {n_2_total_mean:,.1f} (95% UI {n_2_total_lb:,.1f}-{n_2_total_ub:,.1f})')"
   ]
  },
  {
   "cell_type": "code",
   "execution_count": null,
   "metadata": {},
   "outputs": [],
   "source": [
    "# household exposure rate (exposures per 100,000 person-months) by race\n",
    "n_2_race = {}\n",
    "for k in range(n_draws):\n",
    "    n_2_race[k] = 100_000 * (n_2_unvax[k].unstack().sum() / g_acs.weight.sum().unstack().sum())\n",
    "\n",
    "np.round(sum(n_2_race.values())/n_draws, 1)"
   ]
  },
  {
   "cell_type": "markdown",
   "metadata": {},
   "source": [
    "## 3. Estimate the number of people who receive PEP in scenarios with a range of coverage levels c and minimum age a_0 for receiving PEP"
   ]
  },
  {
   "cell_type": "code",
   "execution_count": null,
   "metadata": {},
   "outputs": [],
   "source": [
    "n_PEP = {}\n",
    "for c in coverage_levels:\n",
    "    for a0 in age_lower_bounds:\n",
    "        n_PEP[c,a0] = {}\n",
    "        for k in range(n_draws):\n",
    "            age_mask = pd.Series([a.left >= a0 for a,s,r in stratification_groups],\n",
    "                         index=stratification_groups)\n",
    "            n_PEP[c,a0][k] = c*n_2_unvax[k]*age_mask\n"
   ]
  },
  {
   "cell_type": "code",
   "execution_count": null,
   "metadata": {},
   "outputs": [],
   "source": [
    "# treatment rate (tx per 100,000 person-months) by race\n",
    "c,a = .50,50\n",
    "n_PEP_mean = sum(n_PEP[c, a].values())/n_draws\n",
    "np.round(100_000 * (n_PEP_mean.unstack().sum() / g_acs.weight.sum().unstack().sum()), 1)"
   ]
  },
  {
   "cell_type": "markdown",
   "metadata": {},
   "source": [
    "## 4.\tEstimate the number of people who develop a symptomatic COVID-19 infection in each scenario"
   ]
  },
  {
   "cell_type": "code",
   "execution_count": null,
   "metadata": {},
   "outputs": [],
   "source": [
    "n_COVID = {}\n",
    "for c in coverage_levels:\n",
    "    for a0 in age_lower_bounds:\n",
    "        n_COVID[c,a0] = {}\n",
    "        for k in range(n_draws):\n",
    "            n_COVID[c,a0][k] = attack_rate_without_mAbs[k] * (n_2_unvax[k] - n_PEP[c,a0][k]) \\\n",
    "                        + attack_rate_with_mAbs[k] * n_PEP[c,a0][k]"
   ]
  },
  {
   "cell_type": "code",
   "execution_count": null,
   "metadata": {},
   "outputs": [],
   "source": [
    "n_COVID_mean = sum(n_COVID[0,70].values())/n_draws\n",
    "\n",
    "np.round(n_COVID_mean.unstack().unstack(),1)"
   ]
  },
  {
   "cell_type": "code",
   "execution_count": null,
   "metadata": {},
   "outputs": [],
   "source": [
    "n_COVID_mean = sum(n_COVID[.5,70].values())/n_draws\n",
    "\n",
    "np.round(n_COVID_mean.unstack().unstack(),1)"
   ]
  },
  {
   "cell_type": "code",
   "execution_count": null,
   "metadata": {},
   "outputs": [],
   "source": [
    "print(f'confirmed cases: {n_1_total:,.0f}\\npredicted hh infections: {sum(n_COVID[0,0].values()).sum()/n_draws:,.0f}')"
   ]
  },
  {
   "cell_type": "code",
   "execution_count": null,
   "metadata": {},
   "outputs": [],
   "source": [
    "# secondary infection rate (symptomatic infections per 100,000 person-months) by race\n",
    "c,a = .50,50\n",
    "n_COVID_mean = sum(n_COVID[c,a].values())/n_draws\n",
    "\n",
    "np.round(100_000 * (n_COVID_mean.unstack().sum() / g_acs.weight.sum().unstack().sum()), 1)"
   ]
  },
  {
   "cell_type": "code",
   "execution_count": null,
   "metadata": {},
   "outputs": [],
   "source": [
    "# averted secondary infection rate (symptomatic infections per 100,000 person-months) by race\n",
    "c,a = .50,50\n",
    "n_COVID_averted_mean = sum([n_COVID[0, 0][k] - n_COVID[c, a][k] for k in range(n_draws)]) / n_draws\n",
    "np.round(100_000 * (n_COVID_averted_mean).unstack().sum() / g_acs.weight.sum().unstack().sum(), 1)"
   ]
  },
  {
   "cell_type": "code",
   "execution_count": null,
   "metadata": {},
   "outputs": [],
   "source": [
    "def print_mean_and_ui(z):\n",
    "    print(f'{np.mean(z):,.0f} ({np.percentile(z, 2.5):,.0f} - {np.percentile(z, 97.5):,.0f})')          "
   ]
  },
  {
   "cell_type": "code",
   "execution_count": null,
   "metadata": {},
   "outputs": [],
   "source": [
    "c,a = .50,50\n",
    "\n",
    "print('averted secondary infections')\n",
    "print_mean_and_ui(\n",
    "    [(n_COVID[0, 0][k] - n_COVID[c, a][k]).sum() for k in range(n_draws)]\n",
    ")"
   ]
  },
  {
   "cell_type": "markdown",
   "metadata": {},
   "source": [
    "# 5.\tEstimate the number of hospitalizations in each scenario\n",
    "\n",
    "[Rate Ratios for Hospitalization by Age](https://www.cdc.gov/coronavirus/2019-ncov/covid-data/investigations-discovery/hospitalization-death-by-age.html)\n",
    "\n",
    "But better to calculate it myself"
   ]
  },
  {
   "cell_type": "code",
   "execution_count": null,
   "metadata": {},
   "outputs": [],
   "source": [
    "rows = df_cdc_month.hosp_yn.isin(['No', 'Yes'])\n",
    "df_cdc_month_complete_cases = df_cdc_month[rows].copy()\n",
    "\n",
    "df_cdc_month_complete_cases['hosp'] = (df_cdc_month_complete_cases.hosp_yn == 'Yes').astype(float)\n",
    "# np.round(100 * df_cases.groupby('age_group').hosp.mean(), 1)"
   ]
  },
  {
   "cell_type": "code",
   "execution_count": null,
   "metadata": {},
   "outputs": [],
   "source": [
    "hospitalization_rate = {}\n",
    "\n",
    "for k in range(n_draws):\n",
    "    resampled_rows = np.random.choice(df_cdc_month_complete_cases.index, size=len(df_cdc_month_complete_cases))\n",
    "    t = df_cdc_month_complete_cases.loc[resampled_rows]\n",
    "    hospitalization_rate[k] = pd.Series(t.groupby(['age_group', 'sex', 'race_eth']).hosp.mean(), index=stratification_groups)\n",
    "\n",
    "hospitalization_rate_mean = sum(hospitalization_rate.values()) / n_draws\n",
    "np.round(hospitalization_rate_mean.unstack().unstack()*100,1)"
   ]
  },
  {
   "cell_type": "code",
   "execution_count": null,
   "metadata": {},
   "outputs": [],
   "source": [
    "# this is hospitalization rate among *confirmed cases*\n",
    "# is the attack rate from Ruanne's study for \"symptomatic cases\"? And how many of these are confirmed\n",
    "for k in range(n_draws):\n",
    "    hospitalization_rate[k] *= 1 # TODO: find case-detection rate to use here, perhaps from study"
   ]
  },
  {
   "cell_type": "code",
   "execution_count": null,
   "metadata": {},
   "outputs": [],
   "source": [
    "%%time\n",
    "\n",
    "n_hosp = {}\n",
    "for c in coverage_levels:\n",
    "    for a0 in age_lower_bounds:\n",
    "        n_hosp[c,a0] = {}\n",
    "        for k in range(n_draws):\n",
    "            n_hosp[c,a0][k] = hospitalization_rate[k] * n_COVID[c,a0][k]"
   ]
  },
  {
   "cell_type": "code",
   "execution_count": null,
   "metadata": {},
   "outputs": [],
   "source": [
    "(n_hosp[0, 0][0] - n_hosp[.5, 50][0]).unstack().unstack()"
   ]
  },
  {
   "cell_type": "code",
   "execution_count": null,
   "metadata": {},
   "outputs": [],
   "source": [
    "# hospitalization rate (tx per 100,000 person-months) by race\n",
    "c,a = .50,50\n",
    "n_hosp_mean = sum(n_hosp[c, a].values()) / n_draws\n",
    "np.round(100_000 * (n_hosp_mean.unstack().sum() / g_acs.weight.sum().unstack().sum()), 1)"
   ]
  },
  {
   "cell_type": "code",
   "execution_count": null,
   "metadata": {},
   "outputs": [],
   "source": [
    "# averted hospitalization rate (hospitalizations per 100,000 person-months) by race\n",
    "n_hosp_averted_mean = sum([n_hosp[0, 0][k] - n_hosp[c, a][k] for k in range(n_draws)]) / n_draws\n",
    "np.round(100_000 * (n_hosp_averted_mean.unstack().sum() / g_acs.weight.sum().unstack().sum()), 2)"
   ]
  },
  {
   "cell_type": "code",
   "execution_count": null,
   "metadata": {},
   "outputs": [],
   "source": [
    "c,a = .50,50\n",
    "\n",
    "print('averted hospitalizations')\n",
    "print_mean_and_ui(\n",
    "    [(n_hosp[0, 0][k] - n_hosp[c, a][k]).sum() for k in range(n_draws)]\n",
    ")"
   ]
  },
  {
   "cell_type": "markdown",
   "metadata": {},
   "source": [
    "# 6. Find number of deaths"
   ]
  },
  {
   "cell_type": "code",
   "execution_count": null,
   "metadata": {},
   "outputs": [],
   "source": [
    "df_cdc_month_complete_cases.death_yn.value_counts()"
   ]
  },
  {
   "cell_type": "code",
   "execution_count": null,
   "metadata": {},
   "outputs": [],
   "source": [
    "df_cdc_month_complete_cases['death'] = df_cdc_month_complete_cases.death_yn.map({'Yes':1, 'No':0})\n",
    "hosp_rows = df_cdc_month_complete_cases[df_cdc_month_complete_cases.hosp == 1].index\n",
    "\n",
    "hospitalization_fatility_ratio = {}\n",
    "for k in range(n_draws):\n",
    "    resampled_rows = np.random.choice(hosp_rows, size=len(hosp_rows), replace=True)\n",
    "    t = df_cdc_month_complete_cases.loc[resampled_rows]\n",
    "    hospitalization_fatility_ratio[k] = t.groupby(['age_group', 'sex', 'race_eth']).death.mean()\n",
    "    hospitalization_fatility_ratio[k] = pd.Series(hospitalization_fatility_ratio[k], index=stratification_groups)\n",
    "np.round((sum(hospitalization_fatility_ratio.values()) / n_draws).unstack().unstack()*100, 1)"
   ]
  },
  {
   "cell_type": "code",
   "execution_count": null,
   "metadata": {},
   "outputs": [],
   "source": [
    "n_deaths = {}\n",
    "for c in coverage_levels:\n",
    "    for a0 in age_lower_bounds:\n",
    "        n_deaths[c,a0] = {}\n",
    "        for k in range(n_draws):\n",
    "            n_deaths[c,a0][k] = hospitalization_fatility_ratio[k] * n_hosp[c,a0][k]"
   ]
  },
  {
   "cell_type": "code",
   "execution_count": null,
   "metadata": {},
   "outputs": [],
   "source": [
    "c,a = .50,50\n",
    "\n",
    "# averted hospitalization rate (hospitalizations per 100,000 person-months) by race\n",
    "n_death_averted_mean = sum([n_deaths[0, 0][k] - n_deaths[c, a][k] for k in range(n_draws)]) / n_draws\n",
    "np.round((n_death_averted_mean).unstack().unstack(),1)"
   ]
  },
  {
   "cell_type": "code",
   "execution_count": null,
   "metadata": {},
   "outputs": [],
   "source": [
    "# averted hospitalization rate (hospitalizations per 100,000 person-months) by race\n",
    "n_death_mean = sum([n_deaths[c, a][k] for k in range(n_draws)]) / n_draws\n",
    "np.round(100_000 * (n_death_mean.unstack().sum() / g_acs.weight.sum().unstack().sum()), 3)"
   ]
  },
  {
   "cell_type": "code",
   "execution_count": null,
   "metadata": {},
   "outputs": [],
   "source": [
    "# averted death rate (deaths averted per 100,000 person-months) by race\n",
    "np.round(100_000 * ((n_death_averted_mean).unstack().sum() / g_acs.weight.sum().unstack().sum()), 3)"
   ]
  },
  {
   "cell_type": "code",
   "execution_count": null,
   "metadata": {},
   "outputs": [],
   "source": [
    "c,a = .50,50\n",
    "\n",
    "print('averted deaths')\n",
    "print_mean_and_ui(\n",
    "    [(n_deaths[0, 0][k] - n_deaths[c, a][k]).sum() for k in range(n_draws)]\n",
    ")"
   ]
  },
  {
   "cell_type": "markdown",
   "metadata": {},
   "source": [
    "## 7.\tEstimate the cost of administering mAbs and the cost of COVID-19 hospitalizations \n",
    "\n",
    "Tough [to get cost of mAbs](https://www.npr.org/sections/health-shots/2020/10/28/928841997/government-signs-deal-for-covid-19-treatments-from-eli-lilly)\n",
    "\n",
    "Lots of hits from a search of [cost of hospitalization](https://www.fairhealth.org/article/costs-for-a-hospital-stay-for-covid-19)."
   ]
  },
  {
   "cell_type": "code",
   "execution_count": null,
   "metadata": {},
   "outputs": [],
   "source": [
    "n_hosp[c,a0][k].sum()"
   ]
  },
  {
   "cell_type": "code",
   "execution_count": null,
   "metadata": {},
   "outputs": [],
   "source": [
    "doses = {}\n",
    "mAbs_cost = {}\n",
    "hosp_cost = {}\n",
    "for c in coverage_levels:\n",
    "    for a0 in age_lower_bounds:\n",
    "        doses[c,a0] = {}\n",
    "        mAbs_cost[c,a0] = {}\n",
    "        hosp_cost[c,a0] = {}\n",
    "        for k in range(n_draws):\n",
    "            doses[c,a0][k] = n_PEP[c,a0][k].sum()\n",
    "            mAbs_cost[c,a0][k] = n_PEP[c,a0][k].sum() * mAbs_unit_cost[k]\n",
    "            hosp_cost[c,a0][k] = n_hosp[c,a0][k].sum() * COVID_hospitalization_unit_cost[k]"
   ]
  },
  {
   "cell_type": "code",
   "execution_count": null,
   "metadata": {},
   "outputs": [],
   "source": [
    "pd.DataFrame(mAbs_cost).mean()"
   ]
  },
  {
   "cell_type": "code",
   "execution_count": null,
   "metadata": {},
   "outputs": [],
   "source": [
    "c,a = .50,50\n",
    "\n",
    "print('averted cost')\n",
    "print_mean_and_ui(\n",
    "    [((mAbs_cost[0, 0][k]+hosp_cost[0, 0][k]) - (mAbs_cost[c, a][k]+hosp_cost[c, a][k])).sum() for k in range(n_draws)]\n",
    ")"
   ]
  },
  {
   "cell_type": "code",
   "execution_count": null,
   "metadata": {},
   "outputs": [],
   "source": [
    "cost = pd.DataFrame(mAbs_cost).mean() + pd.DataFrame(hosp_cost).mean()\n",
    "(cost.unstack() / 1_000_000).plot(marker='o')\n",
    "plt.ylabel('Cost (Million USD)')\n",
    "plt.grid();"
   ]
  },
  {
   "cell_type": "code",
   "execution_count": null,
   "metadata": {},
   "outputs": [],
   "source": [
    "pd.DataFrame(doses).mean().unstack().plot(marker='o')\n",
    "# plt.semilogy()\n",
    "plt.ylabel('mAbs doses');"
   ]
  },
  {
   "cell_type": "markdown",
   "metadata": {},
   "source": [
    "# Burden Averted"
   ]
  },
  {
   "cell_type": "code",
   "execution_count": null,
   "metadata": {},
   "outputs": [],
   "source": [
    "np.round(pd.Series({i: pd.DataFrame(n_COVID[i]).mean().sum() for i in n_COVID}).unstack(), 1)"
   ]
  },
  {
   "cell_type": "code",
   "execution_count": null,
   "metadata": {},
   "outputs": [],
   "source": [
    "symptomatic_infections_averted = (pd.DataFrame(n_COVID[0,0]).mean().sum()\n",
    "                                  - pd.Series({i: pd.DataFrame(n_COVID[i]).mean().sum() for i in n_COVID})).unstack()\n",
    "np.round(symptomatic_infections_averted,1)"
   ]
  },
  {
   "cell_type": "code",
   "execution_count": null,
   "metadata": {},
   "outputs": [],
   "source": [
    "hospitalizations_averted = (pd.DataFrame(n_hosp[0,0]).mean().sum()\n",
    "                            - pd.Series({i: pd.DataFrame(n_hosp[i]).mean().sum() for i in n_hosp})).unstack()\n",
    "np.round(hospitalizations_averted,1)"
   ]
  },
  {
   "cell_type": "code",
   "execution_count": null,
   "metadata": {},
   "outputs": [],
   "source": [
    "deaths_averted = (pd.DataFrame(n_deaths[0,0]).mean().sum()\n",
    "                  - pd.Series({i: pd.DataFrame(n_deaths[i]).mean().sum() for i in n_hosp})).unstack()\n",
    "np.round(deaths_averted,1)"
   ]
  },
  {
   "cell_type": "code",
   "execution_count": null,
   "metadata": {},
   "outputs": [],
   "source": [
    "np.round(pd.DataFrame({'symptomatic_infections_averted':symptomatic_infections_averted.stack(),\n",
    "              'hospitalizations_averted':hospitalizations_averted.stack(),\n",
    "              'deaths_averted':deaths_averted.stack(),\n",
    "#               'mAbs_cost':pd.Series(mAbs_cost)/1e6,\n",
    "#               'hosp_cost':pd.Series(hosp_cost)/1e6,\n",
    "#               'total_cost':cost/1e6,\n",
    "              'thousand_doses':pd.DataFrame(doses).mean()/1e3,\n",
    "              'incremental_cost':(cost-cost.loc[0,0])/1e6\n",
    "             }).unstack(level=0), 1)"
   ]
  },
  {
   "cell_type": "code",
   "execution_count": null,
   "metadata": {},
   "outputs": [],
   "source": [
    "ICER = (cost-cost.loc[0,0]) / (deaths_averted).stack()\n",
    "np.round((ICER / 1_000).unstack(), 1)"
   ]
  },
  {
   "cell_type": "code",
   "execution_count": null,
   "metadata": {},
   "outputs": [],
   "source": [
    "(ICER / 1_000).unstack().T.iloc[:,-1].plot(marker='o')\n",
    "plt.ylabel('ICER (Thousand USD per death averted)')\n",
    "plt.xlabel('Minimum age for PEP (years)')\n",
    "# plt.semilogy();"
   ]
  },
  {
   "cell_type": "markdown",
   "metadata": {},
   "source": [
    "# PEP with mAbs is a benefit for patients and for hospitals"
   ]
  },
  {
   "cell_type": "code",
   "execution_count": null,
   "metadata": {},
   "outputs": [],
   "source": [
    "def summary_results(coverage_level, age_lower_bound):\n",
    "    n_symp_averted = symptomatic_infections_averted.loc[coverage_level, age_lower_bound]\n",
    "    n_hosp_averted = hospitalizations_averted.loc[coverage_level, age_lower_bound]\n",
    "    n_deaths_averted = deaths_averted.loc[coverage_level, age_lower_bound]\n",
    "    unit_cost = mAbs_unit_cost\n",
    "    incremental_cost = (cost.loc[coverage_level, age_lower_bound]-cost.loc[0,0])/1e6\n",
    "\n",
    "    \n",
    "    result_str = f\"\"\"Results: In a month of similar intensity to May, 2021,\n",
    "    in USA, a program reaching {coverage_level*100:.0f}% of exposed household members\n",
    "    aged {age_lower_bound}+, would avert {n_symp_averted:,.0f} symptomatic infections,\n",
    "    {n_hosp_averted:,.0f} hospitalizations, and {n_deaths_averted:,.0f} deaths.  If the\n",
    "    unit cost of administering the intervention was {pd.Series(unit_cost).mean():,.0f} dollars,\n",
    "    this program would save the health system {-incremental_cost*1_000:,.0f} thousand dollars.\"\"\"\n",
    "    \n",
    "    print(result_str)\n",
    "summary_results(1/2, 50)"
   ]
  },
  {
   "cell_type": "code",
   "execution_count": null,
   "metadata": {},
   "outputs": [],
   "source": [
    "# summary_results(1/3, 50)"
   ]
  },
  {
   "cell_type": "code",
   "execution_count": null,
   "metadata": {},
   "outputs": [],
   "source": [
    "# summary_results(1/2, 50)"
   ]
  },
  {
   "cell_type": "markdown",
   "metadata": {},
   "source": [
    "# Number-plugging values"
   ]
  },
  {
   "cell_type": "code",
   "execution_count": null,
   "metadata": {},
   "outputs": [],
   "source": [
    "print(f\"\"\"[[summary of data: RCT included X subjects (Y in treatment group and Z in control),\n",
    "which we combined with confirmed cases data on {len(df_cdc_month):,.0f} individuals and\n",
    "household structure data derived from {len(acs):,.0f} individuals in {acs.household_id.nunique():,.0f} households.]]\n",
    "\"\"\")"
   ]
  },
  {
   "cell_type": "code",
   "execution_count": null,
   "metadata": {},
   "outputs": [],
   "source": [
    "n_2 = pd.DataFrame(n_2_unvax)\n",
    "n_2"
   ]
  },
  {
   "cell_type": "code",
   "execution_count": null,
   "metadata": {},
   "outputs": [],
   "source": [
    "print(f\"\"\"[[Confirmed case and household structure results,\n",
    "summarizing something about the racial segregation of household structure,\n",
    "the age-assortativity. In [[May]], there were [[{len(df_cdc_month):,.0f}]]\n",
    "confirmed cases of COVID-19, which we estimate resulted\n",
    "in {n_2.sum().mean():,.0f} (95% UI {np.percentile(n_2.sum(), 2.5):,.0f}-{np.percentile(n_2.sum(), 97.5):,.0f}) individuals with household exposure to COVID-19. ]] [[stratify counts or rates by race??]]\"\"\")"
   ]
  },
  {
   "cell_type": "code",
   "execution_count": null,
   "metadata": {},
   "outputs": [],
   "source": [
    "n_2.unstack().sum().unstack().mean()"
   ]
  },
  {
   "cell_type": "code",
   "execution_count": null,
   "metadata": {},
   "outputs": [],
   "source": [
    "print(f\"\"\"[[Number who receive PEP in alternative scenarios, and for alternative age cutoffs. Perhaps in a table?  Population-level rates of treatment stratified by race?]]\"\"\")"
   ]
  },
  {
   "cell_type": "code",
   "execution_count": null,
   "metadata": {},
   "outputs": [],
   "source": [
    "def my_summary(x):\n",
    "    mean = np.mean(x)\n",
    "    lb = np.percentile(x, 2.5)\n",
    "    ub = np.percentile(x, 97.5)\n",
    "    results = locals()\n",
    "    results.pop('x')\n",
    "    for k in results:\n",
    "        results[k] = '{:,.0f}'.format(results[k])\n",
    "    results['ui'] = results['lb']+'-'+results['ub']\n",
    "    results['mean_and_ui'] = f\"\"\"{results['mean']} (95% UI {results['ui']})\"\"\"\n",
    "    return results\n",
    "\n",
    "total_PEP = {}\n",
    "for c,a in n_PEP.keys():\n",
    "    total_PEP[c,a] = my_summary(pd.DataFrame(n_PEP[c,a]).sum())"
   ]
  },
  {
   "cell_type": "code",
   "execution_count": null,
   "metadata": {},
   "outputs": [],
   "source": [
    "print(f\"\"\"In a hypothetical scenario where 50% of those exposed and of age 50 or older receive PEP,\n",
    "we estimate {total_PEP[.5,50]['mean_and_ui']} individuals would be treated.\"\"\")"
   ]
  },
  {
   "cell_type": "code",
   "execution_count": null,
   "metadata": {},
   "outputs": [],
   "source": [
    "print(f\"\"\"While in a hypothetical scenario where 50% of those exposed and of age 80 or older receive PEP,\n",
    "we estimate {total_PEP[.5,80]['mean']} (95% UI {total_PEP[.5,80]['ui']}) individuals would be treated,\"\"\")"
   ]
  },
  {
   "cell_type": "code",
   "execution_count": null,
   "metadata": {},
   "outputs": [],
   "source": [
    "print(f\"\"\"and in a hypothetical scenario where 50% of those exposed and of age 20 or older receive PEP,\n",
    "we estimate {total_PEP[.5,20]['mean']} (95% UI {total_PEP[.5,20]['ui']}) individuals would be treated.\"\"\")"
   ]
  },
  {
   "cell_type": "code",
   "execution_count": null,
   "metadata": {},
   "outputs": [],
   "source": [
    "total_COVID = {}\n",
    "for c,a in n_COVID.keys():\n",
    "    total_COVID[c,a] = my_summary(pd.DataFrame(n_COVID[c,a]).sum())"
   ]
  },
  {
   "cell_type": "code",
   "execution_count": null,
   "metadata": {},
   "outputs": [],
   "source": [
    "print(f\"\"\"[[Number who develop symptomatic COVID-19 in baseline and alternative scenarios, and for alternative age cutoffs. Including stratification by race and ethnicity.]]\"\"\")\n",
    "\n",
    "print(f\"\"\"We estimate that without PEP, {total_COVID[0,0]['mean_and_ui']} individuals developed a symptomatic COVID-19 infection from a household exposure,\n",
    "      while in a hypothetical scenario where 50% of those exposed and of age 50 or older receive PEP,\n",
    "{total_COVID[.5,50]['mean_and_ui']} individuals developed a symptomatic infection.\"\"\")"
   ]
  },
  {
   "cell_type": "code",
   "execution_count": null,
   "metadata": {},
   "outputs": [],
   "source": [
    "print(f\"\"\"In a hypothetical scenario where 50% of those exposed and of age 80 or older receive PEP,\n",
    "we estimate {total_COVID[.5,80]['mean_and_ui']} individuals developed symptomatic infection,\n",
    "and in a hypothetical scenario where 50% of those exposed and of age 20 or older receive PEP,\n",
    "we estimate {total_COVID[.5,20]['mean_and_ui']} individuals developed symptomatic infection.\"\"\")"
   ]
  },
  {
   "cell_type": "code",
   "execution_count": null,
   "metadata": {},
   "outputs": [],
   "source": [
    "total_hosp = {}\n",
    "for c,a in n_hosp.keys():\n",
    "    total_hosp[c,a] = my_summary(pd.DataFrame(n_hosp[c,a]).sum())\n",
    "total_deaths = {}\n",
    "for c,a in n_deaths.keys():\n",
    "    total_deaths[c,a] = my_summary(pd.DataFrame(n_deaths[c,a]).sum())"
   ]
  },
  {
   "cell_type": "code",
   "execution_count": null,
   "metadata": {},
   "outputs": [],
   "source": [
    "print(f\"\"\"We estimate that without PEP, {total_hosp[0,0]['mean_and_ui']} individuals would be hospitalized\n",
    "because of a COVID-19 infection from a household exposure,\n",
    "while in a hypothetical scenario where 50% of those exposed and of age 50 or older receive PEP,\n",
    "{total_hosp[.5,50]['mean_and_ui']} individuals would be hospitalized;\n",
    "in a scenario where 50% of those exposed and of age 80 or older receive PEP,\n",
    "we estimate {total_hosp[.5,80]['mean_and_ui']} individuals would be hospitalized,\n",
    "and in a scenario where 50% of those exposed and of age 20 or older receive PEP,\n",
    "{total_hosp[.5,20]['mean_and_ui']} individuals would be hospitalized.\n",
    "\"\"\")"
   ]
  },
  {
   "cell_type": "code",
   "execution_count": null,
   "metadata": {},
   "outputs": [],
   "source": [
    "print(f\"\"\"We estimate that without PEP, {total_deaths[0,0]['mean_and_ui']} individuals would die\n",
    "because of a COVID-19 infection from a household exposure,\n",
    "while in a hypothetical scenario where 50% of those exposed and of age 50 or older receive PEP,\n",
    "{total_deaths[.5,50]['mean_and_ui']} individuals would die;\n",
    "in a scenario where 50% of those exposed and of age 80 or older receive PEP,\n",
    "{total_deaths[.5,80]['mean_and_ui']} individuals would die,\n",
    "and in a scenario where 50% of those exposed and of age 20 or older receive PEP,\n",
    "{total_deaths[.5,20]['mean_and_ui']} individuals would die.\n",
    "\"\"\")"
   ]
  },
  {
   "cell_type": "code",
   "execution_count": null,
   "metadata": {},
   "outputs": [],
   "source": [
    "total_cost = {}\n",
    "hosp_cost_str = {}\n",
    "PEP_cost = {}\n",
    "savings = {}\n",
    "incremental_cost = {}\n",
    "\n",
    "total_cost_0 = (pd.Series(mAbs_cost[0,0]) + pd.Series(hosp_cost[0,0])) / 1_000_000\n",
    "\n",
    "for c,a in n_hosp.keys():\n",
    "    total_cost_ca = (pd.Series(mAbs_cost[c,a]) + pd.Series(hosp_cost[c,a])) / 1_000_000\n",
    "    total_cost[c,a] = my_summary(total_cost_ca)\n",
    "    savings[c,a] = my_summary(total_cost_0 - total_cost_ca)\n",
    "    incremental_cost[c,a] = my_summary(total_cost_ca - total_cost_0)\n",
    "    hosp_cost_str[c,a] = my_summary(pd.Series(hosp_cost[c,a])/1_000_000)\n",
    "    PEP_cost[c,a] = my_summary(pd.Series(mAbs_cost[c,a])/1_000_000)\n",
    "    "
   ]
  },
  {
   "cell_type": "code",
   "execution_count": null,
   "metadata": {},
   "outputs": [],
   "source": [
    "print(f\"\"\"We estimate that without PEP, the cost of hospitalizations due to COVID-19 infections from\n",
    "household exposure would be {hosp_cost_str[0,0]['mean_and_ui']} million dollars,\n",
    "while in a hypothetical scenario where 50% of those exposed and of age 50 or older receive PEP,\n",
    "the cost of hospitalizations would be {hosp_cost_str[.5,50]['mean_and_ui']} million dollars and\n",
    "the cost of PEP would be {PEP_cost[.5,50]['mean_and_ui']} million dollars,\n",
    "for a total of {total_cost[.5,50]['mean_and_ui']} million dollars,\n",
    "which is a savings of {savings[.5,50]['mean_and_ui']} million dollars compared to the without-PEP scenario.\n",
    "In a hypothetical scenario where 50% of those exposed and of age 80 or older receive PEP,\n",
    "the cost of hospitalizations would be {hosp_cost_str[.5,80]['mean_and_ui']} million dollars and\n",
    "the cost of PEP would be {PEP_cost[.5,80]['mean_and_ui']} million dollars,\n",
    "for a total of {total_cost[.5,80]['mean_and_ui']} million dollars,\n",
    "which is a savings of {savings[.5,80]['mean_and_ui']} million dollars compared to the without-PEP scenario;\n",
    "and in a hypothetical scenario where 50% of those exposed and of age 20 or older receive PEP,\n",
    "the cost of hospitalizations would be {hosp_cost_str[.5,20]['mean_and_ui']} million dollars and\n",
    "the cost of PEP would be {PEP_cost[.5,20]['mean_and_ui']} million dollars,\n",
    "for a total of {total_cost[.5,20]['mean_and_ui']} million dollars,\n",
    "which is a total of {incremental_cost[.5,20]['mean_and_ui']} million dollars more than in the without-PEP scenario.\n",
    "\"\"\")"
   ]
  },
  {
   "cell_type": "code",
   "execution_count": null,
   "metadata": {},
   "outputs": [],
   "source": [
    "total_cost[c,a]"
   ]
  },
  {
   "cell_type": "code",
   "execution_count": null,
   "metadata": {},
   "outputs": [],
   "source": [
    "import seaborn as sns"
   ]
  },
  {
   "cell_type": "code",
   "execution_count": null,
   "metadata": {},
   "outputs": [],
   "source": [
    "plt.figure(figsize=(6.5,3), dpi=120)\n",
    "for c in [0.25, .5, .75]:\n",
    "    for i, a in enumerate(age_lower_bounds[::-1]):\n",
    "        s_cost = (pd.Series(mAbs_cost[c,a]) + pd.Series(hosp_cost[c,a])) / 1e6\n",
    "        s_cost -= (pd.Series(mAbs_cost[0,0]) + pd.Series(hosp_cost[0,0])) / 1e6\n",
    "        \n",
    "        s_deaths = pd.DataFrame(n_deaths[c,a]).sum(axis=0)\n",
    "        s_deaths -= pd.DataFrame(n_deaths[0,0]).sum(axis=0)\n",
    "        s_deaths *= -1\n",
    "        \n",
    "        if c == 0.5:\n",
    "            plt.plot(s_deaths, s_cost, 'o', label=f'{a}+', alpha=.95, color='none', mec=f'C{i}', mew=1)\n",
    "#         else:\n",
    "#             plt.plot(s_deaths, s_cost, 'o', color='grey')\n",
    "plt.legend(loc=(1.02, .02), title='50% coverage, with\\nPEP for exposed of age:')\n",
    "plt.xlabel('COVID-19 deaths averted (people)')\n",
    "plt.ylabel('Incremental cost (millions of dollars)')\n",
    "plt.grid()\n",
    "plt.subplots_adjust(right=.7);"
   ]
  },
  {
   "cell_type": "code",
   "execution_count": null,
   "metadata": {},
   "outputs": [],
   "source": []
  },
  {
   "cell_type": "code",
   "execution_count": null,
   "metadata": {},
   "outputs": [],
   "source": []
  },
  {
   "cell_type": "code",
   "execution_count": null,
   "metadata": {},
   "outputs": [],
   "source": []
  },
  {
   "cell_type": "code",
   "execution_count": null,
   "metadata": {},
   "outputs": [],
   "source": []
  },
  {
   "cell_type": "code",
   "execution_count": null,
   "metadata": {},
   "outputs": [],
   "source": []
  }
 ],
 "metadata": {
  "kernelspec": {
   "display_name": "base",
   "language": "python",
   "name": "base"
  },
  "language_info": {
   "codemirror_mode": {
    "name": "ipython",
    "version": 3
   },
   "file_extension": ".py",
   "mimetype": "text/x-python",
   "name": "python",
   "nbconvert_exporter": "python",
   "pygments_lexer": "ipython3",
   "version": "3.7.8"
  }
 },
 "nbformat": 4,
 "nbformat_minor": 2
}
